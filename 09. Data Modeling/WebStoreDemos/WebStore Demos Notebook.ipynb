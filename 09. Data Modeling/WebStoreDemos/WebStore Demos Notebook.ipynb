{
  "cells": [
    {
      "cell_type": "markdown",
      "metadata": {},
      "source": "# Data Modeling and Partitioning in Azure Cosmos DB\n\n## WebStore Demo"
    },
    {
      "cell_type": "code",
      "execution_count": 1,
      "metadata": {
        "collapsed": false,
        "execution": {
          "iopub.execute_input": "2020-06-13T14:45:39.003Z",
          "iopub.status.busy": "2020-06-13T14:45:39.000Z",
          "iopub.status.idle": "2020-06-13T14:45:39.012Z",
          "shell.execute_reply": "2020-06-13T14:45:39.019Z"
        },
        "inputHidden": false,
        "outputHidden": false,
        "trusted": true
      },
      "outputs": [],
      "source": "# Setup\n\nimport json\nimport uuid\n\ndef printJson(result):\n    print(json.dumps(result, indent=4))\n    \ndef printCount(result):\n    print(\"Retrieved \" + str(len(result)) + \" document(s)\")\n    \ndef printRequestCharge(container):\n    print(\"Cost: \" + container.client_connection.last_response_headers[\"x-ms-request-charge\"] + \" RU(s)\")"
    },
    {
      "cell_type": "code",
      "execution_count": 2,
      "metadata": {
        "collapsed": false,
        "execution": {
          "iopub.execute_input": "2020-06-13T14:45:41.518Z",
          "iopub.status.busy": "2020-06-13T14:45:41.514Z",
          "iopub.status.idle": "2020-06-13T14:45:41.534Z",
          "shell.execute_reply": "2020-06-13T14:45:41.526Z"
        },
        "inputHidden": false,
        "outputHidden": false,
        "trusted": true
      },
      "outputs": [],
      "source": "database                    = cosmos_client.get_database_client(\"webstore-v2\")\ncustomerContainer           = database.get_container_client(\"customer\")\nproductCategoryContainer    = database.get_container_client(\"productCategory\")\nproductContainer            = database.get_container_client(\"product\")"
    },
    {
      "cell_type": "markdown",
      "metadata": {},
      "source": "### Querying for Customers"
    },
    {
      "cell_type": "code",
      "execution_count": 3,
      "metadata": {
        "collapsed": false,
        "execution": {
          "iopub.execute_input": "2020-06-13T14:45:43.602Z",
          "iopub.status.busy": "2020-06-13T14:45:43.597Z",
          "iopub.status.idle": "2020-06-13T14:45:43.673Z",
          "shell.execute_reply": "2020-06-13T14:45:43.680Z"
        },
        "inputHidden": false,
        "outputHidden": false,
        "trusted": true
      },
      "outputs": [
        {
          "name": "stdout",
          "output_type": "stream",
          "text": "{\n    \"id\": \"46192BCF-E8BB-4140-A0F1-B8764A7941E7\",\n    \"title\": \"\",\n    \"firstName\": \"Amanda\",\n    \"lastName\": \"Cook\",\n    \"emailAddress\": \"amanda3@adventure-works.com\",\n    \"phoneNumber\": \"252-555-0177\",\n    \"creationDate\": \"2013-08-03T00:00:00\",\n    \"addresses\": [\n        {\n            \"addressLine1\": \"4098 Woodcrest Dr.\",\n            \"addressLine2\": \"\",\n            \"city\": \"Everett\",\n            \"state\": \"WA \",\n            \"country\": \"US\",\n            \"zipCode\": \"98201\"\n        },\n        {\n            \"addressLine1\": \"9187 Vista Del Sol\",\n            \"addressLine2\": \"\",\n            \"city\": \"Everett\",\n            \"state\": \"WA \",\n            \"country\": \"US\",\n            \"zipCode\": \"98201\"\n        }\n    ],\n    \"password\": {\n        \"hash\": \"TME3aaOlz5NEtcLKhgRxwgjyS/lZfiX+IDHTTQYBtjI=\",\n        \"salt\": \"wNb+tCk=\"\n    },\n    \"_rid\": \"2GxpAORPEkqpFAAAAAAAAA==\",\n    \"_self\": \"dbs/2GxpAA==/colls/2GxpAORPEko=/docs/2GxpAORPEkqpFAAAAAAAAA==/\",\n    \"_etag\": \"\\\"0000f614-0000-0100-0000-5ee3b26c0000\\\"\",\n    \"_attachments\": \"attachments/\",\n    \"_ts\": 1591980652\n}\nCost: 1 RU(s)\n"
        }
      ],
      "source": "# Retrieve a single customer (point read)\n\ncustomer = customerContainer.read_item(\n    \"46192BCF-E8BB-4140-A0F1-B8764A7941E7\",\n    \"46192BCF-E8BB-4140-A0F1-B8764A7941E7\")\n\nprintJson(customer)\nprintRequestCharge(customerContainer)"
    },
    {
      "cell_type": "code",
      "execution_count": 4,
      "metadata": {
        "collapsed": false,
        "execution": {
          "iopub.execute_input": "2020-06-13T14:45:46.816Z",
          "iopub.status.busy": "2020-06-13T14:45:46.811Z",
          "iopub.status.idle": "2020-06-13T14:45:46.852Z",
          "shell.execute_reply": "2020-06-13T14:45:46.857Z"
        },
        "inputHidden": false,
        "outputHidden": false,
        "trusted": true
      },
      "outputs": [
        {
          "name": "stdout",
          "output_type": "stream",
          "text": "{\n    \"id\": \"46192BCF-E8BB-4140-A0F1-B8764A7941E7\",\n    \"title\": \"\",\n    \"firstName\": \"Amanda\",\n    \"lastName\": \"Cook\",\n    \"emailAddress\": \"amanda3@adventure-works.com\",\n    \"phoneNumber\": \"252-555-0177\",\n    \"creationDate\": \"2013-08-03T00:00:00\",\n    \"addresses\": [\n        {\n            \"addressLine1\": \"4098 Woodcrest Dr.\",\n            \"addressLine2\": \"\",\n            \"city\": \"Everett\",\n            \"state\": \"WA \",\n            \"country\": \"US\",\n            \"zipCode\": \"98201\"\n        },\n        {\n            \"addressLine1\": \"9187 Vista Del Sol\",\n            \"addressLine2\": \"\",\n            \"city\": \"Everett\",\n            \"state\": \"WA \",\n            \"country\": \"US\",\n            \"zipCode\": \"98201\"\n        }\n    ],\n    \"password\": {\n        \"hash\": \"TME3aaOlz5NEtcLKhgRxwgjyS/lZfiX+IDHTTQYBtjI=\",\n        \"salt\": \"wNb+tCk=\"\n    },\n    \"_rid\": \"2GxpAORPEkqpFAAAAAAAAA==\",\n    \"_self\": \"dbs/2GxpAA==/colls/2GxpAORPEko=/docs/2GxpAORPEkqpFAAAAAAAAA==/\",\n    \"_etag\": \"\\\"0000f614-0000-0100-0000-5ee3b26c0000\\\"\",\n    \"_attachments\": \"attachments/\",\n    \"_ts\": 1591980652\n}\nCost: 2.9 RU(s)\n"
        }
      ],
      "source": "# Retrieve a single customer (SQL query)\n\ncustomer = list(customerContainer.query_items(\n    query = \"SELECT * FROM c WHERE c.id = '46192BCF-E8BB-4140-A0F1-B8764A7941E7'\"))[0]\n\nprintJson(customer)\nprintRequestCharge(customerContainer)"
    },
    {
      "cell_type": "markdown",
      "metadata": {},
      "source": "### Querying for Product Categories"
    },
    {
      "cell_type": "code",
      "execution_count": 5,
      "metadata": {
        "collapsed": false,
        "execution": {
          "iopub.execute_input": "2020-06-13T14:46:03.779Z",
          "iopub.status.busy": "2020-06-13T14:46:03.774Z",
          "iopub.status.idle": "2020-06-13T14:46:03.837Z",
          "shell.execute_reply": "2020-06-13T14:46:03.843Z"
        },
        "inputHidden": false,
        "outputHidden": false,
        "trusted": true
      },
      "outputs": [
        {
          "name": "stdout",
          "output_type": "stream",
          "text": "[\n    {\n        \"id\": \"1B6FBF23-C483-4A0E-93D2-831C57E304A1\",\n        \"name\": \"Accessories, Pumps\",\n        \"type\": \"category\",\n        \"_rid\": \"2GxpAMjSFoABAAAAAAAAAA==\",\n        \"_self\": \"dbs/2GxpAA==/colls/2GxpAMjSFoA=/docs/2GxpAMjSFoABAAAAAAAAAA==/\",\n        \"_etag\": \"\\\"0000af97-0000-0100-0000-5ee3b2990000\\\"\",\n        \"_attachments\": \"attachments/\",\n        \"_ts\": 1591980697\n    },\n    {\n        \"id\": \"DFD4B838-464C-445F-A665-885C67FCA3CA\",\n        \"name\": \"Components, Road Frames\",\n        \"type\": \"category\",\n        \"_rid\": \"2GxpAMjSFoACAAAAAAAAAA==\",\n        \"_self\": \"dbs/2GxpAA==/colls/2GxpAMjSFoA=/docs/2GxpAMjSFoACAAAAAAAAAA==/\",\n        \"_etag\": \"\\\"0000b097-0000-0100-0000-5ee3b2990000\\\"\",\n        \"_attachments\": \"attachments/\",\n        \"_ts\": 1591980697\n    },\n    {\n        \"id\": \"00E05695-E93C-4EFD-BD23-147FE6BF1562\",\n        \"name\": \"Components, Handlebars\",\n        \"type\": \"category\",\n        \"_rid\": \"2GxpAMjSFoADAAAAAAAAAA==\",\n        \"_self\": \"dbs/2GxpAA==/colls/2GxpAMjSFoA=/docs/2GxpAMjSFoADAAAAAAAAAA==/\",\n        \"_etag\": \"\\\"0000b197-0000-0100-0000-5ee3b2990000\\\"\",\n        \"_attachments\": \"attachments/\",\n        \"_ts\": 1591980697\n    },\n    {\n        \"id\": \"19F44083-6506-413F-BF5B-FA4F2B846B6E\",\n        \"name\": \"Components, Chains\",\n        \"type\": \"category\",\n        \"_rid\": \"2GxpAMjSFoAEAAAAAAAAAA==\",\n        \"_self\": \"dbs/2GxpAA==/colls/2GxpAMjSFoA=/docs/2GxpAMjSFoAEAAAAAAAAAA==/\",\n        \"_etag\": \"\\\"0000b297-0000-0100-0000-5ee3b2990000\\\"\",\n        \"_attachments\": \"attachments/\",\n        \"_ts\": 1591980697\n    },\n    {\n        \"id\": \"556E8ABE-0DC2-4AFF-8843-12D664B0B236\",\n        \"name\": \"Accessories, Bottles and Cages\",\n        \"type\": \"category\",\n        \"_rid\": \"2GxpAMjSFoAFAAAAAAAAAA==\",\n        \"_self\": \"dbs/2GxpAA==/colls/2GxpAMjSFoA=/docs/2GxpAMjSFoAFAAAAAAAAAA==/\",\n        \"_etag\": \"\\\"0000b397-0000-0100-0000-5ee3b2990000\\\"\",\n        \"_attachments\": \"attachments/\",\n        \"_ts\": 1591980697\n    },\n    {\n        \"id\": \"F7456100-FCCF-4F0D-A45B-FAC2FC5CF38C\",\n        \"name\": \"Clothing, Tights\",\n        \"type\": \"category\",\n        \"_rid\": \"2GxpAMjSFoAGAAAAAAAAAA==\",\n        \"_self\": \"dbs/2GxpAA==/colls/2GxpAMjSFoA=/docs/2GxpAMjSFoAGAAAAAAAAAA==/\",\n        \"_etag\": \"\\\"0000b497-0000-0100-0000-5ee3b2990000\\\"\",\n        \"_attachments\": \"attachments/\",\n        \"_ts\": 1591980697\n    },\n    {\n        \"id\": \"4792FDEC-E87F-4776-BD22-38D62BE87276\",\n        \"name\": \"Clothing, Gloves\",\n        \"type\": \"category\",\n        \"_rid\": \"2GxpAMjSFoAHAAAAAAAAAA==\",\n        \"_self\": \"dbs/2GxpAA==/colls/2GxpAMjSFoA=/docs/2GxpAMjSFoAHAAAAAAAAAA==/\",\n        \"_etag\": \"\\\"0000b597-0000-0100-0000-5ee3b2990000\\\"\",\n        \"_attachments\": \"attachments/\",\n        \"_ts\": 1591980697\n    },\n    {\n        \"id\": \"E8424F0A-F986-445A-B2D2-DA4F8B7AC934\",\n        \"name\": \"Clothing, Bib-Shorts\",\n        \"type\": \"category\",\n        \"_rid\": \"2GxpAMjSFoAIAAAAAAAAAA==\",\n        \"_self\": \"dbs/2GxpAA==/colls/2GxpAMjSFoA=/docs/2GxpAMjSFoAIAAAAAAAAAA==/\",\n        \"_etag\": \"\\\"0000b697-0000-0100-0000-5ee3b2990000\\\"\",\n        \"_attachments\": \"attachments/\",\n        \"_ts\": 1591980697\n    },\n    {\n        \"id\": \"6A8AF598-881C-42B1-80A8-9048097510A2\",\n        \"name\": \"Components, Brakes\",\n        \"type\": \"category\",\n        \"_rid\": \"2GxpAMjSFoAJAAAAAAAAAA==\",\n        \"_self\": \"dbs/2GxpAA==/colls/2GxpAMjSFoA=/docs/2GxpAMjSFoAJAAAAAAAAAA==/\",\n        \"_etag\": \"\\\"0000b797-0000-0100-0000-5ee3b2990000\\\"\",\n        \"_attachments\": \"attachments/\",\n        \"_ts\": 1591980697\n    },\n    {\n        \"id\": \"FCBB21EC-100A-4E9F-8D2F-9068CE950581\",\n        \"name\": \"Accessories, Bike Racks\",\n        \"type\": \"category\",\n        \"_rid\": \"2GxpAMjSFoAKAAAAAAAAAA==\",\n        \"_self\": \"dbs/2GxpAA==/colls/2GxpAMjSFoA=/docs/2GxpAMjSFoAKAAAAAAAAAA==/\",\n        \"_etag\": \"\\\"0000b897-0000-0100-0000-5ee3b2990000\\\"\",\n        \"_attachments\": \"attachments/\",\n        \"_ts\": 1591980697\n    },\n    {\n        \"id\": \"34F58E21-6DE1-4906-B3E6-5AE1967CB256\",\n        \"name\": \"Accessories, Tires and Tubes\",\n        \"type\": \"category\",\n        \"_rid\": \"2GxpAMjSFoALAAAAAAAAAA==\",\n        \"_self\": \"dbs/2GxpAA==/colls/2GxpAMjSFoA=/docs/2GxpAMjSFoALAAAAAAAAAA==/\",\n        \"_etag\": \"\\\"0000b997-0000-0100-0000-5ee3b2990000\\\"\",\n        \"_attachments\": \"attachments/\",\n        \"_ts\": 1591980697\n    },\n    {\n        \"id\": \"F49DAC35-6EAF-4310-9F3E-7B75C2FE7420\",\n        \"name\": \"Clothing, Vests\",\n        \"type\": \"category\",\n        \"_rid\": \"2GxpAMjSFoAMAAAAAAAAAA==\",\n        \"_self\": \"dbs/2GxpAA==/colls/2GxpAMjSFoA=/docs/2GxpAMjSFoAMAAAAAAAAAA==/\",\n        \"_etag\": \"\\\"0000ba97-0000-0100-0000-5ee3b2990000\\\"\",\n        \"_attachments\": \"attachments/\",\n        \"_ts\": 1591980697\n    },\n    {\n        \"id\": \"879AADFC-B990-49C0-B5BE-35E904E32A6A\",\n        \"name\": \"Accessories, Bike Stands\",\n        \"type\": \"category\",\n        \"_rid\": \"2GxpAMjSFoANAAAAAAAAAA==\",\n        \"_self\": \"dbs/2GxpAA==/colls/2GxpAMjSFoA=/docs/2GxpAMjSFoANAAAAAAAAAA==/\",\n        \"_etag\": \"\\\"0000bb97-0000-0100-0000-5ee3b2990000\\\"\",\n        \"_attachments\": \"attachments/\",\n        \"_ts\": 1591980697\n    },\n    {\n        \"id\": \"200CDE9C-6A74-4E82-830A-19A8E10D7223\",\n        \"name\": \"Components, Wheels\",\n        \"type\": \"category\",\n        \"_rid\": \"2GxpAMjSFoAOAAAAAAAAAA==\",\n        \"_self\": \"dbs/2GxpAA==/colls/2GxpAMjSFoA=/docs/2GxpAMjSFoAOAAAAAAAAAA==/\",\n        \"_etag\": \"\\\"0000bc97-0000-0100-0000-5ee3b2990000\\\"\",\n        \"_attachments\": \"attachments/\",\n        \"_ts\": 1591980697\n    },\n    {\n        \"id\": \"6B578283-11CF-44BD-9384-2FBFF3649653\",\n        \"name\": \"Accessories, Hydration Packs\",\n        \"type\": \"category\",\n        \"_rid\": \"2GxpAMjSFoAPAAAAAAAAAA==\",\n        \"_self\": \"dbs/2GxpAA==/colls/2GxpAMjSFoA=/docs/2GxpAMjSFoAPAAAAAAAAAA==/\",\n        \"_etag\": \"\\\"0000bd97-0000-0100-0000-5ee3b2990000\\\"\",\n        \"_attachments\": \"attachments/\",\n        \"_ts\": 1591980697\n    },\n    {\n        \"id\": \"6767F5EF-3C4E-4350-BC18-253165D9D71E\",\n        \"name\": \"Accessories, Panniers\",\n        \"type\": \"category\",\n        \"_rid\": \"2GxpAMjSFoAQAAAAAAAAAA==\",\n        \"_self\": \"dbs/2GxpAA==/colls/2GxpAMjSFoA=/docs/2GxpAMjSFoAQAAAAAAAAAA==/\",\n        \"_etag\": \"\\\"0000be97-0000-0100-0000-5ee3b2990000\\\"\",\n        \"_attachments\": \"attachments/\",\n        \"_ts\": 1591980697\n    },\n    {\n        \"id\": \"7E4E4971-D912-4B74-A956-DA55F844D980\",\n        \"name\": \"Components, Bottom Brackets\",\n        \"type\": \"category\",\n        \"_rid\": \"2GxpAMjSFoARAAAAAAAAAA==\",\n        \"_self\": \"dbs/2GxpAA==/colls/2GxpAMjSFoA=/docs/2GxpAMjSFoARAAAAAAAAAA==/\",\n        \"_etag\": \"\\\"0000bf97-0000-0100-0000-5ee3b2990000\\\"\",\n        \"_attachments\": \"attachments/\",\n        \"_ts\": 1591980697\n    },\n    {\n        \"id\": \"609D8E6B-C5DA-4763-BD1D-6BC3022770A1\",\n        \"name\": \"Accessories, Helmets\",\n        \"type\": \"category\",\n        \"_rid\": \"2GxpAMjSFoASAAAAAAAAAA==\",\n        \"_self\": \"dbs/2GxpAA==/colls/2GxpAMjSFoA=/docs/2GxpAMjSFoASAAAAAAAAAA==/\",\n        \"_etag\": \"\\\"0000c097-0000-0100-0000-5ee3b2990000\\\"\",\n        \"_attachments\": \"attachments/\",\n        \"_ts\": 1591980697\n    },\n    {\n        \"id\": \"8CFB9A80-78C6-40D6-BDFF-69C35157382E\",\n        \"name\": \"Components, Cranksets\",\n        \"type\": \"category\",\n        \"_rid\": \"2GxpAMjSFoATAAAAAAAAAA==\",\n        \"_self\": \"dbs/2GxpAA==/colls/2GxpAMjSFoA=/docs/2GxpAMjSFoATAAAAAAAAAA==/\",\n        \"_etag\": \"\\\"0000c197-0000-0100-0000-5ee3b2990000\\\"\",\n        \"_attachments\": \"attachments/\",\n        \"_ts\": 1591980697\n    },\n    {\n        \"id\": \"2070AE28-D609-4DE0-AE41-0993BAFCA401\",\n        \"name\": \"Components, Derailleurs\",\n        \"type\": \"category\",\n        \"_rid\": \"2GxpAMjSFoAUAAAAAAAAAA==\",\n        \"_self\": \"dbs/2GxpAA==/colls/2GxpAMjSFoA=/docs/2GxpAMjSFoAUAAAAAAAAAA==/\",\n        \"_etag\": \"\\\"0000c297-0000-0100-0000-5ee3b2990000\\\"\",\n        \"_attachments\": \"attachments/\",\n        \"_ts\": 1591980697\n    },\n    {\n        \"id\": \"7086A156-1BE0-47F4-AB74-BD024A50D5A5\",\n        \"name\": \"Components, Touring Frames\",\n        \"type\": \"category\",\n        \"_rid\": \"2GxpAMjSFoAVAAAAAAAAAA==\",\n        \"_self\": \"dbs/2GxpAA==/colls/2GxpAMjSFoA=/docs/2GxpAMjSFoAVAAAAAAAAAA==/\",\n        \"_etag\": \"\\\"0000c397-0000-0100-0000-5ee3b2990000\\\"\",\n        \"_attachments\": \"attachments/\",\n        \"_ts\": 1591980697\n    },\n    {\n        \"id\": \"AEE0BC6C-DCEF-40A2-BDE2-C5AFC0CC9F32\",\n        \"name\": \"Clothing, Jerseys\",\n        \"type\": \"category\",\n        \"_rid\": \"2GxpAMjSFoAWAAAAAAAAAA==\",\n        \"_self\": \"dbs/2GxpAA==/colls/2GxpAMjSFoA=/docs/2GxpAMjSFoAWAAAAAAAAAA==/\",\n        \"_etag\": \"\\\"0000c497-0000-0100-0000-5ee3b2990000\\\"\",\n        \"_attachments\": \"attachments/\",\n        \"_ts\": 1591980697\n    },\n    {\n        \"id\": \"A72383DF-05AF-47BD-BBFC-D65FF2B0CFBC\",\n        \"name\": \"Bikes, Mountain Bikes\",\n        \"type\": \"category\",\n        \"_rid\": \"2GxpAMjSFoAXAAAAAAAAAA==\",\n        \"_self\": \"dbs/2GxpAA==/colls/2GxpAMjSFoA=/docs/2GxpAMjSFoAXAAAAAAAAAA==/\",\n        \"_etag\": \"\\\"0000c597-0000-0100-0000-5ee3b2990000\\\"\",\n        \"_attachments\": \"attachments/\",\n        \"_ts\": 1591980697\n    },\n    {\n        \"id\": \"58980B5B-D22B-4BBE-835E-C239916D0B55\",\n        \"name\": \"Clothing, Caps\",\n        \"type\": \"category\",\n        \"_rid\": \"2GxpAMjSFoAYAAAAAAAAAA==\",\n        \"_self\": \"dbs/2GxpAA==/colls/2GxpAMjSFoA=/docs/2GxpAMjSFoAYAAAAAAAAAA==/\",\n        \"_etag\": \"\\\"0000c697-0000-0100-0000-5ee3b2990000\\\"\",\n        \"_attachments\": \"attachments/\",\n        \"_ts\": 1591980697\n    },\n    {\n        \"id\": \"ADEDDD74-C4BA-4B37-BB59-68BA28203C05\",\n        \"name\": \"Bikes, Road Bikes\",\n        \"type\": \"category\",\n        \"_rid\": \"2GxpAMjSFoAZAAAAAAAAAA==\",\n        \"_self\": \"dbs/2GxpAA==/colls/2GxpAMjSFoA=/docs/2GxpAMjSFoAZAAAAAAAAAA==/\",\n        \"_etag\": \"\\\"0000c797-0000-0100-0000-5ee3b2990000\\\"\",\n        \"_attachments\": \"attachments/\",\n        \"_ts\": 1591980697\n    },\n    {\n        \"id\": \"8247C489-8B78-4154-B21F-1195BFE64E0A\",\n        \"name\": \"Components, Pedals\",\n        \"type\": \"category\",\n        \"_rid\": \"2GxpAMjSFoAaAAAAAAAAAA==\",\n        \"_self\": \"dbs/2GxpAA==/colls/2GxpAMjSFoA=/docs/2GxpAMjSFoAaAAAAAAAAAA==/\",\n        \"_etag\": \"\\\"0000c897-0000-0100-0000-5ee3b2990000\\\"\",\n        \"_attachments\": \"attachments/\",\n        \"_ts\": 1591980697\n    },\n    {\n        \"id\": \"C7324EF3-D951-45D9-A345-A82EAE344394\",\n        \"name\": \"Clothing, Shorts\",\n        \"type\": \"category\",\n        \"_rid\": \"2GxpAMjSFoAbAAAAAAAAAA==\",\n        \"_self\": \"dbs/2GxpAA==/colls/2GxpAMjSFoA=/docs/2GxpAMjSFoAbAAAAAAAAAA==/\",\n        \"_etag\": \"\\\"0000c997-0000-0100-0000-5ee3b2990000\\\"\",\n        \"_attachments\": \"attachments/\",\n        \"_ts\": 1591980697\n    },\n    {\n        \"id\": \"133058A7-2B53-411D-84A3-C7F894467D6E\",\n        \"name\": \"Components, Forks\",\n        \"type\": \"category\",\n        \"_rid\": \"2GxpAMjSFoAcAAAAAAAAAA==\",\n        \"_self\": \"dbs/2GxpAA==/colls/2GxpAMjSFoA=/docs/2GxpAMjSFoAcAAAAAAAAAA==/\",\n        \"_etag\": \"\\\"0000ca97-0000-0100-0000-5ee3b2990000\\\"\",\n        \"_attachments\": \"attachments/\",\n        \"_ts\": 1591980697\n    },\n    {\n        \"id\": \"B0642BBE-AD4F-4396-8A9A-394D499F5B0C\",\n        \"name\": \"Accessories, Cleaners\",\n        \"type\": \"category\",\n        \"_rid\": \"2GxpAMjSFoAdAAAAAAAAAA==\",\n        \"_self\": \"dbs/2GxpAA==/colls/2GxpAMjSFoA=/docs/2GxpAMjSFoAdAAAAAAAAAA==/\",\n        \"_etag\": \"\\\"0000cb97-0000-0100-0000-5ee3b2990000\\\"\",\n        \"_attachments\": \"attachments/\",\n        \"_ts\": 1591980697\n    },\n    {\n        \"id\": \"DC9C540C-96D1-46D2-A927-54B15EB8D8FE\",\n        \"name\": \"Accessories, Lights\",\n        \"type\": \"category\",\n        \"_rid\": \"2GxpAMjSFoAeAAAAAAAAAA==\",\n        \"_self\": \"dbs/2GxpAA==/colls/2GxpAMjSFoA=/docs/2GxpAMjSFoAeAAAAAAAAAA==/\",\n        \"_etag\": \"\\\"0000cc97-0000-0100-0000-5ee3b2990000\\\"\",\n        \"_attachments\": \"attachments/\",\n        \"_ts\": 1591980697\n    },\n    {\n        \"id\": \"01D34394-C1C3-49FF-96E4-D5D779835CB1\",\n        \"name\": \"Components, Headsets\",\n        \"type\": \"category\",\n        \"_rid\": \"2GxpAMjSFoAfAAAAAAAAAA==\",\n        \"_self\": \"dbs/2GxpAA==/colls/2GxpAMjSFoA=/docs/2GxpAMjSFoAfAAAAAAAAAA==/\",\n        \"_etag\": \"\\\"0000cd97-0000-0100-0000-5ee3b2990000\\\"\",\n        \"_attachments\": \"attachments/\",\n        \"_ts\": 1591980697\n    },\n    {\n        \"id\": \"D1585D96-DD4A-47DC-B3F4-22B4516CDE0B\",\n        \"name\": \"Bikes, Touring Bikes\",\n        \"type\": \"category\",\n        \"_rid\": \"2GxpAMjSFoAgAAAAAAAAAA==\",\n        \"_self\": \"dbs/2GxpAA==/colls/2GxpAMjSFoA=/docs/2GxpAMjSFoAgAAAAAAAAAA==/\",\n        \"_etag\": \"\\\"0000ce97-0000-0100-0000-5ee3b2990000\\\"\",\n        \"_attachments\": \"attachments/\",\n        \"_ts\": 1591980697\n    },\n    {\n        \"id\": \"0F0806D3-17E0-436D-87E0-FC584418701B\",\n        \"name\": \"Components, Saddles\",\n        \"type\": \"category\",\n        \"_rid\": \"2GxpAMjSFoAhAAAAAAAAAA==\",\n        \"_self\": \"dbs/2GxpAA==/colls/2GxpAMjSFoA=/docs/2GxpAMjSFoAhAAAAAAAAAA==/\",\n        \"_etag\": \"\\\"0000cf97-0000-0100-0000-5ee3b2990000\\\"\",\n        \"_attachments\": \"attachments/\",\n        \"_ts\": 1591980697\n    },\n    {\n        \"id\": \"9F291455-E060-4B7C-8F57-419ABA2BAFD1\",\n        \"name\": \"Accessories, Fenders\",\n        \"type\": \"category\",\n        \"_rid\": \"2GxpAMjSFoAiAAAAAAAAAA==\",\n        \"_self\": \"dbs/2GxpAA==/colls/2GxpAMjSFoA=/docs/2GxpAMjSFoAiAAAAAAAAAA==/\",\n        \"_etag\": \"\\\"0000d097-0000-0100-0000-5ee3b2990000\\\"\",\n        \"_attachments\": \"attachments/\",\n        \"_ts\": 1591980697\n    },\n    {\n        \"id\": \"29A280CC-78C5-42FE-B322-862B92A8D98D\",\n        \"name\": \"Clothing, Socks\",\n        \"type\": \"category\",\n        \"_rid\": \"2GxpAMjSFoAjAAAAAAAAAA==\",\n        \"_self\": \"dbs/2GxpAA==/colls/2GxpAMjSFoA=/docs/2GxpAMjSFoAjAAAAAAAAAA==/\",\n        \"_etag\": \"\\\"0000d197-0000-0100-0000-5ee3b2990000\\\"\",\n        \"_attachments\": \"attachments/\",\n        \"_ts\": 1591980697\n    },\n    {\n        \"id\": \"96429406-55C0-49CD-A758-8D3701DF5E2B\",\n        \"name\": \"Components, Mountain Frames\",\n        \"type\": \"category\",\n        \"_rid\": \"2GxpAMjSFoAkAAAAAAAAAA==\",\n        \"_self\": \"dbs/2GxpAA==/colls/2GxpAMjSFoA=/docs/2GxpAMjSFoAkAAAAAAAAAA==/\",\n        \"_etag\": \"\\\"0000d297-0000-0100-0000-5ee3b2990000\\\"\",\n        \"_attachments\": \"attachments/\",\n        \"_ts\": 1591980697\n    },\n    {\n        \"id\": \"C5229799-12C4-4E7B-A997-DF67CC634A79\",\n        \"name\": \"Accessories, Locks\",\n        \"type\": \"category\",\n        \"_rid\": \"2GxpAMjSFoAlAAAAAAAAAA==\",\n        \"_self\": \"dbs/2GxpAA==/colls/2GxpAMjSFoA=/docs/2GxpAMjSFoAlAAAAAAAAAA==/\",\n        \"_etag\": \"\\\"0000d397-0000-0100-0000-5ee3b2990000\\\"\",\n        \"_attachments\": \"attachments/\",\n        \"_ts\": 1591980697\n    }\n]\nRetrieved 37 document(s)\nCost: 4.28 RU(s)\n"
        }
      ],
      "source": "# Retrieve all product categories\n\nproductCategories = list(productCategoryContainer.query_items(\n    query = \"SELECT * FROM c WHERE c.type = 'category'\"))\n\nprintJson(productCategories)\nprintCount(productCategories)\nprintRequestCharge(productCategoryContainer)"
    },
    {
      "cell_type": "code",
      "execution_count": 6,
      "metadata": {
        "collapsed": false,
        "execution": {
          "iopub.execute_input": "2020-06-13T14:46:16.716Z",
          "iopub.status.busy": "2020-06-13T14:46:16.684Z",
          "iopub.status.idle": "2020-06-13T14:46:16.737Z",
          "shell.execute_reply": "2020-06-13T14:46:16.742Z"
        },
        "inputHidden": false,
        "outputHidden": false,
        "trusted": true
      },
      "outputs": [
        {
          "name": "stdout",
          "output_type": "stream",
          "text": "[\n    {\n        \"id\": \"1B6FBF23-C483-4A0E-93D2-831C57E304A1\",\n        \"name\": \"Accessories, Pumps\"\n    },\n    {\n        \"id\": \"DFD4B838-464C-445F-A665-885C67FCA3CA\",\n        \"name\": \"Components, Road Frames\"\n    },\n    {\n        \"id\": \"00E05695-E93C-4EFD-BD23-147FE6BF1562\",\n        \"name\": \"Components, Handlebars\"\n    },\n    {\n        \"id\": \"19F44083-6506-413F-BF5B-FA4F2B846B6E\",\n        \"name\": \"Components, Chains\"\n    },\n    {\n        \"id\": \"556E8ABE-0DC2-4AFF-8843-12D664B0B236\",\n        \"name\": \"Accessories, Bottles and Cages\"\n    },\n    {\n        \"id\": \"F7456100-FCCF-4F0D-A45B-FAC2FC5CF38C\",\n        \"name\": \"Clothing, Tights\"\n    },\n    {\n        \"id\": \"4792FDEC-E87F-4776-BD22-38D62BE87276\",\n        \"name\": \"Clothing, Gloves\"\n    },\n    {\n        \"id\": \"E8424F0A-F986-445A-B2D2-DA4F8B7AC934\",\n        \"name\": \"Clothing, Bib-Shorts\"\n    },\n    {\n        \"id\": \"6A8AF598-881C-42B1-80A8-9048097510A2\",\n        \"name\": \"Components, Brakes\"\n    },\n    {\n        \"id\": \"FCBB21EC-100A-4E9F-8D2F-9068CE950581\",\n        \"name\": \"Accessories, Bike Racks\"\n    },\n    {\n        \"id\": \"34F58E21-6DE1-4906-B3E6-5AE1967CB256\",\n        \"name\": \"Accessories, Tires and Tubes\"\n    },\n    {\n        \"id\": \"F49DAC35-6EAF-4310-9F3E-7B75C2FE7420\",\n        \"name\": \"Clothing, Vests\"\n    },\n    {\n        \"id\": \"879AADFC-B990-49C0-B5BE-35E904E32A6A\",\n        \"name\": \"Accessories, Bike Stands\"\n    },\n    {\n        \"id\": \"200CDE9C-6A74-4E82-830A-19A8E10D7223\",\n        \"name\": \"Components, Wheels\"\n    },\n    {\n        \"id\": \"6B578283-11CF-44BD-9384-2FBFF3649653\",\n        \"name\": \"Accessories, Hydration Packs\"\n    },\n    {\n        \"id\": \"6767F5EF-3C4E-4350-BC18-253165D9D71E\",\n        \"name\": \"Accessories, Panniers\"\n    },\n    {\n        \"id\": \"7E4E4971-D912-4B74-A956-DA55F844D980\",\n        \"name\": \"Components, Bottom Brackets\"\n    },\n    {\n        \"id\": \"609D8E6B-C5DA-4763-BD1D-6BC3022770A1\",\n        \"name\": \"Accessories, Helmets\"\n    },\n    {\n        \"id\": \"8CFB9A80-78C6-40D6-BDFF-69C35157382E\",\n        \"name\": \"Components, Cranksets\"\n    },\n    {\n        \"id\": \"2070AE28-D609-4DE0-AE41-0993BAFCA401\",\n        \"name\": \"Components, Derailleurs\"\n    },\n    {\n        \"id\": \"7086A156-1BE0-47F4-AB74-BD024A50D5A5\",\n        \"name\": \"Components, Touring Frames\"\n    },\n    {\n        \"id\": \"AEE0BC6C-DCEF-40A2-BDE2-C5AFC0CC9F32\",\n        \"name\": \"Clothing, Jerseys\"\n    },\n    {\n        \"id\": \"A72383DF-05AF-47BD-BBFC-D65FF2B0CFBC\",\n        \"name\": \"Bikes, Mountain Bikes\"\n    },\n    {\n        \"id\": \"58980B5B-D22B-4BBE-835E-C239916D0B55\",\n        \"name\": \"Clothing, Caps\"\n    },\n    {\n        \"id\": \"ADEDDD74-C4BA-4B37-BB59-68BA28203C05\",\n        \"name\": \"Bikes, Road Bikes\"\n    },\n    {\n        \"id\": \"8247C489-8B78-4154-B21F-1195BFE64E0A\",\n        \"name\": \"Components, Pedals\"\n    },\n    {\n        \"id\": \"C7324EF3-D951-45D9-A345-A82EAE344394\",\n        \"name\": \"Clothing, Shorts\"\n    },\n    {\n        \"id\": \"133058A7-2B53-411D-84A3-C7F894467D6E\",\n        \"name\": \"Components, Forks\"\n    },\n    {\n        \"id\": \"B0642BBE-AD4F-4396-8A9A-394D499F5B0C\",\n        \"name\": \"Accessories, Cleaners\"\n    },\n    {\n        \"id\": \"DC9C540C-96D1-46D2-A927-54B15EB8D8FE\",\n        \"name\": \"Accessories, Lights\"\n    },\n    {\n        \"id\": \"01D34394-C1C3-49FF-96E4-D5D779835CB1\",\n        \"name\": \"Components, Headsets\"\n    },\n    {\n        \"id\": \"D1585D96-DD4A-47DC-B3F4-22B4516CDE0B\",\n        \"name\": \"Bikes, Touring Bikes\"\n    },\n    {\n        \"id\": \"0F0806D3-17E0-436D-87E0-FC584418701B\",\n        \"name\": \"Components, Saddles\"\n    },\n    {\n        \"id\": \"9F291455-E060-4B7C-8F57-419ABA2BAFD1\",\n        \"name\": \"Accessories, Fenders\"\n    },\n    {\n        \"id\": \"29A280CC-78C5-42FE-B322-862B92A8D98D\",\n        \"name\": \"Clothing, Socks\"\n    },\n    {\n        \"id\": \"96429406-55C0-49CD-A758-8D3701DF5E2B\",\n        \"name\": \"Components, Mountain Frames\"\n    },\n    {\n        \"id\": \"C5229799-12C4-4E7B-A997-DF67CC634A79\",\n        \"name\": \"Accessories, Locks\"\n    }\n]\nRetrieved 37 document(s)\nCost: 4.25 RU(s)\n"
        }
      ],
      "source": "# Project only the product category id and name properties\n\nproductCategories = list(productCategoryContainer.query_items(\n    query = \"SELECT c.id, c.name FROM c WHERE c.type = 'category'\"))\n\nprintJson(productCategories)\nprintCount(productCategories)\nprintRequestCharge(productCategoryContainer)"
    },
    {
      "cell_type": "markdown",
      "metadata": {},
      "source": "### Using the Change Feed for Denormalization"
    },
    {
      "cell_type": "code",
      "execution_count": 7,
      "metadata": {
        "collapsed": false,
        "execution": {
          "iopub.execute_input": "2020-06-13T14:46:21.689Z",
          "iopub.status.busy": "2020-06-13T14:46:21.686Z",
          "iopub.status.idle": "2020-06-13T14:46:21.698Z",
          "shell.execute_reply": "2020-06-13T14:46:21.703Z"
        },
        "inputHidden": false,
        "outputHidden": false,
        "trusted": true
      },
      "outputs": [],
      "source": "database                    = cosmos_client.get_database_client(\"webstore-v3\")\nproductCategoryContainer    = database.get_container_client(\"productCategory\")\nproductContainer            = database.get_container_client(\"product\")"
    },
    {
      "cell_type": "code",
      "execution_count": 8,
      "metadata": {
        "collapsed": false,
        "execution": {
          "iopub.execute_input": "2020-06-13T14:46:27.359Z",
          "iopub.status.busy": "2020-06-13T14:46:27.354Z",
          "iopub.status.idle": "2020-06-13T14:46:27.378Z",
          "shell.execute_reply": "2020-06-13T14:46:27.385Z"
        },
        "inputHidden": false,
        "outputHidden": false,
        "trusted": true
      },
      "outputs": [
        {
          "name": "stdout",
          "output_type": "stream",
          "text": "[\n    {\n        \"id\": \"BCFA4C0C-2E72-4C3F-AA36-6C8D933EB4A4\",\n        \"categoryId\": \"C7324EF3-D951-45D9-A345-A82EAE344394\",\n        \"categoryName\": \"Clothing, Shorts\",\n        \"sku\": \"SH-M897-L\",\n        \"name\": \"Men's Sports Shorts, L\",\n        \"description\": \"The product called \\\"Men's Sports Shorts, L\\\"\",\n        \"price\": 59.99,\n        \"tags\": [\n            {\n                \"id\": \"4C4BF0B5-2586-440B-B43E-49BAFEC89234\",\n                \"name\": \"Tag-33\"\n            },\n            {\n                \"id\": \"B8ED6540-C2CD-496C-A6B7-28AFB6957EA4\",\n                \"name\": \"Tag-152\"\n            }\n        ],\n        \"_rid\": \"iGt5AOS4B2gvAAAAAAAAAA==\",\n        \"_self\": \"dbs/iGt5AA==/colls/iGt5AOS4B2g=/docs/iGt5AOS4B2gvAAAAAAAAAA==/\",\n        \"_etag\": \"\\\"1500c584-0000-0100-0000-5ee3e8310000\\\"\",\n        \"_attachments\": \"attachments/\",\n        \"_ts\": 1591994417\n    },\n    {\n        \"id\": \"F59ECC09-CAA5-4D3C-87A7-16945A92EA2D\",\n        \"categoryId\": \"C7324EF3-D951-45D9-A345-A82EAE344394\",\n        \"categoryName\": \"Clothing, Shorts\",\n        \"sku\": \"SH-W890-S\",\n        \"name\": \"Women's Mountain Shorts, S\",\n        \"description\": \"The product called \\\"Women's Mountain Shorts, S\\\"\",\n        \"price\": 69.99,\n        \"tags\": [\n            {\n                \"id\": \"2D8FF471-6BB3-418F-B3C1-6A51C7FC0A90\",\n                \"name\": \"Tag-120\"\n            }\n        ],\n        \"_rid\": \"iGt5AOS4B2h4AAAAAAAAAA==\",\n        \"_self\": \"dbs/iGt5AA==/colls/iGt5AOS4B2g=/docs/iGt5AOS4B2h4AAAAAAAAAA==/\",\n        \"_etag\": \"\\\"1500ca84-0000-0100-0000-5ee3e8310000\\\"\",\n        \"_attachments\": \"attachments/\",\n        \"_ts\": 1591994417\n    },\n    {\n        \"id\": \"C3754E95-AD58-45DD-ABBD-5A14515369C0\",\n        \"categoryId\": \"C7324EF3-D951-45D9-A345-A82EAE344394\",\n        \"categoryName\": \"Clothing, Shorts\",\n        \"sku\": \"SH-M897-M\",\n        \"name\": \"Men's Sports Shorts, M\",\n        \"description\": \"The product called \\\"Men's Sports Shorts, M\\\"\",\n        \"price\": 59.99,\n        \"tags\": [\n            {\n                \"id\": \"0DCF84C4-1351-44A1-B0B3-E633C37B08A1\",\n                \"name\": \"Tag-69\"\n            },\n            {\n                \"id\": \"40EA7241-A93B-493B-B621-ACF67449223E\",\n                \"name\": \"Tag-12\"\n            },\n            {\n                \"id\": \"D4FB299F-B6D1-4B17-8740-8A9D0B9FEBB2\",\n                \"name\": \"Tag-182\"\n            },\n            {\n                \"id\": \"F0F62277-02B1-4D03-A0F8-56B72C03C81C\",\n                \"name\": \"Tag-37\"\n            },\n            {\n                \"id\": \"FC6EED32-B47D-4818-B58D-B44778B3CB8B\",\n                \"name\": \"Tag-6\"\n            }\n        ],\n        \"_rid\": \"iGt5AOS4B2h9AAAAAAAAAA==\",\n        \"_self\": \"dbs/iGt5AA==/colls/iGt5AOS4B2g=/docs/iGt5AOS4B2h9AAAAAAAAAA==/\",\n        \"_etag\": \"\\\"1500cb84-0000-0100-0000-5ee3e8310000\\\"\",\n        \"_attachments\": \"attachments/\",\n        \"_ts\": 1591994417\n    },\n    {\n        \"id\": \"C41BD9AA-6A5D-424B-8C0C-6C5E081605C4\",\n        \"categoryId\": \"C7324EF3-D951-45D9-A345-A82EAE344394\",\n        \"categoryName\": \"Clothing, Shorts\",\n        \"sku\": \"SH-M897-S\",\n        \"name\": \"Men's Sports Shorts, S\",\n        \"description\": \"The product called \\\"Men's Sports Shorts, S\\\"\",\n        \"price\": 59.99,\n        \"tags\": [\n            {\n                \"id\": \"3BEDB6F7-830C-4F21-A85F-78001B0D27A3\",\n                \"name\": \"Tag-3\"\n            },\n            {\n                \"id\": \"72023FAD-5C39-431C-951B-558707AFE082\",\n                \"name\": \"Tag-126\"\n            },\n            {\n                \"id\": \"87DA4EC0-CED7-4C64-8DBF-35B155C7AAE8\",\n                \"name\": \"Tag-39\"\n            },\n            {\n                \"id\": \"D71EE13C-94BB-43DC-9555-FF4B2BB467AB\",\n                \"name\": \"Tag-21\"\n            },\n            {\n                \"id\": \"D825FE3F-2035-444F-A964-722C87055E23\",\n                \"name\": \"Tag-113\"\n            }\n        ],\n        \"_rid\": \"iGt5AOS4B2ivAAAAAAAAAA==\",\n        \"_self\": \"dbs/iGt5AA==/colls/iGt5AOS4B2g=/docs/iGt5AOS4B2ivAAAAAAAAAA==/\",\n        \"_etag\": \"\\\"1500cd84-0000-0100-0000-5ee3e8310000\\\"\",\n        \"_attachments\": \"attachments/\",\n        \"_ts\": 1591994417\n    },\n    {\n        \"id\": \"82AEE273-A72A-49FE-B66F-4EEE70FD1F89\",\n        \"categoryId\": \"C7324EF3-D951-45D9-A345-A82EAE344394\",\n        \"categoryName\": \"Clothing, Shorts\",\n        \"sku\": \"SH-W890-L\",\n        \"name\": \"Women's Mountain Shorts, L\",\n        \"description\": \"The product called \\\"Women's Mountain Shorts, L\\\"\",\n        \"price\": 69.99,\n        \"tags\": [\n            {\n                \"id\": \"582B2554-9FDB-42B4-A7B4-D2604CBEF8D0\",\n                \"name\": \"Tag-163\"\n            },\n            {\n                \"id\": \"F44F4DD7-7455-4324-B234-A64C41A46FD3\",\n                \"name\": \"Tag-123\"\n            }\n        ],\n        \"_rid\": \"iGt5AOS4B2jLAAAAAAAAAA==\",\n        \"_self\": \"dbs/iGt5AA==/colls/iGt5AOS4B2g=/docs/iGt5AOS4B2jLAAAAAAAAAA==/\",\n        \"_etag\": \"\\\"1500cf84-0000-0100-0000-5ee3e8310000\\\"\",\n        \"_attachments\": \"attachments/\",\n        \"_ts\": 1591994417\n    }\n]\nCost: 3.09 RU(s)\n"
        }
      ],
      "source": "# Retrieve the first 5 products from category 'Clothing, Shorts'\n\ntop5Products = list(productContainer.query_items(\n    query = \"SELECT TOP 5 * FROM c WHERE c.categoryId = 'C7324EF3-D951-45D9-A345-A82EAE344394'\"))\n\nprintJson(top5Products)\nprintRequestCharge(customerContainer)"
    },
    {
      "cell_type": "code",
      "execution_count": 31,
      "metadata": {
        "collapsed": false,
        "execution": {
          "iopub.execute_input": "2020-06-13T14:48:18.678Z",
          "iopub.status.busy": "2020-06-13T14:48:18.672Z",
          "iopub.status.idle": "2020-06-13T14:48:18.739Z",
          "shell.execute_reply": "2020-06-13T14:48:18.747Z"
        },
        "inputHidden": false,
        "outputHidden": false,
        "trusted": true
      },
      "outputs": [
        {
          "name": "stdout",
          "output_type": "stream",
          "text": "Cost: 1 RU(s)\nCost: 10.67 RU(s)\n"
        }
      ],
      "source": "# Rename product category to 'Clothing, Fun Shorts' (trigger change feed for Azure Function)\n\nproductCategory = productCategoryContainer.read_item(\"C7324EF3-D951-45D9-A345-A82EAE344394\", \"category\")\nprintRequestCharge(productCategoryContainer)\n\nproductCategory[\"name\"] = \"Clothing, Fun Shorts\"\n\nproductCategoryContainer.replace_item(\"C7324EF3-D951-45D9-A345-A82EAE344394\", productCategory)\nprintRequestCharge(productCategoryContainer)"
    },
    {
      "cell_type": "code",
      "execution_count": 33,
      "metadata": {
        "collapsed": false,
        "execution": {
          "iopub.execute_input": "2020-06-13T14:48:30.251Z",
          "iopub.status.busy": "2020-06-13T14:48:30.246Z",
          "iopub.status.idle": "2020-06-13T14:48:30.268Z",
          "shell.execute_reply": "2020-06-13T14:48:30.277Z"
        },
        "inputHidden": false,
        "outputHidden": false,
        "trusted": true
      },
      "outputs": [
        {
          "name": "stdout",
          "output_type": "stream",
          "text": "[\n    {\n        \"id\": \"BCFA4C0C-2E72-4C3F-AA36-6C8D933EB4A4\",\n        \"categoryId\": \"C7324EF3-D951-45D9-A345-A82EAE344394\",\n        \"categoryName\": \"Clothing, Fun Shorts\",\n        \"sku\": \"SH-M897-L\",\n        \"name\": \"Men's Sports Shorts, L\",\n        \"description\": \"The product called \\\"Men's Sports Shorts, L\\\"\",\n        \"price\": 59.99,\n        \"tags\": [\n            {\n                \"id\": \"4C4BF0B5-2586-440B-B43E-49BAFEC89234\",\n                \"name\": \"Tag-33\"\n            },\n            {\n                \"id\": \"B8ED6540-C2CD-496C-A6B7-28AFB6957EA4\",\n                \"name\": \"Tag-152\"\n            }\n        ],\n        \"_rid\": \"iGt5AOS4B2gvAAAAAAAAAA==\",\n        \"_self\": \"dbs/iGt5AA==/colls/iGt5AOS4B2g=/docs/iGt5AOS4B2gvAAAAAAAAAA==/\",\n        \"_etag\": \"\\\"2a00adab-0000-0100-0000-5ee4e7360000\\\"\",\n        \"_attachments\": \"attachments/\",\n        \"_ts\": 1592059702\n    },\n    {\n        \"id\": \"F59ECC09-CAA5-4D3C-87A7-16945A92EA2D\",\n        \"categoryId\": \"C7324EF3-D951-45D9-A345-A82EAE344394\",\n        \"categoryName\": \"Clothing, Fun Shorts\",\n        \"sku\": \"SH-W890-S\",\n        \"name\": \"Women's Mountain Shorts, S\",\n        \"description\": \"The product called \\\"Women's Mountain Shorts, S\\\"\",\n        \"price\": 69.99,\n        \"tags\": [\n            {\n                \"id\": \"2D8FF471-6BB3-418F-B3C1-6A51C7FC0A90\",\n                \"name\": \"Tag-120\"\n            }\n        ],\n        \"_rid\": \"iGt5AOS4B2h4AAAAAAAAAA==\",\n        \"_self\": \"dbs/iGt5AA==/colls/iGt5AOS4B2g=/docs/iGt5AOS4B2h4AAAAAAAAAA==/\",\n        \"_etag\": \"\\\"2a00afab-0000-0100-0000-5ee4e7360000\\\"\",\n        \"_attachments\": \"attachments/\",\n        \"_ts\": 1592059702\n    },\n    {\n        \"id\": \"C3754E95-AD58-45DD-ABBD-5A14515369C0\",\n        \"categoryId\": \"C7324EF3-D951-45D9-A345-A82EAE344394\",\n        \"categoryName\": \"Clothing, Fun Shorts\",\n        \"sku\": \"SH-M897-M\",\n        \"name\": \"Men's Sports Shorts, M\",\n        \"description\": \"The product called \\\"Men's Sports Shorts, M\\\"\",\n        \"price\": 59.99,\n        \"tags\": [\n            {\n                \"id\": \"0DCF84C4-1351-44A1-B0B3-E633C37B08A1\",\n                \"name\": \"Tag-69\"\n            },\n            {\n                \"id\": \"40EA7241-A93B-493B-B621-ACF67449223E\",\n                \"name\": \"Tag-12\"\n            },\n            {\n                \"id\": \"D4FB299F-B6D1-4B17-8740-8A9D0B9FEBB2\",\n                \"name\": \"Tag-182\"\n            },\n            {\n                \"id\": \"F0F62277-02B1-4D03-A0F8-56B72C03C81C\",\n                \"name\": \"Tag-37\"\n            },\n            {\n                \"id\": \"FC6EED32-B47D-4818-B58D-B44778B3CB8B\",\n                \"name\": \"Tag-6\"\n            }\n        ],\n        \"_rid\": \"iGt5AOS4B2h9AAAAAAAAAA==\",\n        \"_self\": \"dbs/iGt5AA==/colls/iGt5AOS4B2g=/docs/iGt5AOS4B2h9AAAAAAAAAA==/\",\n        \"_etag\": \"\\\"2a00b0ab-0000-0100-0000-5ee4e7360000\\\"\",\n        \"_attachments\": \"attachments/\",\n        \"_ts\": 1592059702\n    },\n    {\n        \"id\": \"C41BD9AA-6A5D-424B-8C0C-6C5E081605C4\",\n        \"categoryId\": \"C7324EF3-D951-45D9-A345-A82EAE344394\",\n        \"categoryName\": \"Clothing, Fun Shorts\",\n        \"sku\": \"SH-M897-S\",\n        \"name\": \"Men's Sports Shorts, S\",\n        \"description\": \"The product called \\\"Men's Sports Shorts, S\\\"\",\n        \"price\": 59.99,\n        \"tags\": [\n            {\n                \"id\": \"3BEDB6F7-830C-4F21-A85F-78001B0D27A3\",\n                \"name\": \"Tag-3\"\n            },\n            {\n                \"id\": \"72023FAD-5C39-431C-951B-558707AFE082\",\n                \"name\": \"Tag-126\"\n            },\n            {\n                \"id\": \"87DA4EC0-CED7-4C64-8DBF-35B155C7AAE8\",\n                \"name\": \"Tag-39\"\n            },\n            {\n                \"id\": \"D71EE13C-94BB-43DC-9555-FF4B2BB467AB\",\n                \"name\": \"Tag-21\"\n            },\n            {\n                \"id\": \"D825FE3F-2035-444F-A964-722C87055E23\",\n                \"name\": \"Tag-113\"\n            }\n        ],\n        \"_rid\": \"iGt5AOS4B2ivAAAAAAAAAA==\",\n        \"_self\": \"dbs/iGt5AA==/colls/iGt5AOS4B2g=/docs/iGt5AOS4B2ivAAAAAAAAAA==/\",\n        \"_etag\": \"\\\"2a00b2ab-0000-0100-0000-5ee4e7360000\\\"\",\n        \"_attachments\": \"attachments/\",\n        \"_ts\": 1592059702\n    },\n    {\n        \"id\": \"82AEE273-A72A-49FE-B66F-4EEE70FD1F89\",\n        \"categoryId\": \"C7324EF3-D951-45D9-A345-A82EAE344394\",\n        \"categoryName\": \"Clothing, Fun Shorts\",\n        \"sku\": \"SH-W890-L\",\n        \"name\": \"Women's Mountain Shorts, L\",\n        \"description\": \"The product called \\\"Women's Mountain Shorts, L\\\"\",\n        \"price\": 69.99,\n        \"tags\": [\n            {\n                \"id\": \"582B2554-9FDB-42B4-A7B4-D2604CBEF8D0\",\n                \"name\": \"Tag-163\"\n            },\n            {\n                \"id\": \"F44F4DD7-7455-4324-B234-A64C41A46FD3\",\n                \"name\": \"Tag-123\"\n            }\n        ],\n        \"_rid\": \"iGt5AOS4B2jLAAAAAAAAAA==\",\n        \"_self\": \"dbs/iGt5AA==/colls/iGt5AOS4B2g=/docs/iGt5AOS4B2jLAAAAAAAAAA==/\",\n        \"_etag\": \"\\\"2a00b3ab-0000-0100-0000-5ee4e7360000\\\"\",\n        \"_attachments\": \"attachments/\",\n        \"_ts\": 1592059702\n    }\n]\nCost: 3.09 RU(s)\n"
        }
      ],
      "source": "# Retrieve the same products again (category name is updated by Azure Function)\n\ntop5Products = list(productContainer.query_items(\n    query = \"SELECT TOP 5 * FROM c WHERE c.categoryId = 'C7324EF3-D951-45D9-A345-A82EAE344394'\"))\n\nprintJson(top5Products)\nprintRequestCharge(customerContainer)"
    },
    {
      "cell_type": "markdown",
      "metadata": {},
      "source": "### Querying for Sales Orders"
    },
    {
      "cell_type": "code",
      "execution_count": 34,
      "metadata": {
        "collapsed": false,
        "execution": {
          "iopub.execute_input": "2020-06-13T14:48:41.611Z",
          "iopub.status.busy": "2020-06-13T14:48:41.570Z",
          "iopub.status.idle": "2020-06-13T14:48:41.653Z",
          "shell.execute_reply": "2020-06-13T14:48:41.661Z"
        },
        "inputHidden": false,
        "outputHidden": false,
        "trusted": true
      },
      "outputs": [],
      "source": "database            = cosmos_client.get_database_client(\"webstore-v4\")\ncustomerContainer   = database.get_container_client(\"customer\")"
    },
    {
      "cell_type": "code",
      "execution_count": 35,
      "metadata": {
        "collapsed": false,
        "execution": {
          "iopub.execute_input": "2020-06-13T14:48:42.894Z",
          "iopub.status.busy": "2020-06-13T14:48:42.888Z",
          "iopub.status.idle": "2020-06-13T14:48:42.952Z",
          "shell.execute_reply": "2020-06-13T14:48:42.958Z"
        },
        "inputHidden": false,
        "outputHidden": false,
        "trusted": true
      },
      "outputs": [
        {
          "name": "stdout",
          "output_type": "stream",
          "text": "[\n    {\n        \"id\": \"5FA7A020-A5FD-4EC8-B458-C0C5AFA9F365\",\n        \"type\": \"salesOrder\",\n        \"customerId\": \"46192BCF-E8BB-4140-A0F1-B8764A7941E7\",\n        \"orderDate\": \"2013-08-03T00:00:00\",\n        \"shipDate\": \"2013-08-10T00:00:00\",\n        \"details\": [\n            {\n                \"sku\": \"PK-7098\",\n                \"name\": \"Patch Kit/8 Patches\",\n                \"price\": 2.29,\n                \"quantity\": 1\n            }\n        ],\n        \"_rid\": \"3TFFAInuwsN-eAAAAAAAAA==\",\n        \"_self\": \"dbs/3TFFAA==/colls/3TFFAInuwsM=/docs/3TFFAInuwsN-eAAAAAAAAA==/\",\n        \"_etag\": \"\\\"04006b42-0000-0100-0000-5ee3b7ff0000\\\"\",\n        \"_attachments\": \"attachments/\",\n        \"_ts\": 1591982079\n    },\n    {\n        \"id\": \"60EF6711-FE5B-4291-8088-96BCC7F56B4E\",\n        \"type\": \"salesOrder\",\n        \"customerId\": \"46192BCF-E8BB-4140-A0F1-B8764A7941E7\",\n        \"orderDate\": \"2013-11-22T00:00:00\",\n        \"shipDate\": \"2013-11-29T00:00:00\",\n        \"details\": [\n            {\n                \"sku\": \"TI-M823\",\n                \"name\": \"HL Mountain Tire\",\n                \"price\": 35,\n                \"quantity\": 1\n            },\n            {\n                \"sku\": \"PK-7098\",\n                \"name\": \"Patch Kit/8 Patches\",\n                \"price\": 2.29,\n                \"quantity\": 1\n            },\n            {\n                \"sku\": \"TT-M928\",\n                \"name\": \"Mountain Tire Tube\",\n                \"price\": 4.99,\n                \"quantity\": 1\n            }\n        ],\n        \"_rid\": \"3TFFAInuwsO7eAAAAAAAAA==\",\n        \"_self\": \"dbs/3TFFAA==/colls/3TFFAInuwsM=/docs/3TFFAInuwsO7eAAAAAAAAA==/\",\n        \"_etag\": \"\\\"0400a742-0000-0100-0000-5ee3b7ff0000\\\"\",\n        \"_attachments\": \"attachments/\",\n        \"_ts\": 1591982079\n    }\n]\nRetrieved 2 document(s)\nCost: 3.1 RU(s)\n"
        }
      ],
      "source": "# Retrieve all sales order for a customer\n\norders = list(customerContainer.query_items(\n    query = \"\"\"\n        SELECT *\n        FROM c\n        WHERE c.customerId = '46192BCF-E8BB-4140-A0F1-B8764A7941E7' AND c.type = 'salesOrder'\n    \"\"\"))\n\nprintJson(orders)\nprintCount(orders)\nprintRequestCharge(customerContainer)"
    },
    {
      "cell_type": "code",
      "execution_count": 36,
      "metadata": {
        "collapsed": false,
        "execution": {
          "iopub.execute_input": "2020-06-13T14:48:47.042Z",
          "iopub.status.busy": "2020-06-13T14:48:47.037Z",
          "iopub.status.idle": "2020-06-13T14:48:47.103Z",
          "shell.execute_reply": "2020-06-13T14:48:47.113Z"
        },
        "inputHidden": false,
        "outputHidden": false,
        "trusted": true
      },
      "outputs": [
        {
          "name": "stdout",
          "output_type": "stream",
          "text": "[\n    {\n        \"id\": \"46192BCF-E8BB-4140-A0F1-B8764A7941E7\",\n        \"type\": \"customer\",\n        \"customerId\": \"46192BCF-E8BB-4140-A0F1-B8764A7941E7\",\n        \"title\": \"\",\n        \"firstName\": \"Amanda\",\n        \"lastName\": \"Cook\",\n        \"emailAddress\": \"amanda3@adventure-works.com\",\n        \"phoneNumber\": \"252-555-0177\",\n        \"creationDate\": \"2013-08-03T00:00:00\",\n        \"addresses\": [\n            {\n                \"addressLine1\": \"4098 Woodcrest Dr.\",\n                \"addressLine2\": \"\",\n                \"city\": \"Everett\",\n                \"state\": \"WA \",\n                \"country\": \"US\",\n                \"zipCode\": \"98201\"\n            },\n            {\n                \"addressLine1\": \"9187 Vista Del Sol\",\n                \"addressLine2\": \"\",\n                \"city\": \"Everett\",\n                \"state\": \"WA \",\n                \"country\": \"US\",\n                \"zipCode\": \"98201\"\n            }\n        ],\n        \"password\": {\n            \"hash\": \"TME3aaOlz5NEtcLKhgRxwgjyS/lZfiX+IDHTTQYBtjI=\",\n            \"salt\": \"wNb+tCk=\"\n        },\n        \"salesOrderCount\": 2,\n        \"_rid\": \"3TFFAInuwsOmFAAAAAAAAA==\",\n        \"_self\": \"dbs/3TFFAA==/colls/3TFFAInuwsM=/docs/3TFFAInuwsOmFAAAAAAAAA==/\",\n        \"_etag\": \"\\\"0300edb7-0000-0100-0000-5ee3b2c80000\\\"\",\n        \"_attachments\": \"attachments/\",\n        \"_ts\": 1591980744\n    },\n    {\n        \"id\": \"5FA7A020-A5FD-4EC8-B458-C0C5AFA9F365\",\n        \"type\": \"salesOrder\",\n        \"customerId\": \"46192BCF-E8BB-4140-A0F1-B8764A7941E7\",\n        \"orderDate\": \"2013-08-03T00:00:00\",\n        \"shipDate\": \"2013-08-10T00:00:00\",\n        \"details\": [\n            {\n                \"sku\": \"PK-7098\",\n                \"name\": \"Patch Kit/8 Patches\",\n                \"price\": 2.29,\n                \"quantity\": 1\n            }\n        ],\n        \"_rid\": \"3TFFAInuwsN-eAAAAAAAAA==\",\n        \"_self\": \"dbs/3TFFAA==/colls/3TFFAInuwsM=/docs/3TFFAInuwsN-eAAAAAAAAA==/\",\n        \"_etag\": \"\\\"04006b42-0000-0100-0000-5ee3b7ff0000\\\"\",\n        \"_attachments\": \"attachments/\",\n        \"_ts\": 1591982079\n    },\n    {\n        \"id\": \"60EF6711-FE5B-4291-8088-96BCC7F56B4E\",\n        \"type\": \"salesOrder\",\n        \"customerId\": \"46192BCF-E8BB-4140-A0F1-B8764A7941E7\",\n        \"orderDate\": \"2013-11-22T00:00:00\",\n        \"shipDate\": \"2013-11-29T00:00:00\",\n        \"details\": [\n            {\n                \"sku\": \"TI-M823\",\n                \"name\": \"HL Mountain Tire\",\n                \"price\": 35,\n                \"quantity\": 1\n            },\n            {\n                \"sku\": \"PK-7098\",\n                \"name\": \"Patch Kit/8 Patches\",\n                \"price\": 2.29,\n                \"quantity\": 1\n            },\n            {\n                \"sku\": \"TT-M928\",\n                \"name\": \"Mountain Tire Tube\",\n                \"price\": 4.99,\n                \"quantity\": 1\n            }\n        ],\n        \"_rid\": \"3TFFAInuwsO7eAAAAAAAAA==\",\n        \"_self\": \"dbs/3TFFAA==/colls/3TFFAInuwsM=/docs/3TFFAInuwsO7eAAAAAAAAA==/\",\n        \"_etag\": \"\\\"0400a742-0000-0100-0000-5ee3b7ff0000\\\"\",\n        \"_attachments\": \"attachments/\",\n        \"_ts\": 1591982079\n    }\n]\nRetrieved 3 document(s)\nCost: 2.99 RU(s)\n"
        }
      ],
      "source": "# Retrieve a customer with all their sales orders\n\ncustomerWithOrders = list(customerContainer.query_items(\n    query = \"\"\"\n        SELECT *\n        FROM c\n        WHERE c.customerId = '46192BCF-E8BB-4140-A0F1-B8764A7941E7'\n        ORDER BY c.type\n    \"\"\"))\n\nprintJson(customerWithOrders)\nprintCount(customerWithOrders)\nprintRequestCharge(customerContainer)"
    },
    {
      "cell_type": "markdown",
      "metadata": {},
      "source": "### Querying for Top Customers"
    },
    {
      "cell_type": "code",
      "execution_count": 37,
      "metadata": {
        "collapsed": false,
        "execution": {
          "iopub.execute_input": "2020-06-13T14:48:50.829Z",
          "iopub.status.busy": "2020-06-13T14:48:50.823Z",
          "iopub.status.idle": "2020-06-13T14:48:50.841Z",
          "shell.execute_reply": "2020-06-13T14:48:50.849Z"
        },
        "inputHidden": false,
        "outputHidden": false,
        "trusted": true
      },
      "outputs": [
        {
          "name": "stdout",
          "output_type": "stream",
          "text": "(BadRequest) Cross partition query is required but disabled. Please set x-ms-documentdb-query-enablecrosspartition to true, specify x-ms-documentdb-partitionkey, or revise your query to avoid this exception.\r\nActivityId: c29e8aa4-6816-4c18-8d7c-3c06cdcf7649, Microsoft.Azure.Documents.Common/2.11.0\n"
        }
      ],
      "source": "# Retrieve the top 10 customers by number of sales orders\n\n# Fails because we need to explicitly indicate that we want a cross-partition query\ntry:\n    top10Customers = list(customerContainer.query_items(\n        query = \"\"\"\n            SELECT TOP 10 c.id, c.firstName, c.lastName, c.salesOrderCount\n            FROM c\n            WHERE c.type = 'customer'\n            ORDER BY c.salesOrderCount DESC\n        \"\"\"))\nexcept Exception as e:\n    print(e)"
    },
    {
      "cell_type": "code",
      "execution_count": 38,
      "metadata": {
        "collapsed": false,
        "execution": {
          "iopub.execute_input": "2020-06-13T14:48:54.003Z",
          "iopub.status.busy": "2020-06-13T14:48:53.980Z",
          "iopub.status.idle": "2020-06-13T14:48:54.105Z",
          "shell.execute_reply": "2020-06-13T14:48:54.595Z"
        },
        "inputHidden": false,
        "outputHidden": false,
        "trusted": true
      },
      "outputs": [
        {
          "name": "stdout",
          "output_type": "stream",
          "text": "[\n    {\n        \"id\": \"7708618E-D6F8-4975-91A5-7F202848F9B4\",\n        \"firstName\": \"Mason\",\n        \"lastName\": \"Roberts\",\n        \"salesOrderCount\": 28\n    },\n    {\n        \"id\": \"44A6D5F6-AF44-4B34-8AB5-21C5DC50926E\",\n        \"firstName\": \"Dalton\",\n        \"lastName\": \"Perez\",\n        \"salesOrderCount\": 28\n    },\n    {\n        \"id\": \"E46CE3B0-3154-42E9-84CB-447742A7A7A2\",\n        \"firstName\": \"Daniel\",\n        \"lastName\": \"Davis\",\n        \"salesOrderCount\": 27\n    },\n    {\n        \"id\": \"DB085093-192F-460B-9291-C2A3FC4BC4B5\",\n        \"firstName\": \"Hailey\",\n        \"lastName\": \"Patterson\",\n        \"salesOrderCount\": 27\n    },\n    {\n        \"id\": \"D3DC2659-70A4-4850-ACF4-0A8CABA660B1\",\n        \"firstName\": \"Jason\",\n        \"lastName\": \"Griffin\",\n        \"salesOrderCount\": 27\n    },\n    {\n        \"id\": \"CF120FE8-B4D8-4C5A-BC21-16A8F50EC3EB\",\n        \"firstName\": \"Charles\",\n        \"lastName\": \"Jackson\",\n        \"salesOrderCount\": 27\n    },\n    {\n        \"id\": \"B833E0CB-67D3-4657-A773-704CF06DD2E4\",\n        \"firstName\": \"Ryan\",\n        \"lastName\": \"Thompson\",\n        \"salesOrderCount\": 27\n    },\n    {\n        \"id\": \"79FE38CA-033D-4115-90B6-5A886DECE9C9\",\n        \"firstName\": \"Nancy\",\n        \"lastName\": \"Chapman\",\n        \"salesOrderCount\": 27\n    },\n    {\n        \"id\": \"5FA598A8-28B6-4D78-98AD-ECBD9FCBE2CB\",\n        \"firstName\": \"Henry\",\n        \"lastName\": \"Garcia\",\n        \"salesOrderCount\": 27\n    },\n    {\n        \"id\": \"54B507ED-C317-4CC3-81BE-C8B8D836BE29\",\n        \"firstName\": \"Samantha\",\n        \"lastName\": \"Jenkins\",\n        \"salesOrderCount\": 27\n    }\n]\nCost: 3.46 RU(s)\n"
        }
      ],
      "source": "# Try again with cross partition query enabled\n\ntop10Customers = list(customerContainer.query_items(\n    query = \"\"\"\n        SELECT TOP 10 c.id, c.firstName, c.lastName, c.salesOrderCount\n        FROM c\n        WHERE c.type = 'customer'\n        ORDER BY c.salesOrderCount DESC\n    \"\"\",\n    enable_cross_partition_query = True))\n\nprintJson(top10Customers)\nprintRequestCharge(customerContainer)"
    },
    {
      "cell_type": "code",
      "execution_count": 39,
      "metadata": {
        "collapsed": false,
        "execution": {
          "iopub.execute_input": "2020-06-13T14:49:05.465Z",
          "iopub.status.busy": "2020-06-13T14:49:05.459Z",
          "iopub.status.idle": "2020-06-13T14:49:05.523Z",
          "shell.execute_reply": "2020-06-13T14:49:05.532Z"
        },
        "inputHidden": false,
        "outputHidden": false,
        "trusted": true
      },
      "outputs": [
        {
          "name": "stdout",
          "output_type": "stream",
          "text": "Cost: 22.14 RU(s)\n"
        }
      ],
      "source": "# Create a new sales order for a customer\n\ncustomerId = \"44A6D5F6-AF44-4B34-8AB5-21C5DC50926E\"\nsalesOrderId = str(uuid.uuid4())\n\nnewOrder = {\n    \"id\": salesOrderId,\n    \"type\": \"salesOrder\",\n    \"customerId\": customerId,\n    \"details\": [\n        {\n            \"sku\": \"BK-R50R-44\",\n            \"name\": \"Road-650 Red, 44\",\n            \"price\": 419.4589,\n            \"quantity\": 1\n        },\n        {\n            \"sku\": \"BK-R68R-52\",\n            \"name\": \"Road-450 Red, 52\",\n            \"price\": 874.794,\n            \"quantity\": 1\n        }\n    ]\n}\n\n# Call the stored procedure to insert the new order and update the customer order count in a transaction\ncustomerContainer.scripts.execute_stored_procedure(\n    \"spCreateSalesOrder\",\n    partition_key = customerId,\n    params = newOrder)\n\nprintRequestCharge(customerContainer)"
    },
    {
      "cell_type": "code",
      "execution_count": 40,
      "metadata": {
        "collapsed": false,
        "execution": {
          "iopub.execute_input": "2020-06-13T14:49:08.608Z",
          "iopub.status.busy": "2020-06-13T14:49:08.602Z",
          "iopub.status.idle": "2020-06-13T14:49:08.657Z",
          "shell.execute_reply": "2020-06-13T14:49:08.666Z"
        },
        "inputHidden": false,
        "outputHidden": false,
        "trusted": true
      },
      "outputs": [
        {
          "name": "stdout",
          "output_type": "stream",
          "text": "[\n    {\n        \"id\": \"44A6D5F6-AF44-4B34-8AB5-21C5DC50926E\",\n        \"firstName\": \"Dalton\",\n        \"lastName\": \"Perez\",\n        \"salesOrderCount\": 29\n    },\n    {\n        \"id\": \"7708618E-D6F8-4975-91A5-7F202848F9B4\",\n        \"firstName\": \"Mason\",\n        \"lastName\": \"Roberts\",\n        \"salesOrderCount\": 28\n    },\n    {\n        \"id\": \"E46CE3B0-3154-42E9-84CB-447742A7A7A2\",\n        \"firstName\": \"Daniel\",\n        \"lastName\": \"Davis\",\n        \"salesOrderCount\": 27\n    },\n    {\n        \"id\": \"DB085093-192F-460B-9291-C2A3FC4BC4B5\",\n        \"firstName\": \"Hailey\",\n        \"lastName\": \"Patterson\",\n        \"salesOrderCount\": 27\n    },\n    {\n        \"id\": \"D3DC2659-70A4-4850-ACF4-0A8CABA660B1\",\n        \"firstName\": \"Jason\",\n        \"lastName\": \"Griffin\",\n        \"salesOrderCount\": 27\n    },\n    {\n        \"id\": \"CF120FE8-B4D8-4C5A-BC21-16A8F50EC3EB\",\n        \"firstName\": \"Charles\",\n        \"lastName\": \"Jackson\",\n        \"salesOrderCount\": 27\n    },\n    {\n        \"id\": \"B833E0CB-67D3-4657-A773-704CF06DD2E4\",\n        \"firstName\": \"Ryan\",\n        \"lastName\": \"Thompson\",\n        \"salesOrderCount\": 27\n    },\n    {\n        \"id\": \"79FE38CA-033D-4115-90B6-5A886DECE9C9\",\n        \"firstName\": \"Nancy\",\n        \"lastName\": \"Chapman\",\n        \"salesOrderCount\": 27\n    },\n    {\n        \"id\": \"5FA598A8-28B6-4D78-98AD-ECBD9FCBE2CB\",\n        \"firstName\": \"Henry\",\n        \"lastName\": \"Garcia\",\n        \"salesOrderCount\": 27\n    },\n    {\n        \"id\": \"54B507ED-C317-4CC3-81BE-C8B8D836BE29\",\n        \"firstName\": \"Samantha\",\n        \"lastName\": \"Jenkins\",\n        \"salesOrderCount\": 27\n    }\n]\nCost: 3.46 RU(s)\n"
        }
      ],
      "source": "# Top 10 query now shows updated result from salesOrderCount incremented by stored procedure\n\ntop10Customers = list(customerContainer.query_items(\n    query = \"\"\"\n        SELECT TOP 10 c.id, c.firstName, c.lastName, c.salesOrderCount\n        FROM c\n        WHERE c.type = 'customer'\n        ORDER BY c.salesOrderCount DESC\n    \"\"\",\n    enable_cross_partition_query = True))\n\nprintJson(top10Customers)\nprintRequestCharge(customerContainer)"
    }
  ],
  "metadata": {
    "kernelspec": {
      "displayName": "Python 3",
      "language": "python",
      "name": "python3"
    },
    "language_info": {
      "file_extension": "ipynb",
      "mimetype": "application/json",
      "name": "python",
      "version": "3.7"
    },
    "nteract": {
      "version": "dataExplorer 1.0"
    }
  },
  "nbformat": 4,
  "nbformat_minor": 2
}