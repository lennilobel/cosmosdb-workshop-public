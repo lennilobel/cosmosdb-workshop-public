{
  "cells": [
    {
      "cell_type": "markdown",
      "metadata": {
        "nteract": {
          "transient": {
            "deleting": false
          }
        }
      },
      "source": "# Microservices\n## Initialize"
    },
    {
      "cell_type": "code",
      "execution_count": 21,
      "metadata": {
        "collapsed": true,
        "execution": {
          "iopub.execute_input": "2020-07-06T16:09:54.311Z",
          "iopub.status.busy": "2020-07-06T16:09:54.310Z",
          "iopub.status.idle": "2020-07-06T16:09:54.382Z",
          "shell.execute_reply": "2020-07-06T16:09:54.421Z"
        },
        "jupyter": {
          "outputs_hidden": false,
          "source_hidden": false
        },
        "nteract": {
          "transient": {
            "deleting": false
          }
        },
        "outputExpanded": false,
        "trusted": true
      },
      "outputs": [
        {
          "name": "stdout",
          "output_type": "stream",
          "text": "Deleted all but contoso-airlines location container\n"
        }
      ],
      "source": "import azure.cosmos\nfrom azure.cosmos import PartitionKey\n\ndef delete_database(database_name):\n    try:\n        cosmos_client.delete_database(database_name)\n        print('Deleted existing ' + database_name + ' database')\n    except azure.cosmos.errors.CosmosHttpResponseError as e:\n        if e.status_code != 404:\n            raise\n\ndef delete_container(database_name, container_name):\n    database = cosmos_client.get_database_client(database_name)\n    try:\n        database.delete_container(container_name)\n        print('Deleted existing ' + container_name + ' in ' + database_name + ' database')\n    except azure.cosmos.errors.CosmosHttpResponseError as e:\n        if e.status_code != 404:\n            raise\n    return database\n\ndef create_container_with_overwrite(database_name, container_name, partition_key):\n    database = delete_container(database_name, container_name)\n    container = database.create_container(container_name, PartitionKey(path=partition_key))\n    print('Created ' + container_name + ' container in ' + database_name + ' database')\n    return container\n\ndelete_database('acme-webstore')\ndelete_container('contoso-airlines', 'arrivalsBoard')\ndelete_container('contoso-airlines', 'currentLocation')\ndelete_container('contoso-airlines', 'lease')\ndelete_container('contoso-airlines', 'meta')\nprint('Deleted all but contoso-airlines location container')"
    },
    {
      "cell_type": "code",
      "execution_count": 22,
      "metadata": {
        "collapsed": true,
        "execution": {
          "iopub.execute_input": "2020-07-06T16:09:54.430Z",
          "iopub.status.busy": "2020-07-06T16:09:54.426Z",
          "iopub.status.idle": "2020-07-06T16:09:57.904Z",
          "shell.execute_reply": "2020-07-06T16:09:57.911Z"
        },
        "jupyter": {
          "outputs_hidden": false,
          "source_hidden": false
        },
        "nteract": {
          "transient": {
            "deleting": false
          }
        },
        "outputExpanded": false,
        "trusted": true
      },
      "outputs": [
        {
          "name": "stdout",
          "output_type": "stream",
          "text": "Created currentLocation container in contoso-airlines database\nCreated arrivalsBoard container in contoso-airlines database\nCreated lease container in contoso-airlines database\nCreated meta container in contoso-airlines database\n"
        }
      ],
      "source": "create_container_with_overwrite('contoso-airlines', 'currentLocation', '/type')\ncreate_container_with_overwrite('contoso-airlines', 'arrivalsBoard', '/type')\ncreate_container_with_overwrite('contoso-airlines', 'lease', '/id')\nmetaContainer = create_container_with_overwrite('contoso-airlines', 'meta', '/type')"
    },
    {
      "cell_type": "code",
      "execution_count": 23,
      "metadata": {
        "collapsed": true,
        "execution": {
          "iopub.execute_input": "2020-07-06T16:09:57.919Z",
          "iopub.status.busy": "2020-07-06T16:09:57.917Z",
          "iopub.status.idle": "2020-07-06T16:09:58.033Z",
          "shell.execute_reply": "2020-07-06T16:09:58.037Z"
        },
        "jupyter": {
          "outputs_hidden": false,
          "source_hidden": false
        },
        "nteract": {
          "transient": {
            "deleting": false
          }
        },
        "outputExpanded": false,
        "trusted": true
      },
      "outputs": [
        {
          "name": "stdout",
          "output_type": "stream",
          "text": "Created airport documents\n"
        }
      ],
      "source": "# Create airports\nmetaContainer.create_item(body={\n    \"id\": \"JFK\", \"type\": \"airport\", \"code\": \"JFK\", \"latitude\": 40.6413, \"longitude\": -73.7781,\n    \"name\": \"New York, NY: John F. Kennedy International\"\n})\nmetaContainer.create_item(body={\n    \"id\": \"LAX\", \"type\": \"airport\", \"code\": \"LAX\", \"latitude\": 33.9416, \"longitude\": -118.4085,\n    \"name\": \"Los Angeles, CA: Los Angeles International\"\n})\nmetaContainer.create_item(body={\n    \"id\": \"SEA\", \"type\": \"airport\", \"code\": \"SEA\", \"latitude\": 47.4436, \"longitude\": -122.2961,\n    \"name\": \"Seattle, WA: Seattle/Tacoma International\"\n})\nmetaContainer.create_item(body={\n    \"id\": \"MCO\", \"type\": \"airport\", \"code\": \"MCO\", \"latitude\": 28.4312, \"longitude\": -81.3081,\n    \"name\": \"Orlando, FL: Orlando International\"\n})\nmetaContainer.create_item(body={\n    \"id\": \"ORD\", \"type\": \"airport\", \"code\": \"ORD\", \"latitude\": 41.9742, \"longitude\": -87.9073,\n    \"name\": \"Chicago, IL: Chicago O'Hare International\"\n})\nmetaContainer.create_item(body={\n    \"id\": \"DEN\", \"type\": \"airport\", \"code\": \"DEN\", \"latitude\": 39.8561, \"longitude\": -104.6737,\n    \"name\": \"Denver, CO: Denver International\"\n})\nprint('Created airport documents')"
    },
    {
      "cell_type": "code",
      "execution_count": 24,
      "metadata": {
        "collapsed": true,
        "execution": {
          "iopub.execute_input": "2020-07-06T16:09:58.089Z",
          "iopub.status.busy": "2020-07-06T16:09:58.039Z",
          "iopub.status.idle": "2020-07-06T16:09:58.222Z",
          "shell.execute_reply": "2020-07-06T16:09:58.228Z"
        },
        "jupyter": {
          "outputs_hidden": false,
          "source_hidden": false
        },
        "nteract": {
          "transient": {
            "deleting": false
          }
        },
        "outputExpanded": false,
        "trusted": true
      },
      "outputs": [
        {
          "name": "stdout",
          "output_type": "stream",
          "text": "Created flight documents\n"
        }
      ],
      "source": "# Create flights\nmetaContainer.create_item(body={\n    \"id\": \"CA1001\",\n    \"type\": \"flight\",\n    \"flightNumber\": \"CA1001\",\n    \"tailNumber\": \"776mf2\",\n    \"departureAirport\": \"JFK\",\n    \"arrivalAirport\": \"LAX\",\n    \"durationMinutes\": 296.33,\n    \"distanceMiles\": 2469,\n    \"latitude\": 40.6413,\n    \"longitude\": -73.7781,\n    \"iconRotation\": 260\n})\nmetaContainer.create_item(body={\n    \"id\": \"CA1002\",\n    \"type\": \"flight\",\n    \"flightNumber\": \"CA1002\",\n    \"tailNumber\": \"679135\",\n    \"departureAirport\": \"DEN\",\n    \"arrivalAirport\": \"LAX\",\n    \"durationMinutes\": 103.26,\n    \"distanceMiles\": 861,\n    \"latitude\": 39.8561,\n    \"longitude\": -104.6737,\n    \"iconRotation\": 235\n})\nmetaContainer.create_item(body={\n    \"id\": \"CA1003\",\n    \"type\": \"flight\",\n    \"flightNumber\": \"CA1003\",\n    \"tailNumber\": \"291c06\",\n    \"departureAirport\": \"ORD\",\n    \"arrivalAirport\": \"LAX\",\n    \"durationMinutes\": 208.91,\n    \"distanceMiles\": 1741,\n    \"latitude\": 41.9742,\n    \"longitude\": -87.9073,\n    \"iconRotation\": 245\n})\nmetaContainer.create_item(body={\n    \"id\": \"CA1004\",\n    \"type\": \"flight\",\n    \"flightNumber\": \"CA1004\",\n    \"tailNumber\": \"485x33\",\n    \"departureAirport\": \"JFK\",\n    \"arrivalAirport\": \"SEA\",\n    \"durationMinutes\": 289.72,\n    \"distanceMiles\": 2414,\n    \"latitude\": 40.6413,\n    \"longitude\": -73.7781,\n    \"iconRotation\": 285\n})\nmetaContainer.create_item(body={\n    \"id\": \"CA1005\",\n    \"type\": \"flight\",\n    \"flightNumber\": \"CA1005\",\n    \"tailNumber\": \"776sd3\",\n    \"departureAirport\": \"MCO\",\n    \"arrivalAirport\": \"LAX\",\n    \"durationMinutes\": 265.61,\n    \"distanceMiles\": 2213,\n    \"latitude\": 28.4312,\n    \"longitude\": -81.3081,\n    \"iconRotation\": 280\n})\nmetaContainer.create_item(body={\n    \"id\": \"CA1006\",\n    \"type\": \"flight\",\n    \"flightNumber\": \"CA1006\",\n    \"tailNumber\": \"3882e1\",\n    \"departureAirport\": \"MCO\",\n    \"arrivalAirport\": \"JFK\",\n    \"durationMinutes\": 113.43,\n    \"distanceMiles\": 945,\n    \"latitude\": 28.4312,\n    \"longitude\": -81.3081,\n    \"iconRotation\": 30\n})\nmetaContainer.create_item(body={\n    \"id\": \"CA1007\",\n    \"type\": \"flight\",\n    \"flightNumber\": \"CA1007\",\n    \"tailNumber\": \"291y68\",\n    \"departureAirport\": \"LAX\",\n    \"arrivalAirport\": \"MCO\",\n    \"durationMinutes\": 265.61,\n    \"distanceMiles\": 2213,\n    \"latitude\": 33.9416,\n    \"longitude\": -118.4085,\n    \"iconRotation\": 100\n})\nmetaContainer.create_item(body={\n    \"id\": \"CA1008\",\n    \"type\": \"flight\",\n    \"flightNumber\": \"CA1008\",\n    \"tailNumber\": \"485y45\",\n    \"departureAirport\": \"ORD\",\n    \"arrivalAirport\": \"MCO\",\n    \"durationMinutes\": 120.76,\n    \"distanceMiles\": 1006,\n    \"latitude\": 41.9742,\n    \"longitude\": -87.9073,\n    \"iconRotation\": 155\n})\nmetaContainer.create_item(body={\n    \"id\": \"CA1009\",\n    \"type\": \"flight\",\n    \"flightNumber\": \"CA1009\",\n    \"tailNumber\": \"582q36\",\n    \"departureAirport\": \"JFK\",\n    \"arrivalAirport\": \"MCO\",\n    \"durationMinutes\": 113.43,\n    \"distanceMiles\": 945,\n    \"latitude\": 40.6413,\n    \"longitude\": -73.7781,\n    \"iconRotation\": 205\n})\nmetaContainer.create_item(body={\n    \"id\": \"CA1010\",\n    \"type\": \"flight\",\n    \"flightNumber\": \"CA1010\",\n    \"tailNumber\": \"194fr9\",\n    \"departureAirport\": \"SEA\",\n    \"arrivalAirport\": \"LAX\",\n    \"durationMinutes\": 114.54,\n    \"distanceMiles\": 954,\n    \"latitude\": 47.4436,\n    \"longitude\": -122.2961,\n    \"iconRotation\": 165\n})\nmetaContainer.create_item(body={\n    \"id\": \"CA1011\",\n    \"type\": \"flight\",\n    \"flightNumber\": \"CA1011\",\n    \"tailNumber\": \"485oy10\",\n    \"departureAirport\": \"LAX\",\n    \"arrivalAirport\": \"SEA\",\n    \"durationMinutes\": 114.54,\n    \"distanceMiles\": 954,\n    \"latitude\": 33.9416,\n    \"longitude\": -118.4085,\n    \"iconRotation\": 350\n})\nmetaContainer.create_item(body={\n    \"id\": \"CA1012\",\n    \"type\": \"flight\",\n    \"flightNumber\": \"CA1012\",\n    \"tailNumber\": \"388y18\",\n    \"departureAirport\": \"SEA\",\n    \"arrivalAirport\": \"JFK\",\n    \"durationMinutes\": 289.72,\n    \"distanceMiles\": 2414,\n    \"latitude\": 47.4436,\n    \"longitude\": -122.2961,\n    \"iconRotation\": 105\n})\nprint('Created flight documents')"
    },
    {
      "cell_type": "code",
      "execution_count": 25,
      "metadata": {
        "collapsed": false,
        "execution": {
          "iopub.execute_input": "2020-07-06T16:09:58.284Z",
          "iopub.status.busy": "2020-07-06T16:09:58.236Z",
          "iopub.status.idle": "2020-07-06T16:10:01.772Z",
          "shell.execute_reply": "2020-07-06T16:10:01.824Z"
        },
        "jupyter": {
          "outputs_hidden": false,
          "source_hidden": false
        },
        "nteract": {
          "transient": {
            "deleting": false
          }
        },
        "trusted": true
      },
      "outputs": [
        {
          "name": "stdout",
          "output_type": "stream",
          "text": "Created acme-webstore database\nCreated lease container\nCreated cart container\nCreated product container\nCreated productMeta container\n"
        }
      ],
      "source": "# Delete the acme-webstore database if it already exists\ntry:\n    cosmos_client.delete_database('acme-webstore')\n    print('Deleted existing acme-webstore database')\nexcept azure.cosmos.errors.CosmosHttpResponseError as e:\n    if e.status_code != 404:\n        raise\n        \n# Create the database\ndatabase = cosmos_client.create_database('acme-webstore')\nprint('Created acme-webstore database')\n\n# Create the lease container\nleaseContainer = database.create_container('lease', PartitionKey(path=\"/id\"))\nprint('Created lease container')\n\n# Create the cart container partitioned on /cartId with TTL enabled\ncartContainer = database.create_container('cart', PartitionKey(path=\"/cartId\"), default_ttl=-1)\nprint('Created cart container')\n\n# Create the product container partitioned on /categoryId\nproductContainer = database.create_container('product', PartitionKey(path=\"/categoryId\"))\nprint('Created product container')\n\n# Create the productMeta container partitioned on /type\nproductMetaContainer = database.create_container('productMeta', PartitionKey(path=\"/type\"))\nprint('Created productMeta container')"
    },
    {
      "cell_type": "code",
      "execution_count": 26,
      "metadata": {
        "collapsed": true,
        "execution": {
          "iopub.execute_input": "2020-07-06T16:10:01.881Z",
          "iopub.status.busy": "2020-07-06T16:10:01.830Z",
          "iopub.status.idle": "2020-07-06T16:10:01.929Z",
          "shell.execute_reply": "2020-07-06T16:10:01.932Z"
        },
        "jupyter": {
          "outputs_hidden": false,
          "source_hidden": false
        },
        "nteract": {
          "transient": {
            "deleting": false
          }
        },
        "outputExpanded": false,
        "trusted": true
      },
      "outputs": [
        {
          "name": "stdout",
          "output_type": "stream",
          "text": "Created product category and tag documents\n"
        }
      ],
      "source": "# Create categories\nproductMetaContainer.create_item(body={\"id\": \"C-TS\", \"type\": \"category\", \"name\": \"T-shirts\"})\nproductMetaContainer.create_item(body={\"id\": \"C-SH\", \"type\": \"category\", \"name\": \"Shorts\"})\n\n# Create tags\nproductMetaContainer.create_item(body={\"id\": \"T-SU\", \"type\": \"tag\", \"name\": \"summer\"})\nproductMetaContainer.create_item(body={\"id\": \"T-US\", \"type\": \"tag\", \"name\": \"ultrasoft\"})\nproductMetaContainer.create_item(body={\"id\": \"T-AS\", \"type\": \"tag\", \"name\": \"all-season\"})\nproductMetaContainer.create_item(body={\"id\": \"T-OD\", \"type\": \"tag\", \"name\": \"outdoor\"})\nproductMetaContainer.create_item(body={\"id\": \"T-UX\", \"type\": \"tag\", \"name\": \"unisex\"})\n\nprint('Created product category and tag documents')"
    },
    {
      "cell_type": "code",
      "execution_count": 27,
      "metadata": {
        "collapsed": true,
        "execution": {
          "iopub.execute_input": "2020-07-06T16:10:01.936Z",
          "iopub.status.busy": "2020-07-06T16:10:01.935Z",
          "iopub.status.idle": "2020-07-06T16:10:02.044Z",
          "shell.execute_reply": "2020-07-06T16:10:02.048Z"
        },
        "jupyter": {
          "outputs_hidden": false,
          "source_hidden": false
        },
        "nteract": {
          "transient": {
            "deleting": false
          }
        },
        "outputExpanded": false,
        "trusted": true
      },
      "outputs": [
        {
          "name": "stdout",
          "output_type": "stream",
          "text": "Created product documents\n"
        }
      ],
      "source": "# Create products\nproductContainer.create_item(body={\n    \"id\": \"P1081\",\n    \"name\": \"V-neck\",\n    \"price\": 38.00,\n    \"categoryId\": \"C-TS\",\n    \"categoryName\": \"T-shirts\",\n    \"tags\": [\n        { \"id\": \"T-US\", \"name\": \"ultrasoft\" },\n        { \"id\": \"T-UX\", \"name\": \"unisex\" }\n    ]\n})\nproductContainer.create_item(body={\n    \"id\": \"P1082\",\n    \"name\": \"Crew neck\",\n    \"price\": 39.00,\n    \"categoryId\": \"C-TS\",\n    \"categoryName\": \"T-shirts\",\n    \"tags\": [\n        { \"id\": \"T-UX\", \"name\": \"unisex\" }\n    ]\n})\nproductContainer.create_item(body={\n    \"id\": \"P1083\",\n    \"name\": \"Bermuda shorts\",\n    \"price\": 42.00,\n    \"categoryId\": \"C-SH\",\n    \"categoryName\": \"Shorts\",\n    \"tags\": [\n        { \"id\": \"T-SU\", \"name\": \"summer\" },\n        { \"id\": \"T-OD\", \"name\": \"outdoor\" },\n        { \"id\": \"T-UX\", \"name\": \"unisex\" }\n    ]\n})\nproductContainer.create_item(body={\n    \"id\": \"P1084\",\n    \"name\": \"Cycling shorts\",\n    \"price\": 44.00,\n    \"categoryId\": \"C-SH\",\n    \"categoryName\": \"Shorts\",\n    \"tags\": [\n        { \"id\": \"T-OD\", \"name\": \"outdoor\" },\n        { \"id\": \"T-AS\", \"name\": \"unisex\" }\n    ]\n})\nproductContainer.create_item(body={\n    \"id\": \"P1085\",\n    \"name\": \"Polo collar\",\n    \"price\": 27.00,\n    \"categoryId\": \"C-TS\",\n    \"categoryName\": \"T-shirts\",\n    \"tags\": [\n        { \"id\": \"T-OD\", \"name\": \"outdoor\" },\n        { \"id\": \"T-US\", \"name\": \"ultrasoft\" }\n    ]\n})\nproductContainer.create_item(body={\n    \"id\": \"P1086\",\n    \"name\": \"Boardshorts\",\n    \"price\": 32.00,\n    \"categoryId\": \"C-SH\",\n    \"categoryName\": \"Shorts\",\n    \"tags\": [\n        { \"id\": \"T-AS\", \"name\": \"all-season\" }\n    ]\n})\nprint('Created product documents')"
    }
  ],
  "metadata": {
    "kernelspec": {
      "displayName": "Python 3",
      "language": "python",
      "name": "python3"
    },
    "language_info": {
      "file_extension": "ipynb",
      "mimetype": "application/json",
      "name": "python",
      "version": "3.7"
    },
    "nteract": {
      "version": "dataExplorer 1.0"
    }
  },
  "nbformat": 4,
  "nbformat_minor": 4
}