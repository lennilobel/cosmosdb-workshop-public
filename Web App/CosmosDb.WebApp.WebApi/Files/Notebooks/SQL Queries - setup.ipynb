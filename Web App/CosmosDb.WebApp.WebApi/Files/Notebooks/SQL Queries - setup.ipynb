{
  "cells": [
    {
      "cell_type": "markdown",
      "metadata": {},
      "source": "# Cosmos DB Demos\n\nThis notebook has demos for two containers in two different databases:\n\n| Database | Container | Description |\n| - | - | - |\n| Families | Families | 3 simple family documents |\n| mydb | mystore | 701 documents imported from AdventureWorks |\n\n## Documentation\n\nhttps://docs.microsoft.com/en-us/python/api/azure-cosmos\n\nhttps://docs.microsoft.com/en-us/azure/cosmos-db/use-notebook-features-and-commands"
    },
    {
      "cell_type": "markdown",
      "metadata": {},
      "source": "## Import External Modules\n\n### json\n* Python JSON Encoder/Decoder.\n  * We'll be using the `json.dumps` function with `indent` to \"pretty-print\" JSON output.\n### pandas\n* Python Data Analysis Library (\"panel data analysis\")\n  * This library provides several ways to visualize query results in a Python dataframe"
    },
    {
      "cell_type": "code",
      "execution_count": null,
      "metadata": {
        "collapsed": false,
        "execution": {
          "iopub.execute_input": "2020-06-12T18:37:24.680Z",
          "iopub.status.busy": "2020-06-12T18:37:24.675Z",
          "iopub.status.idle": "2020-06-12T18:37:24.805Z",
          "shell.execute_reply": "2020-06-12T18:37:24.780Z"
        },
        "inputHidden": false,
        "outputHidden": false,
        "trusted": true
      },
      "outputs": [],
      "source": "import json\nimport pandas as pd"
    },
    {
      "cell_type": "markdown",
      "metadata": {},
      "source": "## Initialize Database and Container References\nTo do anything, we'll need a **database** reference, and a reference to **container** within that database.\n\nThis code uses the `cosmos_client` that's built in to all Cosmic Notebooks as part of the Python SDK for the Core API. We call `get_database_client` to obtain a reference to the **Families** and **mydb** database, and then call `get_container_client` on those databases to obtain a reference to the **Families** and **mystore** containers (respectively) in those databases."
    },
    {
      "cell_type": "code",
      "execution_count": null,
      "metadata": {
        "collapsed": false,
        "execution": {
          "iopub.execute_input": "2020-06-12T18:37:26.179Z",
          "iopub.status.busy": "2020-06-12T18:37:26.118Z",
          "iopub.status.idle": "2020-06-12T18:37:26.195Z",
          "shell.execute_reply": "2020-06-12T18:37:26.203Z"
        },
        "inputHidden": false,
        "outputHidden": false,
        "trusted": true
      },
      "outputs": [],
      "source": "# Families database, Families container\nfamiliesDb = cosmos_client.get_database_client('Families')\nfamilies = familiesDb.get_container_client('Families')\n\n# mydb database, mystore container\nmydb = cosmos_client.get_database_client('mydb')\nmystore = mydb.get_container_client('mystore')"
    },
    {
      "cell_type": "markdown",
      "metadata": {},
      "source": "## Define Query Function\nWe'll call this function to execute a SQL query against a container and return the results in a `list`. We'll also permit cross-partition queries by including the `enable_cross_partition_query=True` option."
    },
    {
      "cell_type": "code",
      "execution_count": null,
      "metadata": {
        "collapsed": false,
        "execution": {
          "iopub.execute_input": "2020-06-12T18:37:31.343Z",
          "iopub.status.busy": "2020-06-12T18:37:31.340Z",
          "iopub.status.idle": "2020-06-12T18:37:31.352Z",
          "shell.execute_reply": "2020-06-12T18:37:31.359Z"
        },
        "inputHidden": false,
        "outputHidden": false,
        "trusted": true
      },
      "outputs": [],
      "source": "# Execute a query and display the results as JSON\ndef query(container, sql, partitionKey = None, desc = None, showStats = True):\n    try:\n        items = container.query_items(\n            query = sql,\n            enable_cross_partition_query = True,\n            partition_key = partitionKey)\n        result = list(items)\n        first10 = result[0:10]\n        if desc != None:\n            print (desc)\n        if showStats:\n            count = len(result)\n            charge = container.client_connection.last_response_headers['x-ms-request-charge']\n            print (count, 'document(s) selected (charge=', charge, 'RUs)\\n')\n        print (json.dumps(first10, indent=4))\n    except Exception as e:\n        print(e)"
    }
  ],
  "metadata": {
    "kernelspec": {
      "displayName": "Python 3",
      "language": "python",
      "name": "python3"
    },
    "language_info": {
      "file_extension": "ipynb",
      "mimetype": "application/json",
      "name": "python",
      "version": "3.7"
    },
    "nteract": {
      "version": "dataExplorer 1.0"
    }
  },
  "nbformat": 4,
  "nbformat_minor": 2
}