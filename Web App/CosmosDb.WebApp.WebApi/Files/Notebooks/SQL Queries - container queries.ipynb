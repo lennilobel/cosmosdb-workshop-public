{
  "cells": [
    {
      "cell_type": "markdown",
      "metadata": {},
      "source": "# Container Queries"
    },
    {
      "cell_type": "code",
      "execution_count": 3,
      "metadata": {
        "collapsed": false,
        "execution": {
          "iopub.execute_input": "2020-06-13T14:29:20.788Z",
          "iopub.status.busy": "2020-06-13T14:29:20.741Z",
          "iopub.status.idle": "2020-06-13T14:29:23.531Z",
          "shell.execute_reply": "2020-06-13T14:29:23.571Z"
        },
        "inputHidden": false,
        "outputHidden": false,
        "trusted": true
      },
      "outputs": [],
      "source": "# Setup\n%run \"notebooks/SQL Queries - setup.ipynb\""
    },
    {
      "cell_type": "markdown",
      "metadata": {},
      "source": "## FROM Clause"
    },
    {
      "cell_type": "markdown",
      "metadata": {},
      "source": "**Can just use 'c' for container**"
    },
    {
      "cell_type": "code",
      "execution_count": 4,
      "metadata": {
        "collapsed": false,
        "execution": {
          "iopub.execute_input": "2020-06-13T14:29:23.713Z",
          "iopub.status.busy": "2020-06-13T14:29:23.594Z",
          "iopub.status.idle": "2020-06-13T14:29:24.004Z",
          "shell.execute_reply": "2020-06-13T14:29:23.984Z"
        },
        "inputHidden": false,
        "outputHidden": false,
        "trusted": true
      },
      "outputs": [
        {
          "name": "stdout",
          "output_type": "stream",
          "text": "3 document(s) selected (charge= 2.36 RUs)\n\n[\n    {\n        \"id\": \"AndersenFamily\",\n        \"lastName\": \"Andersen\",\n        \"parents\": [\n            {\n                \"firstName\": \"Thomas\",\n                \"relationship\": \"father\"\n            },\n            {\n                \"firstName\": \"Mary Kay\",\n                \"relationship\": \"mother\"\n            }\n        ],\n        \"children\": [\n            {\n                \"firstName\": \"Henriette Thaulow\",\n                \"gender\": \"female\",\n                \"grade\": 5,\n                \"pets\": [\n                    {\n                        \"givenName\": \"Fluffy\",\n                        \"type\": \"Rabbit\"\n                    }\n                ]\n            }\n        ],\n        \"location\": {\n            \"state\": \"WA\",\n            \"county\": \"King\",\n            \"city\": \"Seattle\"\n        },\n        \"geo\": {\n            \"type\": \"Point\",\n            \"coordinates\": [\n                -122.3295,\n                47.60357\n            ]\n        },\n        \"isRegistered\": true,\n        \"_rid\": \"PLl1AMZEVJQBAAAAAAAAAA==\",\n        \"_self\": \"dbs/PLl1AA==/colls/PLl1AMZEVJQ=/docs/PLl1AMZEVJQBAAAAAAAAAA==/\",\n        \"_etag\": \"\\\"0500cf08-0000-0100-0000-5ee4dcf70000\\\"\",\n        \"_attachments\": \"attachments/\",\n        \"_ts\": 1592057079\n    },\n    {\n        \"id\": \"SmithFamily\",\n        \"parents\": [\n            {\n                \"familyName\": \"Smith\",\n                \"givenName\": \"James\"\n            },\n            {\n                \"familyName\": \"Curtis\",\n                \"givenName\": \"Helen\"\n            }\n        ],\n        \"children\": [\n            {\n                \"givenName\": \"Michelle\",\n                \"gender\": \"female\",\n                \"grade\": 1\n            },\n            {\n                \"givenName\": \"John\",\n                \"gender\": \"male\",\n                \"grade\": 7,\n                \"pets\": [\n                    {\n                        \"givenName\": \"Tweetie\",\n                        \"type\": \"Bird\"\n                    }\n                ]\n            }\n        ],\n        \"location\": {\n            \"state\": \"NY\",\n            \"county\": \"Queens\",\n            \"city\": \"Forest Hills\"\n        },\n        \"geo\": {\n            \"type\": \"Point\",\n            \"coordinates\": [\n                -73.84791,\n                40.72266\n            ]\n        },\n        \"isRegistered\": true,\n        \"_rid\": \"PLl1AMZEVJQCAAAAAAAAAA==\",\n        \"_self\": \"dbs/PLl1AA==/colls/PLl1AMZEVJQ=/docs/PLl1AMZEVJQCAAAAAAAAAA==/\",\n        \"_etag\": \"\\\"0500d008-0000-0100-0000-5ee4dcf70000\\\"\",\n        \"_attachments\": \"attachments/\",\n        \"_ts\": 1592057079\n    },\n    {\n        \"id\": \"WakefieldFamily\",\n        \"parents\": [\n            {\n                \"familyName\": \"Wakefield\",\n                \"givenName\": \"Robin\"\n            },\n            {\n                \"familyName\": \"Miller\",\n                \"givenName\": \"Ben\"\n            }\n        ],\n        \"children\": [\n            {\n                \"familyName\": \"Merriam\",\n                \"givenName\": \"Jesse\",\n                \"gender\": \"female\",\n                \"grade\": 6,\n                \"pets\": [\n                    {\n                        \"givenName\": \"Charlie Brown\",\n                        \"type\": \"Dog\"\n                    },\n                    {\n                        \"givenName\": \"Tiger\",\n                        \"type\": \"Cat\"\n                    },\n                    {\n                        \"givenName\": \"Princess\",\n                        \"type\": \"Cat\"\n                    }\n                ]\n            },\n            {\n                \"familyName\": \"Miller\",\n                \"givenName\": \"Lisa\",\n                \"gender\": \"female\",\n                \"grade\": 3,\n                \"pets\": [\n                    {\n                        \"givenName\": \"Jake\",\n                        \"type\": \"Snake\"\n                    }\n                ]\n            }\n        ],\n        \"location\": {\n            \"state\": \"NY\",\n            \"county\": \"Manhattan\",\n            \"city\": \"NY\"\n        },\n        \"geo\": {\n            \"type\": \"Point\",\n            \"coordinates\": [\n                -73.992,\n                40.731\n            ]\n        },\n        \"isRegistered\": false,\n        \"_rid\": \"PLl1AMZEVJQDAAAAAAAAAA==\",\n        \"_self\": \"dbs/PLl1AA==/colls/PLl1AMZEVJQ=/docs/PLl1AMZEVJQDAAAAAAAAAA==/\",\n        \"_etag\": \"\\\"0500d108-0000-0100-0000-5ee4dcf70000\\\"\",\n        \"_attachments\": \"attachments/\",\n        \"_ts\": 1592057079\n    }\n]\n"
        }
      ],
      "source": "query(families, \"\"\"\n\nSELECT * FROM c\n\n\"\"\")"
    },
    {
      "cell_type": "markdown",
      "metadata": {},
      "source": "**Get city and state**"
    },
    {
      "cell_type": "code",
      "execution_count": 5,
      "metadata": {
        "collapsed": false,
        "execution": {
          "iopub.execute_input": "2020-06-13T14:29:24.042Z",
          "iopub.status.busy": "2020-06-13T14:29:24.033Z",
          "iopub.status.idle": "2020-06-13T14:29:24.883Z",
          "shell.execute_reply": "2020-06-13T14:29:24.828Z"
        },
        "inputHidden": false,
        "outputHidden": false,
        "trusted": true
      },
      "outputs": [
        {
          "name": "stdout",
          "output_type": "stream",
          "text": "3 document(s) selected (charge= 2.33 RUs)\n\n[\n    {\n        \"city\": \"Seattle\",\n        \"state\": \"WA\"\n    },\n    {\n        \"city\": \"Forest Hills\",\n        \"state\": \"NY\"\n    },\n    {\n        \"city\": \"NY\",\n        \"state\": \"NY\"\n    }\n]\n"
        }
      ],
      "source": "query(families, \"\"\"\n\nSELECT\n    c.location.city,\n    c.location.state\nFROM\n    c\n\n\"\"\")"
    },
    {
      "cell_type": "markdown",
      "metadata": {},
      "source": "**Can use container name**"
    },
    {
      "cell_type": "code",
      "execution_count": 6,
      "metadata": {
        "collapsed": false,
        "execution": {
          "iopub.execute_input": "2020-06-13T14:29:24.922Z",
          "iopub.status.busy": "2020-06-13T14:29:24.910Z",
          "iopub.status.idle": "2020-06-13T14:29:25.189Z",
          "shell.execute_reply": "2020-06-13T14:29:25.293Z"
        },
        "inputHidden": false,
        "outputHidden": false,
        "trusted": true
      },
      "outputs": [
        {
          "name": "stdout",
          "output_type": "stream",
          "text": "3 document(s) selected (charge= 2.33 RUs)\n\n[\n    {\n        \"city\": \"Seattle\",\n        \"state\": \"WA\"\n    },\n    {\n        \"city\": \"Forest Hills\",\n        \"state\": \"NY\"\n    },\n    {\n        \"city\": \"NY\",\n        \"state\": \"NY\"\n    }\n]\n"
        }
      ],
      "source": "query(families, \"\"\"\n\nSELECT\n    Families.location.city,\n    Families.location.state\nFROM\n    Families\n\n\"\"\")"
    },
    {
      "cell_type": "markdown",
      "metadata": {},
      "source": "**Can \"double\"-alias**"
    },
    {
      "cell_type": "code",
      "execution_count": 7,
      "metadata": {
        "collapsed": false,
        "execution": {
          "iopub.execute_input": "2020-06-13T14:29:25.534Z",
          "iopub.status.busy": "2020-06-13T14:29:25.465Z",
          "iopub.status.idle": "2020-06-13T14:29:26.765Z",
          "shell.execute_reply": "2020-06-13T14:29:26.586Z"
        },
        "inputHidden": false,
        "outputHidden": false,
        "trusted": true
      },
      "outputs": [
        {
          "name": "stdout",
          "output_type": "stream",
          "text": "3 document(s) selected (charge= 2.33 RUs)\n\n[\n    {\n        \"city\": \"Seattle\",\n        \"state\": \"WA\"\n    },\n    {\n        \"city\": \"Forest Hills\",\n        \"state\": \"NY\"\n    },\n    {\n        \"city\": \"NY\",\n        \"state\": \"NY\"\n    }\n]\n"
        }
      ],
      "source": "query(families, \"\"\"\n\nSELECT\n    f.location.city,\n    f.location.state\nFROM\n    Families AS f\n\n\"\"\")"
    },
    {
      "cell_type": "markdown",
      "metadata": {},
      "source": "**Reduce source to subset of children (per family)**"
    },
    {
      "cell_type": "code",
      "execution_count": 8,
      "metadata": {
        "collapsed": false,
        "execution": {
          "iopub.execute_input": "2020-06-13T14:29:27.075Z",
          "iopub.status.busy": "2020-06-13T14:29:27.001Z",
          "iopub.status.idle": "2020-06-13T14:29:27.216Z",
          "shell.execute_reply": "2020-06-13T14:29:27.307Z"
        },
        "inputHidden": false,
        "outputHidden": false,
        "trusted": true
      },
      "outputs": [
        {
          "name": "stdout",
          "output_type": "stream",
          "text": "3 document(s) selected (charge= 3.11 RUs)\n\n[\n    [\n        {\n            \"firstName\": \"Henriette Thaulow\",\n            \"gender\": \"female\",\n            \"grade\": 5,\n            \"pets\": [\n                {\n                    \"givenName\": \"Fluffy\",\n                    \"type\": \"Rabbit\"\n                }\n            ]\n        }\n    ],\n    [\n        {\n            \"givenName\": \"Michelle\",\n            \"gender\": \"female\",\n            \"grade\": 1\n        },\n        {\n            \"givenName\": \"John\",\n            \"gender\": \"male\",\n            \"grade\": 7,\n            \"pets\": [\n                {\n                    \"givenName\": \"Tweetie\",\n                    \"type\": \"Bird\"\n                }\n            ]\n        }\n    ],\n    [\n        {\n            \"familyName\": \"Merriam\",\n            \"givenName\": \"Jesse\",\n            \"gender\": \"female\",\n            \"grade\": 6,\n            \"pets\": [\n                {\n                    \"givenName\": \"Charlie Brown\",\n                    \"type\": \"Dog\"\n                },\n                {\n                    \"givenName\": \"Tiger\",\n                    \"type\": \"Cat\"\n                },\n                {\n                    \"givenName\": \"Princess\",\n                    \"type\": \"Cat\"\n                }\n            ]\n        },\n        {\n            \"familyName\": \"Miller\",\n            \"givenName\": \"Lisa\",\n            \"gender\": \"female\",\n            \"grade\": 3,\n            \"pets\": [\n                {\n                    \"givenName\": \"Jake\",\n                    \"type\": \"Snake\"\n                }\n            ]\n        }\n    ]\n]\n"
        }
      ],
      "source": "query(families, \"\"\"\n\nSELECT *\nFROM c.children\n\n\"\"\")"
    },
    {
      "cell_type": "markdown",
      "metadata": {},
      "source": "**With reduced source, can't query outside the subset**"
    },
    {
      "cell_type": "code",
      "execution_count": 9,
      "metadata": {
        "collapsed": false,
        "execution": {
          "iopub.execute_input": "2020-06-13T14:29:27.430Z",
          "iopub.status.busy": "2020-06-13T14:29:27.419Z",
          "iopub.status.idle": "2020-06-13T14:29:27.596Z",
          "shell.execute_reply": "2020-06-13T14:29:27.567Z"
        },
        "inputHidden": false,
        "outputHidden": false,
        "trusted": true
      },
      "outputs": [
        {
          "name": "stdout",
          "output_type": "stream",
          "text": "(BadRequest) Message: {\"errors\":[{\"severity\":\"Error\",\"location\":{\"start\":33,\"end\":34},\"code\":\"SC2001\",\"message\":\"Identifier 'c' could not be resolved.\"}]}\r\nActivityId: a66502d9-a82c-4b45-a146-6c8c4cd903e6, Microsoft.Azure.Documents.Common/2.11.0\n"
        }
      ],
      "source": "query(families, \"\"\"\n\nSELECT *\nFROM c.children\nWHERE c.location.state = 'NY'\n\n\"\"\")"
    },
    {
      "cell_type": "markdown",
      "metadata": {},
      "source": "**All queryable properties need to be in scope**"
    },
    {
      "cell_type": "code",
      "execution_count": 10,
      "metadata": {
        "collapsed": false,
        "execution": {
          "iopub.execute_input": "2020-06-13T14:29:27.638Z",
          "iopub.status.busy": "2020-06-13T14:29:27.627Z",
          "iopub.status.idle": "2020-06-13T14:29:27.677Z",
          "shell.execute_reply": "2020-06-13T14:29:27.695Z"
        },
        "inputHidden": false,
        "outputHidden": false,
        "trusted": true
      },
      "outputs": [
        {
          "name": "stdout",
          "output_type": "stream",
          "text": "2 document(s) selected (charge= 2.93 RUs)\n\n[\n    {\n        \"children\": [\n            {\n                \"givenName\": \"Michelle\",\n                \"gender\": \"female\",\n                \"grade\": 1\n            },\n            {\n                \"givenName\": \"John\",\n                \"gender\": \"male\",\n                \"grade\": 7,\n                \"pets\": [\n                    {\n                        \"givenName\": \"Tweetie\",\n                        \"type\": \"Bird\"\n                    }\n                ]\n            }\n        ]\n    },\n    {\n        \"children\": [\n            {\n                \"familyName\": \"Merriam\",\n                \"givenName\": \"Jesse\",\n                \"gender\": \"female\",\n                \"grade\": 6,\n                \"pets\": [\n                    {\n                        \"givenName\": \"Charlie Brown\",\n                        \"type\": \"Dog\"\n                    },\n                    {\n                        \"givenName\": \"Tiger\",\n                        \"type\": \"Cat\"\n                    },\n                    {\n                        \"givenName\": \"Princess\",\n                        \"type\": \"Cat\"\n                    }\n                ]\n            },\n            {\n                \"familyName\": \"Miller\",\n                \"givenName\": \"Lisa\",\n                \"gender\": \"female\",\n                \"grade\": 3,\n                \"pets\": [\n                    {\n                        \"givenName\": \"Jake\",\n                        \"type\": \"Snake\"\n                    }\n                ]\n            }\n        ]\n    }\n]\n"
        }
      ],
      "source": "query(families, \"\"\"\n\nSELECT c.children\nFROM c\nWHERE c.location.state = 'NY'\n\n\"\"\")"
    },
    {
      "cell_type": "markdown",
      "metadata": {},
      "source": "## FROM with IN\n\nUse IN to break each item into multiple documents on a child array."
    },
    {
      "cell_type": "markdown",
      "metadata": {},
      "source": "**Break each family into multiple documents on children array element**"
    },
    {
      "cell_type": "code",
      "execution_count": 11,
      "metadata": {
        "collapsed": false,
        "execution": {
          "iopub.execute_input": "2020-06-13T14:29:27.745Z",
          "iopub.status.busy": "2020-06-13T14:29:27.722Z",
          "iopub.status.idle": "2020-06-13T14:29:28.750Z",
          "shell.execute_reply": "2020-06-13T14:29:28.520Z"
        },
        "inputHidden": false,
        "outputHidden": false,
        "trusted": true
      },
      "outputs": [
        {
          "name": "stdout",
          "output_type": "stream",
          "text": "5 document(s) selected (charge= 3.11 RUs)\n\n[\n    {\n        \"firstName\": \"Henriette Thaulow\",\n        \"gender\": \"female\",\n        \"grade\": 5,\n        \"pets\": [\n            {\n                \"givenName\": \"Fluffy\",\n                \"type\": \"Rabbit\"\n            }\n        ]\n    },\n    {\n        \"givenName\": \"Michelle\",\n        \"gender\": \"female\",\n        \"grade\": 1\n    },\n    {\n        \"givenName\": \"John\",\n        \"gender\": \"male\",\n        \"grade\": 7,\n        \"pets\": [\n            {\n                \"givenName\": \"Tweetie\",\n                \"type\": \"Bird\"\n            }\n        ]\n    },\n    {\n        \"familyName\": \"Merriam\",\n        \"givenName\": \"Jesse\",\n        \"gender\": \"female\",\n        \"grade\": 6,\n        \"pets\": [\n            {\n                \"givenName\": \"Charlie Brown\",\n                \"type\": \"Dog\"\n            },\n            {\n                \"givenName\": \"Tiger\",\n                \"type\": \"Cat\"\n            },\n            {\n                \"givenName\": \"Princess\",\n                \"type\": \"Cat\"\n            }\n        ]\n    },\n    {\n        \"familyName\": \"Miller\",\n        \"givenName\": \"Lisa\",\n        \"gender\": \"female\",\n        \"grade\": 3,\n        \"pets\": [\n            {\n                \"givenName\": \"Jake\",\n                \"type\": \"Snake\"\n            }\n        ]\n    }\n]\n"
        }
      ],
      "source": "query(families, \"\"\"\n\nSELECT *\nFROM ch IN c.children\n\n\"\"\")"
    },
    {
      "cell_type": "markdown",
      "metadata": {},
      "source": "**Produce a consistent shape**"
    },
    {
      "cell_type": "code",
      "execution_count": 12,
      "metadata": {
        "collapsed": false,
        "execution": {
          "iopub.execute_input": "2020-06-13T14:29:28.799Z",
          "iopub.status.busy": "2020-06-13T14:29:28.786Z",
          "iopub.status.idle": "2020-06-13T14:29:28.833Z",
          "shell.execute_reply": "2020-06-13T14:29:28.711Z"
        },
        "inputHidden": false,
        "outputHidden": false,
        "trusted": true
      },
      "outputs": [
        {
          "name": "stdout",
          "output_type": "stream",
          "text": "5 document(s) selected (charge= 3.17 RUs)\n\n[\n    {\n        \"firstName\": \"Henriette Thaulow\",\n        \"grade\": 5,\n        \"numberOfPets\": 1,\n        \"pets\": [\n            {\n                \"givenName\": \"Fluffy\",\n                \"type\": \"Rabbit\"\n            }\n        ]\n    },\n    {\n        \"givenName\": \"Michelle\",\n        \"grade\": 1\n    },\n    {\n        \"givenName\": \"John\",\n        \"grade\": 7,\n        \"numberOfPets\": 1,\n        \"pets\": [\n            {\n                \"givenName\": \"Tweetie\",\n                \"type\": \"Bird\"\n            }\n        ]\n    },\n    {\n        \"givenName\": \"Jesse\",\n        \"grade\": 6,\n        \"numberOfPets\": 3,\n        \"pets\": [\n            {\n                \"givenName\": \"Charlie Brown\",\n                \"type\": \"Dog\"\n            },\n            {\n                \"givenName\": \"Tiger\",\n                \"type\": \"Cat\"\n            },\n            {\n                \"givenName\": \"Princess\",\n                \"type\": \"Cat\"\n            }\n        ]\n    },\n    {\n        \"givenName\": \"Lisa\",\n        \"grade\": 3,\n        \"numberOfPets\": 1,\n        \"pets\": [\n            {\n                \"givenName\": \"Jake\",\n                \"type\": \"Snake\"\n            }\n        ]\n    }\n]\n"
        }
      ],
      "source": "query(families, \"\"\"\n\nSELECT\n    ch.firstName,\n    ch.givenName,\n    ch.grade,\n    ARRAY_LENGTH(ch.pets) AS numberOfPets,\n    ch.pets\nFROM\n    ch IN c.children\n\n\"\"\")"
    },
    {
      "cell_type": "markdown",
      "metadata": {},
      "source": "**Resolve schema differences**"
    },
    {
      "cell_type": "code",
      "execution_count": 13,
      "metadata": {
        "collapsed": false,
        "execution": {
          "iopub.execute_input": "2020-06-13T14:29:28.891Z",
          "iopub.status.busy": "2020-06-13T14:29:28.864Z",
          "iopub.status.idle": "2020-06-13T14:29:28.937Z",
          "shell.execute_reply": "2020-06-13T14:29:28.873Z"
        },
        "inputHidden": false,
        "outputHidden": false,
        "trusted": true
      },
      "outputs": [
        {
          "name": "stdout",
          "output_type": "stream",
          "text": "5 document(s) selected (charge= 3.16 RUs)\n\n[\n    {\n        \"childName\": \"Henriette Thaulow\",\n        \"grade\": 5,\n        \"numberOfPets\": 1,\n        \"pets\": [\n            {\n                \"givenName\": \"Fluffy\",\n                \"type\": \"Rabbit\"\n            }\n        ]\n    },\n    {\n        \"childName\": \"Michelle\",\n        \"grade\": 1,\n        \"numberOfPets\": 0,\n        \"pets\": []\n    },\n    {\n        \"childName\": \"John\",\n        \"grade\": 7,\n        \"numberOfPets\": 1,\n        \"pets\": [\n            {\n                \"givenName\": \"Tweetie\",\n                \"type\": \"Bird\"\n            }\n        ]\n    },\n    {\n        \"childName\": \"Jesse\",\n        \"grade\": 6,\n        \"numberOfPets\": 3,\n        \"pets\": [\n            {\n                \"givenName\": \"Charlie Brown\",\n                \"type\": \"Dog\"\n            },\n            {\n                \"givenName\": \"Tiger\",\n                \"type\": \"Cat\"\n            },\n            {\n                \"givenName\": \"Princess\",\n                \"type\": \"Cat\"\n            }\n        ]\n    },\n    {\n        \"childName\": \"Lisa\",\n        \"grade\": 3,\n        \"numberOfPets\": 1,\n        \"pets\": [\n            {\n                \"givenName\": \"Jake\",\n                \"type\": \"Snake\"\n            }\n        ]\n    }\n]\n"
        }
      ],
      "source": "query(families, \"\"\"\n\nSELECT\n    ch.givenName ?? ch.firstName AS childName,\n    ch.grade,\n    ARRAY_LENGTH(ch.pets) ?? 0 AS numberOfPets,\n    ch.pets ?? [] AS pets\nFROM\n    ch IN c.children\n\n\"\"\")"
    },
    {
      "cell_type": "markdown",
      "metadata": {},
      "source": "## The **%%sql** magic\n\nUse the built-in **%%sql** magic to run SQL queries in a notebook without writing any Python code.\n\nOutput is rendered in tabular form."
    },
    {
      "cell_type": "markdown",
      "metadata": {
        "nteract": {
          "transient": {
            "deleting": false
          }
        }
      },
      "source": "**Set the default database and container names.**"
    },
    {
      "cell_type": "code",
      "execution_count": 14,
      "metadata": {
        "collapsed": false,
        "execution": {
          "iopub.status.busy": "2020-06-13T14:29:22.735Z",
          "iopub.status.idle": "2020-06-13T14:29:22.981Z",
          "shell.execute_reply": "2020-06-13T14:29:23.103Z"
        },
        "jupyter": {
          "outputs_hidden": false,
          "source_hidden": false
        },
        "nteract": {
          "transient": {
            "deleting": false
          }
        },
        "trusted": true
      },
      "outputs": [],
      "source": "%database Families"
    },
    {
      "cell_type": "code",
      "execution_count": 15,
      "metadata": {
        "collapsed": false,
        "execution": {
          "iopub.status.busy": "2020-06-13T14:29:23.142Z",
          "iopub.status.idle": "2020-06-13T14:29:23.175Z",
          "shell.execute_reply": "2020-06-13T14:29:23.195Z"
        },
        "jupyter": {
          "outputs_hidden": false,
          "source_hidden": false
        },
        "nteract": {
          "transient": {
            "deleting": false
          }
        },
        "trusted": true
      },
      "outputs": [],
      "source": "%container Families"
    },
    {
      "cell_type": "markdown",
      "metadata": {},
      "source": "**JSON results are converted from object array to tabular format for display.**"
    },
    {
      "cell_type": "code",
      "execution_count": 14,
      "metadata": {
        "collapsed": false,
        "execution": {
          "iopub.execute_input": "2020-06-13T14:29:29.234Z",
          "iopub.status.busy": "2020-06-13T14:29:29.017Z",
          "iopub.status.idle": "2020-06-13T14:29:29.823Z",
          "shell.execute_reply": "2020-06-13T14:29:29.921Z"
        },
        "inputHidden": false,
        "outputHidden": false,
        "trusted": true
      },
      "outputs": [
        {
          "data": {
            "text/html": "\r\n<div>\r\n  <style type='text/css' scoped>\r\n.collapsible {\r\n  background-color: #fff;\r\n  color: #0078D4;\r\n  cursor: pointer;\r\n  padding: 10px;\r\n  border: none;\r\n  text-align: left;\r\n  outline: none;\r\n  font-size: 15px;\r\n  border-radius: 5px;\r\n  margin: 5px\r\n}\r\n\r\n.active, .collapsible:hover {\r\n  color: #4db2ff;\r\n}\r\n\r\n.content {\r\n  margin: 2px;\r\n  padding: 0 18px;\r\n  overflow: hidden;\r\n  background-color: #fff;\r\n  height: 0px;\r\n  -moz-transition: height .2s ease-out;\r\n  -ms-transition: height .2s ease-out;\r\n  -o-transition: height .2s ease-out;\r\n  -webkit-transition: height .2s ease-out;\r\n  transition: height .2s ease-out;\r\n}\r\n</style>\r\n\r\n<button type='button' class='collapsible'>▶ View Query Metrics</button>\r\n  \r\n<div class='content'>\r\n  <div class='measuringWrapper'>\r\n    <span style=\"color:#0078D4\"><b>totalExecutionTimeInMs    </b>:    0.38<br/><b>queryCompileTimeInMs    </b>:    0.12<br/><b>queryLogicalPlanBuildTimeInMs    </b>:    0.03<br/><b>queryPhysicalPlanBuildTimeInMs    </b>:    0.02<br/><b>queryOptimizationTimeInMs    </b>:    0<br/><b>VMExecutionTimeInMs    </b>:    0.06<br/><b>indexLookupTimeInMs    </b>:    0<br/><b>documentLoadTimeInMs    </b>:    0.04<br/><b>systemFunctionExecuteTimeInMs    </b>:    0<br/><b>userFunctionExecuteTimeInMs    </b>:    0<br/><b>retrievedDocumentCount    </b>:    3<br/><b>retrievedDocumentSize    </b>:    2058<br/><b>outputDocumentCount    </b>:    3<br/><b>outputDocumentSize    </b>:    818<br/><b>writeOutputTimeInMs    </b>:    0<br/><b>averageIndexUtilizationRation    </b>:    1<br/></span>\r\n  </div>\r\n</div>\r\n\r\n<script>\r\nvar coll = document.getElementsByClassName('collapsible');\r\nvar i;\r\n\r\nfor (i = 0; i < coll.length; i++) {\r\n  \r\n  coll[i].addEventListener('click', function() {\r\n    this.classList.toggle('active');\r\n    var content = this.nextElementSibling;\r\n    \r\n    if (content.clientHeight != 0) {\r\n      this.textContent = '▶ View Query Metrics';\r\n      content.style.height = '0px';\r\n    }\r\n    else {\r\n      this.textContent = '▼ Hide Query Metrics';\r\n      content.style.height = content.children[0].clientHeight + 'px';\r\n    }\r\n  });\r\n}\r\n</script>\r\n</div>"
          },
          "metadata": {},
          "output_type": "display_data"
        },
        {
          "data": {
            "text/html": "<div>\n<style scoped>\n    .dataframe tbody tr th:only-of-type {\n        vertical-align: middle;\n    }\n\n    .dataframe tbody tr th {\n        vertical-align: top;\n    }\n\n    .dataframe thead th {\n        text-align: right;\n    }\n</style>\n<table border=\"1\" class=\"dataframe\">\n  <thead>\n    <tr style=\"text-align: right;\">\n      <th></th>\n      <th>id</th>\n      <th>city</th>\n      <th>state</th>\n      <th>children</th>\n    </tr>\n  </thead>\n  <tbody>\n    <tr>\n      <th>0</th>\n      <td>AndersenFamily</td>\n      <td>Seattle</td>\n      <td>WA</td>\n      <td>[{'firstName': 'Henriette Thaulow', 'gender': ...</td>\n    </tr>\n    <tr>\n      <th>1</th>\n      <td>SmithFamily</td>\n      <td>Forest Hills</td>\n      <td>NY</td>\n      <td>[{'givenName': 'Michelle', 'gender': 'female',...</td>\n    </tr>\n    <tr>\n      <th>2</th>\n      <td>WakefieldFamily</td>\n      <td>NY</td>\n      <td>NY</td>\n      <td>[{'familyName': 'Merriam', 'givenName': 'Jesse...</td>\n    </tr>\n  </tbody>\n</table>\n</div>",
            "text/plain": "                id          city state  \\\n0   AndersenFamily       Seattle    WA   \n1      SmithFamily  Forest Hills    NY   \n2  WakefieldFamily            NY    NY   \n\n                                            children  \n0  [{'firstName': 'Henriette Thaulow', 'gender': ...  \n1  [{'givenName': 'Michelle', 'gender': 'female',...  \n2  [{'familyName': 'Merriam', 'givenName': 'Jesse...  "
          },
          "metadata": {},
          "output_type": "display_data"
        }
      ],
      "source": "%%sql\n\nSELECT\n    c.id,\n    c.location.city,\n    c.location.state,\n    c.children\nFROM\n    c"
    },
    {
      "cell_type": "markdown",
      "metadata": {},
      "source": "## FROM with JOIN\n\nUse JOIN to perform an \"intra-document\" join between a parent object and child array.\n\nThis works similar to IN, but also keeps parent properties in scope similar to an INNER JOIN in regular SQL."
    },
    {
      "cell_type": "markdown",
      "metadata": {},
      "source": "**JOIN duplicates parent-level properties for each child**"
    },
    {
      "cell_type": "code",
      "execution_count": 15,
      "metadata": {
        "collapsed": false,
        "execution": {
          "iopub.execute_input": "2020-06-13T14:29:29.953Z",
          "iopub.status.busy": "2020-06-13T14:29:29.934Z",
          "iopub.status.idle": "2020-06-13T14:29:30.027Z",
          "shell.execute_reply": "2020-06-13T14:29:30.050Z"
        },
        "inputHidden": false,
        "outputHidden": false,
        "trusted": true
      },
      "outputs": [
        {
          "data": {
            "text/html": "\r\n<div>\r\n  <style type='text/css' scoped>\r\n.collapsible {\r\n  background-color: #fff;\r\n  color: #0078D4;\r\n  cursor: pointer;\r\n  padding: 10px;\r\n  border: none;\r\n  text-align: left;\r\n  outline: none;\r\n  font-size: 15px;\r\n  border-radius: 5px;\r\n  margin: 5px\r\n}\r\n\r\n.active, .collapsible:hover {\r\n  color: #4db2ff;\r\n}\r\n\r\n.content {\r\n  margin: 2px;\r\n  padding: 0 18px;\r\n  overflow: hidden;\r\n  background-color: #fff;\r\n  height: 0px;\r\n  -moz-transition: height .2s ease-out;\r\n  -ms-transition: height .2s ease-out;\r\n  -o-transition: height .2s ease-out;\r\n  -webkit-transition: height .2s ease-out;\r\n  transition: height .2s ease-out;\r\n}\r\n</style>\r\n\r\n<button type='button' class='collapsible'>▶ View Query Metrics</button>\r\n  \r\n<div class='content'>\r\n  <div class='measuringWrapper'>\r\n    <span style=\"color:#0078D4\"><b>totalExecutionTimeInMs    </b>:    0.85<br/><b>queryCompileTimeInMs    </b>:    0.2<br/><b>queryLogicalPlanBuildTimeInMs    </b>:    0.05<br/><b>queryPhysicalPlanBuildTimeInMs    </b>:    0.08<br/><b>queryOptimizationTimeInMs    </b>:    0<br/><b>VMExecutionTimeInMs    </b>:    0.27<br/><b>indexLookupTimeInMs    </b>:    0.18<br/><b>documentLoadTimeInMs    </b>:    0.04<br/><b>systemFunctionExecuteTimeInMs    </b>:    0<br/><b>userFunctionExecuteTimeInMs    </b>:    0<br/><b>retrievedDocumentCount    </b>:    3<br/><b>retrievedDocumentSize    </b>:    2058<br/><b>outputDocumentCount    </b>:    5<br/><b>outputDocumentSize    </b>:    760<br/><b>writeOutputTimeInMs    </b>:    0.01<br/><b>averageIndexUtilizationRation    </b>:    1<br/></span>\r\n  </div>\r\n</div>\r\n\r\n<script>\r\nvar coll = document.getElementsByClassName('collapsible');\r\nvar i;\r\n\r\nfor (i = 0; i < coll.length; i++) {\r\n  \r\n  coll[i].addEventListener('click', function() {\r\n    this.classList.toggle('active');\r\n    var content = this.nextElementSibling;\r\n    \r\n    if (content.clientHeight != 0) {\r\n      this.textContent = '▶ View Query Metrics';\r\n      content.style.height = '0px';\r\n    }\r\n    else {\r\n      this.textContent = '▼ Hide Query Metrics';\r\n      content.style.height = content.children[0].clientHeight + 'px';\r\n    }\r\n  });\r\n}\r\n</script>\r\n</div>"
          },
          "metadata": {},
          "output_type": "display_data"
        },
        {
          "data": {
            "text/html": "<div>\n<style scoped>\n    .dataframe tbody tr th:only-of-type {\n        vertical-align: middle;\n    }\n\n    .dataframe tbody tr th {\n        vertical-align: top;\n    }\n\n    .dataframe thead th {\n        text-align: right;\n    }\n</style>\n<table border=\"1\" class=\"dataframe\">\n  <thead>\n    <tr style=\"text-align: right;\">\n      <th></th>\n      <th>id</th>\n      <th>city</th>\n      <th>state</th>\n      <th>childName</th>\n      <th>numberOfPets</th>\n      <th>pets</th>\n    </tr>\n  </thead>\n  <tbody>\n    <tr>\n      <th>0</th>\n      <td>AndersenFamily</td>\n      <td>Seattle</td>\n      <td>WA</td>\n      <td>Henriette Thaulow</td>\n      <td>1.0</td>\n      <td>[{'givenName': 'Fluffy', 'type': 'Rabbit'}]</td>\n    </tr>\n    <tr>\n      <th>1</th>\n      <td>SmithFamily</td>\n      <td>Forest Hills</td>\n      <td>NY</td>\n      <td>Michelle</td>\n      <td>NaN</td>\n      <td>NaN</td>\n    </tr>\n    <tr>\n      <th>2</th>\n      <td>SmithFamily</td>\n      <td>Forest Hills</td>\n      <td>NY</td>\n      <td>John</td>\n      <td>1.0</td>\n      <td>[{'givenName': 'Tweetie', 'type': 'Bird'}]</td>\n    </tr>\n    <tr>\n      <th>3</th>\n      <td>WakefieldFamily</td>\n      <td>NY</td>\n      <td>NY</td>\n      <td>Jesse</td>\n      <td>3.0</td>\n      <td>[{'givenName': 'Charlie Brown', 'type': 'Dog'}...</td>\n    </tr>\n    <tr>\n      <th>4</th>\n      <td>WakefieldFamily</td>\n      <td>NY</td>\n      <td>NY</td>\n      <td>Lisa</td>\n      <td>1.0</td>\n      <td>[{'givenName': 'Jake', 'type': 'Snake'}]</td>\n    </tr>\n  </tbody>\n</table>\n</div>",
            "text/plain": "                id          city state          childName  numberOfPets  \\\n0   AndersenFamily       Seattle    WA  Henriette Thaulow           1.0   \n1      SmithFamily  Forest Hills    NY           Michelle           NaN   \n2      SmithFamily  Forest Hills    NY               John           1.0   \n3  WakefieldFamily            NY    NY              Jesse           3.0   \n4  WakefieldFamily            NY    NY               Lisa           1.0   \n\n                                                pets  \n0        [{'givenName': 'Fluffy', 'type': 'Rabbit'}]  \n1                                                NaN  \n2         [{'givenName': 'Tweetie', 'type': 'Bird'}]  \n3  [{'givenName': 'Charlie Brown', 'type': 'Dog'}...  \n4           [{'givenName': 'Jake', 'type': 'Snake'}]  "
          },
          "metadata": {},
          "output_type": "display_data"
        }
      ],
      "source": "%%sql\n\nSELECT\n    f.id,\n    f.location.city,\n    f.location.state,\n    ch.givenName ?? ch.firstName AS childName,\n    ARRAY_LENGTH(ch.pets) AS numberOfPets,\n    ch.pets\nFROM\n    c AS f\n    JOIN ch IN f.children"
    },
    {
      "cell_type": "markdown",
      "metadata": {},
      "source": "**Use coalesce (??) to clean up the missing pet information**"
    },
    {
      "cell_type": "code",
      "execution_count": 16,
      "metadata": {
        "collapsed": false,
        "execution": {
          "iopub.execute_input": "2020-06-13T14:29:30.293Z",
          "iopub.status.busy": "2020-06-13T14:29:30.275Z",
          "iopub.status.idle": "2020-06-13T14:29:30.444Z",
          "shell.execute_reply": "2020-06-13T14:29:30.503Z"
        },
        "inputHidden": false,
        "outputHidden": false,
        "trusted": true
      },
      "outputs": [
        {
          "data": {
            "text/html": "\r\n<div>\r\n  <style type='text/css' scoped>\r\n.collapsible {\r\n  background-color: #fff;\r\n  color: #0078D4;\r\n  cursor: pointer;\r\n  padding: 10px;\r\n  border: none;\r\n  text-align: left;\r\n  outline: none;\r\n  font-size: 15px;\r\n  border-radius: 5px;\r\n  margin: 5px\r\n}\r\n\r\n.active, .collapsible:hover {\r\n  color: #4db2ff;\r\n}\r\n\r\n.content {\r\n  margin: 2px;\r\n  padding: 0 18px;\r\n  overflow: hidden;\r\n  background-color: #fff;\r\n  height: 0px;\r\n  -moz-transition: height .2s ease-out;\r\n  -ms-transition: height .2s ease-out;\r\n  -o-transition: height .2s ease-out;\r\n  -webkit-transition: height .2s ease-out;\r\n  transition: height .2s ease-out;\r\n}\r\n</style>\r\n\r\n<button type='button' class='collapsible'>▶ View Query Metrics</button>\r\n  \r\n<div class='content'>\r\n  <div class='measuringWrapper'>\r\n    <span style=\"color:#0078D4\"><b>totalExecutionTimeInMs    </b>:    0.86<br/><b>queryCompileTimeInMs    </b>:    0.17<br/><b>queryLogicalPlanBuildTimeInMs    </b>:    0.06<br/><b>queryPhysicalPlanBuildTimeInMs    </b>:    0.06<br/><b>queryOptimizationTimeInMs    </b>:    0<br/><b>VMExecutionTimeInMs    </b>:    0.31<br/><b>indexLookupTimeInMs    </b>:    0.21<br/><b>documentLoadTimeInMs    </b>:    0.04<br/><b>systemFunctionExecuteTimeInMs    </b>:    0<br/><b>userFunctionExecuteTimeInMs    </b>:    0<br/><b>retrievedDocumentCount    </b>:    3<br/><b>retrievedDocumentSize    </b>:    2058<br/><b>outputDocumentCount    </b>:    5<br/><b>outputDocumentSize    </b>:    787<br/><b>writeOutputTimeInMs    </b>:    0.01<br/><b>averageIndexUtilizationRation    </b>:    1<br/></span>\r\n  </div>\r\n</div>\r\n\r\n<script>\r\nvar coll = document.getElementsByClassName('collapsible');\r\nvar i;\r\n\r\nfor (i = 0; i < coll.length; i++) {\r\n  \r\n  coll[i].addEventListener('click', function() {\r\n    this.classList.toggle('active');\r\n    var content = this.nextElementSibling;\r\n    \r\n    if (content.clientHeight != 0) {\r\n      this.textContent = '▶ View Query Metrics';\r\n      content.style.height = '0px';\r\n    }\r\n    else {\r\n      this.textContent = '▼ Hide Query Metrics';\r\n      content.style.height = content.children[0].clientHeight + 'px';\r\n    }\r\n  });\r\n}\r\n</script>\r\n</div>"
          },
          "metadata": {},
          "output_type": "display_data"
        },
        {
          "data": {
            "text/html": "<div>\n<style scoped>\n    .dataframe tbody tr th:only-of-type {\n        vertical-align: middle;\n    }\n\n    .dataframe tbody tr th {\n        vertical-align: top;\n    }\n\n    .dataframe thead th {\n        text-align: right;\n    }\n</style>\n<table border=\"1\" class=\"dataframe\">\n  <thead>\n    <tr style=\"text-align: right;\">\n      <th></th>\n      <th>id</th>\n      <th>city</th>\n      <th>state</th>\n      <th>childName</th>\n      <th>numberOfPets</th>\n      <th>pets</th>\n    </tr>\n  </thead>\n  <tbody>\n    <tr>\n      <th>0</th>\n      <td>AndersenFamily</td>\n      <td>Seattle</td>\n      <td>WA</td>\n      <td>Henriette Thaulow</td>\n      <td>1</td>\n      <td>[{'givenName': 'Fluffy', 'type': 'Rabbit'}]</td>\n    </tr>\n    <tr>\n      <th>1</th>\n      <td>SmithFamily</td>\n      <td>Forest Hills</td>\n      <td>NY</td>\n      <td>Michelle</td>\n      <td>0</td>\n      <td>[]</td>\n    </tr>\n    <tr>\n      <th>2</th>\n      <td>SmithFamily</td>\n      <td>Forest Hills</td>\n      <td>NY</td>\n      <td>John</td>\n      <td>1</td>\n      <td>[{'givenName': 'Tweetie', 'type': 'Bird'}]</td>\n    </tr>\n    <tr>\n      <th>3</th>\n      <td>WakefieldFamily</td>\n      <td>NY</td>\n      <td>NY</td>\n      <td>Jesse</td>\n      <td>3</td>\n      <td>[{'givenName': 'Charlie Brown', 'type': 'Dog'}...</td>\n    </tr>\n    <tr>\n      <th>4</th>\n      <td>WakefieldFamily</td>\n      <td>NY</td>\n      <td>NY</td>\n      <td>Lisa</td>\n      <td>1</td>\n      <td>[{'givenName': 'Jake', 'type': 'Snake'}]</td>\n    </tr>\n  </tbody>\n</table>\n</div>",
            "text/plain": "                id          city state          childName  numberOfPets  \\\n0   AndersenFamily       Seattle    WA  Henriette Thaulow             1   \n1      SmithFamily  Forest Hills    NY           Michelle             0   \n2      SmithFamily  Forest Hills    NY               John             1   \n3  WakefieldFamily            NY    NY              Jesse             3   \n4  WakefieldFamily            NY    NY               Lisa             1   \n\n                                                pets  \n0        [{'givenName': 'Fluffy', 'type': 'Rabbit'}]  \n1                                                 []  \n2         [{'givenName': 'Tweetie', 'type': 'Bird'}]  \n3  [{'givenName': 'Charlie Brown', 'type': 'Dog'}...  \n4           [{'givenName': 'Jake', 'type': 'Snake'}]  "
          },
          "metadata": {},
          "output_type": "display_data"
        }
      ],
      "source": "%%sql\n\nSELECT\n    f.id,\n    f.location.city,\n    f.location.state,\n    ch.givenName ?? ch.firstName AS childName,\n    ARRAY_LENGTH(ch.pets) ?? 0 AS numberOfPets,\n    ch.pets ?? [] AS pets\nFROM\n    c AS f\n    JOIN ch IN f.children"
    },
    {
      "cell_type": "markdown",
      "metadata": {},
      "source": "**Double JOIN to break on children and pets**"
    },
    {
      "cell_type": "code",
      "execution_count": 17,
      "metadata": {
        "collapsed": false,
        "execution": {
          "iopub.execute_input": "2020-06-13T14:29:30.588Z",
          "iopub.status.busy": "2020-06-13T14:29:30.555Z",
          "iopub.status.idle": "2020-06-13T14:29:30.765Z",
          "shell.execute_reply": "2020-06-13T14:29:30.786Z"
        },
        "inputHidden": false,
        "outputHidden": false,
        "trusted": true
      },
      "outputs": [
        {
          "data": {
            "text/html": "\r\n<div>\r\n  <style type='text/css' scoped>\r\n.collapsible {\r\n  background-color: #fff;\r\n  color: #0078D4;\r\n  cursor: pointer;\r\n  padding: 10px;\r\n  border: none;\r\n  text-align: left;\r\n  outline: none;\r\n  font-size: 15px;\r\n  border-radius: 5px;\r\n  margin: 5px\r\n}\r\n\r\n.active, .collapsible:hover {\r\n  color: #4db2ff;\r\n}\r\n\r\n.content {\r\n  margin: 2px;\r\n  padding: 0 18px;\r\n  overflow: hidden;\r\n  background-color: #fff;\r\n  height: 0px;\r\n  -moz-transition: height .2s ease-out;\r\n  -ms-transition: height .2s ease-out;\r\n  -o-transition: height .2s ease-out;\r\n  -webkit-transition: height .2s ease-out;\r\n  transition: height .2s ease-out;\r\n}\r\n</style>\r\n\r\n<button type='button' class='collapsible'>▶ View Query Metrics</button>\r\n  \r\n<div class='content'>\r\n  <div class='measuringWrapper'>\r\n    <span style=\"color:#0078D4\"><b>totalExecutionTimeInMs    </b>:    0.68<br/><b>queryCompileTimeInMs    </b>:    0.12<br/><b>queryLogicalPlanBuildTimeInMs    </b>:    0.05<br/><b>queryPhysicalPlanBuildTimeInMs    </b>:    0.06<br/><b>queryOptimizationTimeInMs    </b>:    0.01<br/><b>VMExecutionTimeInMs    </b>:    0.26<br/><b>indexLookupTimeInMs    </b>:    0.15<br/><b>documentLoadTimeInMs    </b>:    0.05<br/><b>systemFunctionExecuteTimeInMs    </b>:    0<br/><b>userFunctionExecuteTimeInMs    </b>:    0<br/><b>retrievedDocumentCount    </b>:    3<br/><b>retrievedDocumentSize    </b>:    2058<br/><b>outputDocumentCount    </b>:    6<br/><b>outputDocumentSize    </b>:    528<br/><b>writeOutputTimeInMs    </b>:    0.01<br/><b>averageIndexUtilizationRation    </b>:    1<br/></span>\r\n  </div>\r\n</div>\r\n\r\n<script>\r\nvar coll = document.getElementsByClassName('collapsible');\r\nvar i;\r\n\r\nfor (i = 0; i < coll.length; i++) {\r\n  \r\n  coll[i].addEventListener('click', function() {\r\n    this.classList.toggle('active');\r\n    var content = this.nextElementSibling;\r\n    \r\n    if (content.clientHeight != 0) {\r\n      this.textContent = '▶ View Query Metrics';\r\n      content.style.height = '0px';\r\n    }\r\n    else {\r\n      this.textContent = '▼ Hide Query Metrics';\r\n      content.style.height = content.children[0].clientHeight + 'px';\r\n    }\r\n  });\r\n}\r\n</script>\r\n</div>"
          },
          "metadata": {},
          "output_type": "display_data"
        },
        {
          "data": {
            "text/html": "<div>\n<style scoped>\n    .dataframe tbody tr th:only-of-type {\n        vertical-align: middle;\n    }\n\n    .dataframe tbody tr th {\n        vertical-align: top;\n    }\n\n    .dataframe thead th {\n        text-align: right;\n    }\n</style>\n<table border=\"1\" class=\"dataframe\">\n  <thead>\n    <tr style=\"text-align: right;\">\n      <th></th>\n      <th>id</th>\n      <th>childName</th>\n      <th>petName</th>\n      <th>type</th>\n    </tr>\n  </thead>\n  <tbody>\n    <tr>\n      <th>0</th>\n      <td>AndersenFamily</td>\n      <td>Henriette Thaulow</td>\n      <td>Fluffy</td>\n      <td>Rabbit</td>\n    </tr>\n    <tr>\n      <th>1</th>\n      <td>SmithFamily</td>\n      <td>John</td>\n      <td>Tweetie</td>\n      <td>Bird</td>\n    </tr>\n    <tr>\n      <th>2</th>\n      <td>WakefieldFamily</td>\n      <td>Jesse</td>\n      <td>Charlie Brown</td>\n      <td>Dog</td>\n    </tr>\n    <tr>\n      <th>3</th>\n      <td>WakefieldFamily</td>\n      <td>Jesse</td>\n      <td>Tiger</td>\n      <td>Cat</td>\n    </tr>\n    <tr>\n      <th>4</th>\n      <td>WakefieldFamily</td>\n      <td>Jesse</td>\n      <td>Princess</td>\n      <td>Cat</td>\n    </tr>\n    <tr>\n      <th>5</th>\n      <td>WakefieldFamily</td>\n      <td>Lisa</td>\n      <td>Jake</td>\n      <td>Snake</td>\n    </tr>\n  </tbody>\n</table>\n</div>",
            "text/plain": "                id          childName        petName    type\n0   AndersenFamily  Henriette Thaulow         Fluffy  Rabbit\n1      SmithFamily               John        Tweetie    Bird\n2  WakefieldFamily              Jesse  Charlie Brown     Dog\n3  WakefieldFamily              Jesse          Tiger     Cat\n4  WakefieldFamily              Jesse       Princess     Cat\n5  WakefieldFamily               Lisa           Jake   Snake"
          },
          "metadata": {},
          "output_type": "display_data"
        }
      ],
      "source": "%%sql\n\nSELECT\n    f.id,\n    ch.givenName ?? ch.firstName AS childName,\n    p.givenName AS petName,\n    p.type\nFROM\n    c AS f\n    JOIN ch IN f.children\n    JOIN p IN ch.pets\n"
    },
    {
      "cell_type": "markdown",
      "metadata": {},
      "source": "**Just need a list of pet names**"
    },
    {
      "cell_type": "code",
      "execution_count": 18,
      "metadata": {
        "collapsed": false,
        "execution": {
          "iopub.execute_input": "2020-06-13T14:29:30.825Z",
          "iopub.status.busy": "2020-06-13T14:29:30.806Z",
          "iopub.status.idle": "2020-06-13T14:29:31.316Z",
          "shell.execute_reply": "2020-06-13T14:29:31.362Z"
        },
        "inputHidden": false,
        "outputHidden": false,
        "trusted": true
      },
      "outputs": [
        {
          "data": {
            "text/html": "\r\n<div>\r\n  <style type='text/css' scoped>\r\n.collapsible {\r\n  background-color: #fff;\r\n  color: #0078D4;\r\n  cursor: pointer;\r\n  padding: 10px;\r\n  border: none;\r\n  text-align: left;\r\n  outline: none;\r\n  font-size: 15px;\r\n  border-radius: 5px;\r\n  margin: 5px\r\n}\r\n\r\n.active, .collapsible:hover {\r\n  color: #4db2ff;\r\n}\r\n\r\n.content {\r\n  margin: 2px;\r\n  padding: 0 18px;\r\n  overflow: hidden;\r\n  background-color: #fff;\r\n  height: 0px;\r\n  -moz-transition: height .2s ease-out;\r\n  -ms-transition: height .2s ease-out;\r\n  -o-transition: height .2s ease-out;\r\n  -webkit-transition: height .2s ease-out;\r\n  transition: height .2s ease-out;\r\n}\r\n</style>\r\n\r\n<button type='button' class='collapsible'>▶ View Query Metrics</button>\r\n  \r\n<div class='content'>\r\n  <div class='measuringWrapper'>\r\n    <span style=\"color:#0078D4\"><b>totalExecutionTimeInMs    </b>:    0.74<br/><b>queryCompileTimeInMs    </b>:    0.13<br/><b>queryLogicalPlanBuildTimeInMs    </b>:    0.04<br/><b>queryPhysicalPlanBuildTimeInMs    </b>:    0.08<br/><b>queryOptimizationTimeInMs    </b>:    0.01<br/><b>VMExecutionTimeInMs    </b>:    0.29<br/><b>indexLookupTimeInMs    </b>:    0.21<br/><b>documentLoadTimeInMs    </b>:    0.04<br/><b>systemFunctionExecuteTimeInMs    </b>:    0<br/><b>userFunctionExecuteTimeInMs    </b>:    0<br/><b>retrievedDocumentCount    </b>:    3<br/><b>retrievedDocumentSize    </b>:    2058<br/><b>outputDocumentCount    </b>:    6<br/><b>outputDocumentSize    </b>:    193<br/><b>writeOutputTimeInMs    </b>:    0<br/><b>averageIndexUtilizationRation    </b>:    1<br/></span>\r\n  </div>\r\n</div>\r\n\r\n<script>\r\nvar coll = document.getElementsByClassName('collapsible');\r\nvar i;\r\n\r\nfor (i = 0; i < coll.length; i++) {\r\n  \r\n  coll[i].addEventListener('click', function() {\r\n    this.classList.toggle('active');\r\n    var content = this.nextElementSibling;\r\n    \r\n    if (content.clientHeight != 0) {\r\n      this.textContent = '▶ View Query Metrics';\r\n      content.style.height = '0px';\r\n    }\r\n    else {\r\n      this.textContent = '▼ Hide Query Metrics';\r\n      content.style.height = content.children[0].clientHeight + 'px';\r\n    }\r\n  });\r\n}\r\n</script>\r\n</div>"
          },
          "metadata": {},
          "output_type": "display_data"
        },
        {
          "data": {
            "text/html": "<div>\n<style scoped>\n    .dataframe tbody tr th:only-of-type {\n        vertical-align: middle;\n    }\n\n    .dataframe tbody tr th {\n        vertical-align: top;\n    }\n\n    .dataframe thead th {\n        text-align: right;\n    }\n</style>\n<table border=\"1\" class=\"dataframe\">\n  <thead>\n    <tr style=\"text-align: right;\">\n      <th></th>\n      <th>givenName</th>\n    </tr>\n  </thead>\n  <tbody>\n    <tr>\n      <th>0</th>\n      <td>Fluffy</td>\n    </tr>\n    <tr>\n      <th>1</th>\n      <td>Tweetie</td>\n    </tr>\n    <tr>\n      <th>2</th>\n      <td>Charlie Brown</td>\n    </tr>\n    <tr>\n      <th>3</th>\n      <td>Tiger</td>\n    </tr>\n    <tr>\n      <th>4</th>\n      <td>Princess</td>\n    </tr>\n    <tr>\n      <th>5</th>\n      <td>Jake</td>\n    </tr>\n  </tbody>\n</table>\n</div>",
            "text/plain": "       givenName\n0         Fluffy\n1        Tweetie\n2  Charlie Brown\n3          Tiger\n4       Princess\n5           Jake"
          },
          "metadata": {},
          "output_type": "display_data"
        }
      ],
      "source": "%%sql\n\nSELECT p.givenName \nFROM c AS f\nJOIN ch IN f.children \nJOIN p IN ch.pets"
    },
    {
      "cell_type": "markdown",
      "metadata": {},
      "source": "**Get the list of pet names as JSON**"
    },
    {
      "cell_type": "code",
      "execution_count": 19,
      "metadata": {
        "collapsed": false,
        "execution": {
          "iopub.execute_input": "2020-06-13T14:29:31.821Z",
          "iopub.status.busy": "2020-06-13T14:29:31.397Z",
          "iopub.status.idle": "2020-06-13T14:29:32.023Z",
          "shell.execute_reply": "2020-06-13T14:29:32.044Z"
        },
        "inputHidden": false,
        "outputHidden": false,
        "trusted": true
      },
      "outputs": [
        {
          "name": "stdout",
          "output_type": "stream",
          "text": "6 document(s) selected (charge= 3.13 RUs)\n\n[\n    {\n        \"givenName\": \"Fluffy\"\n    },\n    {\n        \"givenName\": \"Tweetie\"\n    },\n    {\n        \"givenName\": \"Charlie Brown\"\n    },\n    {\n        \"givenName\": \"Tiger\"\n    },\n    {\n        \"givenName\": \"Princess\"\n    },\n    {\n        \"givenName\": \"Jake\"\n    }\n]\n"
        }
      ],
      "source": "query(families, \"\"\"\n\nSELECT p.givenName \nFROM c AS f\nJOIN ch IN f.children \nJOIN p IN ch.pets\n\n\"\"\")"
    },
    {
      "cell_type": "markdown",
      "metadata": {},
      "source": "**Use VALUE to get a string array and not an object array**"
    },
    {
      "cell_type": "code",
      "execution_count": 20,
      "metadata": {
        "collapsed": false,
        "execution": {
          "iopub.execute_input": "2020-06-13T14:29:32.077Z",
          "iopub.status.busy": "2020-06-13T14:29:32.067Z",
          "iopub.status.idle": "2020-06-13T14:29:32.460Z",
          "shell.execute_reply": "2020-06-13T14:29:32.382Z"
        },
        "inputHidden": false,
        "outputHidden": false,
        "trusted": true
      },
      "outputs": [
        {
          "name": "stdout",
          "output_type": "stream",
          "text": "6 document(s) selected (charge= 3.13 RUs)\n\n[\n    \"Fluffy\",\n    \"Tweetie\",\n    \"Charlie Brown\",\n    \"Tiger\",\n    \"Princess\",\n    \"Jake\"\n]\n"
        }
      ],
      "source": "query(families, \"\"\"\n\nSELECT VALUE p.givenName \nFROM c AS f\nJOIN ch IN f.children \nJOIN p IN ch.pets\n\n\"\"\")"
    },
    {
      "cell_type": "markdown",
      "metadata": {
        "nteract": {
          "transient": {
            "deleting": false
          }
        }
      },
      "source": "**Using VALUE with %%sql magic returns raw JSON instead of tabular output**"
    },
    {
      "cell_type": "code",
      "execution_count": 21,
      "metadata": {
        "collapsed": false,
        "execution": {
          "iopub.execute_input": "2020-06-13T14:29:32.535Z",
          "iopub.status.busy": "2020-06-13T14:29:32.506Z",
          "iopub.status.idle": "2020-06-13T14:29:32.568Z",
          "shell.execute_reply": "2020-06-13T14:29:32.411Z"
        },
        "jupyter": {
          "outputs_hidden": false,
          "source_hidden": false
        },
        "nteract": {
          "transient": {
            "deleting": false
          }
        },
        "trusted": true
      },
      "outputs": [
        {
          "data": {
            "text/html": "\r\n<div>\r\n  <style type='text/css' scoped>\r\n.collapsible {\r\n  background-color: #fff;\r\n  color: #0078D4;\r\n  cursor: pointer;\r\n  padding: 10px;\r\n  border: none;\r\n  text-align: left;\r\n  outline: none;\r\n  font-size: 15px;\r\n  border-radius: 5px;\r\n  margin: 5px\r\n}\r\n\r\n.active, .collapsible:hover {\r\n  color: #4db2ff;\r\n}\r\n\r\n.content {\r\n  margin: 2px;\r\n  padding: 0 18px;\r\n  overflow: hidden;\r\n  background-color: #fff;\r\n  height: 0px;\r\n  -moz-transition: height .2s ease-out;\r\n  -ms-transition: height .2s ease-out;\r\n  -o-transition: height .2s ease-out;\r\n  -webkit-transition: height .2s ease-out;\r\n  transition: height .2s ease-out;\r\n}\r\n</style>\r\n\r\n<button type='button' class='collapsible'>▶ View Query Metrics</button>\r\n  \r\n<div class='content'>\r\n  <div class='measuringWrapper'>\r\n    <span style=\"color:#0078D4\"><b>totalExecutionTimeInMs    </b>:    0.63<br/><b>queryCompileTimeInMs    </b>:    0.13<br/><b>queryLogicalPlanBuildTimeInMs    </b>:    0.04<br/><b>queryPhysicalPlanBuildTimeInMs    </b>:    0.07<br/><b>queryOptimizationTimeInMs    </b>:    0.01<br/><b>VMExecutionTimeInMs    </b>:    0.23<br/><b>indexLookupTimeInMs    </b>:    0.16<br/><b>documentLoadTimeInMs    </b>:    0.03<br/><b>systemFunctionExecuteTimeInMs    </b>:    0<br/><b>userFunctionExecuteTimeInMs    </b>:    0<br/><b>retrievedDocumentCount    </b>:    3<br/><b>retrievedDocumentSize    </b>:    2058<br/><b>outputDocumentCount    </b>:    6<br/><b>outputDocumentSize    </b>:    109<br/><b>writeOutputTimeInMs    </b>:    0<br/><b>averageIndexUtilizationRation    </b>:    1<br/></span>\r\n  </div>\r\n</div>\r\n\r\n<script>\r\nvar coll = document.getElementsByClassName('collapsible');\r\nvar i;\r\n\r\nfor (i = 0; i < coll.length; i++) {\r\n  \r\n  coll[i].addEventListener('click', function() {\r\n    this.classList.toggle('active');\r\n    var content = this.nextElementSibling;\r\n    \r\n    if (content.clientHeight != 0) {\r\n      this.textContent = '▶ View Query Metrics';\r\n      content.style.height = '0px';\r\n    }\r\n    else {\r\n      this.textContent = '▼ Hide Query Metrics';\r\n      content.style.height = content.children[0].clientHeight + 'px';\r\n    }\r\n  });\r\n}\r\n</script>\r\n</div>"
          },
          "metadata": {},
          "output_type": "display_data"
        },
        {
          "data": {
            "text/plain": "['Fluffy', 'Tweetie', 'Charlie Brown', 'Tiger', 'Princess', 'Jake']"
          },
          "metadata": {},
          "output_type": "display_data"
        }
      ],
      "source": "%%sql\n\nSELECT VALUE p.givenName \nFROM c AS f\nJOIN ch IN f.children \nJOIN p IN ch.pets"
    },
    {
      "cell_type": "markdown",
      "metadata": {},
      "source": "## Projections"
    },
    {
      "cell_type": "markdown",
      "metadata": {},
      "source": "**Project all properties from all stores**"
    },
    {
      "cell_type": "code",
      "execution_count": 22,
      "metadata": {
        "collapsed": false,
        "execution": {
          "iopub.execute_input": "2020-06-13T14:29:32.608Z",
          "iopub.status.busy": "2020-06-13T14:29:32.597Z",
          "iopub.status.idle": "2020-06-13T14:29:33.918Z",
          "shell.execute_reply": "2020-06-13T14:29:34.035Z"
        },
        "inputHidden": false,
        "outputHidden": false,
        "trusted": true
      },
      "outputs": [
        {
          "name": "stdout",
          "output_type": "stream",
          "text": "701 document(s) selected (charge= 2.28 RUs)\n\n[\n    {\n        \"name\": \"Fitness Department Stores\",\n        \"address\": {\n            \"addressType\": \"Main Office\",\n            \"addressLine1\": \"7750 E Marching Rd\",\n            \"location\": {\n                \"city\": \"Scottsdale\",\n                \"stateProvinceName\": \"Arizona\"\n            },\n            \"postalCode\": \"85257\",\n            \"countryRegionName\": \"United States\"\n        },\n        \"id\": \"01fbb9f5-b421-48d4-8ba3-7c1f38fb79f4\",\n        \"_rid\": \"A6VaAJTIj7QBAAAAAAAAAA==\",\n        \"_self\": \"dbs/A6VaAA==/colls/A6VaAJTIj7Q=/docs/A6VaAJTIj7QBAAAAAAAAAA==/\",\n        \"_etag\": \"\\\"000088f4-0000-0100-0000-5ee4dd3a0000\\\"\",\n        \"_attachments\": \"attachments/\",\n        \"_ts\": 1592057147\n    },\n    {\n        \"name\": \"Extreme Toy Store\",\n        \"address\": {\n            \"addressType\": \"Main Office\",\n            \"addressLine1\": \"7725 Luddington Lane\",\n            \"location\": {\n                \"city\": \"Birmingham\",\n                \"stateProvinceName\": \"Alabama\"\n            },\n            \"postalCode\": \"35203\",\n            \"countryRegionName\": \"United States\"\n        },\n        \"id\": \"edf5635f-38c5-44db-bf53-d88e8fe5dd0e\",\n        \"_rid\": \"A6VaAJTIj7QCAAAAAAAAAA==\",\n        \"_self\": \"dbs/A6VaAA==/colls/A6VaAJTIj7Q=/docs/A6VaAJTIj7QCAAAAAAAAAA==/\",\n        \"_etag\": \"\\\"000089f4-0000-0100-0000-5ee4dd3a0000\\\"\",\n        \"_attachments\": \"attachments/\",\n        \"_ts\": 1592057147\n    },\n    {\n        \"name\": \"Real Sporting Goods\",\n        \"address\": {\n            \"addressType\": \"Main Office\",\n            \"addressLine1\": \"7709 West Virginia Avenue\",\n            \"location\": {\n                \"city\": \"Phoenix\",\n                \"stateProvinceName\": \"Arizona\"\n            },\n            \"postalCode\": \"85004\",\n            \"countryRegionName\": \"United States\"\n        },\n        \"id\": \"0a788003-b60e-4ad3-8c3d-f7556d545d3b\",\n        \"_rid\": \"A6VaAJTIj7QDAAAAAAAAAA==\",\n        \"_self\": \"dbs/A6VaAA==/colls/A6VaAJTIj7Q=/docs/A6VaAJTIj7QDAAAAAAAAAA==/\",\n        \"_etag\": \"\\\"00008af4-0000-0100-0000-5ee4dd3a0000\\\"\",\n        \"_attachments\": \"attachments/\",\n        \"_ts\": 1592057147\n    },\n    {\n        \"name\": \"Exchange Parts Inc.\",\n        \"address\": {\n            \"addressType\": \"Main Office\",\n            \"addressLine1\": \"7700 Green Road\",\n            \"location\": {\n                \"city\": \"Raleigh\",\n                \"stateProvinceName\": \"North Carolina\"\n            },\n            \"postalCode\": \"27603\",\n            \"countryRegionName\": \"United States\"\n        },\n        \"id\": \"4fe1b1a7-2da4-46fe-a8f2-ba1f2d6f6cc3\",\n        \"_rid\": \"A6VaAJTIj7QEAAAAAAAAAA==\",\n        \"_self\": \"dbs/A6VaAA==/colls/A6VaAJTIj7Q=/docs/A6VaAJTIj7QEAAAAAAAAAA==/\",\n        \"_etag\": \"\\\"00008bf4-0000-0100-0000-5ee4dd3a0000\\\"\",\n        \"_attachments\": \"attachments/\",\n        \"_ts\": 1592057147\n    },\n    {\n        \"name\": \"Reliable Brake Systems\",\n        \"address\": {\n            \"addressType\": \"Main Office\",\n            \"addressLine1\": \"770 South Point Dr\",\n            \"location\": {\n                \"city\": \"Memphis\",\n                \"stateProvinceName\": \"Tennessee\"\n            },\n            \"postalCode\": \"38103\",\n            \"countryRegionName\": \"United States\"\n        },\n        \"id\": \"d14c086c-73e7-4830-8210-982ba78a1e90\",\n        \"_rid\": \"A6VaAJTIj7QFAAAAAAAAAA==\",\n        \"_self\": \"dbs/A6VaAA==/colls/A6VaAJTIj7Q=/docs/A6VaAJTIj7QFAAAAAAAAAA==/\",\n        \"_etag\": \"\\\"00008cf4-0000-0100-0000-5ee4dd3a0000\\\"\",\n        \"_attachments\": \"attachments/\",\n        \"_ts\": 1592057147\n    },\n    {\n        \"name\": \"Metal Processing Company\",\n        \"address\": {\n            \"addressType\": \"Main Office\",\n            \"addressLine1\": \"770 Notre Datme Quest Bureau 800\",\n            \"location\": {\n                \"city\": \"Montreal\",\n                \"stateProvinceName\": \"Quebec\"\n            },\n            \"postalCode\": \"H1Y 2H7\",\n            \"countryRegionName\": \"Canada\"\n        },\n        \"id\": \"5760145c-4200-4682-95f8-169b2eb3909f\",\n        \"_rid\": \"A6VaAJTIj7QGAAAAAAAAAA==\",\n        \"_self\": \"dbs/A6VaAA==/colls/A6VaAJTIj7Q=/docs/A6VaAJTIj7QGAAAAAAAAAA==/\",\n        \"_etag\": \"\\\"00008df4-0000-0100-0000-5ee4dd3a0000\\\"\",\n        \"_attachments\": \"attachments/\",\n        \"_ts\": 1592057147\n    },\n    {\n        \"name\": \"Two Wheels Cycle Store\",\n        \"address\": {\n            \"addressType\": \"Main Office\",\n            \"addressLine1\": \"77 Beale Street\",\n            \"location\": {\n                \"city\": \"San Francisco\",\n                \"stateProvinceName\": \"California\"\n            },\n            \"postalCode\": \"94109\",\n            \"countryRegionName\": \"United States\"\n        },\n        \"id\": \"346f8118-4922-4dfe-ae9f-d283227b8b97\",\n        \"_rid\": \"A6VaAJTIj7QHAAAAAAAAAA==\",\n        \"_self\": \"dbs/A6VaAA==/colls/A6VaAJTIj7Q=/docs/A6VaAJTIj7QHAAAAAAAAAA==/\",\n        \"_etag\": \"\\\"00008ef4-0000-0100-0000-5ee4dd3a0000\\\"\",\n        \"_attachments\": \"attachments/\",\n        \"_ts\": 1592057147\n    },\n    {\n        \"name\": \"Capable Sales and Service\",\n        \"address\": {\n            \"addressType\": \"Main Office\",\n            \"addressLine1\": \"765 Delridge Way Sw\",\n            \"location\": {\n                \"city\": \"Seattle\",\n                \"stateProvinceName\": \"Washington\"\n            },\n            \"postalCode\": \"98104\",\n            \"countryRegionName\": \"United States\"\n        },\n        \"id\": \"3fb10591-b621-4729-b983-be82100418d4\",\n        \"_rid\": \"A6VaAJTIj7QIAAAAAAAAAA==\",\n        \"_self\": \"dbs/A6VaAA==/colls/A6VaAJTIj7Q=/docs/A6VaAJTIj7QIAAAAAAAAAA==/\",\n        \"_etag\": \"\\\"00008ff4-0000-0100-0000-5ee4dd3a0000\\\"\",\n        \"_attachments\": \"attachments/\",\n        \"_ts\": 1592057147\n    },\n    {\n        \"name\": \"Atypical Bike Company\",\n        \"address\": {\n            \"addressType\": \"Main Office\",\n            \"addressLine1\": \"7551, avenue Foch\",\n            \"location\": {\n                \"city\": \"Paris\",\n                \"stateProvinceName\": \"Seine (Paris)\"\n            },\n            \"postalCode\": \"75010\",\n            \"countryRegionName\": \"France\"\n        },\n        \"id\": \"958198d3-485a-4d3e-bf50-a8ab7785d996\",\n        \"_rid\": \"A6VaAJTIj7QJAAAAAAAAAA==\",\n        \"_self\": \"dbs/A6VaAA==/colls/A6VaAJTIj7Q=/docs/A6VaAJTIj7QJAAAAAAAAAA==/\",\n        \"_etag\": \"\\\"000090f4-0000-0100-0000-5ee4dd3a0000\\\"\",\n        \"_attachments\": \"attachments/\",\n        \"_ts\": 1592057147\n    },\n    {\n        \"name\": \"Fitness Supplies\",\n        \"address\": {\n            \"addressType\": \"Main Office\",\n            \"addressLine1\": \"755 W Washington Ave Ste D\",\n            \"location\": {\n                \"city\": \"Sequim\",\n                \"stateProvinceName\": \"Washington\"\n            },\n            \"postalCode\": \"98382\",\n            \"countryRegionName\": \"United States\"\n        },\n        \"id\": \"205adc2b-00e1-4337-b51d-d7cc5220e7df\",\n        \"_rid\": \"A6VaAJTIj7QKAAAAAAAAAA==\",\n        \"_self\": \"dbs/A6VaAA==/colls/A6VaAJTIj7Q=/docs/A6VaAJTIj7QKAAAAAAAAAA==/\",\n        \"_etag\": \"\\\"000091f4-0000-0100-0000-5ee4dd3a0000\\\"\",\n        \"_attachments\": \"attachments/\",\n        \"_ts\": 1592057147\n    }\n]\n"
        }
      ],
      "source": "query(mystore, \"\"\"\n\nSELECT * FROM c\n\n\"\"\")"
    },
    {
      "cell_type": "markdown",
      "metadata": {},
      "source": "**Project just the ID and store name properties**"
    },
    {
      "cell_type": "code",
      "execution_count": 23,
      "metadata": {
        "collapsed": false,
        "execution": {
          "iopub.execute_input": "2020-06-13T14:29:34.059Z",
          "iopub.status.busy": "2020-06-13T14:29:34.048Z",
          "iopub.status.idle": "2020-06-13T14:29:34.373Z",
          "shell.execute_reply": "2020-06-13T14:29:34.395Z"
        },
        "inputHidden": false,
        "outputHidden": false,
        "trusted": true
      },
      "outputs": [
        {
          "name": "stdout",
          "output_type": "stream",
          "text": "701 document(s) selected (charge= 2.27 RUs)\n\n[\n    {\n        \"id\": \"01fbb9f5-b421-48d4-8ba3-7c1f38fb79f4\",\n        \"name\": \"Fitness Department Stores\"\n    },\n    {\n        \"id\": \"edf5635f-38c5-44db-bf53-d88e8fe5dd0e\",\n        \"name\": \"Extreme Toy Store\"\n    },\n    {\n        \"id\": \"0a788003-b60e-4ad3-8c3d-f7556d545d3b\",\n        \"name\": \"Real Sporting Goods\"\n    },\n    {\n        \"id\": \"4fe1b1a7-2da4-46fe-a8f2-ba1f2d6f6cc3\",\n        \"name\": \"Exchange Parts Inc.\"\n    },\n    {\n        \"id\": \"d14c086c-73e7-4830-8210-982ba78a1e90\",\n        \"name\": \"Reliable Brake Systems\"\n    },\n    {\n        \"id\": \"5760145c-4200-4682-95f8-169b2eb3909f\",\n        \"name\": \"Metal Processing Company\"\n    },\n    {\n        \"id\": \"346f8118-4922-4dfe-ae9f-d283227b8b97\",\n        \"name\": \"Two Wheels Cycle Store\"\n    },\n    {\n        \"id\": \"3fb10591-b621-4729-b983-be82100418d4\",\n        \"name\": \"Capable Sales and Service\"\n    },\n    {\n        \"id\": \"958198d3-485a-4d3e-bf50-a8ab7785d996\",\n        \"name\": \"Atypical Bike Company\"\n    },\n    {\n        \"id\": \"205adc2b-00e1-4337-b51d-d7cc5220e7df\",\n        \"name\": \"Fitness Supplies\"\n    }\n]\n"
        }
      ],
      "source": "query(mystore, \"\"\"\n\nSELECT c.id, c.name\nFROM c\n\n\"\"\")"
    },
    {
      "cell_type": "markdown",
      "metadata": {},
      "source": "**Project just the store name property**"
    },
    {
      "cell_type": "code",
      "execution_count": 24,
      "metadata": {
        "collapsed": false,
        "execution": {
          "iopub.execute_input": "2020-06-13T14:29:34.431Z",
          "iopub.status.busy": "2020-06-13T14:29:34.419Z",
          "iopub.status.idle": "2020-06-13T14:29:34.821Z",
          "shell.execute_reply": "2020-06-13T14:29:34.843Z"
        },
        "inputHidden": false,
        "outputHidden": false,
        "trusted": true
      },
      "outputs": [
        {
          "name": "stdout",
          "output_type": "stream",
          "text": "701 document(s) selected (charge= 2.27 RUs)\n\n[\n    {\n        \"name\": \"Fitness Department Stores\"\n    },\n    {\n        \"name\": \"Extreme Toy Store\"\n    },\n    {\n        \"name\": \"Real Sporting Goods\"\n    },\n    {\n        \"name\": \"Exchange Parts Inc.\"\n    },\n    {\n        \"name\": \"Reliable Brake Systems\"\n    },\n    {\n        \"name\": \"Metal Processing Company\"\n    },\n    {\n        \"name\": \"Two Wheels Cycle Store\"\n    },\n    {\n        \"name\": \"Capable Sales and Service\"\n    },\n    {\n        \"name\": \"Atypical Bike Company\"\n    },\n    {\n        \"name\": \"Fitness Supplies\"\n    }\n]\n"
        }
      ],
      "source": "query(mystore, \"\"\"\n\nSELECT c.name\nFROM c\n\n\"\"\")"
    },
    {
      "cell_type": "markdown",
      "metadata": {},
      "source": "**Project just the store name property as a string array using VALUE**"
    },
    {
      "cell_type": "code",
      "execution_count": 25,
      "metadata": {
        "collapsed": false,
        "execution": {
          "iopub.execute_input": "2020-06-13T14:29:34.875Z",
          "iopub.status.busy": "2020-06-13T14:29:34.865Z",
          "iopub.status.idle": "2020-06-13T14:29:34.919Z",
          "shell.execute_reply": "2020-06-13T14:29:34.940Z"
        },
        "inputHidden": false,
        "outputHidden": false,
        "trusted": true
      },
      "outputs": [
        {
          "name": "stdout",
          "output_type": "stream",
          "text": "701 document(s) selected (charge= 2.73 RUs)\n\n[\n    \"Fitness Department Stores\",\n    \"Extreme Toy Store\",\n    \"Real Sporting Goods\",\n    \"Exchange Parts Inc.\",\n    \"Reliable Brake Systems\",\n    \"Metal Processing Company\",\n    \"Two Wheels Cycle Store\",\n    \"Capable Sales and Service\",\n    \"Atypical Bike Company\",\n    \"Fitness Supplies\"\n]\n"
        }
      ],
      "source": "# Get all names as a string array using VALUE\nquery(mystore, \"\"\"\n\nSELECT VALUE c.name\nFROM c\n\n\"\"\")"
    },
    {
      "cell_type": "markdown",
      "metadata": {},
      "source": "**Use string concatenation for single value**"
    },
    {
      "cell_type": "code",
      "execution_count": 26,
      "metadata": {
        "collapsed": false,
        "execution": {
          "iopub.execute_input": "2020-06-13T14:29:34.977Z",
          "iopub.status.busy": "2020-06-13T14:29:34.965Z",
          "iopub.status.idle": "2020-06-13T14:29:35.023Z",
          "shell.execute_reply": "2020-06-13T14:29:35.044Z"
        },
        "inputHidden": false,
        "outputHidden": false,
        "trusted": true
      },
      "outputs": [
        {
          "name": "stdout",
          "output_type": "stream",
          "text": "701 document(s) selected (charge= 2.74 RUs)\n\n[\n    \"Fitness Department Stores, United States\",\n    \"Extreme Toy Store, United States\",\n    \"Real Sporting Goods, United States\",\n    \"Exchange Parts Inc., United States\",\n    \"Reliable Brake Systems, United States\",\n    \"Metal Processing Company, Canada\",\n    \"Two Wheels Cycle Store, United States\",\n    \"Capable Sales and Service, United States\",\n    \"Atypical Bike Company, France\",\n    \"Fitness Supplies, United States\"\n]\n"
        }
      ],
      "source": "query(mystore, \"\"\"\n\nSELECT VALUE c.name || ', ' || c.address.countryRegionName\nFROM c\n\n\"\"\")"
    },
    {
      "cell_type": "markdown",
      "metadata": {},
      "source": "**Project entirely different shape using inline JSON**"
    },
    {
      "cell_type": "code",
      "execution_count": 27,
      "metadata": {
        "collapsed": false,
        "execution": {
          "iopub.execute_input": "2020-06-13T14:29:35.260Z",
          "iopub.status.busy": "2020-06-13T14:29:35.067Z",
          "iopub.status.idle": "2020-06-13T14:29:35.309Z",
          "shell.execute_reply": "2020-06-13T14:29:35.329Z"
        },
        "inputHidden": false,
        "outputHidden": false,
        "trusted": true
      },
      "outputs": [
        {
          "name": "stdout",
          "output_type": "stream",
          "text": "701 document(s) selected (charge= 2.29 RUs)\n\n[\n    {\n        \"country\": \"United States\",\n        \"storeInfo\": {\n            \"storeName\": \"Fitness Department Stores\",\n            \"cityStateZip\": [\n                \"Scottsdale\",\n                \"Arizona\"\n            ],\n            \"metadata\": {\n                \"internalId\": \"01fbb9f5-b421-48d4-8ba3-7c1f38fb79f4\",\n                \"timestamp\": 1592057147\n            }\n        }\n    },\n    {\n        \"country\": \"United States\",\n        \"storeInfo\": {\n            \"storeName\": \"Extreme Toy Store\",\n            \"cityStateZip\": [\n                \"Birmingham\",\n                \"Alabama\"\n            ],\n            \"metadata\": {\n                \"internalId\": \"edf5635f-38c5-44db-bf53-d88e8fe5dd0e\",\n                \"timestamp\": 1592057147\n            }\n        }\n    },\n    {\n        \"country\": \"United States\",\n        \"storeInfo\": {\n            \"storeName\": \"Real Sporting Goods\",\n            \"cityStateZip\": [\n                \"Phoenix\",\n                \"Arizona\"\n            ],\n            \"metadata\": {\n                \"internalId\": \"0a788003-b60e-4ad3-8c3d-f7556d545d3b\",\n                \"timestamp\": 1592057147\n            }\n        }\n    },\n    {\n        \"country\": \"United States\",\n        \"storeInfo\": {\n            \"storeName\": \"Exchange Parts Inc.\",\n            \"cityStateZip\": [\n                \"Raleigh\",\n                \"North Carolina\"\n            ],\n            \"metadata\": {\n                \"internalId\": \"4fe1b1a7-2da4-46fe-a8f2-ba1f2d6f6cc3\",\n                \"timestamp\": 1592057147\n            }\n        }\n    },\n    {\n        \"country\": \"United States\",\n        \"storeInfo\": {\n            \"storeName\": \"Reliable Brake Systems\",\n            \"cityStateZip\": [\n                \"Memphis\",\n                \"Tennessee\"\n            ],\n            \"metadata\": {\n                \"internalId\": \"d14c086c-73e7-4830-8210-982ba78a1e90\",\n                \"timestamp\": 1592057147\n            }\n        }\n    },\n    {\n        \"country\": \"Canada\",\n        \"storeInfo\": {\n            \"storeName\": \"Metal Processing Company\",\n            \"cityStateZip\": [\n                \"Montreal\",\n                \"Quebec\"\n            ],\n            \"metadata\": {\n                \"internalId\": \"5760145c-4200-4682-95f8-169b2eb3909f\",\n                \"timestamp\": 1592057147\n            }\n        }\n    },\n    {\n        \"country\": \"United States\",\n        \"storeInfo\": {\n            \"storeName\": \"Two Wheels Cycle Store\",\n            \"cityStateZip\": [\n                \"San Francisco\",\n                \"California\"\n            ],\n            \"metadata\": {\n                \"internalId\": \"346f8118-4922-4dfe-ae9f-d283227b8b97\",\n                \"timestamp\": 1592057147\n            }\n        }\n    },\n    {\n        \"country\": \"United States\",\n        \"storeInfo\": {\n            \"storeName\": \"Capable Sales and Service\",\n            \"cityStateZip\": [\n                \"Seattle\",\n                \"Washington\"\n            ],\n            \"metadata\": {\n                \"internalId\": \"3fb10591-b621-4729-b983-be82100418d4\",\n                \"timestamp\": 1592057147\n            }\n        }\n    },\n    {\n        \"country\": \"France\",\n        \"storeInfo\": {\n            \"storeName\": \"Atypical Bike Company\",\n            \"cityStateZip\": [\n                \"Paris\",\n                \"Seine (Paris)\"\n            ],\n            \"metadata\": {\n                \"internalId\": \"958198d3-485a-4d3e-bf50-a8ab7785d996\",\n                \"timestamp\": 1592057147\n            }\n        }\n    },\n    {\n        \"country\": \"United States\",\n        \"storeInfo\": {\n            \"storeName\": \"Fitness Supplies\",\n            \"cityStateZip\": [\n                \"Sequim\",\n                \"Washington\"\n            ],\n            \"metadata\": {\n                \"internalId\": \"205adc2b-00e1-4337-b51d-d7cc5220e7df\",\n                \"timestamp\": 1592057147\n            }\n        }\n    }\n]\n"
        }
      ],
      "source": "query(mystore, \"\"\"\n\nSELECT\n  c.address.countryRegionName AS country,\n  {\n    \"storeName\": c.name,\n    \"cityStateZip\": [\n        c.address.location.city,\n        c.address.location.stateProvinceName\n    ],\n    \"metadata\": {\n        \"internalId\": c.id,\n        \"timestamp\": c._ts\n    }\n  } AS storeInfo\nFROM c\n\n\"\"\")"
    },
    {
      "cell_type": "markdown",
      "metadata": {},
      "source": "## Range Queries"
    },
    {
      "cell_type": "markdown",
      "metadata": {
        "nteract": {
          "transient": {
            "deleting": false
          }
        }
      },
      "source": "**Set the default database and container names.**"
    },
    {
      "cell_type": "code",
      "execution_count": 30,
      "metadata": {
        "collapsed": false,
        "execution": {
          "iopub.status.busy": "2020-06-13T14:29:24.268Z",
          "iopub.status.idle": "2020-06-13T14:29:24.302Z",
          "shell.execute_reply": "2020-06-13T14:29:24.321Z"
        },
        "jupyter": {
          "outputs_hidden": false,
          "source_hidden": false
        },
        "nteract": {
          "transient": {
            "deleting": false
          }
        },
        "trusted": true
      },
      "outputs": [],
      "source": "%database mydb"
    },
    {
      "cell_type": "code",
      "execution_count": 31,
      "metadata": {
        "collapsed": false,
        "execution": {
          "iopub.status.busy": "2020-06-13T14:29:24.351Z",
          "iopub.status.idle": "2020-06-13T14:29:24.743Z",
          "shell.execute_reply": "2020-06-13T14:29:24.766Z"
        },
        "jupyter": {
          "outputs_hidden": false,
          "source_hidden": false
        },
        "nteract": {
          "transient": {
            "deleting": false
          }
        },
        "trusted": true
      },
      "outputs": [],
      "source": "%container mystore"
    },
    {
      "cell_type": "markdown",
      "metadata": {},
      "source": "**Get A-K**"
    },
    {
      "cell_type": "code",
      "execution_count": 28,
      "metadata": {
        "collapsed": false,
        "execution": {
          "iopub.execute_input": "2020-06-13T14:29:35.374Z",
          "iopub.status.busy": "2020-06-13T14:29:35.352Z",
          "iopub.status.idle": "2020-06-13T14:29:35.573Z",
          "shell.execute_reply": "2020-06-13T14:29:35.593Z"
        },
        "inputHidden": false,
        "outputHidden": false,
        "trusted": true
      },
      "outputs": [
        {
          "data": {
            "text/html": "\r\n<div>\r\n  <style type='text/css' scoped>\r\n.collapsible {\r\n  background-color: #fff;\r\n  color: #0078D4;\r\n  cursor: pointer;\r\n  padding: 10px;\r\n  border: none;\r\n  text-align: left;\r\n  outline: none;\r\n  font-size: 15px;\r\n  border-radius: 5px;\r\n  margin: 5px\r\n}\r\n\r\n.active, .collapsible:hover {\r\n  color: #4db2ff;\r\n}\r\n\r\n.content {\r\n  margin: 2px;\r\n  padding: 0 18px;\r\n  overflow: hidden;\r\n  background-color: #fff;\r\n  height: 0px;\r\n  -moz-transition: height .2s ease-out;\r\n  -ms-transition: height .2s ease-out;\r\n  -o-transition: height .2s ease-out;\r\n  -webkit-transition: height .2s ease-out;\r\n  transition: height .2s ease-out;\r\n}\r\n</style>\r\n\r\n<button type='button' class='collapsible'>▶ View Query Metrics</button>\r\n  \r\n<div class='content'>\r\n  <div class='measuringWrapper'>\r\n    <span style=\"color:#0078D4\"><b>totalExecutionTimeInMs    </b>:    3.16<br/><b>queryCompileTimeInMs    </b>:    0.12<br/><b>queryLogicalPlanBuildTimeInMs    </b>:    0.06<br/><b>queryPhysicalPlanBuildTimeInMs    </b>:    0.07<br/><b>queryOptimizationTimeInMs    </b>:    0.01<br/><b>VMExecutionTimeInMs    </b>:    2.67<br/><b>indexLookupTimeInMs    </b>:    0.15<br/><b>documentLoadTimeInMs    </b>:    1.54<br/><b>systemFunctionExecuteTimeInMs    </b>:    0<br/><b>userFunctionExecuteTimeInMs    </b>:    0<br/><b>retrievedDocumentCount    </b>:    303<br/><b>retrievedDocumentSize    </b>:    146416<br/><b>outputDocumentCount    </b>:    303<br/><b>outputDocumentSize    </b>:    20052<br/><b>writeOutputTimeInMs    </b>:    0.14<br/><b>averageIndexUtilizationRation    </b>:    1<br/></span>\r\n  </div>\r\n</div>\r\n\r\n<script>\r\nvar coll = document.getElementsByClassName('collapsible');\r\nvar i;\r\n\r\nfor (i = 0; i < coll.length; i++) {\r\n  \r\n  coll[i].addEventListener('click', function() {\r\n    this.classList.toggle('active');\r\n    var content = this.nextElementSibling;\r\n    \r\n    if (content.clientHeight != 0) {\r\n      this.textContent = '▶ View Query Metrics';\r\n      content.style.height = '0px';\r\n    }\r\n    else {\r\n      this.textContent = '▼ Hide Query Metrics';\r\n      content.style.height = content.children[0].clientHeight + 'px';\r\n    }\r\n  });\r\n}\r\n</script>\r\n</div>"
          },
          "metadata": {},
          "output_type": "display_data"
        },
        {
          "data": {
            "text/html": "<div>\n<style scoped>\n    .dataframe tbody tr th:only-of-type {\n        vertical-align: middle;\n    }\n\n    .dataframe tbody tr th {\n        vertical-align: top;\n    }\n\n    .dataframe thead th {\n        text-align: right;\n    }\n</style>\n<table border=\"1\" class=\"dataframe\">\n  <thead>\n    <tr style=\"text-align: right;\">\n      <th></th>\n      <th>name</th>\n      <th>countryRegionName</th>\n    </tr>\n  </thead>\n  <tbody>\n    <tr>\n      <th>0</th>\n      <td>Fitness Department Stores</td>\n      <td>United States</td>\n    </tr>\n    <tr>\n      <th>1</th>\n      <td>Extreme Toy Store</td>\n      <td>United States</td>\n    </tr>\n    <tr>\n      <th>2</th>\n      <td>Exchange Parts Inc.</td>\n      <td>United States</td>\n    </tr>\n    <tr>\n      <th>3</th>\n      <td>Capable Sales and Service</td>\n      <td>United States</td>\n    </tr>\n    <tr>\n      <th>4</th>\n      <td>Atypical Bike Company</td>\n      <td>France</td>\n    </tr>\n    <tr>\n      <th>...</th>\n      <td>...</td>\n      <td>...</td>\n    </tr>\n    <tr>\n      <th>298</th>\n      <td>Great Bicycle Supply</td>\n      <td>United States</td>\n    </tr>\n    <tr>\n      <th>299</th>\n      <td>Farthest Bike Store</td>\n      <td>Canada</td>\n    </tr>\n    <tr>\n      <th>300</th>\n      <td>Grand Cycle Store</td>\n      <td>United States</td>\n    </tr>\n    <tr>\n      <th>301</th>\n      <td>Finer Riding Supplies</td>\n      <td>Canada</td>\n    </tr>\n    <tr>\n      <th>302</th>\n      <td>Genuine Bike Shop</td>\n      <td>United States</td>\n    </tr>\n  </tbody>\n</table>\n<p>303 rows × 2 columns</p>\n</div>",
            "text/plain": "                          name countryRegionName\n0    Fitness Department Stores     United States\n1            Extreme Toy Store     United States\n2          Exchange Parts Inc.     United States\n3    Capable Sales and Service     United States\n4        Atypical Bike Company            France\n..                         ...               ...\n298       Great Bicycle Supply     United States\n299        Farthest Bike Store            Canada\n300          Grand Cycle Store     United States\n301      Finer Riding Supplies            Canada\n302          Genuine Bike Shop     United States\n\n[303 rows x 2 columns]"
          },
          "metadata": {},
          "output_type": "display_data"
        }
      ],
      "source": "%%sql\n\nSELECT c.name, c.address.countryRegionName\nFROM c\nWHERE c.name >= 'A' AND c.name <= 'K'"
    },
    {
      "cell_type": "markdown",
      "metadata": {},
      "source": "**Same thing using BETWEEN**"
    },
    {
      "cell_type": "code",
      "execution_count": 29,
      "metadata": {
        "collapsed": false,
        "execution": {
          "iopub.execute_input": "2020-06-13T14:29:35.641Z",
          "iopub.status.busy": "2020-06-13T14:29:35.620Z",
          "iopub.status.idle": "2020-06-13T14:29:35.793Z",
          "shell.execute_reply": "2020-06-13T14:29:35.812Z"
        },
        "inputHidden": false,
        "outputHidden": false,
        "trusted": true
      },
      "outputs": [
        {
          "data": {
            "text/html": "\r\n<div>\r\n  <style type='text/css' scoped>\r\n.collapsible {\r\n  background-color: #fff;\r\n  color: #0078D4;\r\n  cursor: pointer;\r\n  padding: 10px;\r\n  border: none;\r\n  text-align: left;\r\n  outline: none;\r\n  font-size: 15px;\r\n  border-radius: 5px;\r\n  margin: 5px\r\n}\r\n\r\n.active, .collapsible:hover {\r\n  color: #4db2ff;\r\n}\r\n\r\n.content {\r\n  margin: 2px;\r\n  padding: 0 18px;\r\n  overflow: hidden;\r\n  background-color: #fff;\r\n  height: 0px;\r\n  -moz-transition: height .2s ease-out;\r\n  -ms-transition: height .2s ease-out;\r\n  -o-transition: height .2s ease-out;\r\n  -webkit-transition: height .2s ease-out;\r\n  transition: height .2s ease-out;\r\n}\r\n</style>\r\n\r\n<button type='button' class='collapsible'>▶ View Query Metrics</button>\r\n  \r\n<div class='content'>\r\n  <div class='measuringWrapper'>\r\n    <span style=\"color:#0078D4\"><b>totalExecutionTimeInMs    </b>:    3.07<br/><b>queryCompileTimeInMs    </b>:    0.12<br/><b>queryLogicalPlanBuildTimeInMs    </b>:    0.04<br/><b>queryPhysicalPlanBuildTimeInMs    </b>:    0.06<br/><b>queryOptimizationTimeInMs    </b>:    0.01<br/><b>VMExecutionTimeInMs    </b>:    2.68<br/><b>indexLookupTimeInMs    </b>:    0.13<br/><b>documentLoadTimeInMs    </b>:    1.53<br/><b>systemFunctionExecuteTimeInMs    </b>:    0<br/><b>userFunctionExecuteTimeInMs    </b>:    0<br/><b>retrievedDocumentCount    </b>:    303<br/><b>retrievedDocumentSize    </b>:    146416<br/><b>outputDocumentCount    </b>:    303<br/><b>outputDocumentSize    </b>:    20052<br/><b>writeOutputTimeInMs    </b>:    0.14<br/><b>averageIndexUtilizationRation    </b>:    1<br/></span>\r\n  </div>\r\n</div>\r\n\r\n<script>\r\nvar coll = document.getElementsByClassName('collapsible');\r\nvar i;\r\n\r\nfor (i = 0; i < coll.length; i++) {\r\n  \r\n  coll[i].addEventListener('click', function() {\r\n    this.classList.toggle('active');\r\n    var content = this.nextElementSibling;\r\n    \r\n    if (content.clientHeight != 0) {\r\n      this.textContent = '▶ View Query Metrics';\r\n      content.style.height = '0px';\r\n    }\r\n    else {\r\n      this.textContent = '▼ Hide Query Metrics';\r\n      content.style.height = content.children[0].clientHeight + 'px';\r\n    }\r\n  });\r\n}\r\n</script>\r\n</div>"
          },
          "metadata": {},
          "output_type": "display_data"
        },
        {
          "data": {
            "text/html": "<div>\n<style scoped>\n    .dataframe tbody tr th:only-of-type {\n        vertical-align: middle;\n    }\n\n    .dataframe tbody tr th {\n        vertical-align: top;\n    }\n\n    .dataframe thead th {\n        text-align: right;\n    }\n</style>\n<table border=\"1\" class=\"dataframe\">\n  <thead>\n    <tr style=\"text-align: right;\">\n      <th></th>\n      <th>name</th>\n      <th>countryRegionName</th>\n    </tr>\n  </thead>\n  <tbody>\n    <tr>\n      <th>0</th>\n      <td>Fitness Department Stores</td>\n      <td>United States</td>\n    </tr>\n    <tr>\n      <th>1</th>\n      <td>Extreme Toy Store</td>\n      <td>United States</td>\n    </tr>\n    <tr>\n      <th>2</th>\n      <td>Exchange Parts Inc.</td>\n      <td>United States</td>\n    </tr>\n    <tr>\n      <th>3</th>\n      <td>Capable Sales and Service</td>\n      <td>United States</td>\n    </tr>\n    <tr>\n      <th>4</th>\n      <td>Atypical Bike Company</td>\n      <td>France</td>\n    </tr>\n    <tr>\n      <th>...</th>\n      <td>...</td>\n      <td>...</td>\n    </tr>\n    <tr>\n      <th>298</th>\n      <td>Great Bicycle Supply</td>\n      <td>United States</td>\n    </tr>\n    <tr>\n      <th>299</th>\n      <td>Farthest Bike Store</td>\n      <td>Canada</td>\n    </tr>\n    <tr>\n      <th>300</th>\n      <td>Grand Cycle Store</td>\n      <td>United States</td>\n    </tr>\n    <tr>\n      <th>301</th>\n      <td>Finer Riding Supplies</td>\n      <td>Canada</td>\n    </tr>\n    <tr>\n      <th>302</th>\n      <td>Genuine Bike Shop</td>\n      <td>United States</td>\n    </tr>\n  </tbody>\n</table>\n<p>303 rows × 2 columns</p>\n</div>",
            "text/plain": "                          name countryRegionName\n0    Fitness Department Stores     United States\n1            Extreme Toy Store     United States\n2          Exchange Parts Inc.     United States\n3    Capable Sales and Service     United States\n4        Atypical Bike Company            France\n..                         ...               ...\n298       Great Bicycle Supply     United States\n299        Farthest Bike Store            Canada\n300          Grand Cycle Store     United States\n301      Finer Riding Supplies            Canada\n302          Genuine Bike Shop     United States\n\n[303 rows x 2 columns]"
          },
          "metadata": {},
          "output_type": "display_data"
        }
      ],
      "source": "%%sql\n\nSELECT c.name, c.address.countryRegionName\nFROM c\nWHERE c.name BETWEEN 'A' AND 'K'"
    },
    {
      "cell_type": "markdown",
      "metadata": {},
      "source": "**Get L-Z**"
    },
    {
      "cell_type": "code",
      "execution_count": 30,
      "metadata": {
        "collapsed": false,
        "execution": {
          "iopub.execute_input": "2020-06-13T14:29:35.859Z",
          "iopub.status.busy": "2020-06-13T14:29:35.837Z",
          "iopub.status.idle": "2020-06-13T14:29:35.901Z",
          "shell.execute_reply": "2020-06-13T14:29:35.923Z"
        },
        "inputHidden": false,
        "outputHidden": false,
        "trusted": true
      },
      "outputs": [
        {
          "data": {
            "text/html": "\r\n<div>\r\n  <style type='text/css' scoped>\r\n.collapsible {\r\n  background-color: #fff;\r\n  color: #0078D4;\r\n  cursor: pointer;\r\n  padding: 10px;\r\n  border: none;\r\n  text-align: left;\r\n  outline: none;\r\n  font-size: 15px;\r\n  border-radius: 5px;\r\n  margin: 5px\r\n}\r\n\r\n.active, .collapsible:hover {\r\n  color: #4db2ff;\r\n}\r\n\r\n.content {\r\n  margin: 2px;\r\n  padding: 0 18px;\r\n  overflow: hidden;\r\n  background-color: #fff;\r\n  height: 0px;\r\n  -moz-transition: height .2s ease-out;\r\n  -ms-transition: height .2s ease-out;\r\n  -o-transition: height .2s ease-out;\r\n  -webkit-transition: height .2s ease-out;\r\n  transition: height .2s ease-out;\r\n}\r\n</style>\r\n\r\n<button type='button' class='collapsible'>▶ View Query Metrics</button>\r\n  \r\n<div class='content'>\r\n  <div class='measuringWrapper'>\r\n    <span style=\"color:#0078D4\"><b>totalExecutionTimeInMs    </b>:    13.06<br/><b>queryCompileTimeInMs    </b>:    8.82<br/><b>queryLogicalPlanBuildTimeInMs    </b>:    0.08<br/><b>queryPhysicalPlanBuildTimeInMs    </b>:    0.09<br/><b>queryOptimizationTimeInMs    </b>:    0.01<br/><b>VMExecutionTimeInMs    </b>:    3.79<br/><b>indexLookupTimeInMs    </b>:    0.17<br/><b>documentLoadTimeInMs    </b>:    2.3<br/><b>systemFunctionExecuteTimeInMs    </b>:    0<br/><b>userFunctionExecuteTimeInMs    </b>:    0<br/><b>retrievedDocumentCount    </b>:    394<br/><b>retrievedDocumentSize    </b>:    190029<br/><b>outputDocumentCount    </b>:    394<br/><b>outputDocumentSize    </b>:    26085<br/><b>writeOutputTimeInMs    </b>:    0.17<br/><b>averageIndexUtilizationRation    </b>:    1<br/></span>\r\n  </div>\r\n</div>\r\n\r\n<script>\r\nvar coll = document.getElementsByClassName('collapsible');\r\nvar i;\r\n\r\nfor (i = 0; i < coll.length; i++) {\r\n  \r\n  coll[i].addEventListener('click', function() {\r\n    this.classList.toggle('active');\r\n    var content = this.nextElementSibling;\r\n    \r\n    if (content.clientHeight != 0) {\r\n      this.textContent = '▶ View Query Metrics';\r\n      content.style.height = '0px';\r\n    }\r\n    else {\r\n      this.textContent = '▼ Hide Query Metrics';\r\n      content.style.height = content.children[0].clientHeight + 'px';\r\n    }\r\n  });\r\n}\r\n</script>\r\n</div>"
          },
          "metadata": {},
          "output_type": "display_data"
        },
        {
          "data": {
            "text/html": "<div>\n<style scoped>\n    .dataframe tbody tr th:only-of-type {\n        vertical-align: middle;\n    }\n\n    .dataframe tbody tr th {\n        vertical-align: top;\n    }\n\n    .dataframe thead th {\n        text-align: right;\n    }\n</style>\n<table border=\"1\" class=\"dataframe\">\n  <thead>\n    <tr style=\"text-align: right;\">\n      <th></th>\n      <th>name</th>\n      <th>countryRegionName</th>\n    </tr>\n  </thead>\n  <tbody>\n    <tr>\n      <th>0</th>\n      <td>Real Sporting Goods</td>\n      <td>United States</td>\n    </tr>\n    <tr>\n      <th>1</th>\n      <td>Reliable Brake Systems</td>\n      <td>United States</td>\n    </tr>\n    <tr>\n      <th>2</th>\n      <td>Metal Processing Company</td>\n      <td>Canada</td>\n    </tr>\n    <tr>\n      <th>3</th>\n      <td>Two Wheels Cycle Store</td>\n      <td>United States</td>\n    </tr>\n    <tr>\n      <th>4</th>\n      <td>Travel Sports</td>\n      <td>United States</td>\n    </tr>\n    <tr>\n      <th>...</th>\n      <td>...</td>\n      <td>...</td>\n    </tr>\n    <tr>\n      <th>389</th>\n      <td>Thrilling Bike Tours</td>\n      <td>United States</td>\n    </tr>\n    <tr>\n      <th>390</th>\n      <td>Variety Cycling</td>\n      <td>United Kingdom</td>\n    </tr>\n    <tr>\n      <th>391</th>\n      <td>Utilitarian Sporting Goods</td>\n      <td>United States</td>\n    </tr>\n    <tr>\n      <th>392</th>\n      <td>One-Piece Handle Bars</td>\n      <td>United States</td>\n    </tr>\n    <tr>\n      <th>393</th>\n      <td>Tachometers and Accessories</td>\n      <td>United Kingdom</td>\n    </tr>\n  </tbody>\n</table>\n<p>394 rows × 2 columns</p>\n</div>",
            "text/plain": "                            name countryRegionName\n0            Real Sporting Goods     United States\n1         Reliable Brake Systems     United States\n2       Metal Processing Company            Canada\n3         Two Wheels Cycle Store     United States\n4                  Travel Sports     United States\n..                           ...               ...\n389         Thrilling Bike Tours     United States\n390              Variety Cycling    United Kingdom\n391   Utilitarian Sporting Goods     United States\n392        One-Piece Handle Bars     United States\n393  Tachometers and Accessories    United Kingdom\n\n[394 rows x 2 columns]"
          },
          "metadata": {},
          "output_type": "display_data"
        }
      ],
      "source": "%%sql\n\nSELECT c.name, c.address.countryRegionName\nFROM c\nWHERE c.name BETWEEN 'L' AND 'Z'"
    },
    {
      "cell_type": "markdown",
      "metadata": {},
      "source": "## ORDER BY\n\nSort ascending and descending on any property.\n\nNote that sorting on multiple properties is supported, but requires that you first create a custom composite index against the desired properties."
    },
    {
      "cell_type": "markdown",
      "metadata": {},
      "source": "**Sort ascending**"
    },
    {
      "cell_type": "code",
      "execution_count": 31,
      "metadata": {
        "collapsed": false,
        "execution": {
          "iopub.execute_input": "2020-06-13T14:29:35.966Z",
          "iopub.status.busy": "2020-06-13T14:29:35.945Z",
          "iopub.status.idle": "2020-06-13T14:29:36.010Z",
          "shell.execute_reply": "2020-06-13T14:29:36.033Z"
        },
        "inputHidden": false,
        "outputHidden": false,
        "trusted": true
      },
      "outputs": [
        {
          "data": {
            "text/html": "\r\n<div>\r\n  <style type='text/css' scoped>\r\n.collapsible {\r\n  background-color: #fff;\r\n  color: #0078D4;\r\n  cursor: pointer;\r\n  padding: 10px;\r\n  border: none;\r\n  text-align: left;\r\n  outline: none;\r\n  font-size: 15px;\r\n  border-radius: 5px;\r\n  margin: 5px\r\n}\r\n\r\n.active, .collapsible:hover {\r\n  color: #4db2ff;\r\n}\r\n\r\n.content {\r\n  margin: 2px;\r\n  padding: 0 18px;\r\n  overflow: hidden;\r\n  background-color: #fff;\r\n  height: 0px;\r\n  -moz-transition: height .2s ease-out;\r\n  -ms-transition: height .2s ease-out;\r\n  -o-transition: height .2s ease-out;\r\n  -webkit-transition: height .2s ease-out;\r\n  transition: height .2s ease-out;\r\n}\r\n</style>\r\n\r\n<button type='button' class='collapsible'>▶ View Query Metrics</button>\r\n  \r\n<div class='content'>\r\n  <div class='measuringWrapper'>\r\n    <span style=\"color:#0078D4\"><b>totalExecutionTimeInMs    </b>:    8.53<br/><b>queryCompileTimeInMs    </b>:    0.16<br/><b>queryLogicalPlanBuildTimeInMs    </b>:    0.04<br/><b>queryPhysicalPlanBuildTimeInMs    </b>:    0.05<br/><b>queryOptimizationTimeInMs    </b>:    0<br/><b>VMExecutionTimeInMs    </b>:    8.02<br/><b>indexLookupTimeInMs    </b>:    0.31<br/><b>documentLoadTimeInMs    </b>:    3.51<br/><b>systemFunctionExecuteTimeInMs    </b>:    0<br/><b>userFunctionExecuteTimeInMs    </b>:    0<br/><b>retrievedDocumentCount    </b>:    701<br/><b>retrievedDocumentSize    </b>:    338390<br/><b>outputDocumentCount    </b>:    701<br/><b>outputDocumentSize    </b>:    124356<br/><b>writeOutputTimeInMs    </b>:    0.88<br/><b>averageIndexUtilizationRation    </b>:    1<br/></span>\r\n  </div>\r\n</div>\r\n\r\n<script>\r\nvar coll = document.getElementsByClassName('collapsible');\r\nvar i;\r\n\r\nfor (i = 0; i < coll.length; i++) {\r\n  \r\n  coll[i].addEventListener('click', function() {\r\n    this.classList.toggle('active');\r\n    var content = this.nextElementSibling;\r\n    \r\n    if (content.clientHeight != 0) {\r\n      this.textContent = '▶ View Query Metrics';\r\n      content.style.height = '0px';\r\n    }\r\n    else {\r\n      this.textContent = '▼ Hide Query Metrics';\r\n      content.style.height = content.children[0].clientHeight + 'px';\r\n    }\r\n  });\r\n}\r\n</script>\r\n</div>"
          },
          "metadata": {},
          "output_type": "display_data"
        },
        {
          "data": {
            "text/html": "<div>\n<style scoped>\n    .dataframe tbody tr th:only-of-type {\n        vertical-align: middle;\n    }\n\n    .dataframe tbody tr th {\n        vertical-align: top;\n    }\n\n    .dataframe thead th {\n        text-align: right;\n    }\n</style>\n<table border=\"1\" class=\"dataframe\">\n  <thead>\n    <tr style=\"text-align: right;\">\n      <th></th>\n      <th>name</th>\n      <th>stateProvinceName</th>\n      <th>city</th>\n    </tr>\n  </thead>\n  <tbody>\n    <tr>\n      <th>0</th>\n      <td>A Bicycle Association</td>\n      <td>New York</td>\n      <td>De Witt</td>\n    </tr>\n    <tr>\n      <th>1</th>\n      <td>A Bike Store</td>\n      <td>Washington</td>\n      <td>Seattle</td>\n    </tr>\n    <tr>\n      <th>2</th>\n      <td>A Cycle Shop</td>\n      <td>Oregon</td>\n      <td>Albany</td>\n    </tr>\n    <tr>\n      <th>3</th>\n      <td>A Great Bicycle Company</td>\n      <td>Missouri</td>\n      <td>Jefferson City</td>\n    </tr>\n    <tr>\n      <th>4</th>\n      <td>A Typical Bike Shop</td>\n      <td>Texas</td>\n      <td>Round Rock</td>\n    </tr>\n    <tr>\n      <th>...</th>\n      <td>...</td>\n      <td>...</td>\n      <td>...</td>\n    </tr>\n    <tr>\n      <th>696</th>\n      <td>World of Bikes</td>\n      <td>Missouri</td>\n      <td>Saint Louis</td>\n    </tr>\n    <tr>\n      <th>697</th>\n      <td>Worthwhile Activity Store</td>\n      <td>Florida</td>\n      <td>Miami</td>\n    </tr>\n    <tr>\n      <th>698</th>\n      <td>Year-Round Sports</td>\n      <td>Washington</td>\n      <td>Kent</td>\n    </tr>\n    <tr>\n      <th>699</th>\n      <td>Yellow Bicycle Company</td>\n      <td>Missouri</td>\n      <td>Saint Louis</td>\n    </tr>\n    <tr>\n      <th>700</th>\n      <td>eCommerce Bikes</td>\n      <td>Mississippi</td>\n      <td>Gulfport</td>\n    </tr>\n  </tbody>\n</table>\n<p>701 rows × 3 columns</p>\n</div>",
            "text/plain": "                          name stateProvinceName            city\n0        A Bicycle Association          New York         De Witt\n1                 A Bike Store        Washington         Seattle\n2                 A Cycle Shop            Oregon          Albany\n3      A Great Bicycle Company          Missouri  Jefferson City\n4          A Typical Bike Shop             Texas      Round Rock\n..                         ...               ...             ...\n696             World of Bikes          Missouri     Saint Louis\n697  Worthwhile Activity Store           Florida           Miami\n698          Year-Round Sports        Washington            Kent\n699     Yellow Bicycle Company          Missouri     Saint Louis\n700            eCommerce Bikes       Mississippi        Gulfport\n\n[701 rows x 3 columns]"
          },
          "metadata": {},
          "output_type": "display_data"
        }
      ],
      "source": "%%sql\n\nSELECT\n    c.name,\n    c.address.location.stateProvinceName,\n    c.address.location.city\nFROM c\nORDER BY c.name"
    },
    {
      "cell_type": "markdown",
      "metadata": {},
      "source": "**Sort descending**"
    },
    {
      "cell_type": "code",
      "execution_count": 32,
      "metadata": {
        "collapsed": false,
        "execution": {
          "iopub.execute_input": "2020-06-13T14:29:36.996Z",
          "iopub.status.busy": "2020-06-13T14:29:36.055Z",
          "iopub.status.idle": "2020-06-13T14:29:37.360Z",
          "shell.execute_reply": "2020-06-13T14:29:37.490Z"
        },
        "inputHidden": false,
        "outputHidden": false,
        "trusted": true
      },
      "outputs": [
        {
          "data": {
            "text/html": "\r\n<div>\r\n  <style type='text/css' scoped>\r\n.collapsible {\r\n  background-color: #fff;\r\n  color: #0078D4;\r\n  cursor: pointer;\r\n  padding: 10px;\r\n  border: none;\r\n  text-align: left;\r\n  outline: none;\r\n  font-size: 15px;\r\n  border-radius: 5px;\r\n  margin: 5px\r\n}\r\n\r\n.active, .collapsible:hover {\r\n  color: #4db2ff;\r\n}\r\n\r\n.content {\r\n  margin: 2px;\r\n  padding: 0 18px;\r\n  overflow: hidden;\r\n  background-color: #fff;\r\n  height: 0px;\r\n  -moz-transition: height .2s ease-out;\r\n  -ms-transition: height .2s ease-out;\r\n  -o-transition: height .2s ease-out;\r\n  -webkit-transition: height .2s ease-out;\r\n  transition: height .2s ease-out;\r\n}\r\n</style>\r\n\r\n<button type='button' class='collapsible'>▶ View Query Metrics</button>\r\n  \r\n<div class='content'>\r\n  <div class='measuringWrapper'>\r\n    <span style=\"color:#0078D4\"><b>totalExecutionTimeInMs    </b>:    8.16<br/><b>queryCompileTimeInMs    </b>:    0.17<br/><b>queryLogicalPlanBuildTimeInMs    </b>:    0.03<br/><b>queryPhysicalPlanBuildTimeInMs    </b>:    0.06<br/><b>queryOptimizationTimeInMs    </b>:    0<br/><b>VMExecutionTimeInMs    </b>:    7.67<br/><b>indexLookupTimeInMs    </b>:    0.17<br/><b>documentLoadTimeInMs    </b>:    3.39<br/><b>systemFunctionExecuteTimeInMs    </b>:    0<br/><b>userFunctionExecuteTimeInMs    </b>:    0<br/><b>retrievedDocumentCount    </b>:    701<br/><b>retrievedDocumentSize    </b>:    338390<br/><b>outputDocumentCount    </b>:    701<br/><b>outputDocumentSize    </b>:    124356<br/><b>writeOutputTimeInMs    </b>:    0.75<br/><b>averageIndexUtilizationRation    </b>:    1<br/></span>\r\n  </div>\r\n</div>\r\n\r\n<script>\r\nvar coll = document.getElementsByClassName('collapsible');\r\nvar i;\r\n\r\nfor (i = 0; i < coll.length; i++) {\r\n  \r\n  coll[i].addEventListener('click', function() {\r\n    this.classList.toggle('active');\r\n    var content = this.nextElementSibling;\r\n    \r\n    if (content.clientHeight != 0) {\r\n      this.textContent = '▶ View Query Metrics';\r\n      content.style.height = '0px';\r\n    }\r\n    else {\r\n      this.textContent = '▼ Hide Query Metrics';\r\n      content.style.height = content.children[0].clientHeight + 'px';\r\n    }\r\n  });\r\n}\r\n</script>\r\n</div>"
          },
          "metadata": {},
          "output_type": "display_data"
        },
        {
          "data": {
            "text/html": "<div>\n<style scoped>\n    .dataframe tbody tr th:only-of-type {\n        vertical-align: middle;\n    }\n\n    .dataframe tbody tr th {\n        vertical-align: top;\n    }\n\n    .dataframe thead th {\n        text-align: right;\n    }\n</style>\n<table border=\"1\" class=\"dataframe\">\n  <thead>\n    <tr style=\"text-align: right;\">\n      <th></th>\n      <th>name</th>\n      <th>stateProvinceName</th>\n      <th>city</th>\n    </tr>\n  </thead>\n  <tbody>\n    <tr>\n      <th>0</th>\n      <td>eCommerce Bikes</td>\n      <td>Mississippi</td>\n      <td>Gulfport</td>\n    </tr>\n    <tr>\n      <th>1</th>\n      <td>Yellow Bicycle Company</td>\n      <td>Missouri</td>\n      <td>Saint Louis</td>\n    </tr>\n    <tr>\n      <th>2</th>\n      <td>Year-Round Sports</td>\n      <td>Washington</td>\n      <td>Kent</td>\n    </tr>\n    <tr>\n      <th>3</th>\n      <td>Worthwhile Activity Store</td>\n      <td>Florida</td>\n      <td>Miami</td>\n    </tr>\n    <tr>\n      <th>4</th>\n      <td>World of Bikes</td>\n      <td>Missouri</td>\n      <td>Saint Louis</td>\n    </tr>\n    <tr>\n      <th>...</th>\n      <td>...</td>\n      <td>...</td>\n      <td>...</td>\n    </tr>\n    <tr>\n      <th>696</th>\n      <td>A Typical Bike Shop</td>\n      <td>Texas</td>\n      <td>Round Rock</td>\n    </tr>\n    <tr>\n      <th>697</th>\n      <td>A Great Bicycle Company</td>\n      <td>Missouri</td>\n      <td>Jefferson City</td>\n    </tr>\n    <tr>\n      <th>698</th>\n      <td>A Cycle Shop</td>\n      <td>Oregon</td>\n      <td>Albany</td>\n    </tr>\n    <tr>\n      <th>699</th>\n      <td>A Bike Store</td>\n      <td>Washington</td>\n      <td>Seattle</td>\n    </tr>\n    <tr>\n      <th>700</th>\n      <td>A Bicycle Association</td>\n      <td>New York</td>\n      <td>De Witt</td>\n    </tr>\n  </tbody>\n</table>\n<p>701 rows × 3 columns</p>\n</div>",
            "text/plain": "                          name stateProvinceName            city\n0              eCommerce Bikes       Mississippi        Gulfport\n1       Yellow Bicycle Company          Missouri     Saint Louis\n2            Year-Round Sports        Washington            Kent\n3    Worthwhile Activity Store           Florida           Miami\n4               World of Bikes          Missouri     Saint Louis\n..                         ...               ...             ...\n696        A Typical Bike Shop             Texas      Round Rock\n697    A Great Bicycle Company          Missouri  Jefferson City\n698               A Cycle Shop            Oregon          Albany\n699               A Bike Store        Washington         Seattle\n700      A Bicycle Association          New York         De Witt\n\n[701 rows x 3 columns]"
          },
          "metadata": {},
          "output_type": "display_data"
        }
      ],
      "source": "%%sql\n\nSELECT\n    c.name,\n    c.address.location.stateProvinceName,\n    c.address.location.city\nFROM c\nORDER BY c.name DESC"
    },
    {
      "cell_type": "markdown",
      "metadata": {},
      "source": "## TOP and OFFSET...LIMIT\n\nGet the first page (TOP) or any page (OFFSET...LIMIT) of a sorted resultset."
    },
    {
      "cell_type": "markdown",
      "metadata": {},
      "source": "**Limit results with TOP**"
    },
    {
      "cell_type": "code",
      "execution_count": 33,
      "metadata": {
        "collapsed": false,
        "execution": {
          "iopub.execute_input": "2020-06-13T14:29:38.380Z",
          "iopub.status.busy": "2020-06-13T14:29:37.678Z",
          "iopub.status.idle": "2020-06-13T14:29:38.514Z",
          "shell.execute_reply": "2020-06-13T14:29:38.539Z"
        },
        "inputHidden": false,
        "outputHidden": false,
        "trusted": true
      },
      "outputs": [
        {
          "data": {
            "text/html": "\r\n<div>\r\n  <style type='text/css' scoped>\r\n.collapsible {\r\n  background-color: #fff;\r\n  color: #0078D4;\r\n  cursor: pointer;\r\n  padding: 10px;\r\n  border: none;\r\n  text-align: left;\r\n  outline: none;\r\n  font-size: 15px;\r\n  border-radius: 5px;\r\n  margin: 5px\r\n}\r\n\r\n.active, .collapsible:hover {\r\n  color: #4db2ff;\r\n}\r\n\r\n.content {\r\n  margin: 2px;\r\n  padding: 0 18px;\r\n  overflow: hidden;\r\n  background-color: #fff;\r\n  height: 0px;\r\n  -moz-transition: height .2s ease-out;\r\n  -ms-transition: height .2s ease-out;\r\n  -o-transition: height .2s ease-out;\r\n  -webkit-transition: height .2s ease-out;\r\n  transition: height .2s ease-out;\r\n}\r\n</style>\r\n\r\n<button type='button' class='collapsible'>▶ View Query Metrics</button>\r\n  \r\n<div class='content'>\r\n  <div class='measuringWrapper'>\r\n    <span style=\"color:#0078D4\"><b>totalExecutionTimeInMs    </b>:    3.62<br/><b>queryCompileTimeInMs    </b>:    0.16<br/><b>queryLogicalPlanBuildTimeInMs    </b>:    0.06<br/><b>queryPhysicalPlanBuildTimeInMs    </b>:    0.08<br/><b>queryOptimizationTimeInMs    </b>:    0.01<br/><b>VMExecutionTimeInMs    </b>:    3.07<br/><b>indexLookupTimeInMs    </b>:    0.12<br/><b>documentLoadTimeInMs    </b>:    2.38<br/><b>systemFunctionExecuteTimeInMs    </b>:    0<br/><b>userFunctionExecuteTimeInMs    </b>:    0<br/><b>retrievedDocumentCount    </b>:    427<br/><b>retrievedDocumentSize    </b>:    206567<br/><b>outputDocumentCount    </b>:    10<br/><b>outputDocumentSize    </b>:    1458<br/><b>writeOutputTimeInMs    </b>:    0.01<br/><b>averageIndexUtilizationRation    </b>:    1<br/></span>\r\n  </div>\r\n</div>\r\n\r\n<script>\r\nvar coll = document.getElementsByClassName('collapsible');\r\nvar i;\r\n\r\nfor (i = 0; i < coll.length; i++) {\r\n  \r\n  coll[i].addEventListener('click', function() {\r\n    this.classList.toggle('active');\r\n    var content = this.nextElementSibling;\r\n    \r\n    if (content.clientHeight != 0) {\r\n      this.textContent = '▶ View Query Metrics';\r\n      content.style.height = '0px';\r\n    }\r\n    else {\r\n      this.textContent = '▼ Hide Query Metrics';\r\n      content.style.height = content.children[0].clientHeight + 'px';\r\n    }\r\n  });\r\n}\r\n</script>\r\n</div>"
          },
          "metadata": {},
          "output_type": "display_data"
        },
        {
          "data": {
            "text/html": "<div>\n<style scoped>\n    .dataframe tbody tr th:only-of-type {\n        vertical-align: middle;\n    }\n\n    .dataframe tbody tr th {\n        vertical-align: top;\n    }\n\n    .dataframe thead th {\n        text-align: right;\n    }\n</style>\n<table border=\"1\" class=\"dataframe\">\n  <thead>\n    <tr style=\"text-align: right;\">\n      <th></th>\n      <th>name</th>\n      <th>city</th>\n    </tr>\n  </thead>\n  <tbody>\n    <tr>\n      <th>0</th>\n      <td>A Bicycle Association</td>\n      <td>De Witt</td>\n    </tr>\n    <tr>\n      <th>1</th>\n      <td>A Bike Store</td>\n      <td>Seattle</td>\n    </tr>\n    <tr>\n      <th>2</th>\n      <td>A Cycle Shop</td>\n      <td>Albany</td>\n    </tr>\n    <tr>\n      <th>3</th>\n      <td>A Great Bicycle Company</td>\n      <td>Jefferson City</td>\n    </tr>\n    <tr>\n      <th>4</th>\n      <td>A Typical Bike Shop</td>\n      <td>Round Rock</td>\n    </tr>\n    <tr>\n      <th>5</th>\n      <td>Acclaimed Bicycle Company</td>\n      <td>Mcdonough</td>\n    </tr>\n    <tr>\n      <th>6</th>\n      <td>Active Cycling</td>\n      <td>Heath</td>\n    </tr>\n    <tr>\n      <th>7</th>\n      <td>Active Systems</td>\n      <td>Duluth</td>\n    </tr>\n    <tr>\n      <th>8</th>\n      <td>Active Transport Inc.</td>\n      <td>North Randall</td>\n    </tr>\n    <tr>\n      <th>9</th>\n      <td>Activity Center</td>\n      <td>Crossville</td>\n    </tr>\n  </tbody>\n</table>\n</div>",
            "text/plain": "                        name            city\n0      A Bicycle Association         De Witt\n1               A Bike Store         Seattle\n2               A Cycle Shop          Albany\n3    A Great Bicycle Company  Jefferson City\n4        A Typical Bike Shop      Round Rock\n5  Acclaimed Bicycle Company       Mcdonough\n6             Active Cycling           Heath\n7             Active Systems          Duluth\n8      Active Transport Inc.   North Randall\n9            Activity Center      Crossville"
          },
          "metadata": {},
          "output_type": "display_data"
        }
      ],
      "source": "%%sql\n\nSELECT TOP 10 c.name, c.address.location.city\nFROM c\nWHERE c.address.countryRegionName = 'United States'\nORDER BY c.name"
    },
    {
      "cell_type": "markdown",
      "metadata": {},
      "source": "**Paged results with OFFSET...LIMIT**"
    },
    {
      "cell_type": "code",
      "execution_count": 34,
      "metadata": {
        "collapsed": false,
        "execution": {
          "iopub.execute_input": "2020-06-13T14:29:38.588Z",
          "iopub.status.busy": "2020-06-13T14:29:38.564Z",
          "iopub.status.idle": "2020-06-13T14:29:38.631Z",
          "shell.execute_reply": "2020-06-13T14:29:38.651Z"
        },
        "inputHidden": false,
        "outputHidden": false,
        "trusted": true
      },
      "outputs": [
        {
          "data": {
            "text/html": "\r\n<div>\r\n  <style type='text/css' scoped>\r\n.collapsible {\r\n  background-color: #fff;\r\n  color: #0078D4;\r\n  cursor: pointer;\r\n  padding: 10px;\r\n  border: none;\r\n  text-align: left;\r\n  outline: none;\r\n  font-size: 15px;\r\n  border-radius: 5px;\r\n  margin: 5px\r\n}\r\n\r\n.active, .collapsible:hover {\r\n  color: #4db2ff;\r\n}\r\n\r\n.content {\r\n  margin: 2px;\r\n  padding: 0 18px;\r\n  overflow: hidden;\r\n  background-color: #fff;\r\n  height: 0px;\r\n  -moz-transition: height .2s ease-out;\r\n  -ms-transition: height .2s ease-out;\r\n  -o-transition: height .2s ease-out;\r\n  -webkit-transition: height .2s ease-out;\r\n  transition: height .2s ease-out;\r\n}\r\n</style>\r\n\r\n<button type='button' class='collapsible'>▶ View Query Metrics</button>\r\n  \r\n<div class='content'>\r\n  <div class='measuringWrapper'>\r\n    <span style=\"color:#0078D4\"><b>totalExecutionTimeInMs    </b>:    3.5<br/><b>queryCompileTimeInMs    </b>:    0.15<br/><b>queryLogicalPlanBuildTimeInMs    </b>:    0.06<br/><b>queryPhysicalPlanBuildTimeInMs    </b>:    0.08<br/><b>queryOptimizationTimeInMs    </b>:    0.02<br/><b>VMExecutionTimeInMs    </b>:    2.99<br/><b>indexLookupTimeInMs    </b>:    0.1<br/><b>documentLoadTimeInMs    </b>:    2.29<br/><b>systemFunctionExecuteTimeInMs    </b>:    0<br/><b>userFunctionExecuteTimeInMs    </b>:    0<br/><b>retrievedDocumentCount    </b>:    427<br/><b>retrievedDocumentSize    </b>:    206567<br/><b>outputDocumentCount    </b>:    20<br/><b>outputDocumentSize    </b>:    2963<br/><b>writeOutputTimeInMs    </b>:    0.02<br/><b>averageIndexUtilizationRation    </b>:    1<br/></span>\r\n  </div>\r\n</div>\r\n\r\n<script>\r\nvar coll = document.getElementsByClassName('collapsible');\r\nvar i;\r\n\r\nfor (i = 0; i < coll.length; i++) {\r\n  \r\n  coll[i].addEventListener('click', function() {\r\n    this.classList.toggle('active');\r\n    var content = this.nextElementSibling;\r\n    \r\n    if (content.clientHeight != 0) {\r\n      this.textContent = '▶ View Query Metrics';\r\n      content.style.height = '0px';\r\n    }\r\n    else {\r\n      this.textContent = '▼ Hide Query Metrics';\r\n      content.style.height = content.children[0].clientHeight + 'px';\r\n    }\r\n  });\r\n}\r\n</script>\r\n</div>"
          },
          "metadata": {},
          "output_type": "display_data"
        },
        {
          "data": {
            "text/html": "<div>\n<style scoped>\n    .dataframe tbody tr th:only-of-type {\n        vertical-align: middle;\n    }\n\n    .dataframe tbody tr th {\n        vertical-align: top;\n    }\n\n    .dataframe thead th {\n        text-align: right;\n    }\n</style>\n<table border=\"1\" class=\"dataframe\">\n  <thead>\n    <tr style=\"text-align: right;\">\n      <th></th>\n      <th>name</th>\n      <th>city</th>\n    </tr>\n  </thead>\n  <tbody>\n    <tr>\n      <th>0</th>\n      <td>Advanced Bike Components</td>\n      <td>Irving</td>\n    </tr>\n    <tr>\n      <th>1</th>\n      <td>Aerobic Exercise Company</td>\n      <td>Camarillo</td>\n    </tr>\n    <tr>\n      <th>2</th>\n      <td>Affordable Sports Equipment</td>\n      <td>Lake Elsinore</td>\n    </tr>\n    <tr>\n      <th>3</th>\n      <td>All Cycle Shop</td>\n      <td>Bothell</td>\n    </tr>\n    <tr>\n      <th>4</th>\n      <td>All Seasons Sports Supply</td>\n      <td>Houston</td>\n    </tr>\n    <tr>\n      <th>5</th>\n      <td>Alpine Ski House</td>\n      <td>Elk Grove</td>\n    </tr>\n    <tr>\n      <th>6</th>\n      <td>Alternative Vehicles</td>\n      <td>Washougal</td>\n    </tr>\n    <tr>\n      <th>7</th>\n      <td>Another Bicycle Company</td>\n      <td>Milwaukie</td>\n    </tr>\n    <tr>\n      <th>8</th>\n      <td>Another Sporting Goods Company</td>\n      <td>Westminster</td>\n    </tr>\n    <tr>\n      <th>9</th>\n      <td>Area Bike Accessories</td>\n      <td>Modesto</td>\n    </tr>\n  </tbody>\n</table>\n</div>",
            "text/plain": "                             name           city\n0        Advanced Bike Components         Irving\n1        Aerobic Exercise Company      Camarillo\n2     Affordable Sports Equipment  Lake Elsinore\n3                  All Cycle Shop        Bothell\n4       All Seasons Sports Supply        Houston\n5                Alpine Ski House      Elk Grove\n6            Alternative Vehicles      Washougal\n7         Another Bicycle Company      Milwaukie\n8  Another Sporting Goods Company    Westminster\n9           Area Bike Accessories        Modesto"
          },
          "metadata": {},
          "output_type": "display_data"
        }
      ],
      "source": "%%sql\n\nSELECT c.name, c.address.location.city\nFROM c\nWHERE c.address.countryRegionName = 'United States'\nORDER BY c.name\nOFFSET 10 LIMIT 10"
    },
    {
      "cell_type": "markdown",
      "metadata": {},
      "source": "## Subset filtering"
    },
    {
      "cell_type": "markdown",
      "metadata": {},
      "source": "**Get all city and state names**"
    },
    {
      "cell_type": "code",
      "execution_count": 35,
      "metadata": {
        "collapsed": false,
        "execution": {
          "iopub.execute_input": "2020-06-13T14:29:38.847Z",
          "iopub.status.busy": "2020-06-13T14:29:38.677Z",
          "iopub.status.idle": "2020-06-13T14:29:38.977Z",
          "shell.execute_reply": "2020-06-13T14:29:38.997Z"
        },
        "inputHidden": false,
        "outputHidden": false,
        "trusted": true
      },
      "outputs": [
        {
          "data": {
            "text/html": "\r\n<div>\r\n  <style type='text/css' scoped>\r\n.collapsible {\r\n  background-color: #fff;\r\n  color: #0078D4;\r\n  cursor: pointer;\r\n  padding: 10px;\r\n  border: none;\r\n  text-align: left;\r\n  outline: none;\r\n  font-size: 15px;\r\n  border-radius: 5px;\r\n  margin: 5px\r\n}\r\n\r\n.active, .collapsible:hover {\r\n  color: #4db2ff;\r\n}\r\n\r\n.content {\r\n  margin: 2px;\r\n  padding: 0 18px;\r\n  overflow: hidden;\r\n  background-color: #fff;\r\n  height: 0px;\r\n  -moz-transition: height .2s ease-out;\r\n  -ms-transition: height .2s ease-out;\r\n  -o-transition: height .2s ease-out;\r\n  -webkit-transition: height .2s ease-out;\r\n  transition: height .2s ease-out;\r\n}\r\n</style>\r\n\r\n<button type='button' class='collapsible'>▶ View Query Metrics</button>\r\n  \r\n<div class='content'>\r\n  <div class='measuringWrapper'>\r\n    <span style=\"color:#0078D4\"><b>totalExecutionTimeInMs    </b>:    6.06<br/><b>queryCompileTimeInMs    </b>:    0.12<br/><b>queryLogicalPlanBuildTimeInMs    </b>:    0.03<br/><b>queryPhysicalPlanBuildTimeInMs    </b>:    0.03<br/><b>queryOptimizationTimeInMs    </b>:    0<br/><b>VMExecutionTimeInMs    </b>:    5.62<br/><b>indexLookupTimeInMs    </b>:    0<br/><b>documentLoadTimeInMs    </b>:    3.49<br/><b>systemFunctionExecuteTimeInMs    </b>:    0<br/><b>userFunctionExecuteTimeInMs    </b>:    0<br/><b>retrievedDocumentCount    </b>:    701<br/><b>retrievedDocumentSize    </b>:    338390<br/><b>outputDocumentCount    </b>:    701<br/><b>outputDocumentSize    </b>:    36557<br/><b>writeOutputTimeInMs    </b>:    0.32<br/><b>averageIndexUtilizationRation    </b>:    1<br/></span>\r\n  </div>\r\n</div>\r\n\r\n<script>\r\nvar coll = document.getElementsByClassName('collapsible');\r\nvar i;\r\n\r\nfor (i = 0; i < coll.length; i++) {\r\n  \r\n  coll[i].addEventListener('click', function() {\r\n    this.classList.toggle('active');\r\n    var content = this.nextElementSibling;\r\n    \r\n    if (content.clientHeight != 0) {\r\n      this.textContent = '▶ View Query Metrics';\r\n      content.style.height = '0px';\r\n    }\r\n    else {\r\n      this.textContent = '▼ Hide Query Metrics';\r\n      content.style.height = content.children[0].clientHeight + 'px';\r\n    }\r\n  });\r\n}\r\n</script>\r\n</div>"
          },
          "metadata": {},
          "output_type": "display_data"
        },
        {
          "data": {
            "text/html": "<div>\n<style scoped>\n    .dataframe tbody tr th:only-of-type {\n        vertical-align: middle;\n    }\n\n    .dataframe tbody tr th {\n        vertical-align: top;\n    }\n\n    .dataframe thead th {\n        text-align: right;\n    }\n</style>\n<table border=\"1\" class=\"dataframe\">\n  <thead>\n    <tr style=\"text-align: right;\">\n      <th></th>\n      <th>city</th>\n      <th>stateProvinceName</th>\n    </tr>\n  </thead>\n  <tbody>\n    <tr>\n      <th>0</th>\n      <td>Scottsdale</td>\n      <td>Arizona</td>\n    </tr>\n    <tr>\n      <th>1</th>\n      <td>Birmingham</td>\n      <td>Alabama</td>\n    </tr>\n    <tr>\n      <th>2</th>\n      <td>Phoenix</td>\n      <td>Arizona</td>\n    </tr>\n    <tr>\n      <th>3</th>\n      <td>Raleigh</td>\n      <td>North Carolina</td>\n    </tr>\n    <tr>\n      <th>4</th>\n      <td>Memphis</td>\n      <td>Tennessee</td>\n    </tr>\n    <tr>\n      <th>...</th>\n      <td>...</td>\n      <td>...</td>\n    </tr>\n    <tr>\n      <th>696</th>\n      <td>Tupelo</td>\n      <td>Mississippi</td>\n    </tr>\n    <tr>\n      <th>697</th>\n      <td>Spokane</td>\n      <td>Washington</td>\n    </tr>\n    <tr>\n      <th>698</th>\n      <td>Burnaby</td>\n      <td>British Columbia</td>\n    </tr>\n    <tr>\n      <th>699</th>\n      <td>Milton Keynes</td>\n      <td>England</td>\n    </tr>\n    <tr>\n      <th>700</th>\n      <td>San Antonio</td>\n      <td>Texas</td>\n    </tr>\n  </tbody>\n</table>\n<p>701 rows × 2 columns</p>\n</div>",
            "text/plain": "              city stateProvinceName\n0       Scottsdale           Arizona\n1       Birmingham           Alabama\n2          Phoenix           Arizona\n3          Raleigh    North Carolina\n4          Memphis         Tennessee\n..             ...               ...\n696         Tupelo       Mississippi\n697        Spokane        Washington\n698        Burnaby  British Columbia\n699  Milton Keynes           England\n700    San Antonio             Texas\n\n[701 rows x 2 columns]"
          },
          "metadata": {},
          "output_type": "display_data"
        }
      ],
      "source": "%%sql\n\nSELECT\n c.address.location.city,\n c.address.location.stateProvinceName\nFROM c"
    },
    {
      "cell_type": "markdown",
      "metadata": {},
      "source": "**Simpler by reducing subset**"
    },
    {
      "cell_type": "code",
      "execution_count": 36,
      "metadata": {
        "collapsed": false,
        "execution": {
          "iopub.execute_input": "2020-06-13T14:29:39.043Z",
          "iopub.status.busy": "2020-06-13T14:29:39.021Z",
          "iopub.status.idle": "2020-06-13T14:29:39.102Z",
          "shell.execute_reply": "2020-06-13T14:29:39.133Z"
        },
        "inputHidden": false,
        "outputHidden": false,
        "trusted": true
      },
      "outputs": [
        {
          "data": {
            "text/html": "\r\n<div>\r\n  <style type='text/css' scoped>\r\n.collapsible {\r\n  background-color: #fff;\r\n  color: #0078D4;\r\n  cursor: pointer;\r\n  padding: 10px;\r\n  border: none;\r\n  text-align: left;\r\n  outline: none;\r\n  font-size: 15px;\r\n  border-radius: 5px;\r\n  margin: 5px\r\n}\r\n\r\n.active, .collapsible:hover {\r\n  color: #4db2ff;\r\n}\r\n\r\n.content {\r\n  margin: 2px;\r\n  padding: 0 18px;\r\n  overflow: hidden;\r\n  background-color: #fff;\r\n  height: 0px;\r\n  -moz-transition: height .2s ease-out;\r\n  -ms-transition: height .2s ease-out;\r\n  -o-transition: height .2s ease-out;\r\n  -webkit-transition: height .2s ease-out;\r\n  transition: height .2s ease-out;\r\n}\r\n</style>\r\n\r\n<button type='button' class='collapsible'>▶ View Query Metrics</button>\r\n  \r\n<div class='content'>\r\n  <div class='measuringWrapper'>\r\n    <span style=\"color:#0078D4\"><b>totalExecutionTimeInMs    </b>:    5.32<br/><b>queryCompileTimeInMs    </b>:    0.1<br/><b>queryLogicalPlanBuildTimeInMs    </b>:    0.06<br/><b>queryPhysicalPlanBuildTimeInMs    </b>:    0.08<br/><b>queryOptimizationTimeInMs    </b>:    0.01<br/><b>VMExecutionTimeInMs    </b>:    4.88<br/><b>indexLookupTimeInMs    </b>:    0.2<br/><b>documentLoadTimeInMs    </b>:    3.58<br/><b>systemFunctionExecuteTimeInMs    </b>:    0<br/><b>userFunctionExecuteTimeInMs    </b>:    0<br/><b>retrievedDocumentCount    </b>:    701<br/><b>retrievedDocumentSize    </b>:    338390<br/><b>outputDocumentCount    </b>:    701<br/><b>outputDocumentSize    </b>:    36557<br/><b>writeOutputTimeInMs    </b>:    0.15<br/><b>averageIndexUtilizationRation    </b>:    1<br/></span>\r\n  </div>\r\n</div>\r\n\r\n<script>\r\nvar coll = document.getElementsByClassName('collapsible');\r\nvar i;\r\n\r\nfor (i = 0; i < coll.length; i++) {\r\n  \r\n  coll[i].addEventListener('click', function() {\r\n    this.classList.toggle('active');\r\n    var content = this.nextElementSibling;\r\n    \r\n    if (content.clientHeight != 0) {\r\n      this.textContent = '▶ View Query Metrics';\r\n      content.style.height = '0px';\r\n    }\r\n    else {\r\n      this.textContent = '▼ Hide Query Metrics';\r\n      content.style.height = content.children[0].clientHeight + 'px';\r\n    }\r\n  });\r\n}\r\n</script>\r\n</div>"
          },
          "metadata": {},
          "output_type": "display_data"
        },
        {
          "data": {
            "text/html": "<div>\n<style scoped>\n    .dataframe tbody tr th:only-of-type {\n        vertical-align: middle;\n    }\n\n    .dataframe tbody tr th {\n        vertical-align: top;\n    }\n\n    .dataframe thead th {\n        text-align: right;\n    }\n</style>\n<table border=\"1\" class=\"dataframe\">\n  <thead>\n    <tr style=\"text-align: right;\">\n      <th></th>\n      <th>city</th>\n      <th>stateProvinceName</th>\n    </tr>\n  </thead>\n  <tbody>\n    <tr>\n      <th>0</th>\n      <td>Scottsdale</td>\n      <td>Arizona</td>\n    </tr>\n    <tr>\n      <th>1</th>\n      <td>Birmingham</td>\n      <td>Alabama</td>\n    </tr>\n    <tr>\n      <th>2</th>\n      <td>Phoenix</td>\n      <td>Arizona</td>\n    </tr>\n    <tr>\n      <th>3</th>\n      <td>Raleigh</td>\n      <td>North Carolina</td>\n    </tr>\n    <tr>\n      <th>4</th>\n      <td>Memphis</td>\n      <td>Tennessee</td>\n    </tr>\n    <tr>\n      <th>...</th>\n      <td>...</td>\n      <td>...</td>\n    </tr>\n    <tr>\n      <th>696</th>\n      <td>Tupelo</td>\n      <td>Mississippi</td>\n    </tr>\n    <tr>\n      <th>697</th>\n      <td>Spokane</td>\n      <td>Washington</td>\n    </tr>\n    <tr>\n      <th>698</th>\n      <td>Burnaby</td>\n      <td>British Columbia</td>\n    </tr>\n    <tr>\n      <th>699</th>\n      <td>Milton Keynes</td>\n      <td>England</td>\n    </tr>\n    <tr>\n      <th>700</th>\n      <td>San Antonio</td>\n      <td>Texas</td>\n    </tr>\n  </tbody>\n</table>\n<p>701 rows × 2 columns</p>\n</div>",
            "text/plain": "              city stateProvinceName\n0       Scottsdale           Arizona\n1       Birmingham           Alabama\n2          Phoenix           Arizona\n3          Raleigh    North Carolina\n4          Memphis         Tennessee\n..             ...               ...\n696         Tupelo       Mississippi\n697        Spokane        Washington\n698        Burnaby  British Columbia\n699  Milton Keynes           England\n700    San Antonio             Texas\n\n[701 rows x 2 columns]"
          },
          "metadata": {},
          "output_type": "display_data"
        }
      ],
      "source": "%%sql\n\nSELECT *\nFROM c.address.location"
    },
    {
      "cell_type": "markdown",
      "metadata": {},
      "source": "**Can't filter on subset without an alias**"
    },
    {
      "cell_type": "code",
      "execution_count": 41,
      "metadata": {
        "collapsed": false,
        "execution": {
          "iopub.status.busy": "2020-06-13T14:29:30.902Z",
          "iopub.status.idle": "2020-06-13T14:29:30.969Z",
          "shell.execute_reply": "2020-06-13T14:29:30.988Z"
        },
        "inputHidden": false,
        "outputHidden": false,
        "trusted": true
      },
      "outputs": [
        {
          "data": {
            "text/plain": "%%sql failed! Microsoft.Azure.Cosmos.CosmosException : Response status code does not indicate success: 400 Substatus: 0 Reason: (Microsoft.Azure.Cosmos.CosmosException : Response status code does not indicate success: 400 Substatus: 0 Reason: (Microsoft.Azure.Documents.DocumentClientException: Gateway Failed to Retrieve Query Plan: Message: {\"errors\":[{\"severity\":\"Error\",\"location\":{\"start\":39,\"end\":40},\"code\":\"SC2001\",\"message\":\"Identifier 'c' could not be resolved.\"}]}ActivityId: aaab2108-adcf-4f75-8a41-1419c789bd91, Microsoft.Azure.Documents.Common/2.11.0, Microsoft.Azure.Documents.Common/2.11.0, Linux/18.04 cosmos-netstandard-sdk/3.4.2   at Microsoft.Azure.Cosmos.GatewayStoreClient.ParseResponseAsync(HttpResponseMessage responseMessage, JsonSerializerSettings serializerSettings, DocumentServiceRequest request)   at Microsoft.Azure.Cosmos.GatewayStoreClient.InvokeAsync(DocumentServiceRequest request, ResourceType resourceType, Uri physicalAddress, CancellationToken cancellationToken)   at Microsoft.Azure.Cosmos.GatewayStoreModel.ProcessMessageAsync(DocumentServiceRequest request, CancellationToken cancellationToken)   at Microsoft.Azure.Cosmos.Handlers.TransportHandler.SendAsync(RequestMessage request, CancellationToken cancellationToken)).\nStatusCode = BadRequest;\nSubStatusCode = 0;\nActivityId = aaab2108-adcf-4f75-8a41-1419c789bd91;\nRequestCharge = 0;\n{\"ActivityId\":\"aaab2108-adcf-4f75-8a41-1419c789bd91\",\"StatusCode\":\"400\",\"SubStatusCode\":\"Unknown\",\"RequestCharge\":\"0\",\"ErrorMessage\":\"Microsoft.Azure.Documents.DocumentClientException: Gateway Failed to Retrieve Query Plan: Message: {\\\"errors\\\":[{\\\"severity\\\":\\\"Error\\\",\\\"location\\\":{\\\"start\\\":39,\\\"end\\\":40},\\\"code\\\":\\\"SC2001\\\",\\\"message\\\":\\\"Identifier \\u0027c\\u0027 could not be resolved.\\\"}]}ActivityId: aaab2108-adcf-4f75-8a41-1419c789bd91, Microsoft.Azure.Documents.Common/2.11.0, Microsoft.Azure.Documents.Common/2.11.0, Linux/18.04 cosmos-netstandard-sdk/3.4.2   at Microsoft.Azure.Cosmos.GatewayStoreClient.ParseResponseAsync(HttpResponseMessage responseMessage, JsonSerializerSettings serializerSettings, DocumentServiceRequest request)   at Microsoft.Azure.Cosmos.GatewayStoreClient.InvokeAsync(DocumentServiceRequest request, ResourceType resourceType, Uri physicalAddress, CancellationToken cancellationToken)   at Microsoft.Azure.Cosmos.GatewayStoreModel.ProcessMessageAsync(DocumentServiceRequest request, CancellationToken cancellationToken)   at Microsoft.Azure.Cosmos.Handlers.TransportHandler.SendAsync(RequestMessage request, CancellationToken cancellationToken)\",\"Method\":\"POST\",\"RequestUri\":\"dbs/mydb/colls/mystore\",\"RequestSessionToken\":\"0:-1#3\",\"ResponseSessionToken\":\"\"}\n   at Microsoft.Azure.Cosmos.ResponseMessage.EnsureSuccessStatusCode()\n   at Microsoft.Azure.Cosmos.CosmosQueryClientCore.ExecuteQueryPlanRequestAsync(Uri resourceUri, ResourceType resourceType, OperationType operationType, SqlQuerySpec sqlQuerySpec, String supportedQueryFeatures, CancellationToken cancellationToken)\n   at Microsoft.Azure.Cosmos.Query.Core.ExecutionContext.CosmosQueryExecutionContextFactory.TryCreateCoreContextAsync(CosmosQueryContext cosmosQueryContext, InputParameters inputParameters, CancellationToken cancellationToken)\n   at Microsoft.Azure.Cosmos.Query.Core.AsyncLazy`1.GetValueAsync(CancellationToken cancellationToken)\n   at Microsoft.Azure.Cosmos.Query.Core.ExecutionContext.LazyCosmosQueryExecutionContext.ExecuteNextAsync(CancellationToken cancellationToken)\n   at Microsoft.Azure.Cosmos.Query.Core.ExecutionContext.CosmosQueryExecutionContextWithNameCacheStaleRetry.ExecuteNextAsync(CancellationToken cancellationToken)\n   at Microsoft.Azure.Cosmos.Query.Core.ExecutionContext.CatchAllCosmosQueryExecutionContext.ExecuteNextAsync(CancellationToken cancellationToken)).\nStatusCode = BadRequest;\nSubStatusCode = 0;\nActivityId = aaab2108-adcf-4f75-8a41-1419c789bd91;\nRequestCharge = 0;\n[]\n   at Microsoft.Azure.Cosmos.ResponseMessage.EnsureSuccessStatusCode()\n   at Microsoft.Azure.Cosmos.CosmosResponseFactory.CreateQueryFeedResponseHelper[T](ResponseMessage cosmosResponseMessage, Boolean usePropertySerializer)\n   at Microsoft.Azure.Cosmos.FeedIteratorCore`1.ReadNextAsync(CancellationToken cancellationToken)\n   at Microsoft.Azure.Cosmos.Notebooks.Service.CustomMagics.SqlMagic.ExecuteSqlCommandInternalAsync(KernelConnection connection, ParseResult parseResult, String code, ExecuteRequestMessage executeRequestMessage)\n   at Microsoft.Azure.Cosmos.Notebooks.Service.CustomMagics.SqlMagic.ExecuteSqlCommandAsync(String code, KernelConnection connection, ExecuteRequestMessage executeRequestMessage)"
          },
          "metadata": {},
          "output_type": "display_data"
        }
      ],
      "source": "%%sql\n\nSELECT *\nFROM c.address.location\nWHERE c.address.location.stateProvinceName = 'Florida'"
    },
    {
      "cell_type": "markdown",
      "metadata": {},
      "source": "**Alias the subset to filter within the subset**"
    },
    {
      "cell_type": "code",
      "execution_count": 37,
      "metadata": {
        "collapsed": false,
        "execution": {
          "iopub.execute_input": "2020-06-13T14:29:39.350Z",
          "iopub.status.busy": "2020-06-13T14:29:39.156Z",
          "iopub.status.idle": "2020-06-13T14:29:39.478Z",
          "shell.execute_reply": "2020-06-13T14:29:39.498Z"
        },
        "inputHidden": false,
        "outputHidden": false,
        "trusted": true
      },
      "outputs": [
        {
          "data": {
            "text/html": "\r\n<div>\r\n  <style type='text/css' scoped>\r\n.collapsible {\r\n  background-color: #fff;\r\n  color: #0078D4;\r\n  cursor: pointer;\r\n  padding: 10px;\r\n  border: none;\r\n  text-align: left;\r\n  outline: none;\r\n  font-size: 15px;\r\n  border-radius: 5px;\r\n  margin: 5px\r\n}\r\n\r\n.active, .collapsible:hover {\r\n  color: #4db2ff;\r\n}\r\n\r\n.content {\r\n  margin: 2px;\r\n  padding: 0 18px;\r\n  overflow: hidden;\r\n  background-color: #fff;\r\n  height: 0px;\r\n  -moz-transition: height .2s ease-out;\r\n  -ms-transition: height .2s ease-out;\r\n  -o-transition: height .2s ease-out;\r\n  -webkit-transition: height .2s ease-out;\r\n  transition: height .2s ease-out;\r\n}\r\n</style>\r\n\r\n<button type='button' class='collapsible'>▶ View Query Metrics</button>\r\n  \r\n<div class='content'>\r\n  <div class='measuringWrapper'>\r\n    <span style=\"color:#0078D4\"><b>totalExecutionTimeInMs    </b>:    1.04<br/><b>queryCompileTimeInMs    </b>:    0.11<br/><b>queryLogicalPlanBuildTimeInMs    </b>:    0.04<br/><b>queryPhysicalPlanBuildTimeInMs    </b>:    0.06<br/><b>queryOptimizationTimeInMs    </b>:    0.01<br/><b>VMExecutionTimeInMs    </b>:    0.68<br/><b>indexLookupTimeInMs    </b>:    0.34<br/><b>documentLoadTimeInMs    </b>:    0.24<br/><b>systemFunctionExecuteTimeInMs    </b>:    0.01<br/><b>userFunctionExecuteTimeInMs    </b>:    0<br/><b>retrievedDocumentCount    </b>:    42<br/><b>retrievedDocumentSize    </b>:    20274<br/><b>outputDocumentCount    </b>:    42<br/><b>outputDocumentSize    </b>:    2151<br/><b>writeOutputTimeInMs    </b>:    0.01<br/><b>averageIndexUtilizationRation    </b>:    1<br/></span>\r\n  </div>\r\n</div>\r\n\r\n<script>\r\nvar coll = document.getElementsByClassName('collapsible');\r\nvar i;\r\n\r\nfor (i = 0; i < coll.length; i++) {\r\n  \r\n  coll[i].addEventListener('click', function() {\r\n    this.classList.toggle('active');\r\n    var content = this.nextElementSibling;\r\n    \r\n    if (content.clientHeight != 0) {\r\n      this.textContent = '▶ View Query Metrics';\r\n      content.style.height = '0px';\r\n    }\r\n    else {\r\n      this.textContent = '▼ Hide Query Metrics';\r\n      content.style.height = content.children[0].clientHeight + 'px';\r\n    }\r\n  });\r\n}\r\n</script>\r\n</div>"
          },
          "metadata": {},
          "output_type": "display_data"
        },
        {
          "data": {
            "text/html": "<div>\n<style scoped>\n    .dataframe tbody tr th:only-of-type {\n        vertical-align: middle;\n    }\n\n    .dataframe tbody tr th {\n        vertical-align: top;\n    }\n\n    .dataframe thead th {\n        text-align: right;\n    }\n</style>\n<table border=\"1\" class=\"dataframe\">\n  <thead>\n    <tr style=\"text-align: right;\">\n      <th></th>\n      <th>city</th>\n      <th>stateProvinceName</th>\n    </tr>\n  </thead>\n  <tbody>\n    <tr>\n      <th>0</th>\n      <td>Tampa</td>\n      <td>Florida</td>\n    </tr>\n    <tr>\n      <th>1</th>\n      <td>Tuscola</td>\n      <td>Illinois</td>\n    </tr>\n    <tr>\n      <th>2</th>\n      <td>Destin</td>\n      <td>Florida</td>\n    </tr>\n    <tr>\n      <th>3</th>\n      <td>Norridge</td>\n      <td>Illinois</td>\n    </tr>\n    <tr>\n      <th>4</th>\n      <td>Sunrise</td>\n      <td>Florida</td>\n    </tr>\n    <tr>\n      <th>5</th>\n      <td>Chicago</td>\n      <td>Illinois</td>\n    </tr>\n    <tr>\n      <th>6</th>\n      <td>Lakeland</td>\n      <td>Florida</td>\n    </tr>\n    <tr>\n      <th>7</th>\n      <td>Vero Beach</td>\n      <td>Florida</td>\n    </tr>\n    <tr>\n      <th>8</th>\n      <td>Orlando</td>\n      <td>Florida</td>\n    </tr>\n    <tr>\n      <th>9</th>\n      <td>Miami</td>\n      <td>Florida</td>\n    </tr>\n    <tr>\n      <th>10</th>\n      <td>Bradenton</td>\n      <td>Florida</td>\n    </tr>\n    <tr>\n      <th>11</th>\n      <td>Miami</td>\n      <td>Florida</td>\n    </tr>\n    <tr>\n      <th>12</th>\n      <td>Orlando</td>\n      <td>Florida</td>\n    </tr>\n    <tr>\n      <th>13</th>\n      <td>Clearwater</td>\n      <td>Florida</td>\n    </tr>\n    <tr>\n      <th>14</th>\n      <td>Sarasota</td>\n      <td>Florida</td>\n    </tr>\n    <tr>\n      <th>15</th>\n      <td>Kendall</td>\n      <td>Florida</td>\n    </tr>\n    <tr>\n      <th>16</th>\n      <td>Miami</td>\n      <td>Florida</td>\n    </tr>\n    <tr>\n      <th>17</th>\n      <td>Miami</td>\n      <td>Florida</td>\n    </tr>\n    <tr>\n      <th>18</th>\n      <td>Miami</td>\n      <td>Florida</td>\n    </tr>\n    <tr>\n      <th>19</th>\n      <td>Miami</td>\n      <td>Florida</td>\n    </tr>\n    <tr>\n      <th>20</th>\n      <td>Merritt Island</td>\n      <td>Florida</td>\n    </tr>\n    <tr>\n      <th>21</th>\n      <td>North Miami Beach</td>\n      <td>Florida</td>\n    </tr>\n    <tr>\n      <th>22</th>\n      <td>Wood Dale</td>\n      <td>Illinois</td>\n    </tr>\n    <tr>\n      <th>23</th>\n      <td>Wood Dale</td>\n      <td>Illinois</td>\n    </tr>\n    <tr>\n      <th>24</th>\n      <td>West Chicago</td>\n      <td>Illinois</td>\n    </tr>\n    <tr>\n      <th>25</th>\n      <td>Chicago</td>\n      <td>Illinois</td>\n    </tr>\n    <tr>\n      <th>26</th>\n      <td>Clearwater</td>\n      <td>Florida</td>\n    </tr>\n    <tr>\n      <th>27</th>\n      <td>Miami</td>\n      <td>Florida</td>\n    </tr>\n    <tr>\n      <th>28</th>\n      <td>Peoria</td>\n      <td>Illinois</td>\n    </tr>\n    <tr>\n      <th>29</th>\n      <td>Joliet</td>\n      <td>Illinois</td>\n    </tr>\n    <tr>\n      <th>30</th>\n      <td>Miami</td>\n      <td>Florida</td>\n    </tr>\n    <tr>\n      <th>31</th>\n      <td>Carol Stream</td>\n      <td>Illinois</td>\n    </tr>\n    <tr>\n      <th>32</th>\n      <td>Chicago</td>\n      <td>Illinois</td>\n    </tr>\n    <tr>\n      <th>33</th>\n      <td>Hollywood</td>\n      <td>Florida</td>\n    </tr>\n    <tr>\n      <th>34</th>\n      <td>Orlando</td>\n      <td>Florida</td>\n    </tr>\n    <tr>\n      <th>35</th>\n      <td>Miami</td>\n      <td>Florida</td>\n    </tr>\n    <tr>\n      <th>36</th>\n      <td>Elgin</td>\n      <td>Illinois</td>\n    </tr>\n    <tr>\n      <th>37</th>\n      <td>Miami</td>\n      <td>Florida</td>\n    </tr>\n    <tr>\n      <th>38</th>\n      <td>Altamonte Springs</td>\n      <td>Florida</td>\n    </tr>\n    <tr>\n      <th>39</th>\n      <td>Chicago</td>\n      <td>Illinois</td>\n    </tr>\n    <tr>\n      <th>40</th>\n      <td>Chicago</td>\n      <td>Illinois</td>\n    </tr>\n    <tr>\n      <th>41</th>\n      <td>Moline</td>\n      <td>Illinois</td>\n    </tr>\n  </tbody>\n</table>\n</div>",
            "text/plain": "                 city stateProvinceName\n0               Tampa           Florida\n1             Tuscola          Illinois\n2              Destin           Florida\n3            Norridge          Illinois\n4             Sunrise           Florida\n5             Chicago          Illinois\n6            Lakeland           Florida\n7          Vero Beach           Florida\n8             Orlando           Florida\n9               Miami           Florida\n10          Bradenton           Florida\n11              Miami           Florida\n12            Orlando           Florida\n13         Clearwater           Florida\n14           Sarasota           Florida\n15            Kendall           Florida\n16              Miami           Florida\n17              Miami           Florida\n18              Miami           Florida\n19              Miami           Florida\n20     Merritt Island           Florida\n21  North Miami Beach           Florida\n22          Wood Dale          Illinois\n23          Wood Dale          Illinois\n24       West Chicago          Illinois\n25            Chicago          Illinois\n26         Clearwater           Florida\n27              Miami           Florida\n28             Peoria          Illinois\n29             Joliet          Illinois\n30              Miami           Florida\n31       Carol Stream          Illinois\n32            Chicago          Illinois\n33          Hollywood           Florida\n34            Orlando           Florida\n35              Miami           Florida\n36              Elgin          Illinois\n37              Miami           Florida\n38  Altamonte Springs           Florida\n39            Chicago          Illinois\n40            Chicago          Illinois\n41             Moline          Illinois"
          },
          "metadata": {},
          "output_type": "display_data"
        }
      ],
      "source": "%%sql\n\nSELECT *\nFROM c.address.location AS l\nWHERE l.stateProvinceName IN ('Florida', 'Illinois')"
    },
    {
      "cell_type": "markdown",
      "metadata": {},
      "source": "## Calculated properties"
    },
    {
      "cell_type": "markdown",
      "metadata": {},
      "source": "**Boolean expression property (on = comparison)**"
    },
    {
      "cell_type": "code",
      "execution_count": 38,
      "metadata": {
        "collapsed": false,
        "execution": {
          "iopub.execute_input": "2020-06-13T14:29:39.544Z",
          "iopub.status.busy": "2020-06-13T14:29:39.524Z",
          "iopub.status.idle": "2020-06-13T14:29:39.587Z",
          "shell.execute_reply": "2020-06-13T14:29:39.607Z"
        },
        "inputHidden": false,
        "outputHidden": false,
        "trusted": true
      },
      "outputs": [
        {
          "data": {
            "text/html": "\r\n<div>\r\n  <style type='text/css' scoped>\r\n.collapsible {\r\n  background-color: #fff;\r\n  color: #0078D4;\r\n  cursor: pointer;\r\n  padding: 10px;\r\n  border: none;\r\n  text-align: left;\r\n  outline: none;\r\n  font-size: 15px;\r\n  border-radius: 5px;\r\n  margin: 5px\r\n}\r\n\r\n.active, .collapsible:hover {\r\n  color: #4db2ff;\r\n}\r\n\r\n.content {\r\n  margin: 2px;\r\n  padding: 0 18px;\r\n  overflow: hidden;\r\n  background-color: #fff;\r\n  height: 0px;\r\n  -moz-transition: height .2s ease-out;\r\n  -ms-transition: height .2s ease-out;\r\n  -o-transition: height .2s ease-out;\r\n  -webkit-transition: height .2s ease-out;\r\n  transition: height .2s ease-out;\r\n}\r\n</style>\r\n\r\n<button type='button' class='collapsible'>▶ View Query Metrics</button>\r\n  \r\n<div class='content'>\r\n  <div class='measuringWrapper'>\r\n    <span style=\"color:#0078D4\"><b>totalExecutionTimeInMs    </b>:    1.15<br/><b>queryCompileTimeInMs    </b>:    0.21<br/><b>queryLogicalPlanBuildTimeInMs    </b>:    0.14<br/><b>queryPhysicalPlanBuildTimeInMs    </b>:    0.22<br/><b>queryOptimizationTimeInMs    </b>:    0.03<br/><b>VMExecutionTimeInMs    </b>:    0.29<br/><b>indexLookupTimeInMs    </b>:    0.15<br/><b>documentLoadTimeInMs    </b>:    0.05<br/><b>systemFunctionExecuteTimeInMs    </b>:    0<br/><b>userFunctionExecuteTimeInMs    </b>:    0<br/><b>retrievedDocumentCount    </b>:    4<br/><b>retrievedDocumentSize    </b>:    1943<br/><b>outputDocumentCount    </b>:    4<br/><b>outputDocumentSize    </b>:    817<br/><b>writeOutputTimeInMs    </b>:    0.01<br/><b>averageIndexUtilizationRation    </b>:    1<br/></span>\r\n  </div>\r\n</div>\r\n\r\n<script>\r\nvar coll = document.getElementsByClassName('collapsible');\r\nvar i;\r\n\r\nfor (i = 0; i < coll.length; i++) {\r\n  \r\n  coll[i].addEventListener('click', function() {\r\n    this.classList.toggle('active');\r\n    var content = this.nextElementSibling;\r\n    \r\n    if (content.clientHeight != 0) {\r\n      this.textContent = '▶ View Query Metrics';\r\n      content.style.height = '0px';\r\n    }\r\n    else {\r\n      this.textContent = '▼ Hide Query Metrics';\r\n      content.style.height = content.children[0].clientHeight + 'px';\r\n    }\r\n  });\r\n}\r\n</script>\r\n</div>"
          },
          "metadata": {},
          "output_type": "display_data"
        },
        {
          "data": {
            "text/html": "<div>\n<style scoped>\n    .dataframe tbody tr th:only-of-type {\n        vertical-align: middle;\n    }\n\n    .dataframe tbody tr th {\n        vertical-align: top;\n    }\n\n    .dataframe thead th {\n        text-align: right;\n    }\n</style>\n<table border=\"1\" class=\"dataframe\">\n  <thead>\n    <tr style=\"text-align: right;\">\n      <th></th>\n      <th>name</th>\n      <th>city</th>\n      <th>stateProvinceName</th>\n      <th>isSameCityState</th>\n    </tr>\n  </thead>\n  <tbody>\n    <tr>\n      <th>0</th>\n      <td>Online Bike Sellers</td>\n      <td>Midland</td>\n      <td>Michigan</td>\n      <td>False</td>\n    </tr>\n    <tr>\n      <th>1</th>\n      <td>Online Bike Catalog</td>\n      <td>Lavender Bay</td>\n      <td>New South Wales</td>\n      <td>False</td>\n    </tr>\n    <tr>\n      <th>2</th>\n      <td>Only Bikes and Accessories</td>\n      <td>New York</td>\n      <td>New York</td>\n      <td>True</td>\n    </tr>\n    <tr>\n      <th>3</th>\n      <td>Online Bike Warehouse</td>\n      <td>Aurora</td>\n      <td>Ontario</td>\n      <td>False</td>\n    </tr>\n  </tbody>\n</table>\n</div>",
            "text/plain": "                         name          city stateProvinceName  isSameCityState\n0         Online Bike Sellers       Midland          Michigan            False\n1         Online Bike Catalog  Lavender Bay   New South Wales            False\n2  Only Bikes and Accessories      New York          New York             True\n3       Online Bike Warehouse        Aurora           Ontario            False"
          },
          "metadata": {},
          "output_type": "display_data"
        }
      ],
      "source": "%%sql\n\nSELECT\n c.name,\n c.address.location.city,\n c.address.location.stateProvinceName,\n c.address.location.city = c.address.location.stateProvinceName AS isSameCityState\nFROM c\nWHERE STARTSWITH(c.name, 'Onl') = true\nORDER BY c.address.location.stateProvinceName"
    },
    {
      "cell_type": "markdown",
      "metadata": {},
      "source": "**Ternary (?) operator**"
    },
    {
      "cell_type": "code",
      "execution_count": 39,
      "metadata": {
        "collapsed": false,
        "execution": {
          "iopub.execute_input": "2020-06-13T14:29:39.651Z",
          "iopub.status.busy": "2020-06-13T14:29:39.631Z",
          "iopub.status.idle": "2020-06-13T14:29:39.696Z",
          "shell.execute_reply": "2020-06-13T14:29:39.717Z"
        },
        "inputHidden": false,
        "outputHidden": false,
        "trusted": true
      },
      "outputs": [
        {
          "data": {
            "text/html": "\r\n<div>\r\n  <style type='text/css' scoped>\r\n.collapsible {\r\n  background-color: #fff;\r\n  color: #0078D4;\r\n  cursor: pointer;\r\n  padding: 10px;\r\n  border: none;\r\n  text-align: left;\r\n  outline: none;\r\n  font-size: 15px;\r\n  border-radius: 5px;\r\n  margin: 5px\r\n}\r\n\r\n.active, .collapsible:hover {\r\n  color: #4db2ff;\r\n}\r\n\r\n.content {\r\n  margin: 2px;\r\n  padding: 0 18px;\r\n  overflow: hidden;\r\n  background-color: #fff;\r\n  height: 0px;\r\n  -moz-transition: height .2s ease-out;\r\n  -ms-transition: height .2s ease-out;\r\n  -o-transition: height .2s ease-out;\r\n  -webkit-transition: height .2s ease-out;\r\n  transition: height .2s ease-out;\r\n}\r\n</style>\r\n\r\n<button type='button' class='collapsible'>▶ View Query Metrics</button>\r\n  \r\n<div class='content'>\r\n  <div class='measuringWrapper'>\r\n    <span style=\"color:#0078D4\"><b>totalExecutionTimeInMs    </b>:    5.63<br/><b>queryCompileTimeInMs    </b>:    0.11<br/><b>queryLogicalPlanBuildTimeInMs    </b>:    0.05<br/><b>queryPhysicalPlanBuildTimeInMs    </b>:    0.06<br/><b>queryOptimizationTimeInMs    </b>:    0<br/><b>VMExecutionTimeInMs    </b>:    5.19<br/><b>indexLookupTimeInMs    </b>:    0.22<br/><b>documentLoadTimeInMs    </b>:    2.8<br/><b>systemFunctionExecuteTimeInMs    </b>:    0.13<br/><b>userFunctionExecuteTimeInMs    </b>:    0<br/><b>retrievedDocumentCount    </b>:    541<br/><b>retrievedDocumentSize    </b>:    261354<br/><b>outputDocumentCount    </b>:    541<br/><b>outputDocumentSize    </b>:    39387<br/><b>writeOutputTimeInMs    </b>:    0.36<br/><b>averageIndexUtilizationRation    </b>:    1<br/></span>\r\n  </div>\r\n</div>\r\n\r\n<script>\r\nvar coll = document.getElementsByClassName('collapsible');\r\nvar i;\r\n\r\nfor (i = 0; i < coll.length; i++) {\r\n  \r\n  coll[i].addEventListener('click', function() {\r\n    this.classList.toggle('active');\r\n    var content = this.nextElementSibling;\r\n    \r\n    if (content.clientHeight != 0) {\r\n      this.textContent = '▶ View Query Metrics';\r\n      content.style.height = '0px';\r\n    }\r\n    else {\r\n      this.textContent = '▼ Hide Query Metrics';\r\n      content.style.height = content.children[0].clientHeight + 'px';\r\n    }\r\n  });\r\n}\r\n</script>\r\n</div>"
          },
          "metadata": {},
          "output_type": "display_data"
        },
        {
          "data": {
            "text/html": "<div>\n<style scoped>\n    .dataframe tbody tr th:only-of-type {\n        vertical-align: middle;\n    }\n\n    .dataframe tbody tr th {\n        vertical-align: top;\n    }\n\n    .dataframe thead th {\n        text-align: right;\n    }\n</style>\n<table border=\"1\" class=\"dataframe\">\n  <thead>\n    <tr style=\"text-align: right;\">\n      <th></th>\n      <th>name</th>\n      <th>region</th>\n      <th>currency</th>\n    </tr>\n  </thead>\n  <tbody>\n    <tr>\n      <th>0</th>\n      <td>Fitness Department Stores</td>\n      <td>United States</td>\n      <td>USD</td>\n    </tr>\n    <tr>\n      <th>1</th>\n      <td>Extreme Toy Store</td>\n      <td>United States</td>\n      <td>USD</td>\n    </tr>\n    <tr>\n      <th>2</th>\n      <td>Real Sporting Goods</td>\n      <td>United States</td>\n      <td>USD</td>\n    </tr>\n    <tr>\n      <th>3</th>\n      <td>Exchange Parts Inc.</td>\n      <td>United States</td>\n      <td>USD</td>\n    </tr>\n    <tr>\n      <th>4</th>\n      <td>Reliable Brake Systems</td>\n      <td>United States</td>\n      <td>USD</td>\n    </tr>\n    <tr>\n      <th>...</th>\n      <td>...</td>\n      <td>...</td>\n      <td>...</td>\n    </tr>\n    <tr>\n      <th>536</th>\n      <td>Farthest Bike Store</td>\n      <td>Canada</td>\n      <td>CAD</td>\n    </tr>\n    <tr>\n      <th>537</th>\n      <td>One-Piece Handle Bars</td>\n      <td>United States</td>\n      <td>USD</td>\n    </tr>\n    <tr>\n      <th>538</th>\n      <td>Grand Cycle Store</td>\n      <td>United States</td>\n      <td>USD</td>\n    </tr>\n    <tr>\n      <th>539</th>\n      <td>Finer Riding Supplies</td>\n      <td>Canada</td>\n      <td>CAD</td>\n    </tr>\n    <tr>\n      <th>540</th>\n      <td>Genuine Bike Shop</td>\n      <td>United States</td>\n      <td>USD</td>\n    </tr>\n  </tbody>\n</table>\n<p>541 rows × 3 columns</p>\n</div>",
            "text/plain": "                          name         region currency\n0    Fitness Department Stores  United States      USD\n1            Extreme Toy Store  United States      USD\n2          Real Sporting Goods  United States      USD\n3          Exchange Parts Inc.  United States      USD\n4       Reliable Brake Systems  United States      USD\n..                         ...            ...      ...\n536        Farthest Bike Store         Canada      CAD\n537      One-Piece Handle Bars  United States      USD\n538          Grand Cycle Store  United States      USD\n539      Finer Riding Supplies         Canada      CAD\n540          Genuine Bike Shop  United States      USD\n\n[541 rows x 3 columns]"
          },
          "metadata": {},
          "output_type": "display_data"
        }
      ],
      "source": "%%sql\n\nSELECT\n c.name,\n c.address.countryRegionName AS region,\n (c.address.countryRegionName = 'United States' ? 'USD' : 'CAD' ) AS currency\nFROM c\nWHERE c.address.countryRegionName IN ('United States', 'Canada')"
    },
    {
      "cell_type": "markdown",
      "metadata": {},
      "source": "**Nested ternary (?) operator**"
    },
    {
      "cell_type": "code",
      "execution_count": 40,
      "metadata": {
        "collapsed": false,
        "execution": {
          "iopub.execute_input": "2020-06-13T14:29:39.762Z",
          "iopub.status.busy": "2020-06-13T14:29:39.741Z",
          "iopub.status.idle": "2020-06-13T14:29:39.954Z",
          "shell.execute_reply": "2020-06-13T14:29:39.974Z"
        },
        "inputHidden": false,
        "outputHidden": false,
        "trusted": true
      },
      "outputs": [
        {
          "data": {
            "text/html": "\r\n<div>\r\n  <style type='text/css' scoped>\r\n.collapsible {\r\n  background-color: #fff;\r\n  color: #0078D4;\r\n  cursor: pointer;\r\n  padding: 10px;\r\n  border: none;\r\n  text-align: left;\r\n  outline: none;\r\n  font-size: 15px;\r\n  border-radius: 5px;\r\n  margin: 5px\r\n}\r\n\r\n.active, .collapsible:hover {\r\n  color: #4db2ff;\r\n}\r\n\r\n.content {\r\n  margin: 2px;\r\n  padding: 0 18px;\r\n  overflow: hidden;\r\n  background-color: #fff;\r\n  height: 0px;\r\n  -moz-transition: height .2s ease-out;\r\n  -ms-transition: height .2s ease-out;\r\n  -o-transition: height .2s ease-out;\r\n  -webkit-transition: height .2s ease-out;\r\n  transition: height .2s ease-out;\r\n}\r\n</style>\r\n\r\n<button type='button' class='collapsible'>▶ View Query Metrics</button>\r\n  \r\n<div class='content'>\r\n  <div class='measuringWrapper'>\r\n    <span style=\"color:#0078D4\"><b>totalExecutionTimeInMs    </b>:    6.36<br/><b>queryCompileTimeInMs    </b>:    0.18<br/><b>queryLogicalPlanBuildTimeInMs    </b>:    0.06<br/><b>queryPhysicalPlanBuildTimeInMs    </b>:    0.08<br/><b>queryOptimizationTimeInMs    </b>:    0.01<br/><b>VMExecutionTimeInMs    </b>:    5.74<br/><b>indexLookupTimeInMs    </b>:    0.27<br/><b>documentLoadTimeInMs    </b>:    3.06<br/><b>systemFunctionExecuteTimeInMs    </b>:    0.12<br/><b>userFunctionExecuteTimeInMs    </b>:    0<br/><b>retrievedDocumentCount    </b>:    581<br/><b>retrievedDocumentSize    </b>:    280637<br/><b>outputDocumentCount    </b>:    581<br/><b>outputDocumentSize    </b>:    42051<br/><b>writeOutputTimeInMs    </b>:    0.3<br/><b>averageIndexUtilizationRation    </b>:    1<br/></span>\r\n  </div>\r\n</div>\r\n\r\n<script>\r\nvar coll = document.getElementsByClassName('collapsible');\r\nvar i;\r\n\r\nfor (i = 0; i < coll.length; i++) {\r\n  \r\n  coll[i].addEventListener('click', function() {\r\n    this.classList.toggle('active');\r\n    var content = this.nextElementSibling;\r\n    \r\n    if (content.clientHeight != 0) {\r\n      this.textContent = '▶ View Query Metrics';\r\n      content.style.height = '0px';\r\n    }\r\n    else {\r\n      this.textContent = '▼ Hide Query Metrics';\r\n      content.style.height = content.children[0].clientHeight + 'px';\r\n    }\r\n  });\r\n}\r\n</script>\r\n</div>"
          },
          "metadata": {},
          "output_type": "display_data"
        },
        {
          "data": {
            "text/html": "<div>\n<style scoped>\n    .dataframe tbody tr th:only-of-type {\n        vertical-align: middle;\n    }\n\n    .dataframe tbody tr th {\n        vertical-align: top;\n    }\n\n    .dataframe thead th {\n        text-align: right;\n    }\n</style>\n<table border=\"1\" class=\"dataframe\">\n  <thead>\n    <tr style=\"text-align: right;\">\n      <th></th>\n      <th>name</th>\n      <th>region</th>\n      <th>currency</th>\n    </tr>\n  </thead>\n  <tbody>\n    <tr>\n      <th>0</th>\n      <td>Fitness Department Stores</td>\n      <td>United States</td>\n      <td>USD</td>\n    </tr>\n    <tr>\n      <th>1</th>\n      <td>Extreme Toy Store</td>\n      <td>United States</td>\n      <td>USD</td>\n    </tr>\n    <tr>\n      <th>2</th>\n      <td>Real Sporting Goods</td>\n      <td>United States</td>\n      <td>USD</td>\n    </tr>\n    <tr>\n      <th>3</th>\n      <td>Exchange Parts Inc.</td>\n      <td>United States</td>\n      <td>USD</td>\n    </tr>\n    <tr>\n      <th>4</th>\n      <td>Reliable Brake Systems</td>\n      <td>United States</td>\n      <td>USD</td>\n    </tr>\n    <tr>\n      <th>...</th>\n      <td>...</td>\n      <td>...</td>\n      <td>...</td>\n    </tr>\n    <tr>\n      <th>576</th>\n      <td>Farthest Bike Store</td>\n      <td>Canada</td>\n      <td>CAD</td>\n    </tr>\n    <tr>\n      <th>577</th>\n      <td>One-Piece Handle Bars</td>\n      <td>United States</td>\n      <td>USD</td>\n    </tr>\n    <tr>\n      <th>578</th>\n      <td>Grand Cycle Store</td>\n      <td>United States</td>\n      <td>USD</td>\n    </tr>\n    <tr>\n      <th>579</th>\n      <td>Finer Riding Supplies</td>\n      <td>Canada</td>\n      <td>CAD</td>\n    </tr>\n    <tr>\n      <th>580</th>\n      <td>Genuine Bike Shop</td>\n      <td>United States</td>\n      <td>USD</td>\n    </tr>\n  </tbody>\n</table>\n<p>581 rows × 3 columns</p>\n</div>",
            "text/plain": "                          name         region currency\n0    Fitness Department Stores  United States      USD\n1            Extreme Toy Store  United States      USD\n2          Real Sporting Goods  United States      USD\n3          Exchange Parts Inc.  United States      USD\n4       Reliable Brake Systems  United States      USD\n..                         ...            ...      ...\n576        Farthest Bike Store         Canada      CAD\n577      One-Piece Handle Bars  United States      USD\n578          Grand Cycle Store  United States      USD\n579      Finer Riding Supplies         Canada      CAD\n580          Genuine Bike Shop  United States      USD\n\n[581 rows x 3 columns]"
          },
          "metadata": {},
          "output_type": "display_data"
        }
      ],
      "source": "%%sql\n\nSELECT\n c.name,\n c.address.countryRegionName AS region,\n (c.address.countryRegionName = 'United States' ? 'USD' :\n  (c.address.countryRegionName = 'Canada' ? 'CAD' :\n   'EUR')) AS currency\nFROM c\nWHERE c.address.countryRegionName IN ('United States', 'Canada', 'France')"
    },
    {
      "cell_type": "markdown",
      "metadata": {},
      "source": "## Aggregation queries"
    },
    {
      "cell_type": "markdown",
      "metadata": {},
      "source": "**Count for zip code**"
    },
    {
      "cell_type": "code",
      "execution_count": 41,
      "metadata": {
        "collapsed": false,
        "execution": {
          "iopub.execute_input": "2020-06-13T14:29:40.008Z",
          "iopub.status.busy": "2020-06-13T14:29:39.997Z",
          "iopub.status.idle": "2020-06-13T14:29:40.054Z",
          "shell.execute_reply": "2020-06-13T14:29:40.074Z"
        },
        "inputHidden": false,
        "outputHidden": false,
        "trusted": true
      },
      "outputs": [
        {
          "name": "stdout",
          "output_type": "stream",
          "text": "1 document(s) selected (charge= 3.16 RUs)\n\n[\n    {\n        \"Zip14111Count\": 3\n    }\n]\n"
        }
      ],
      "source": "query(mystore, \"\"\"\n\nSELECT COUNT(c) AS Zip14111Count\nFROM c\nWHERE\n c.address.postalCode = '14111'\n \n\"\"\", partitionKey = '14111')"
    },
    {
      "cell_type": "markdown",
      "metadata": {},
      "source": "**Can't count across partitions without VALUE**"
    },
    {
      "cell_type": "code",
      "execution_count": 42,
      "metadata": {
        "collapsed": false,
        "execution": {
          "iopub.execute_input": "2020-06-13T14:29:40.115Z",
          "iopub.status.busy": "2020-06-13T14:29:40.099Z",
          "iopub.status.idle": "2020-06-13T14:29:40.156Z",
          "shell.execute_reply": "2020-06-13T14:29:40.179Z"
        },
        "inputHidden": false,
        "outputHidden": false,
        "trusted": true
      },
      "outputs": [
        {
          "name": "stdout",
          "output_type": "stream",
          "text": "(BadRequest) Message: {\"Errors\":[\"Cross partition query only supports 'VALUE <AggreateFunc>' for aggregates.\"]}\r\nActivityId: 728da26c-f75a-46e1-91f3-8c078e02c5a3, Microsoft.Azure.Documents.Common/2.11.0\n"
        }
      ],
      "source": "query(mystore, \"\"\"\n\nSELECT COUNT(c) AS USCount\nFROM c\nWHERE\n c.address.countryRegionName = 'United States'\n \n\"\"\")"
    },
    {
      "cell_type": "markdown",
      "metadata": {},
      "source": "**Use VALUE for cross partition aggregates**"
    },
    {
      "cell_type": "code",
      "execution_count": 43,
      "metadata": {
        "collapsed": false,
        "execution": {
          "iopub.execute_input": "2020-06-13T14:29:40.213Z",
          "iopub.status.busy": "2020-06-13T14:29:40.202Z",
          "iopub.status.idle": "2020-06-13T14:29:40.256Z",
          "shell.execute_reply": "2020-06-13T14:29:40.427Z"
        },
        "inputHidden": false,
        "outputHidden": false,
        "trusted": true
      },
      "outputs": [
        {
          "name": "stdout",
          "output_type": "stream",
          "text": "1 document(s) selected (charge= 3.16 RUs)\n\n[\n    427\n]\n"
        }
      ],
      "source": "query(mystore, \"\"\"\n\nSELECT VALUE COUNT(c)\nFROM c\nWHERE\n c.address.countryRegionName = 'United States'\n \n\"\"\")"
    },
    {
      "cell_type": "markdown",
      "metadata": {},
      "source": "**Aggregates for NY children**"
    },
    {
      "cell_type": "code",
      "execution_count": 44,
      "metadata": {
        "collapsed": false,
        "execution": {
          "iopub.execute_input": "2020-06-13T14:29:40.467Z",
          "iopub.status.busy": "2020-06-13T14:29:40.456Z",
          "iopub.status.idle": "2020-06-13T14:29:40.531Z",
          "shell.execute_reply": "2020-06-13T14:29:40.551Z"
        },
        "inputHidden": false,
        "outputHidden": false,
        "trusted": true
      },
      "outputs": [
        {
          "name": "stdout",
          "output_type": "stream",
          "text": "1 document(s) selected (charge= 3.3 RUs)\n\n[\n    {\n        \"NyKidsCount\": 4,\n        \"NyMinGrade\": 1,\n        \"NyMaxGrade\": 7,\n        \"NyPetsCount\": 5\n    }\n]\n"
        }
      ],
      "source": "query(families, \"\"\"\n\nSELECT\n COUNT(ch) AS NyKidsCount,\n MIN(ch.grade) AS NyMinGrade,\n MAX(ch.grade) AS NyMaxGrade,\n SUM(ARRAY_LENGTH(ch.pets)) AS NyPetsCount\nFROM c JOIN ch IN c.children\nWHERE c.location.state = 'NY'\n\n\"\"\", partitionKey = \"NY\")"
    },
    {
      "cell_type": "markdown",
      "metadata": {},
      "source": "**All U.S. stores**"
    },
    {
      "cell_type": "code",
      "execution_count": 45,
      "metadata": {
        "collapsed": false,
        "execution": {
          "iopub.execute_input": "2020-06-13T14:29:40.596Z",
          "iopub.status.busy": "2020-06-13T14:29:40.574Z",
          "iopub.status.idle": "2020-06-13T14:29:40.639Z",
          "shell.execute_reply": "2020-06-13T14:29:40.659Z"
        },
        "inputHidden": false,
        "outputHidden": false,
        "trusted": true
      },
      "outputs": [
        {
          "data": {
            "text/html": "\r\n<div>\r\n  <style type='text/css' scoped>\r\n.collapsible {\r\n  background-color: #fff;\r\n  color: #0078D4;\r\n  cursor: pointer;\r\n  padding: 10px;\r\n  border: none;\r\n  text-align: left;\r\n  outline: none;\r\n  font-size: 15px;\r\n  border-radius: 5px;\r\n  margin: 5px\r\n}\r\n\r\n.active, .collapsible:hover {\r\n  color: #4db2ff;\r\n}\r\n\r\n.content {\r\n  margin: 2px;\r\n  padding: 0 18px;\r\n  overflow: hidden;\r\n  background-color: #fff;\r\n  height: 0px;\r\n  -moz-transition: height .2s ease-out;\r\n  -ms-transition: height .2s ease-out;\r\n  -o-transition: height .2s ease-out;\r\n  -webkit-transition: height .2s ease-out;\r\n  transition: height .2s ease-out;\r\n}\r\n</style>\r\n\r\n<button type='button' class='collapsible'>▶ View Query Metrics</button>\r\n  \r\n<div class='content'>\r\n  <div class='measuringWrapper'>\r\n    <span style=\"color:#0078D4\"><b>totalExecutionTimeInMs    </b>:    5.83<br/><b>queryCompileTimeInMs    </b>:    0.16<br/><b>queryLogicalPlanBuildTimeInMs    </b>:    0.05<br/><b>queryPhysicalPlanBuildTimeInMs    </b>:    0.06<br/><b>queryOptimizationTimeInMs    </b>:    0.01<br/><b>VMExecutionTimeInMs    </b>:    5.36<br/><b>indexLookupTimeInMs    </b>:    0.14<br/><b>documentLoadTimeInMs    </b>:    2.28<br/><b>systemFunctionExecuteTimeInMs    </b>:    0<br/><b>userFunctionExecuteTimeInMs    </b>:    0<br/><b>retrievedDocumentCount    </b>:    427<br/><b>retrievedDocumentSize    </b>:    206567<br/><b>outputDocumentCount    </b>:    427<br/><b>outputDocumentSize    </b>:    67752<br/><b>writeOutputTimeInMs    </b>:    0.4<br/><b>averageIndexUtilizationRation    </b>:    1<br/></span>\r\n  </div>\r\n</div>\r\n\r\n<script>\r\nvar coll = document.getElementsByClassName('collapsible');\r\nvar i;\r\n\r\nfor (i = 0; i < coll.length; i++) {\r\n  \r\n  coll[i].addEventListener('click', function() {\r\n    this.classList.toggle('active');\r\n    var content = this.nextElementSibling;\r\n    \r\n    if (content.clientHeight != 0) {\r\n      this.textContent = '▶ View Query Metrics';\r\n      content.style.height = '0px';\r\n    }\r\n    else {\r\n      this.textContent = '▼ Hide Query Metrics';\r\n      content.style.height = content.children[0].clientHeight + 'px';\r\n    }\r\n  });\r\n}\r\n</script>\r\n</div>"
          },
          "metadata": {},
          "output_type": "display_data"
        },
        {
          "data": {
            "text/html": "<div>\n<style scoped>\n    .dataframe tbody tr th:only-of-type {\n        vertical-align: middle;\n    }\n\n    .dataframe tbody tr th {\n        vertical-align: top;\n    }\n\n    .dataframe thead th {\n        text-align: right;\n    }\n</style>\n<table border=\"1\" class=\"dataframe\">\n  <thead>\n    <tr style=\"text-align: right;\">\n      <th></th>\n      <th>name</th>\n      <th>stateProvinceName</th>\n    </tr>\n  </thead>\n  <tbody>\n    <tr>\n      <th>0</th>\n      <td>A Bicycle Association</td>\n      <td>New York</td>\n    </tr>\n    <tr>\n      <th>1</th>\n      <td>A Bike Store</td>\n      <td>Washington</td>\n    </tr>\n    <tr>\n      <th>2</th>\n      <td>A Cycle Shop</td>\n      <td>Oregon</td>\n    </tr>\n    <tr>\n      <th>3</th>\n      <td>A Great Bicycle Company</td>\n      <td>Missouri</td>\n    </tr>\n    <tr>\n      <th>4</th>\n      <td>A Typical Bike Shop</td>\n      <td>Texas</td>\n    </tr>\n    <tr>\n      <th>...</th>\n      <td>...</td>\n      <td>...</td>\n    </tr>\n    <tr>\n      <th>422</th>\n      <td>World of Bikes</td>\n      <td>Missouri</td>\n    </tr>\n    <tr>\n      <th>423</th>\n      <td>Worthwhile Activity Store</td>\n      <td>Florida</td>\n    </tr>\n    <tr>\n      <th>424</th>\n      <td>Year-Round Sports</td>\n      <td>Washington</td>\n    </tr>\n    <tr>\n      <th>425</th>\n      <td>Yellow Bicycle Company</td>\n      <td>Missouri</td>\n    </tr>\n    <tr>\n      <th>426</th>\n      <td>eCommerce Bikes</td>\n      <td>Mississippi</td>\n    </tr>\n  </tbody>\n</table>\n<p>427 rows × 2 columns</p>\n</div>",
            "text/plain": "                          name stateProvinceName\n0        A Bicycle Association          New York\n1                 A Bike Store        Washington\n2                 A Cycle Shop            Oregon\n3      A Great Bicycle Company          Missouri\n4          A Typical Bike Shop             Texas\n..                         ...               ...\n422             World of Bikes          Missouri\n423  Worthwhile Activity Store           Florida\n424          Year-Round Sports        Washington\n425     Yellow Bicycle Company          Missouri\n426            eCommerce Bikes       Mississippi\n\n[427 rows x 2 columns]"
          },
          "metadata": {},
          "output_type": "display_data"
        }
      ],
      "source": "%%sql --database mydb --container mystore\n\nSELECT\n    c.name,\n    c.address.location.stateProvinceName\nFROM c\nWHERE c.address.countryRegionName = 'United States'\nORDER BY c.name"
    },
    {
      "cell_type": "markdown",
      "metadata": {},
      "source": "**GROUP BY**\n\n*This functionality does not work with cross-partition queries in Jupyter Notebooks. Run it in Data Explorer instead, or use SDK3.*"
    },
    {
      "cell_type": "code",
      "execution_count": 46,
      "metadata": {
        "collapsed": false,
        "execution": {
          "iopub.execute_input": "2020-06-13T14:29:40.696Z",
          "iopub.status.busy": "2020-06-13T14:29:40.684Z",
          "iopub.status.idle": "2020-06-13T14:29:40.737Z",
          "shell.execute_reply": "2020-06-13T14:29:40.758Z"
        },
        "inputHidden": false,
        "outputHidden": false,
        "trusted": true
      },
      "outputs": [
        {
          "name": "stdout",
          "output_type": "stream",
          "text": "(BadRequest) Message: {\"Errors\":[\"Cross partition query only supports 'VALUE <AggreateFunc>' for aggregates.\"]}\r\nActivityId: 98507eeb-ca51-448e-9739-04feac1bcb74, Microsoft.Azure.Documents.Common/2.11.0\n"
        }
      ],
      "source": "query(mystore, \"\"\"\n\nSELECT\n    COUNT(c) AS StoreCount,\n    c.address.location.stateProvinceName\nFROM c\nWHERE c.address.countryRegionName = 'United States'\nGROUP BY c.address.location.stateProvinceName\n\n\"\"\")"
    },
    {
      "cell_type": "markdown",
      "metadata": {},
      "source": "**Capture all U.S. stores into a Pandas dataframe**"
    },
    {
      "cell_type": "code",
      "execution_count": 47,
      "metadata": {
        "collapsed": false,
        "execution": {
          "iopub.execute_input": "2020-06-13T14:29:40.987Z",
          "iopub.status.busy": "2020-06-13T14:29:40.927Z",
          "iopub.status.idle": "2020-06-13T14:29:41.107Z",
          "shell.execute_reply": "2020-06-13T14:29:41.128Z"
        },
        "inputHidden": false,
        "outputHidden": false,
        "trusted": true
      },
      "outputs": [
        {
          "data": {
            "text/html": "\r\n<div>\r\n  <style type='text/css' scoped>\r\n.collapsible {\r\n  background-color: #fff;\r\n  color: #0078D4;\r\n  cursor: pointer;\r\n  padding: 10px;\r\n  border: none;\r\n  text-align: left;\r\n  outline: none;\r\n  font-size: 15px;\r\n  border-radius: 5px;\r\n  margin: 5px\r\n}\r\n\r\n.active, .collapsible:hover {\r\n  color: #4db2ff;\r\n}\r\n\r\n.content {\r\n  margin: 2px;\r\n  padding: 0 18px;\r\n  overflow: hidden;\r\n  background-color: #fff;\r\n  height: 0px;\r\n  -moz-transition: height .2s ease-out;\r\n  -ms-transition: height .2s ease-out;\r\n  -o-transition: height .2s ease-out;\r\n  -webkit-transition: height .2s ease-out;\r\n  transition: height .2s ease-out;\r\n}\r\n</style>\r\n\r\n<button type='button' class='collapsible'>▶ View Query Metrics</button>\r\n  \r\n<div class='content'>\r\n  <div class='measuringWrapper'>\r\n    <span style=\"color:#0078D4\"><b>totalExecutionTimeInMs    </b>:    6.34<br/><b>queryCompileTimeInMs    </b>:    0.16<br/><b>queryLogicalPlanBuildTimeInMs    </b>:    0.06<br/><b>queryPhysicalPlanBuildTimeInMs    </b>:    0.1<br/><b>queryOptimizationTimeInMs    </b>:    0.01<br/><b>VMExecutionTimeInMs    </b>:    5.72<br/><b>indexLookupTimeInMs    </b>:    0.11<br/><b>documentLoadTimeInMs    </b>:    2.37<br/><b>systemFunctionExecuteTimeInMs    </b>:    0<br/><b>userFunctionExecuteTimeInMs    </b>:    0<br/><b>retrievedDocumentCount    </b>:    427<br/><b>retrievedDocumentSize    </b>:    206567<br/><b>outputDocumentCount    </b>:    427<br/><b>outputDocumentSize    </b>:    67752<br/><b>writeOutputTimeInMs    </b>:    0.46<br/><b>averageIndexUtilizationRation    </b>:    1<br/></span>\r\n  </div>\r\n</div>\r\n\r\n<script>\r\nvar coll = document.getElementsByClassName('collapsible');\r\nvar i;\r\n\r\nfor (i = 0; i < coll.length; i++) {\r\n  \r\n  coll[i].addEventListener('click', function() {\r\n    this.classList.toggle('active');\r\n    var content = this.nextElementSibling;\r\n    \r\n    if (content.clientHeight != 0) {\r\n      this.textContent = '▶ View Query Metrics';\r\n      content.style.height = '0px';\r\n    }\r\n    else {\r\n      this.textContent = '▼ Hide Query Metrics';\r\n      content.style.height = content.children[0].clientHeight + 'px';\r\n    }\r\n  });\r\n}\r\n</script>\r\n</div>"
          },
          "metadata": {},
          "output_type": "display_data"
        }
      ],
      "source": "%%sql --database mydb --container mystore --output df_usStores\n\nSELECT\n    c.name,\n    c.address.location.stateProvinceName\nFROM c\nWHERE c.address.countryRegionName = 'United States'\nORDER BY c.name"
    },
    {
      "cell_type": "code",
      "execution_count": 48,
      "metadata": {
        "collapsed": false,
        "execution": {
          "iopub.execute_input": "2020-06-13T14:29:41.162Z",
          "iopub.status.busy": "2020-06-13T14:29:41.151Z",
          "iopub.status.idle": "2020-06-13T14:29:41.341Z",
          "shell.execute_reply": "2020-06-13T14:29:41.439Z"
        },
        "inputHidden": false,
        "outputHidden": false,
        "trusted": true
      },
      "outputs": [
        {
          "data": {
            "text/html": "<div>\n<style scoped>\n    .dataframe tbody tr th:only-of-type {\n        vertical-align: middle;\n    }\n\n    .dataframe tbody tr th {\n        vertical-align: top;\n    }\n\n    .dataframe thead th {\n        text-align: right;\n    }\n</style>\n<table border=\"1\" class=\"dataframe\">\n  <thead>\n    <tr style=\"text-align: right;\">\n      <th></th>\n      <th>name</th>\n      <th>stateProvinceName</th>\n    </tr>\n  </thead>\n  <tbody>\n    <tr>\n      <th>0</th>\n      <td>A Bicycle Association</td>\n      <td>New York</td>\n    </tr>\n    <tr>\n      <th>1</th>\n      <td>A Bike Store</td>\n      <td>Washington</td>\n    </tr>\n    <tr>\n      <th>2</th>\n      <td>A Cycle Shop</td>\n      <td>Oregon</td>\n    </tr>\n    <tr>\n      <th>3</th>\n      <td>A Great Bicycle Company</td>\n      <td>Missouri</td>\n    </tr>\n    <tr>\n      <th>4</th>\n      <td>A Typical Bike Shop</td>\n      <td>Texas</td>\n    </tr>\n    <tr>\n      <th>...</th>\n      <td>...</td>\n      <td>...</td>\n    </tr>\n    <tr>\n      <th>422</th>\n      <td>World of Bikes</td>\n      <td>Missouri</td>\n    </tr>\n    <tr>\n      <th>423</th>\n      <td>Worthwhile Activity Store</td>\n      <td>Florida</td>\n    </tr>\n    <tr>\n      <th>424</th>\n      <td>Year-Round Sports</td>\n      <td>Washington</td>\n    </tr>\n    <tr>\n      <th>425</th>\n      <td>Yellow Bicycle Company</td>\n      <td>Missouri</td>\n    </tr>\n    <tr>\n      <th>426</th>\n      <td>eCommerce Bikes</td>\n      <td>Mississippi</td>\n    </tr>\n  </tbody>\n</table>\n<p>427 rows × 2 columns</p>\n</div>",
            "text/plain": "                          name stateProvinceName\n0        A Bicycle Association          New York\n1                 A Bike Store        Washington\n2                 A Cycle Shop            Oregon\n3      A Great Bicycle Company          Missouri\n4          A Typical Bike Shop             Texas\n..                         ...               ...\n422             World of Bikes          Missouri\n423  Worthwhile Activity Store           Florida\n424          Year-Round Sports        Washington\n425     Yellow Bicycle Company          Missouri\n426            eCommerce Bikes       Mississippi\n\n[427 rows x 2 columns]"
          },
          "metadata": {},
          "output_type": "display_data"
        }
      ],
      "source": "display(df_usStores)"
    },
    {
      "cell_type": "markdown",
      "metadata": {},
      "source": "**Use .groupby on Pandas dataframe to get counts by state**"
    },
    {
      "cell_type": "code",
      "execution_count": 49,
      "metadata": {
        "collapsed": false,
        "execution": {
          "iopub.execute_input": "2020-06-13T14:29:41.649Z",
          "iopub.status.busy": "2020-06-13T14:29:41.573Z",
          "iopub.status.idle": "2020-06-13T14:29:41.704Z",
          "shell.execute_reply": "2020-06-13T14:29:41.726Z"
        },
        "inputHidden": false,
        "outputHidden": false,
        "trusted": true
      },
      "outputs": [
        {
          "data": {
            "text/html": "<div>\n<style scoped>\n    .dataframe tbody tr th:only-of-type {\n        vertical-align: middle;\n    }\n\n    .dataframe tbody tr th {\n        vertical-align: top;\n    }\n\n    .dataframe thead th {\n        text-align: right;\n    }\n</style>\n<table border=\"1\" class=\"dataframe\">\n  <thead>\n    <tr style=\"text-align: right;\">\n      <th></th>\n      <th>stateProvinceName</th>\n      <th>name</th>\n    </tr>\n  </thead>\n  <tbody>\n    <tr>\n      <th>0</th>\n      <td>Alabama</td>\n      <td>6</td>\n    </tr>\n    <tr>\n      <th>1</th>\n      <td>Arizona</td>\n      <td>12</td>\n    </tr>\n    <tr>\n      <th>2</th>\n      <td>California</td>\n      <td>78</td>\n    </tr>\n    <tr>\n      <th>3</th>\n      <td>Colorado</td>\n      <td>9</td>\n    </tr>\n    <tr>\n      <th>4</th>\n      <td>Connecticut</td>\n      <td>9</td>\n    </tr>\n    <tr>\n      <th>5</th>\n      <td>Florida</td>\n      <td>27</td>\n    </tr>\n    <tr>\n      <th>6</th>\n      <td>Georgia</td>\n      <td>13</td>\n    </tr>\n    <tr>\n      <th>7</th>\n      <td>Idaho</td>\n      <td>3</td>\n    </tr>\n    <tr>\n      <th>8</th>\n      <td>Illinois</td>\n      <td>15</td>\n    </tr>\n    <tr>\n      <th>9</th>\n      <td>Indiana</td>\n      <td>9</td>\n    </tr>\n    <tr>\n      <th>10</th>\n      <td>Kentucky</td>\n      <td>5</td>\n    </tr>\n    <tr>\n      <th>11</th>\n      <td>Maine</td>\n      <td>2</td>\n    </tr>\n    <tr>\n      <th>12</th>\n      <td>Massachusetts</td>\n      <td>5</td>\n    </tr>\n    <tr>\n      <th>13</th>\n      <td>Michigan</td>\n      <td>16</td>\n    </tr>\n    <tr>\n      <th>14</th>\n      <td>Minnesota</td>\n      <td>6</td>\n    </tr>\n    <tr>\n      <th>15</th>\n      <td>Mississippi</td>\n      <td>3</td>\n    </tr>\n    <tr>\n      <th>16</th>\n      <td>Missouri</td>\n      <td>11</td>\n    </tr>\n    <tr>\n      <th>17</th>\n      <td>Montana</td>\n      <td>3</td>\n    </tr>\n    <tr>\n      <th>18</th>\n      <td>Nevada</td>\n      <td>7</td>\n    </tr>\n    <tr>\n      <th>19</th>\n      <td>New Hampshire</td>\n      <td>5</td>\n    </tr>\n    <tr>\n      <th>20</th>\n      <td>New Mexico</td>\n      <td>3</td>\n    </tr>\n    <tr>\n      <th>21</th>\n      <td>New York</td>\n      <td>11</td>\n    </tr>\n    <tr>\n      <th>22</th>\n      <td>North Carolina</td>\n      <td>7</td>\n    </tr>\n    <tr>\n      <th>23</th>\n      <td>Ohio</td>\n      <td>12</td>\n    </tr>\n    <tr>\n      <th>24</th>\n      <td>Oregon</td>\n      <td>18</td>\n    </tr>\n    <tr>\n      <th>25</th>\n      <td>Rhode Island</td>\n      <td>3</td>\n    </tr>\n    <tr>\n      <th>26</th>\n      <td>South Carolina</td>\n      <td>3</td>\n    </tr>\n    <tr>\n      <th>27</th>\n      <td>South Dakota</td>\n      <td>2</td>\n    </tr>\n    <tr>\n      <th>28</th>\n      <td>Tennessee</td>\n      <td>16</td>\n    </tr>\n    <tr>\n      <th>29</th>\n      <td>Texas</td>\n      <td>38</td>\n    </tr>\n    <tr>\n      <th>30</th>\n      <td>Utah</td>\n      <td>9</td>\n    </tr>\n    <tr>\n      <th>31</th>\n      <td>Virginia</td>\n      <td>5</td>\n    </tr>\n    <tr>\n      <th>32</th>\n      <td>Washington</td>\n      <td>47</td>\n    </tr>\n    <tr>\n      <th>33</th>\n      <td>Wisconsin</td>\n      <td>4</td>\n    </tr>\n    <tr>\n      <th>34</th>\n      <td>Wyoming</td>\n      <td>5</td>\n    </tr>\n  </tbody>\n</table>\n</div>",
            "text/plain": "   stateProvinceName  name\n0            Alabama     6\n1            Arizona    12\n2         California    78\n3           Colorado     9\n4        Connecticut     9\n5            Florida    27\n6            Georgia    13\n7              Idaho     3\n8           Illinois    15\n9            Indiana     9\n10          Kentucky     5\n11             Maine     2\n12     Massachusetts     5\n13          Michigan    16\n14         Minnesota     6\n15       Mississippi     3\n16          Missouri    11\n17           Montana     3\n18            Nevada     7\n19     New Hampshire     5\n20        New Mexico     3\n21          New York    11\n22    North Carolina     7\n23              Ohio    12\n24            Oregon    18\n25      Rhode Island     3\n26    South Carolina     3\n27      South Dakota     2\n28         Tennessee    16\n29             Texas    38\n30              Utah     9\n31          Virginia     5\n32        Washington    47\n33         Wisconsin     4\n34           Wyoming     5"
          },
          "metadata": {},
          "output_type": "display_data"
        }
      ],
      "source": "df_byState = df_usStores.groupby(\"stateProvinceName\").count().reset_index()\n\ndisplay(df_byState)"
    },
    {
      "cell_type": "markdown",
      "metadata": {},
      "source": "**Enable paging, filtering, sorting, and charting**"
    },
    {
      "cell_type": "code",
      "execution_count": 50,
      "metadata": {
        "collapsed": false,
        "execution": {
          "iopub.execute_input": "2020-06-13T14:29:41.764Z",
          "iopub.status.busy": "2020-06-13T14:29:41.749Z",
          "iopub.status.idle": "2020-06-13T14:29:41.962Z",
          "shell.execute_reply": "2020-06-13T14:29:42.089Z"
        },
        "inputHidden": false,
        "outputHidden": false,
        "trusted": true
      },
      "outputs": [
        {
          "data": {
            "application/vnd.dataresource+json": {
              "data": [
                {
                  "index": 0,
                  "name": 6,
                  "stateProvinceName": "Alabama"
                },
                {
                  "index": 1,
                  "name": 12,
                  "stateProvinceName": "Arizona"
                },
                {
                  "index": 2,
                  "name": 78,
                  "stateProvinceName": "California"
                },
                {
                  "index": 3,
                  "name": 9,
                  "stateProvinceName": "Colorado"
                },
                {
                  "index": 4,
                  "name": 9,
                  "stateProvinceName": "Connecticut"
                },
                {
                  "index": 5,
                  "name": 27,
                  "stateProvinceName": "Florida"
                },
                {
                  "index": 6,
                  "name": 13,
                  "stateProvinceName": "Georgia"
                },
                {
                  "index": 7,
                  "name": 3,
                  "stateProvinceName": "Idaho"
                },
                {
                  "index": 8,
                  "name": 15,
                  "stateProvinceName": "Illinois"
                },
                {
                  "index": 9,
                  "name": 9,
                  "stateProvinceName": "Indiana"
                },
                {
                  "index": 10,
                  "name": 5,
                  "stateProvinceName": "Kentucky"
                },
                {
                  "index": 11,
                  "name": 2,
                  "stateProvinceName": "Maine"
                },
                {
                  "index": 12,
                  "name": 5,
                  "stateProvinceName": "Massachusetts"
                },
                {
                  "index": 13,
                  "name": 16,
                  "stateProvinceName": "Michigan"
                },
                {
                  "index": 14,
                  "name": 6,
                  "stateProvinceName": "Minnesota"
                },
                {
                  "index": 15,
                  "name": 3,
                  "stateProvinceName": "Mississippi"
                },
                {
                  "index": 16,
                  "name": 11,
                  "stateProvinceName": "Missouri"
                },
                {
                  "index": 17,
                  "name": 3,
                  "stateProvinceName": "Montana"
                },
                {
                  "index": 18,
                  "name": 7,
                  "stateProvinceName": "Nevada"
                },
                {
                  "index": 19,
                  "name": 5,
                  "stateProvinceName": "New Hampshire"
                },
                {
                  "index": 20,
                  "name": 3,
                  "stateProvinceName": "New Mexico"
                },
                {
                  "index": 21,
                  "name": 11,
                  "stateProvinceName": "New York"
                },
                {
                  "index": 22,
                  "name": 7,
                  "stateProvinceName": "North Carolina"
                },
                {
                  "index": 23,
                  "name": 12,
                  "stateProvinceName": "Ohio"
                },
                {
                  "index": 24,
                  "name": 18,
                  "stateProvinceName": "Oregon"
                },
                {
                  "index": 25,
                  "name": 3,
                  "stateProvinceName": "Rhode Island"
                },
                {
                  "index": 26,
                  "name": 3,
                  "stateProvinceName": "South Carolina"
                },
                {
                  "index": 27,
                  "name": 2,
                  "stateProvinceName": "South Dakota"
                },
                {
                  "index": 28,
                  "name": 16,
                  "stateProvinceName": "Tennessee"
                },
                {
                  "index": 29,
                  "name": 38,
                  "stateProvinceName": "Texas"
                },
                {
                  "index": 30,
                  "name": 9,
                  "stateProvinceName": "Utah"
                },
                {
                  "index": 31,
                  "name": 5,
                  "stateProvinceName": "Virginia"
                },
                {
                  "index": 32,
                  "name": 47,
                  "stateProvinceName": "Washington"
                },
                {
                  "index": 33,
                  "name": 4,
                  "stateProvinceName": "Wisconsin"
                },
                {
                  "index": 34,
                  "name": 5,
                  "stateProvinceName": "Wyoming"
                }
              ],
              "schema": {
                "fields": [
                  {
                    "name": "index",
                    "type": "integer"
                  },
                  {
                    "name": "stateProvinceName",
                    "type": "string"
                  },
                  {
                    "name": "name",
                    "type": "integer"
                  }
                ],
                "pandas_version": "0.20.0",
                "primaryKey": [
                  "index"
                ]
              }
            },
            "text/html": "<div>\n<style scoped>\n    .dataframe tbody tr th:only-of-type {\n        vertical-align: middle;\n    }\n\n    .dataframe tbody tr th {\n        vertical-align: top;\n    }\n\n    .dataframe thead th {\n        text-align: right;\n    }\n</style>\n<table border=\"1\" class=\"dataframe\">\n  <thead>\n    <tr style=\"text-align: right;\">\n      <th></th>\n      <th>stateProvinceName</th>\n      <th>name</th>\n    </tr>\n  </thead>\n  <tbody>\n    <tr>\n      <th>0</th>\n      <td>Alabama</td>\n      <td>6</td>\n    </tr>\n    <tr>\n      <th>1</th>\n      <td>Arizona</td>\n      <td>12</td>\n    </tr>\n    <tr>\n      <th>2</th>\n      <td>California</td>\n      <td>78</td>\n    </tr>\n    <tr>\n      <th>3</th>\n      <td>Colorado</td>\n      <td>9</td>\n    </tr>\n    <tr>\n      <th>4</th>\n      <td>Connecticut</td>\n      <td>9</td>\n    </tr>\n    <tr>\n      <th>5</th>\n      <td>Florida</td>\n      <td>27</td>\n    </tr>\n    <tr>\n      <th>6</th>\n      <td>Georgia</td>\n      <td>13</td>\n    </tr>\n    <tr>\n      <th>7</th>\n      <td>Idaho</td>\n      <td>3</td>\n    </tr>\n    <tr>\n      <th>8</th>\n      <td>Illinois</td>\n      <td>15</td>\n    </tr>\n    <tr>\n      <th>9</th>\n      <td>Indiana</td>\n      <td>9</td>\n    </tr>\n    <tr>\n      <th>10</th>\n      <td>Kentucky</td>\n      <td>5</td>\n    </tr>\n    <tr>\n      <th>11</th>\n      <td>Maine</td>\n      <td>2</td>\n    </tr>\n    <tr>\n      <th>12</th>\n      <td>Massachusetts</td>\n      <td>5</td>\n    </tr>\n    <tr>\n      <th>13</th>\n      <td>Michigan</td>\n      <td>16</td>\n    </tr>\n    <tr>\n      <th>14</th>\n      <td>Minnesota</td>\n      <td>6</td>\n    </tr>\n    <tr>\n      <th>15</th>\n      <td>Mississippi</td>\n      <td>3</td>\n    </tr>\n    <tr>\n      <th>16</th>\n      <td>Missouri</td>\n      <td>11</td>\n    </tr>\n    <tr>\n      <th>17</th>\n      <td>Montana</td>\n      <td>3</td>\n    </tr>\n    <tr>\n      <th>18</th>\n      <td>Nevada</td>\n      <td>7</td>\n    </tr>\n    <tr>\n      <th>19</th>\n      <td>New Hampshire</td>\n      <td>5</td>\n    </tr>\n    <tr>\n      <th>20</th>\n      <td>New Mexico</td>\n      <td>3</td>\n    </tr>\n    <tr>\n      <th>21</th>\n      <td>New York</td>\n      <td>11</td>\n    </tr>\n    <tr>\n      <th>22</th>\n      <td>North Carolina</td>\n      <td>7</td>\n    </tr>\n    <tr>\n      <th>23</th>\n      <td>Ohio</td>\n      <td>12</td>\n    </tr>\n    <tr>\n      <th>24</th>\n      <td>Oregon</td>\n      <td>18</td>\n    </tr>\n    <tr>\n      <th>25</th>\n      <td>Rhode Island</td>\n      <td>3</td>\n    </tr>\n    <tr>\n      <th>26</th>\n      <td>South Carolina</td>\n      <td>3</td>\n    </tr>\n    <tr>\n      <th>27</th>\n      <td>South Dakota</td>\n      <td>2</td>\n    </tr>\n    <tr>\n      <th>28</th>\n      <td>Tennessee</td>\n      <td>16</td>\n    </tr>\n    <tr>\n      <th>29</th>\n      <td>Texas</td>\n      <td>38</td>\n    </tr>\n    <tr>\n      <th>30</th>\n      <td>Utah</td>\n      <td>9</td>\n    </tr>\n    <tr>\n      <th>31</th>\n      <td>Virginia</td>\n      <td>5</td>\n    </tr>\n    <tr>\n      <th>32</th>\n      <td>Washington</td>\n      <td>47</td>\n    </tr>\n    <tr>\n      <th>33</th>\n      <td>Wisconsin</td>\n      <td>4</td>\n    </tr>\n    <tr>\n      <th>34</th>\n      <td>Wyoming</td>\n      <td>5</td>\n    </tr>\n  </tbody>\n</table>\n</div>",
            "text/plain": "   stateProvinceName  name\n0            Alabama     6\n1            Arizona    12\n2         California    78\n3           Colorado     9\n4        Connecticut     9\n5            Florida    27\n6            Georgia    13\n7              Idaho     3\n8           Illinois    15\n9            Indiana     9\n10          Kentucky     5\n11             Maine     2\n12     Massachusetts     5\n13          Michigan    16\n14         Minnesota     6\n15       Mississippi     3\n16          Missouri    11\n17           Montana     3\n18            Nevada     7\n19     New Hampshire     5\n20        New Mexico     3\n21          New York    11\n22    North Carolina     7\n23              Ohio    12\n24            Oregon    18\n25      Rhode Island     3\n26    South Carolina     3\n27      South Dakota     2\n28         Tennessee    16\n29             Texas    38\n30              Utah     9\n31          Virginia     5\n32        Washington    47\n33         Wisconsin     4\n34           Wyoming     5"
          },
          "metadata": {
            "application/vnd.dataresource+json": {
              "__altered": false,
              "_root": {
                "entries": [
                  [
                    "dx",
                    {
                      "areaType": "hexbin",
                      "barGrouping": "Clustered",
                      "chart": {
                        "dim1": "stateProvinceName",
                        "dim2": "none",
                        "dim3": "none",
                        "metric1": "name",
                        "metric2": "none",
                        "metric3": "none",
                        "metric4": "none",
                        "networkLabel": "none",
                        "timeseriesSort": "array-order"
                      },
                      "colors": [
                        "#DA752E",
                        "#E5C209",
                        "#1441A0",
                        "#B86117",
                        "#4D430C",
                        "#1DB390",
                        "#B3331D",
                        "#088EB2",
                        "#417505",
                        "#E479A8",
                        "#F9F39E",
                        "#5782DC",
                        "#EBA97B",
                        "#A2AB60",
                        "#B291CF",
                        "#8DD2C2",
                        "#E6A19F",
                        "#3DC7E0",
                        "#98CE5B"
                      ],
                      "hierarchyType": "dendrogram",
                      "lineType": "line",
                      "marginalGraphics": "none",
                      "networkType": "force",
                      "pieceType": "bar",
                      "selectedDimensions": [
                        "stateProvinceName"
                      ],
                      "selectedMetrics": [],
                      "summaryType": "violin",
                      "trendLine": "none",
                      "view": "grid"
                    }
                  ]
                ],
                "ownerID": {}
              },
              "dx": {
                "areaType": "hexbin",
                "barGrouping": "Clustered",
                "chart": {
                  "dim1": "stateProvinceName",
                  "dim2": "none",
                  "dim3": "none",
                  "metric1": "name",
                  "metric2": "none",
                  "metric3": "none",
                  "metric4": "none",
                  "networkLabel": "none",
                  "timeseriesSort": "array-order"
                },
                "colors": [
                  "#DA752E",
                  "#E5C209",
                  "#1441A0",
                  "#B86117",
                  "#4D430C",
                  "#1DB390",
                  "#B3331D",
                  "#088EB2",
                  "#417505",
                  "#E479A8",
                  "#F9F39E",
                  "#5782DC",
                  "#EBA97B",
                  "#A2AB60",
                  "#B291CF",
                  "#8DD2C2",
                  "#E6A19F",
                  "#3DC7E0",
                  "#98CE5B"
                ],
                "hierarchyType": "dendrogram",
                "lineType": "line",
                "marginalGraphics": "none",
                "networkType": "force",
                "pieceType": "bar",
                "selectedDimensions": [
                  "stateProvinceName"
                ],
                "selectedMetrics": [],
                "summaryType": "violin",
                "trendLine": "none",
                "view": "grid"
              },
              "size": 1
            }
          },
          "output_type": "display_data"
        }
      ],
      "source": "pd.options.display.html.table_schema = True\n\ndisplay(df_byState)\n\npd.options.display.html.table_schema = False"
    },
    {
      "cell_type": "markdown",
      "metadata": {},
      "source": "**Cross-partition aggregates require VALUE**"
    },
    {
      "cell_type": "code",
      "execution_count": 51,
      "metadata": {
        "collapsed": false,
        "execution": {
          "iopub.execute_input": "2020-06-13T14:29:42.221Z",
          "iopub.status.busy": "2020-06-13T14:29:42.137Z",
          "iopub.status.idle": "2020-06-13T14:29:42.279Z",
          "shell.execute_reply": "2020-06-13T14:29:42.299Z"
        },
        "inputHidden": false,
        "outputHidden": false,
        "trusted": true
      },
      "outputs": [
        {
          "name": "stdout",
          "output_type": "stream",
          "text": "Total families\n[\n    3\n]\nLowest grade\n[\n    1\n]\nHighest grade\n[\n    7\n]\nAverage grade\n[\n    4.4\n]\nFewest children\n[\n    1\n]\nMost children\n[\n    2\n]\nTotal children\n[\n    5\n]\nTotal pets\n[\n    6\n]\n"
        }
      ],
      "source": "query(families, showStats = False, desc = \"Total families\", sql =\n      \"SELECT VALUE COUNT(c) FROM c\")\n\nquery(families, showStats = False, desc = \"Lowest grade\", sql =\n      \"SELECT VALUE MIN(ch.grade) FROM ch IN c.children\")\n\nquery(families, showStats = False, desc = \"Highest grade\", sql =\n      \"SELECT VALUE MAX(ch.grade) FROM ch IN c.children\")\n\nquery(families, showStats = False, desc = \"Average grade\", sql =\n      \"SELECT VALUE AVG(ch.grade) FROM ch IN c.children\")\n\nquery(families, showStats = False, desc = \"Fewest children\", sql =\n      \"SELECT VALUE MIN(ARRAY_LENGTH(c.children)) FROM c\")\n\nquery(families, showStats = False, desc = \"Most children\", sql =\n      \"SELECT VALUE MAX(ARRAY_LENGTH(c.children)) FROM c\")\n\nquery(families, showStats = False, desc = \"Total children\", sql =\n      \"SELECT VALUE SUM(ARRAY_LENGTH(c.children)) FROM c\")\n\nquery(families, showStats = False, desc = \"Total pets\", sql =\n      \"SELECT VALUE SUM(ARRAY_LENGTH(ch.pets)) FROM ch IN c.children\")\n"
    },
    {
      "cell_type": "markdown",
      "metadata": {},
      "source": "## Spatial Queries"
    },
    {
      "cell_type": "markdown",
      "metadata": {},
      "source": "**Each family document has GeoJSON coordinates in the geo property**"
    },
    {
      "cell_type": "code",
      "execution_count": 52,
      "metadata": {
        "collapsed": false,
        "execution": {
          "iopub.execute_input": "2020-06-13T14:29:42.333Z",
          "iopub.status.busy": "2020-06-13T14:29:42.322Z",
          "iopub.status.idle": "2020-06-13T14:29:42.379Z",
          "shell.execute_reply": "2020-06-13T14:29:42.399Z"
        },
        "inputHidden": false,
        "outputHidden": false,
        "trusted": true
      },
      "outputs": [
        {
          "name": "stdout",
          "output_type": "stream",
          "text": "3 document(s) selected (charge= 2.37 RUs)\n\n[\n    {\n        \"family\": \"AndersenFamily, Seattle (King), WA\",\n        \"geo\": {\n            \"type\": \"Point\",\n            \"coordinates\": [\n                -122.3295,\n                47.60357\n            ]\n        }\n    },\n    {\n        \"family\": \"SmithFamily, Forest Hills (Queens), NY\",\n        \"geo\": {\n            \"type\": \"Point\",\n            \"coordinates\": [\n                -73.84791,\n                40.72266\n            ]\n        }\n    },\n    {\n        \"family\": \"WakefieldFamily, NY (Manhattan), NY\",\n        \"geo\": {\n            \"type\": \"Point\",\n            \"coordinates\": [\n                -73.992,\n                40.731\n            ]\n        }\n    }\n]\n"
        }
      ],
      "source": "query(families, \"\"\"\n\nSELECT\n c.id || ', ' || c.location.city || ' (' || c.location.county || '), ' || c.location.state AS family,\n c.geo\nFROM c\n\n\"\"\")"
    },
    {
      "cell_type": "markdown",
      "metadata": {},
      "source": "**Show each family's distance (in meters) from NYC**"
    },
    {
      "cell_type": "code",
      "execution_count": 53,
      "metadata": {
        "collapsed": false,
        "execution": {
          "iopub.execute_input": "2020-06-13T14:29:42.448Z",
          "iopub.status.busy": "2020-06-13T14:29:42.425Z",
          "iopub.status.idle": "2020-06-13T14:29:42.490Z",
          "shell.execute_reply": "2020-06-13T14:29:42.512Z"
        },
        "inputHidden": false,
        "outputHidden": false,
        "trusted": true
      },
      "outputs": [
        {
          "data": {
            "text/html": "\r\n<div>\r\n  <style type='text/css' scoped>\r\n.collapsible {\r\n  background-color: #fff;\r\n  color: #0078D4;\r\n  cursor: pointer;\r\n  padding: 10px;\r\n  border: none;\r\n  text-align: left;\r\n  outline: none;\r\n  font-size: 15px;\r\n  border-radius: 5px;\r\n  margin: 5px\r\n}\r\n\r\n.active, .collapsible:hover {\r\n  color: #4db2ff;\r\n}\r\n\r\n.content {\r\n  margin: 2px;\r\n  padding: 0 18px;\r\n  overflow: hidden;\r\n  background-color: #fff;\r\n  height: 0px;\r\n  -moz-transition: height .2s ease-out;\r\n  -ms-transition: height .2s ease-out;\r\n  -o-transition: height .2s ease-out;\r\n  -webkit-transition: height .2s ease-out;\r\n  transition: height .2s ease-out;\r\n}\r\n</style>\r\n\r\n<button type='button' class='collapsible'>▶ View Query Metrics</button>\r\n  \r\n<div class='content'>\r\n  <div class='measuringWrapper'>\r\n    <span style=\"color:#0078D4\"><b>totalExecutionTimeInMs    </b>:    0.79<br/><b>queryCompileTimeInMs    </b>:    0.19<br/><b>queryLogicalPlanBuildTimeInMs    </b>:    0.08<br/><b>queryPhysicalPlanBuildTimeInMs    </b>:    0.03<br/><b>queryOptimizationTimeInMs    </b>:    0<br/><b>VMExecutionTimeInMs    </b>:    0.22<br/><b>indexLookupTimeInMs    </b>:    0<br/><b>documentLoadTimeInMs    </b>:    0.05<br/><b>systemFunctionExecuteTimeInMs    </b>:    0.09<br/><b>userFunctionExecuteTimeInMs    </b>:    0<br/><b>retrievedDocumentCount    </b>:    3<br/><b>retrievedDocumentSize    </b>:    2058<br/><b>outputDocumentCount    </b>:    3<br/><b>outputDocumentSize    </b>:    302<br/><b>writeOutputTimeInMs    </b>:    0.03<br/><b>averageIndexUtilizationRation    </b>:    1<br/></span>\r\n  </div>\r\n</div>\r\n\r\n<script>\r\nvar coll = document.getElementsByClassName('collapsible');\r\nvar i;\r\n\r\nfor (i = 0; i < coll.length; i++) {\r\n  \r\n  coll[i].addEventListener('click', function() {\r\n    this.classList.toggle('active');\r\n    var content = this.nextElementSibling;\r\n    \r\n    if (content.clientHeight != 0) {\r\n      this.textContent = '▶ View Query Metrics';\r\n      content.style.height = '0px';\r\n    }\r\n    else {\r\n      this.textContent = '▼ Hide Query Metrics';\r\n      content.style.height = content.children[0].clientHeight + 'px';\r\n    }\r\n  });\r\n}\r\n</script>\r\n</div>"
          },
          "metadata": {},
          "output_type": "display_data"
        },
        {
          "data": {
            "text/html": "<div>\n<style scoped>\n    .dataframe tbody tr th:only-of-type {\n        vertical-align: middle;\n    }\n\n    .dataframe tbody tr th {\n        vertical-align: top;\n    }\n\n    .dataframe thead th {\n        text-align: right;\n    }\n</style>\n<table border=\"1\" class=\"dataframe\">\n  <thead>\n    <tr style=\"text-align: right;\">\n      <th></th>\n      <th>family</th>\n      <th>metersFromNyc</th>\n    </tr>\n  </thead>\n  <tbody>\n    <tr>\n      <th>0</th>\n      <td>AndersenFamily, Seattle (King), WA</td>\n      <td>3.875551e+06</td>\n    </tr>\n    <tr>\n      <th>1</th>\n      <td>SmithFamily, Forest Hills (Queens), NY</td>\n      <td>1.220847e+04</td>\n    </tr>\n    <tr>\n      <th>2</th>\n      <td>WakefieldFamily, NY (Manhattan), NY</td>\n      <td>4.441948e+00</td>\n    </tr>\n  </tbody>\n</table>\n</div>",
            "text/plain": "                                   family  metersFromNyc\n0      AndersenFamily, Seattle (King), WA   3.875551e+06\n1  SmithFamily, Forest Hills (Queens), NY   1.220847e+04\n2     WakefieldFamily, NY (Manhattan), NY   4.441948e+00"
          },
          "metadata": {},
          "output_type": "display_data"
        }
      ],
      "source": "%%sql --database Families --container Families\n\nSELECT\n c.id || ', ' || c.location.city || ' (' || c.location.county || '), ' || c.location.state AS family,\n ST_DISTANCE(c.geo, \n  {\n   'type': 'Point',\n   'coordinates': [-73.992, 40.73104]\n  }\n ) AS metersFromNyc\nFROM c"
    },
    {
      "cell_type": "markdown",
      "metadata": {},
      "source": "**Show each family's distance (in kilometers) from NYC**"
    },
    {
      "cell_type": "code",
      "execution_count": 54,
      "metadata": {
        "collapsed": false,
        "execution": {
          "iopub.execute_input": "2020-06-13T14:29:42.712Z",
          "iopub.status.busy": "2020-06-13T14:29:42.536Z",
          "iopub.status.idle": "2020-06-13T14:29:42.757Z",
          "shell.execute_reply": "2020-06-13T14:29:42.780Z"
        },
        "inputHidden": false,
        "outputHidden": false,
        "trusted": true
      },
      "outputs": [
        {
          "data": {
            "text/html": "\r\n<div>\r\n  <style type='text/css' scoped>\r\n.collapsible {\r\n  background-color: #fff;\r\n  color: #0078D4;\r\n  cursor: pointer;\r\n  padding: 10px;\r\n  border: none;\r\n  text-align: left;\r\n  outline: none;\r\n  font-size: 15px;\r\n  border-radius: 5px;\r\n  margin: 5px\r\n}\r\n\r\n.active, .collapsible:hover {\r\n  color: #4db2ff;\r\n}\r\n\r\n.content {\r\n  margin: 2px;\r\n  padding: 0 18px;\r\n  overflow: hidden;\r\n  background-color: #fff;\r\n  height: 0px;\r\n  -moz-transition: height .2s ease-out;\r\n  -ms-transition: height .2s ease-out;\r\n  -o-transition: height .2s ease-out;\r\n  -webkit-transition: height .2s ease-out;\r\n  transition: height .2s ease-out;\r\n}\r\n</style>\r\n\r\n<button type='button' class='collapsible'>▶ View Query Metrics</button>\r\n  \r\n<div class='content'>\r\n  <div class='measuringWrapper'>\r\n    <span style=\"color:#0078D4\"><b>totalExecutionTimeInMs    </b>:    0.72<br/><b>queryCompileTimeInMs    </b>:    0.2<br/><b>queryLogicalPlanBuildTimeInMs    </b>:    0.05<br/><b>queryPhysicalPlanBuildTimeInMs    </b>:    0.02<br/><b>queryOptimizationTimeInMs    </b>:    0<br/><b>VMExecutionTimeInMs    </b>:    0.19<br/><b>indexLookupTimeInMs    </b>:    0<br/><b>documentLoadTimeInMs    </b>:    0.05<br/><b>systemFunctionExecuteTimeInMs    </b>:    0.07<br/><b>userFunctionExecuteTimeInMs    </b>:    0<br/><b>retrievedDocumentCount    </b>:    3<br/><b>retrievedDocumentSize    </b>:    2058<br/><b>outputDocumentCount    </b>:    3<br/><b>outputDocumentSize    </b>:    292<br/><b>writeOutputTimeInMs    </b>:    0.02<br/><b>averageIndexUtilizationRation    </b>:    1<br/></span>\r\n  </div>\r\n</div>\r\n\r\n<script>\r\nvar coll = document.getElementsByClassName('collapsible');\r\nvar i;\r\n\r\nfor (i = 0; i < coll.length; i++) {\r\n  \r\n  coll[i].addEventListener('click', function() {\r\n    this.classList.toggle('active');\r\n    var content = this.nextElementSibling;\r\n    \r\n    if (content.clientHeight != 0) {\r\n      this.textContent = '▶ View Query Metrics';\r\n      content.style.height = '0px';\r\n    }\r\n    else {\r\n      this.textContent = '▼ Hide Query Metrics';\r\n      content.style.height = content.children[0].clientHeight + 'px';\r\n    }\r\n  });\r\n}\r\n</script>\r\n</div>"
          },
          "metadata": {},
          "output_type": "display_data"
        },
        {
          "data": {
            "text/html": "<div>\n<style scoped>\n    .dataframe tbody tr th:only-of-type {\n        vertical-align: middle;\n    }\n\n    .dataframe tbody tr th {\n        vertical-align: top;\n    }\n\n    .dataframe thead th {\n        text-align: right;\n    }\n</style>\n<table border=\"1\" class=\"dataframe\">\n  <thead>\n    <tr style=\"text-align: right;\">\n      <th></th>\n      <th>family</th>\n      <th>kmFromNyc</th>\n    </tr>\n  </thead>\n  <tbody>\n    <tr>\n      <th>0</th>\n      <td>AndersenFamily, Seattle (King), WA</td>\n      <td>3875.551243</td>\n    </tr>\n    <tr>\n      <th>1</th>\n      <td>SmithFamily, Forest Hills (Queens), NY</td>\n      <td>12.208466</td>\n    </tr>\n    <tr>\n      <th>2</th>\n      <td>WakefieldFamily, NY (Manhattan), NY</td>\n      <td>0.004442</td>\n    </tr>\n  </tbody>\n</table>\n</div>",
            "text/plain": "                                   family    kmFromNyc\n0      AndersenFamily, Seattle (King), WA  3875.551243\n1  SmithFamily, Forest Hills (Queens), NY    12.208466\n2     WakefieldFamily, NY (Manhattan), NY     0.004442"
          },
          "metadata": {},
          "output_type": "display_data"
        }
      ],
      "source": "%%sql --database Families --container Families\n\nSELECT\n c.id || ', ' || c.location.city || ' (' || c.location.county || '), ' || c.location.state AS family,\n ST_DISTANCE(c.geo,\n  {\n   'type': 'Point',\n   'coordinates': [-73.992, 40.73104]\n  }\n ) / 1000 AS kmFromNyc\nFROM c"
    },
    {
      "cell_type": "markdown",
      "metadata": {},
      "source": "**Show each family's distance (in miles) from NYC**"
    },
    {
      "cell_type": "code",
      "execution_count": 55,
      "metadata": {
        "collapsed": false,
        "execution": {
          "iopub.execute_input": "2020-06-13T14:29:42.826Z",
          "iopub.status.busy": "2020-06-13T14:29:42.804Z",
          "iopub.status.idle": "2020-06-13T14:29:42.873Z",
          "shell.execute_reply": "2020-06-13T14:29:42.893Z"
        },
        "inputHidden": false,
        "outputHidden": false,
        "trusted": true
      },
      "outputs": [
        {
          "data": {
            "text/html": "\r\n<div>\r\n  <style type='text/css' scoped>\r\n.collapsible {\r\n  background-color: #fff;\r\n  color: #0078D4;\r\n  cursor: pointer;\r\n  padding: 10px;\r\n  border: none;\r\n  text-align: left;\r\n  outline: none;\r\n  font-size: 15px;\r\n  border-radius: 5px;\r\n  margin: 5px\r\n}\r\n\r\n.active, .collapsible:hover {\r\n  color: #4db2ff;\r\n}\r\n\r\n.content {\r\n  margin: 2px;\r\n  padding: 0 18px;\r\n  overflow: hidden;\r\n  background-color: #fff;\r\n  height: 0px;\r\n  -moz-transition: height .2s ease-out;\r\n  -ms-transition: height .2s ease-out;\r\n  -o-transition: height .2s ease-out;\r\n  -webkit-transition: height .2s ease-out;\r\n  transition: height .2s ease-out;\r\n}\r\n</style>\r\n\r\n<button type='button' class='collapsible'>▶ View Query Metrics</button>\r\n  \r\n<div class='content'>\r\n  <div class='measuringWrapper'>\r\n    <span style=\"color:#0078D4\"><b>totalExecutionTimeInMs    </b>:    0.78<br/><b>queryCompileTimeInMs    </b>:    0.18<br/><b>queryLogicalPlanBuildTimeInMs    </b>:    0.07<br/><b>queryPhysicalPlanBuildTimeInMs    </b>:    0.03<br/><b>queryOptimizationTimeInMs    </b>:    0<br/><b>VMExecutionTimeInMs    </b>:    0.23<br/><b>indexLookupTimeInMs    </b>:    0<br/><b>documentLoadTimeInMs    </b>:    0.07<br/><b>systemFunctionExecuteTimeInMs    </b>:    0.09<br/><b>userFunctionExecuteTimeInMs    </b>:    0<br/><b>retrievedDocumentCount    </b>:    3<br/><b>retrievedDocumentSize    </b>:    2058<br/><b>outputDocumentCount    </b>:    3<br/><b>outputDocumentSize    </b>:    302<br/><b>writeOutputTimeInMs    </b>:    0.03<br/><b>averageIndexUtilizationRation    </b>:    1<br/></span>\r\n  </div>\r\n</div>\r\n\r\n<script>\r\nvar coll = document.getElementsByClassName('collapsible');\r\nvar i;\r\n\r\nfor (i = 0; i < coll.length; i++) {\r\n  \r\n  coll[i].addEventListener('click', function() {\r\n    this.classList.toggle('active');\r\n    var content = this.nextElementSibling;\r\n    \r\n    if (content.clientHeight != 0) {\r\n      this.textContent = '▶ View Query Metrics';\r\n      content.style.height = '0px';\r\n    }\r\n    else {\r\n      this.textContent = '▼ Hide Query Metrics';\r\n      content.style.height = content.children[0].clientHeight + 'px';\r\n    }\r\n  });\r\n}\r\n</script>\r\n</div>"
          },
          "metadata": {},
          "output_type": "display_data"
        },
        {
          "data": {
            "text/html": "<div>\n<style scoped>\n    .dataframe tbody tr th:only-of-type {\n        vertical-align: middle;\n    }\n\n    .dataframe tbody tr th {\n        vertical-align: top;\n    }\n\n    .dataframe thead th {\n        text-align: right;\n    }\n</style>\n<table border=\"1\" class=\"dataframe\">\n  <thead>\n    <tr style=\"text-align: right;\">\n      <th></th>\n      <th>family</th>\n      <th>milesFromNyc</th>\n    </tr>\n  </thead>\n  <tbody>\n    <tr>\n      <th>0</th>\n      <td>AndersenFamily, Seattle (King), WA</td>\n      <td>2408.155888</td>\n    </tr>\n    <tr>\n      <th>1</th>\n      <td>SmithFamily, Forest Hills (Queens), NY</td>\n      <td>7.585989</td>\n    </tr>\n    <tr>\n      <th>2</th>\n      <td>WakefieldFamily, NY (Manhattan), NY</td>\n      <td>0.002760</td>\n    </tr>\n  </tbody>\n</table>\n</div>",
            "text/plain": "                                   family  milesFromNyc\n0      AndersenFamily, Seattle (King), WA   2408.155888\n1  SmithFamily, Forest Hills (Queens), NY      7.585989\n2     WakefieldFamily, NY (Manhattan), NY      0.002760"
          },
          "metadata": {},
          "output_type": "display_data"
        }
      ],
      "source": "%%sql --database Families --container Families\n\nSELECT\n c.id || ', ' || c.location.city || ' (' || c.location.county || '), ' || c.location.state AS family,\n ST_DISTANCE(c.geo,\n  {\n   'type': 'Point',\n   'coordinates': [-73.992, 40.73104]\n  }\n ) / 1000 * .62137119\n AS milesFromNyc\nFROM c"
    },
    {
      "cell_type": "markdown",
      "metadata": {},
      "source": "**Get families within 8 miles of NYC**"
    },
    {
      "cell_type": "code",
      "execution_count": 56,
      "metadata": {
        "collapsed": false,
        "execution": {
          "iopub.execute_input": "2020-06-13T14:29:42.941Z",
          "iopub.status.busy": "2020-06-13T14:29:42.916Z",
          "iopub.status.idle": "2020-06-13T14:29:42.983Z",
          "shell.execute_reply": "2020-06-13T14:29:43.005Z"
        },
        "inputHidden": false,
        "outputHidden": false,
        "trusted": true
      },
      "outputs": [
        {
          "data": {
            "text/html": "\r\n<div>\r\n  <style type='text/css' scoped>\r\n.collapsible {\r\n  background-color: #fff;\r\n  color: #0078D4;\r\n  cursor: pointer;\r\n  padding: 10px;\r\n  border: none;\r\n  text-align: left;\r\n  outline: none;\r\n  font-size: 15px;\r\n  border-radius: 5px;\r\n  margin: 5px\r\n}\r\n\r\n.active, .collapsible:hover {\r\n  color: #4db2ff;\r\n}\r\n\r\n.content {\r\n  margin: 2px;\r\n  padding: 0 18px;\r\n  overflow: hidden;\r\n  background-color: #fff;\r\n  height: 0px;\r\n  -moz-transition: height .2s ease-out;\r\n  -ms-transition: height .2s ease-out;\r\n  -o-transition: height .2s ease-out;\r\n  -webkit-transition: height .2s ease-out;\r\n  transition: height .2s ease-out;\r\n}\r\n</style>\r\n\r\n<button type='button' class='collapsible'>▶ View Query Metrics</button>\r\n  \r\n<div class='content'>\r\n  <div class='measuringWrapper'>\r\n    <span style=\"color:#0078D4\"><b>totalExecutionTimeInMs    </b>:    129.02<br/><b>queryCompileTimeInMs    </b>:    0.21<br/><b>queryLogicalPlanBuildTimeInMs    </b>:    118.02<br/><b>queryPhysicalPlanBuildTimeInMs    </b>:    2.64<br/><b>queryOptimizationTimeInMs    </b>:    0.01<br/><b>VMExecutionTimeInMs    </b>:    0.17<br/><b>indexLookupTimeInMs    </b>:    0<br/><b>documentLoadTimeInMs    </b>:    0.05<br/><b>systemFunctionExecuteTimeInMs    </b>:    0.08<br/><b>userFunctionExecuteTimeInMs    </b>:    0<br/><b>retrievedDocumentCount    </b>:    3<br/><b>retrievedDocumentSize    </b>:    2058<br/><b>outputDocumentCount    </b>:    2<br/><b>outputDocumentSize    </b>:    149<br/><b>writeOutputTimeInMs    </b>:    0<br/><b>averageIndexUtilizationRation    </b>:    0.67<br/></span>\r\n  </div>\r\n</div>\r\n\r\n<script>\r\nvar coll = document.getElementsByClassName('collapsible');\r\nvar i;\r\n\r\nfor (i = 0; i < coll.length; i++) {\r\n  \r\n  coll[i].addEventListener('click', function() {\r\n    this.classList.toggle('active');\r\n    var content = this.nextElementSibling;\r\n    \r\n    if (content.clientHeight != 0) {\r\n      this.textContent = '▶ View Query Metrics';\r\n      content.style.height = '0px';\r\n    }\r\n    else {\r\n      this.textContent = '▼ Hide Query Metrics';\r\n      content.style.height = content.children[0].clientHeight + 'px';\r\n    }\r\n  });\r\n}\r\n</script>\r\n</div>"
          },
          "metadata": {},
          "output_type": "display_data"
        },
        {
          "data": {
            "text/html": "<div>\n<style scoped>\n    .dataframe tbody tr th:only-of-type {\n        vertical-align: middle;\n    }\n\n    .dataframe tbody tr th {\n        vertical-align: top;\n    }\n\n    .dataframe thead th {\n        text-align: right;\n    }\n</style>\n<table border=\"1\" class=\"dataframe\">\n  <thead>\n    <tr style=\"text-align: right;\">\n      <th></th>\n      <th>family</th>\n    </tr>\n  </thead>\n  <tbody>\n    <tr>\n      <th>0</th>\n      <td>SmithFamily, Forest Hills (Queens), NY</td>\n    </tr>\n    <tr>\n      <th>1</th>\n      <td>WakefieldFamily, NY (Manhattan), NY</td>\n    </tr>\n  </tbody>\n</table>\n</div>",
            "text/plain": "                                   family\n0  SmithFamily, Forest Hills (Queens), NY\n1     WakefieldFamily, NY (Manhattan), NY"
          },
          "metadata": {},
          "output_type": "display_data"
        }
      ],
      "source": "%%sql --database Families --container Families\n\nSELECT\n c.id || ', ' || c.location.city || ' (' || c.location.county || '), ' || c.location.state AS family\nFROM c\nWHERE\n ST_DISTANCE(c.geo,\n  {\n   'type': 'Point',\n   'coordinates':\n     [-73.992, 40.73104]\n  }\n ) / 1000 * .62137119 <= 8"
    },
    {
      "cell_type": "markdown",
      "metadata": {},
      "source": "**Get families within NYC**"
    },
    {
      "cell_type": "code",
      "execution_count": 57,
      "metadata": {
        "collapsed": false,
        "execution": {
          "iopub.execute_input": "2020-06-13T14:29:43.257Z",
          "iopub.status.busy": "2020-06-13T14:29:43.028Z",
          "iopub.status.idle": "2020-06-13T14:29:43.444Z",
          "shell.execute_reply": "2020-06-13T14:29:43.560Z"
        },
        "inputHidden": false,
        "outputHidden": false,
        "trusted": true
      },
      "outputs": [
        {
          "data": {
            "text/html": "\r\n<div>\r\n  <style type='text/css' scoped>\r\n.collapsible {\r\n  background-color: #fff;\r\n  color: #0078D4;\r\n  cursor: pointer;\r\n  padding: 10px;\r\n  border: none;\r\n  text-align: left;\r\n  outline: none;\r\n  font-size: 15px;\r\n  border-radius: 5px;\r\n  margin: 5px\r\n}\r\n\r\n.active, .collapsible:hover {\r\n  color: #4db2ff;\r\n}\r\n\r\n.content {\r\n  margin: 2px;\r\n  padding: 0 18px;\r\n  overflow: hidden;\r\n  background-color: #fff;\r\n  height: 0px;\r\n  -moz-transition: height .2s ease-out;\r\n  -ms-transition: height .2s ease-out;\r\n  -o-transition: height .2s ease-out;\r\n  -webkit-transition: height .2s ease-out;\r\n  transition: height .2s ease-out;\r\n}\r\n</style>\r\n\r\n<button type='button' class='collapsible'>▶ View Query Metrics</button>\r\n  \r\n<div class='content'>\r\n  <div class='measuringWrapper'>\r\n    <span style=\"color:#0078D4\"><b>totalExecutionTimeInMs    </b>:    2.34<br/><b>queryCompileTimeInMs    </b>:    0.42<br/><b>queryLogicalPlanBuildTimeInMs    </b>:    0.44<br/><b>queryPhysicalPlanBuildTimeInMs    </b>:    0.06<br/><b>queryOptimizationTimeInMs    </b>:    0<br/><b>VMExecutionTimeInMs    </b>:    0.54<br/><b>indexLookupTimeInMs    </b>:    0<br/><b>documentLoadTimeInMs    </b>:    0.07<br/><b>systemFunctionExecuteTimeInMs    </b>:    0.37<br/><b>userFunctionExecuteTimeInMs    </b>:    0<br/><b>retrievedDocumentCount    </b>:    3<br/><b>retrievedDocumentSize    </b>:    2058<br/><b>outputDocumentCount    </b>:    1<br/><b>outputDocumentSize    </b>:    97<br/><b>writeOutputTimeInMs    </b>:    0<br/><b>averageIndexUtilizationRation    </b>:    0.33<br/></span>\r\n  </div>\r\n</div>\r\n\r\n<script>\r\nvar coll = document.getElementsByClassName('collapsible');\r\nvar i;\r\n\r\nfor (i = 0; i < coll.length; i++) {\r\n  \r\n  coll[i].addEventListener('click', function() {\r\n    this.classList.toggle('active');\r\n    var content = this.nextElementSibling;\r\n    \r\n    if (content.clientHeight != 0) {\r\n      this.textContent = '▶ View Query Metrics';\r\n      content.style.height = '0px';\r\n    }\r\n    else {\r\n      this.textContent = '▼ Hide Query Metrics';\r\n      content.style.height = content.children[0].clientHeight + 'px';\r\n    }\r\n  });\r\n}\r\n</script>\r\n</div>"
          },
          "metadata": {},
          "output_type": "display_data"
        },
        {
          "data": {
            "text/html": "<div>\n<style scoped>\n    .dataframe tbody tr th:only-of-type {\n        vertical-align: middle;\n    }\n\n    .dataframe tbody tr th {\n        vertical-align: top;\n    }\n\n    .dataframe thead th {\n        text-align: right;\n    }\n</style>\n<table border=\"1\" class=\"dataframe\">\n  <thead>\n    <tr style=\"text-align: right;\">\n      <th></th>\n      <th>Family</th>\n    </tr>\n  </thead>\n  <tbody>\n    <tr>\n      <th>0</th>\n      <td>WakefieldFamily, NY (Manhattan), NY</td>\n    </tr>\n  </tbody>\n</table>\n</div>",
            "text/plain": "                                Family\n0  WakefieldFamily, NY (Manhattan), NY"
          },
          "metadata": {},
          "output_type": "display_data"
        }
      ],
      "source": "%%sql --database Families --container Families\n\nSELECT\n c.id || ', ' || c.location.city || ' (' || c.location.county || '), ' || c.location.state AS Family\nFROM c\nWHERE\n ST_INTERSECTS(c.geo, {\n   'type': 'Polygon',\n   'coordinates': [ [\n     [ -74.01326, 40.7003  ], [ -73.99884, 40.70875 ], [ -73.97893, 40.71129 ], [ -73.97121, 40.72697 ],\n     [ -73.97387, 40.73477 ], [ -73.97142, 40.74401 ], [ -73.94205, 40.77606 ], [ -73.94414, 40.78217 ],\n     [ -73.9396 , 40.78535 ], [ -73.93622, 40.79111 ], [ -73.92938, 40.79567 ], [ -73.92905, 40.80088 ],\n     [ -73.93481, 40.80926 ], [ -73.934  , 40.81644 ], [ -73.93531, 40.83477 ], [ -73.92764, 40.84868 ],\n     [ -73.92286, 40.85595 ], [ -73.91137, 40.86855 ], [ -73.91035, 40.87121 ], [ -73.91198, 40.87332 ],\n     [ -73.91451, 40.87431 ], [ -73.92838, 40.86712 ], [ -73.9337 , 40.85868 ], [ -73.94451, 40.84999 ],\n     [ -73.94494, 40.84232 ], [ -74.00786, 40.75435 ], [ -74.01069, 40.72892 ], [ -74.0185 , 40.70381 ],\n     [ -74.01326, 40.7003  ]\n   ] ]\n  }) = true"
    },
    {
      "cell_type": "markdown",
      "metadata": {},
      "source": "<img src=\"https://cdbdemos.blob.core.windows.net/demos/cosmos-geo-nyc.png\" />"
    },
    {
      "cell_type": "markdown",
      "metadata": {},
      "source": "**Check for valid GeoJSON**"
    },
    {
      "cell_type": "code",
      "execution_count": 58,
      "metadata": {
        "collapsed": false,
        "execution": {
          "iopub.execute_input": "2020-06-13T14:29:43.602Z",
          "iopub.status.busy": "2020-06-13T14:29:43.590Z",
          "iopub.status.idle": "2020-06-13T14:29:43.758Z",
          "shell.execute_reply": "2020-06-13T14:29:43.843Z"
        },
        "inputHidden": false,
        "outputHidden": false,
        "trusted": true
      },
      "outputs": [
        {
          "name": "stdout",
          "output_type": "stream",
          "text": "1 document(s) selected (charge= 2.25 RUs)\n\n[\n    {\n        \"isValidSpatial\": true\n    }\n]\n"
        }
      ],
      "source": "query(families, \"\"\"\n\nSELECT\n ST_ISVALID(\n  {\n   'type': 'Point',\n   'coordinates': [-122.3295, 47.60357]\n  }\n ) AS isValidSpatial\n \n \"\"\")"
    },
    {
      "cell_type": "markdown",
      "metadata": {},
      "source": "**With latitude and longitude reversed, this GeoJSON is invalid**"
    },
    {
      "cell_type": "code",
      "execution_count": 59,
      "metadata": {
        "collapsed": false,
        "execution": {
          "iopub.execute_input": "2020-06-13T14:29:43.882Z",
          "iopub.status.busy": "2020-06-13T14:29:43.870Z",
          "iopub.status.idle": "2020-06-13T14:29:44.051Z",
          "shell.execute_reply": "2020-06-13T14:29:44.205Z"
        },
        "inputHidden": false,
        "outputHidden": false,
        "trusted": true
      },
      "outputs": [
        {
          "name": "stdout",
          "output_type": "stream",
          "text": "1 document(s) selected (charge= 2.25 RUs)\n\n[\n    {\n        \"isValidSpatial\": false\n    }\n]\n"
        }
      ],
      "source": "query(families, \"\"\"\n\nSELECT\n ST_ISVALID(\n  {\n   'type': 'Point',\n   'coordinates': [47.60357, -122.3295]\n  }\n ) AS isValidSpatial\n \n \"\"\")"
    },
    {
      "cell_type": "markdown",
      "metadata": {},
      "source": "**Find out why the GeoJSON is invalid**"
    },
    {
      "cell_type": "code",
      "execution_count": 60,
      "metadata": {
        "collapsed": false,
        "execution": {
          "iopub.execute_input": "2020-06-13T14:29:44.329Z",
          "iopub.status.busy": "2020-06-13T14:29:44.255Z",
          "iopub.status.idle": "2020-06-13T14:29:44.538Z",
          "shell.execute_reply": "2020-06-13T14:29:44.620Z"
        },
        "inputHidden": false,
        "outputHidden": false,
        "trusted": true
      },
      "outputs": [
        {
          "name": "stdout",
          "output_type": "stream",
          "text": "1 document(s) selected (charge= 2.25 RUs)\n\n[\n    {\n        \"isValidSpatial\": {\n            \"valid\": false,\n            \"reason\": \"Latitude values must be between -90 and 90 degrees.\"\n        }\n    }\n]\n"
        }
      ],
      "source": "query(families, \"\"\"\n\nSELECT\n ST_ISVALIDDETAILED(\n  {\n   'type': 'Point',\n   'coordinates': [47.60357, -122.3295]\n  }\n ) AS isValidSpatial\n \n\"\"\")"
    }
  ],
  "metadata": {
    "kernelspec": {
      "displayName": "Python 3",
      "language": "python",
      "name": "python3"
    },
    "language_info": {
      "file_extension": "ipynb",
      "mimetype": "application/json",
      "name": "python",
      "version": "3.7"
    },
    "nteract": {
      "version": "dataExplorer 1.0"
    }
  },
  "nbformat": 4,
  "nbformat_minor": 2
}