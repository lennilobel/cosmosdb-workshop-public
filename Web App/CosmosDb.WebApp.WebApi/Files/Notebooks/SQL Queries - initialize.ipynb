{
  "cells": [
    {
      "cell_type": "markdown",
      "metadata": {},
      "source": "# Initialize Cosmos DB Demos\n\nThis notebook prepares sample databases and containers for the Cosmos DB demos."
    },
    {
      "cell_type": "markdown",
      "metadata": {},
      "source": "## Create **Families** database\n\nCreate the **Families** database with a **Families** container and three documents"
    },
    {
      "cell_type": "code",
      "execution_count": 13,
      "metadata": {
        "collapsed": false,
        "execution": {
          "iopub.execute_input": "2020-06-13T14:04:38.558Z",
          "iopub.status.busy": "2020-06-13T14:04:38.554Z",
          "iopub.status.idle": "2020-06-13T14:04:39.461Z",
          "shell.execute_reply": "2020-06-13T14:04:39.468Z"
        },
        "inputHidden": false,
        "outputHidden": false,
        "trusted": true
      },
      "outputs": [
        {
          "name": "stdout",
          "output_type": "stream",
          "text": "Deleted existing Families database\nCreated Families database\nCreated Families container\nCreated Andersen document\nCreated Smith document\nCreated Wakefield document\n"
        }
      ],
      "source": "import azure.cosmos\nfrom azure.cosmos.partition_key import PartitionKey\n\n# Delete the Families database if it already exists\ntry:\n    cosmos_client.delete_database('Families')\n    print('Deleted existing Families database')\nexcept azure.cosmos.errors.CosmosHttpResponseError as e:\n    if e.status_code != 404:\n        raise\n\n# Create the Families database\nfamiliesDb = cosmos_client.create_database('Families')\nprint('Created Families database')\n\n# Create the Families container\nfamilies = familiesDb.create_container(id='Families', partition_key=PartitionKey(path='/location/state'))\nprint('Created Families container')\n\n# Create three family documents\nandersen = {\n    \"id\": \"AndersenFamily\",\n    \"lastName\": \"Andersen\",\n    \"parents\": [\n        { \"firstName\": \"Thomas\", \"relationship\": \"father\" },\n        { \"firstName\": \"Mary Kay\", \"relationship\": \"mother\" }\n    ],\n    \"children\": [\n        { \"firstName\": \"Henriette Thaulow\", \"gender\": \"female\", \"grade\": 5, \"pets\": [\n            { \"givenName\": \"Fluffy\", \"type\": \"Rabbit\" } ]\n        }\n    ],\n    \"location\": { \"state\": \"WA\", \"county\": \"King\", \"city\": \"Seattle\" },\n    \"geo\": { \"type\": \"Point\", \"coordinates\": [ -122.3295, 47.60357 ] },\n    \"isRegistered\": True\n}\n\nsmith = {\n    \"id\": \"SmithFamily\",\n    \"parents\": [\n        { \"familyName\": \"Smith\", \"givenName\": \"James\" },\n        { \"familyName\": \"Curtis\", \"givenName\": \"Helen\" }\n    ],\n    \"children\": [\n        { \"givenName\": \"Michelle\", \"gender\": \"female\", \"grade\": 1 },\n        { \"givenName\": \"John\", \"gender\": \"male\", \"grade\": 7, \"pets\": [\n            { \"givenName\": \"Tweetie\", \"type\": \"Bird\" } ]\n        }\n    ],\n    \"location\": { \"state\": \"NY\", \"county\": \"Queens\", \"city\": \"Forest Hills\" },\n    \"geo\": { \"type\": \"Point\", \"coordinates\": [ -73.84791, 40.72266 ] },\n    \"isRegistered\": True\n}\n\nwakefield = {\n    \"id\": \"WakefieldFamily\",\n    \"parents\": [\n        { \"familyName\": \"Wakefield\", \"givenName\": \"Robin\" },\n        { \"familyName\": \"Miller\", \"givenName\": \"Ben\" }\n    ],\n    \"children\": [\n        { \"familyName\": \"Merriam\", \"givenName\": \"Jesse\", \"gender\": \"female\", \"grade\": 6, \"pets\": [\n            { \"givenName\": \"Charlie Brown\", \"type\": \"Dog\" },\n            { \"givenName\": \"Tiger\", \"type\": \"Cat\" },\n            { \"givenName\": \"Princess\", \"type\": \"Cat\" } ]\n        },\n        { \"familyName\": \"Miller\", \"givenName\": \"Lisa\", \"gender\": \"female\", \"grade\": 3, \"pets\": [\n            { \"givenName\": \"Jake\", \"type\": \"Snake\" } ]\n        }\n    ],\n    \"location\": { \"state\": \"NY\", \"county\": \"Manhattan\", \"city\": \"NY\" },\n    \"geo\": { \"type\": \"Point\", \"coordinates\": [ -73.992, 40.73100 ] },\n    \"isRegistered\": False\n}\n\nfamilies.create_item(body=andersen)\nprint('Created Andersen document')\n\nfamilies.create_item(body=smith)\nprint('Created Smith document')\n\nfamilies.create_item(body=wakefield)\nprint('Created Wakefield document')"
    },
    {
      "cell_type": "markdown",
      "metadata": {},
      "source": "## Create **mydb** database\n\nCreate the **mydb** database with an empty **mystore** container"
    },
    {
      "cell_type": "code",
      "execution_count": 14,
      "metadata": {
        "collapsed": false,
        "execution": {
          "iopub.execute_input": "2020-06-13T14:04:43.112Z",
          "iopub.status.busy": "2020-06-13T14:04:43.108Z",
          "iopub.status.idle": "2020-06-13T14:04:43.707Z",
          "shell.execute_reply": "2020-06-13T14:04:43.757Z"
        },
        "inputHidden": false,
        "outputHidden": false,
        "trusted": true
      },
      "outputs": [
        {
          "name": "stdout",
          "output_type": "stream",
          "text": "Deleted existing mydb database\nCreated mydb database\nCreated mystore container\n"
        }
      ],
      "source": "from azure.cosmos.partition_key import PartitionKey\n\n# Delete the mydb database if it already exists\ntry:\n    cosmos_client.delete_database('mydb')\n    print('Deleted existing mydb database')\nexcept azure.cosmos.errors.CosmosHttpResponseError as e:\n    if e.status_code != 404:\n        raise\n\nmydb = cosmos_client.create_database('mydb')\nprint('Created mydb database')\n\nmydb.create_container(id='mystore', partition_key=PartitionKey(path='/address/postalCode'))\nprint('Created mystore container')"
    },
    {
      "cell_type": "markdown",
      "metadata": {},
      "source": "## Upload **mystore** container\nUse the **%%upload** magic to populate the **mystore** container from the **ImportAdventureWorks.json** file hosted on blob storage.<br><br>\n*- OR -*<br><br>\nDon't run this code block, and import the **mystore** container from the **AdventureWorks** database using Azure Data Factory (ADF)."
    },
    {
      "cell_type": "code",
      "execution_count": 13,
      "metadata": {
        "collapsed": false,
        "execution": {
          "iopub.status.busy": "2020-06-13T14:01:43.652Z",
          "iopub.status.idle": "2020-06-13T14:01:59.049Z",
          "shell.execute_reply": "2020-06-13T14:01:59.054Z"
        },
        "inputHidden": false,
        "outputHidden": false,
        "trusted": true
      },
      "outputs": [
        {
          "data": {
            "text/html": "\r\n<span style='color:#0078D4'>\r\nDocuments successfully uploaded to mystore <br/>\r\nTotal number of documents imported:<br/>\r\n&nbsp;&nbsp;Success: <b>701</b> <br/>\r\n&nbsp;&nbsp;Failure: <b>0</b> <br/>\r\nTotal time taken : <b>00:00:14</b> hours <br/>\r\nTotal RUs consumed : <b>6273.949999999922</b> <br/>\r\n<br/>\r\n</span>\r\n"
          },
          "metadata": {},
          "output_type": "display_data"
        }
      ],
      "source": "%%upload --databaseName mydb --containerName mystore --url https://cdbdemos.blob.core.windows.net/demos/ImportAdventureWorks.json"
    }
  ],
  "metadata": {
    "kernelspec": {
      "displayName": "Python 3",
      "language": "python",
      "name": "python3"
    },
    "language_info": {
      "file_extension": "ipynb",
      "mimetype": "application/json",
      "name": "python",
      "version": "3.7"
    },
    "nteract": {
      "version": "dataExplorer 1.0"
    }
  },
  "nbformat": 4,
  "nbformat_minor": 2
}