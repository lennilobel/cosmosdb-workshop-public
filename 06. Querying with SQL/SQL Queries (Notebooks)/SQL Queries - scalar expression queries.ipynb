{
  "cells": [
    {
      "cell_type": "markdown",
      "metadata": {},
      "source": "# Scalar Expression Queries\nScalar expression queries are a handy way to learn the many capabilities of the SQL dialect in Cosmos DB.\n\nThese queries don't have a FROM clause, and thus, they don't actually query items in the container, although we technically do need to specify an arbitrary container to submit the query.\n\n"
    },
    {
      "cell_type": "code",
      "execution_count": 1,
      "metadata": {
        "collapsed": false,
        "execution": {
          "iopub.execute_input": "2020-08-28T14:25:34.528Z",
          "iopub.status.busy": "2020-08-28T14:25:34.498Z",
          "iopub.status.idle": "2020-08-28T14:25:34.579Z",
          "shell.execute_reply": "2020-08-28T14:25:34.608Z"
        },
        "inputHidden": false,
        "outputHidden": false,
        "trusted": true
      },
      "outputs": [],
      "source": "# Setup\n%run \"notebooks/SQL Queries - setup.ipynb\""
    },
    {
      "cell_type": "markdown",
      "metadata": {},
      "source": "## Simple SELECT statement"
    },
    {
      "cell_type": "code",
      "execution_count": 2,
      "metadata": {
        "collapsed": false,
        "execution": {
          "iopub.execute_input": "2020-08-28T14:25:34.651Z",
          "iopub.status.busy": "2020-08-28T14:25:34.644Z",
          "iopub.status.idle": "2020-08-28T14:25:34.739Z",
          "shell.execute_reply": "2020-08-28T14:25:34.744Z"
        },
        "inputHidden": false,
        "outputHidden": false,
        "trusted": true
      },
      "outputs": [
        {
          "name": "stdout",
          "output_type": "stream",
          "text": "1 document(s) selected (charge= 2.25 RUs)\n\n[\n    {\n        \"$1\": \"Hello\"\n    }\n]\n"
        }
      ],
      "source": "# Results are returned as objects in an array with auto-assigned properties (e.g., $1, $2)\nquery(families, \"\"\"\n\nSELECT \"Hello\"\n\n\"\"\")"
    },
    {
      "cell_type": "code",
      "execution_count": 3,
      "metadata": {
        "collapsed": false,
        "execution": {
          "iopub.execute_input": "2020-08-28T14:25:34.756Z",
          "iopub.status.busy": "2020-08-28T14:25:34.752Z",
          "iopub.status.idle": "2020-08-28T14:25:34.769Z",
          "shell.execute_reply": "2020-08-28T14:25:34.775Z"
        },
        "inputHidden": false,
        "outputHidden": false,
        "trusted": true
      },
      "outputs": [
        {
          "name": "stdout",
          "output_type": "stream",
          "text": "1 document(s) selected (charge= 2.25 RUs)\n\n[\n    {\n        \"word\": \"Hello\"\n    }\n]\n"
        }
      ],
      "source": "# Use AS to override auto-assigned properties\nquery(families, \"\"\"\n\nSELECT \"Hello\" AS word\n\n\"\"\")"
    },
    {
      "cell_type": "code",
      "execution_count": 4,
      "metadata": {
        "collapsed": false,
        "execution": {
          "iopub.execute_input": "2020-08-28T14:25:34.785Z",
          "iopub.status.busy": "2020-08-28T14:25:34.782Z",
          "iopub.status.idle": "2020-08-28T14:25:34.800Z",
          "shell.execute_reply": "2020-08-28T14:25:34.805Z"
        },
        "inputHidden": false,
        "outputHidden": false,
        "trusted": true
      },
      "outputs": [
        {
          "name": "stdout",
          "output_type": "stream",
          "text": "1 document(s) selected (charge= 2.25 RUs)\n\n[\n    \"Hello\"\n]\n"
        }
      ],
      "source": "# Use VALUE to return a scalar value instead of an object\nquery(families, \"\"\"\n\nSELECT VALUE \"Hello\"\n\n\"\"\")"
    },
    {
      "cell_type": "code",
      "execution_count": 5,
      "metadata": {
        "collapsed": false,
        "execution": {
          "iopub.execute_input": "2020-08-28T14:25:34.816Z",
          "iopub.status.busy": "2020-08-28T14:25:34.812Z",
          "iopub.status.idle": "2020-08-28T14:25:34.830Z",
          "shell.execute_reply": "2020-08-28T14:25:34.954Z"
        },
        "inputHidden": false,
        "outputHidden": false,
        "trusted": true
      },
      "outputs": [
        {
          "name": "stdout",
          "output_type": "stream",
          "text": "1 document(s) selected (charge= 2.25 RUs)\n\n[\n    {\n        \"word1\": \"Hello\",\n        \"word2\": \"World\"\n    }\n]\n"
        }
      ],
      "source": "# Return an object with two properties\nquery(families, \"\"\"\n\nSELECT\n \"Hello\" AS word1,\n \"World\" AS word2\n\n\"\"\")"
    },
    {
      "cell_type": "markdown",
      "metadata": {},
      "source": "## Shaping nested arrays and embedded objects"
    },
    {
      "cell_type": "code",
      "execution_count": 6,
      "metadata": {
        "collapsed": false,
        "execution": {
          "iopub.execute_input": "2020-08-28T14:25:34.969Z",
          "iopub.status.busy": "2020-08-28T14:25:34.965Z",
          "iopub.status.idle": "2020-08-28T14:25:34.980Z",
          "shell.execute_reply": "2020-08-28T14:25:34.986Z"
        },
        "inputHidden": false,
        "outputHidden": false,
        "trusted": true
      },
      "outputs": [
        {
          "name": "stdout",
          "output_type": "stream",
          "text": "1 document(s) selected (charge= 2.25 RUs)\n\n[\n    {\n        \"words\": [\n            \"Hello\",\n            \"World\"\n        ]\n    }\n]\n"
        }
      ],
      "source": "# Use [ and ] characters to nest arrays\nquery(families, \"\"\"\n\nSELECT\n[\n  \"Hello\",\n  \"World\"\n]\n AS words\n\n\"\"\")"
    },
    {
      "cell_type": "code",
      "execution_count": 7,
      "metadata": {
        "collapsed": false,
        "execution": {
          "iopub.execute_input": "2020-08-28T14:25:34.995Z",
          "iopub.status.busy": "2020-08-28T14:25:34.992Z",
          "iopub.status.idle": "2020-08-28T14:25:35.006Z",
          "shell.execute_reply": "2020-08-28T14:25:35.011Z"
        },
        "inputHidden": false,
        "outputHidden": false,
        "trusted": true
      },
      "outputs": [
        {
          "name": "stdout",
          "output_type": "stream",
          "text": "1 document(s) selected (charge= 2.25 RUs)\n\n[\n    {\n        \"words\": {\n            \"word1\": \"Hello\",\n            \"word2\": \"World\"\n        }\n    }\n]\n"
        }
      ],
      "source": "# Use { and } characters to embed objects\nquery(families, \"\"\"\n\nSELECT\n{\n  \"word1\": \"Hello\",\n  \"word2\": \"World\"\n}\n AS words\n\n\"\"\")"
    },
    {
      "cell_type": "code",
      "execution_count": 8,
      "metadata": {
        "collapsed": false,
        "execution": {
          "iopub.execute_input": "2020-08-28T14:25:35.019Z",
          "iopub.status.busy": "2020-08-28T14:25:35.016Z",
          "iopub.status.idle": "2020-08-28T14:25:35.029Z",
          "shell.execute_reply": "2020-08-28T14:25:35.036Z"
        },
        "inputHidden": false,
        "outputHidden": false,
        "trusted": true
      },
      "outputs": [
        {
          "name": "stdout",
          "output_type": "stream",
          "text": "1 document(s) selected (charge= 2.25 RUs)\n\n[\n    {\n        \"allWords\": {\n            \"words1\": [\n                \"Hello\",\n                \"World\"\n            ],\n            \"words2\": [\n                \"How\",\n                \"Are\",\n                \"You?\"\n            ]\n        }\n    }\n]\n"
        }
      ],
      "source": "# Of course, you can combine nested arrays and embedded objects\nquery(families, \"\"\"\n\nSELECT\n{\n  \"words1\": [\"Hello\", \"World\"],\n  \"words2\": [\"How\", \"Are\", \"You?\"]\n}\n AS allWords\n\n\"\"\")"
    },
    {
      "cell_type": "markdown",
      "metadata": {},
      "source": "## Arithmetic Operators and Functions"
    },
    {
      "cell_type": "code",
      "execution_count": 9,
      "metadata": {
        "collapsed": false,
        "execution": {
          "iopub.execute_input": "2020-08-28T14:25:35.046Z",
          "iopub.status.busy": "2020-08-28T14:25:35.043Z",
          "iopub.status.idle": "2020-08-28T14:25:35.178Z",
          "shell.execute_reply": "2020-08-28T14:25:35.184Z"
        },
        "inputHidden": false,
        "outputHidden": false,
        "trusted": true
      },
      "outputs": [
        {
          "name": "stdout",
          "output_type": "stream",
          "text": "1 document(s) selected (charge= 2.25 RUs)\n\n[\n    {\n        \"math1\": 64,\n        \"math2\": 60.95238095238095\n    }\n]\n"
        }
      ],
      "source": "# Arithmetic operators\nquery(families, \"\"\"\n\nSELECT\n 8 * ((2 + 16) - 2) / 2 AS math1,\n 8 * ((2 + 16) - 2) / 2.1 AS math2\n\n\"\"\")"
    },
    {
      "cell_type": "code",
      "execution_count": 10,
      "metadata": {
        "collapsed": false,
        "execution": {
          "iopub.execute_input": "2020-08-28T14:25:35.197Z",
          "iopub.status.busy": "2020-08-28T14:25:35.193Z",
          "iopub.status.idle": "2020-08-28T14:25:35.209Z",
          "shell.execute_reply": "2020-08-28T14:25:35.214Z"
        },
        "inputHidden": false,
        "outputHidden": false,
        "trusted": true
      },
      "outputs": [
        {
          "name": "stdout",
          "output_type": "stream",
          "text": "1 document(s) selected (charge= 2.26 RUs)\n\n[\n    {\n        \"round34\": 3,\n        \"round35\": 4,\n        \"ceiling34\": 4,\n        \"ceiling35\": 4,\n        \"floor34\": 3,\n        \"floor35\": 3,\n        \"absMinus5\": 5,\n        \"abs5\": 5,\n        \"sin28\": 0.27090578830786904,\n        \"cos28\": -0.9626058663135666,\n        \"tan28\": -0.28142960456426525,\n        \"log16\": 2.772588722239781,\n        \"pi\": 3.141592653589793\n    }\n]\n"
        }
      ],
      "source": "# Math functions\nquery(families, \"\"\"\n\nSELECT\n ROUND(3.4) AS round34,\t\t\tROUND(3.5) AS round35,\n CEILING(3.4) AS ceiling34,\t\tCEILING(3.5) AS ceiling35,\n FLOOR(3.4) AS floor34,\t\t\tFLOOR(3.5) AS floor35,\n ABS(-5) AS absMinus5,\t\t\tABS(5) AS abs5,\n SIN(28) AS sin28,\n COS(28) AS cos28,\n TAN(28) AS tan28,\n LOG(16) AS log16,\n PI() AS pi\n\n\"\"\")"
    },
    {
      "cell_type": "code",
      "execution_count": 11,
      "metadata": {
        "collapsed": false,
        "execution": {
          "iopub.execute_input": "2020-08-28T14:25:35.224Z",
          "iopub.status.busy": "2020-08-28T14:25:35.221Z",
          "iopub.status.idle": "2020-08-28T14:25:35.235Z",
          "shell.execute_reply": "2020-08-28T14:25:35.239Z"
        },
        "inputHidden": false,
        "outputHidden": false,
        "trusted": true
      },
      "outputs": [
        {
          "name": "stdout",
          "output_type": "stream",
          "text": "1 document(s) selected (charge= 2.25 RUs)\n\n[\n    {\n        \"logical1\": true,\n        \"logical2\": false\n    }\n]\n"
        }
      ],
      "source": "# Logical operators\nquery(families, \"\"\"\n\nSELECT\n (\"hot\" = \"cold\" AND \"up\" = \"down\" OR 1 = 1) AS logical1,\n (\"hot\" = \"cold\" AND (\"up\" = \"down\" OR 1 = 1) ) AS logical2\n\n\"\"\")"
    },
    {
      "cell_type": "markdown",
      "metadata": {},
      "source": "## Comparison, Ternary, and Coalesce Operators"
    },
    {
      "cell_type": "code",
      "execution_count": 12,
      "metadata": {
        "collapsed": false,
        "execution": {
          "iopub.execute_input": "2020-08-28T14:25:35.249Z",
          "iopub.status.busy": "2020-08-28T14:25:35.246Z",
          "iopub.status.idle": "2020-08-28T14:25:35.259Z",
          "shell.execute_reply": "2020-08-28T14:25:35.266Z"
        },
        "inputHidden": false,
        "outputHidden": false,
        "trusted": true
      },
      "outputs": [
        {
          "name": "stdout",
          "output_type": "stream",
          "text": "1 document(s) selected (charge= 2.25 RUs)\n\n[\n    {\n        \"ternary\": \"lower or equal\"\n    }\n]\n"
        }
      ],
      "source": "# Comparison and ternary operators\nquery(families, \"\"\"\n\nSELECT\n (2 > 3 ? \"higher\" : \"lower or equal\") AS ternary\n\n\"\"\")"
    },
    {
      "cell_type": "code",
      "execution_count": 13,
      "metadata": {
        "collapsed": false,
        "execution": {
          "iopub.execute_input": "2020-08-28T14:25:35.411Z",
          "iopub.status.busy": "2020-08-28T14:25:35.273Z",
          "iopub.status.idle": "2020-08-28T14:25:35.428Z",
          "shell.execute_reply": "2020-08-28T14:25:35.434Z"
        },
        "inputHidden": false,
        "outputHidden": false,
        "trusted": true
      },
      "outputs": [
        {
          "name": "stdout",
          "output_type": "stream",
          "text": "1 document(s) selected (charge= 2.25 RUs)\n\n[\n    {\n        \"coalesce1\": \"third\",\n        \"coalesce2\": \"second\",\n        \"coalesce3\": \"first\"\n    }\n]\n"
        }
      ],
      "source": "# Coalesce operator\nquery(families, \"\"\"\n\nSELECT\n (undefined ?? undefined ?? \"third\") AS coalesce1,\n (undefined ?? \"second\" ?? \"third\") AS coalesce2,\n (\"first\" ?? undefined ?? \"third\") AS coalesce3\n\n\"\"\")"
    },
    {
      "cell_type": "markdown",
      "metadata": {},
      "source": "## Type Checking Functions"
    },
    {
      "cell_type": "code",
      "execution_count": 14,
      "metadata": {
        "collapsed": false,
        "execution": {
          "iopub.execute_input": "2020-08-28T14:25:35.444Z",
          "iopub.status.busy": "2020-08-28T14:25:35.441Z",
          "iopub.status.idle": "2020-08-28T14:25:35.457Z",
          "shell.execute_reply": "2020-08-28T14:25:35.462Z"
        },
        "inputHidden": false,
        "outputHidden": false,
        "trusted": true
      },
      "outputs": [
        {
          "name": "stdout",
          "output_type": "stream",
          "text": "1 document(s) selected (charge= 2.25 RUs)\n\n[\n    {\n        \"isArray1\": false,\n        \"isArray2\": true,\n        \"isBool1\": false,\n        \"isBool2\": true,\n        \"isNull1\": false,\n        \"isNull2\": true,\n        \"IsObj1\": false,\n        \"isObj2\": true\n    }\n]\n"
        }
      ],
      "source": "# Type checking functions\nquery(families, \"\"\"\n\nSELECT\n IS_ARRAY(6) AS isArray1,\t\tIS_ARRAY([6]) AS isArray2,\n IS_BOOL(6) AS isBool1,\t\t\tIS_BOOL(false) AS isBool2,\n IS_NULL(6) AS isNull1,\t\t\tIS_NULL(null) AS isNull2,\n IS_OBJECT(\"hello\") AS IsObj1,\tIS_OBJECT({\"word\": \"hello\"}) AS isObj2\n\n\"\"\")"
    },
    {
      "cell_type": "markdown",
      "metadata": {},
      "source": "## String Operators and Functions"
    },
    {
      "cell_type": "code",
      "execution_count": 15,
      "metadata": {
        "collapsed": false,
        "execution": {
          "iopub.execute_input": "2020-08-28T14:25:35.472Z",
          "iopub.status.busy": "2020-08-28T14:25:35.469Z",
          "iopub.status.idle": "2020-08-28T14:25:35.483Z",
          "shell.execute_reply": "2020-08-28T14:25:35.488Z"
        },
        "inputHidden": false,
        "outputHidden": false,
        "trusted": true
      },
      "outputs": [
        {
          "name": "stdout",
          "output_type": "stream",
          "text": "1 document(s) selected (charge= 2.25 RUs)\n\n[\n    {\n        \"stringConcat\": \"Hello World\"\n    }\n]\n"
        }
      ],
      "source": "# String concatenation operator\nquery(families, \"\"\"\n\nSELECT\n \"Hello\" || \" \" || \"World\" AS stringConcat\n\n\"\"\")"
    },
    {
      "cell_type": "code",
      "execution_count": 16,
      "metadata": {
        "collapsed": false,
        "execution": {
          "iopub.execute_input": "2020-08-28T14:25:35.498Z",
          "iopub.status.busy": "2020-08-28T14:25:35.495Z",
          "iopub.status.idle": "2020-08-28T14:25:35.512Z",
          "shell.execute_reply": "2020-08-28T14:25:35.640Z"
        },
        "inputHidden": false,
        "outputHidden": false,
        "trusted": true
      },
      "outputs": [
        {
          "name": "stdout",
          "output_type": "stream",
          "text": "1 document(s) selected (charge= 2.29 RUs)\n\n[\n    {\n        \"strConcat\": \"Abcd\",\n        \"strContains\": true,\n        \"strStartsWith\": true,\n        \"strEndsWith\": true,\n        \"strIndexOf1\": 3,\n        \"strIndexOf2\": -1,\n        \"strLeft\": \"Abc\",\n        \"strRight\": \"def\",\n        \"strSubstring\": \"cde\",\n        \"strLength\": 6,\n        \"strLower\": \"abcdef\",\n        \"strUpper\": \"ABCDEF\"\n    }\n]\n"
        }
      ],
      "source": "# String functions\nquery(families, \"\"\"\n\nSELECT\n CONCAT(\"A\", \"b\", \"c\", \"d\")\tAS strConcat,       CONTAINS(\"Abcdef\", \"cde\")\tAS strContains,\n STARTSWITH(\"Abcdef\", \"Ab\")\tAS strStartsWith,   ENDSWITH(\"Abcdef\", \"cdef\")\tAS strEndsWith,\n INDEX_OF(\"Abcdef\", \"de\")\tAS strIndexOf1,     INDEX_OF(\"Abcdef\", \"df\")\tAS strIndexOf2,\n LEFT(\"Abcdef\", 3)\t\t\tAS strLeft,         RIGHT(\"Abcdef\", 3)\t\t\tAS strRight,\n SUBSTRING(\"Abcdef\", 2, 3)\tAS strSubstring,    LENGTH(\"Abcdef\")\t\t\tAS strLength,\n LOWER(\"Abcdef\")\t\t\tAS strLower,        UPPER(\"Abcdef\")\t\t\t    AS strUpper\n\n\"\"\")"
    },
    {
      "cell_type": "code",
      "execution_count": 17,
      "metadata": {
        "collapsed": false,
        "execution": {
          "iopub.execute_input": "2020-08-28T14:25:35.656Z",
          "iopub.status.busy": "2020-08-28T14:25:35.651Z",
          "iopub.status.idle": "2020-08-28T14:25:35.673Z",
          "shell.execute_reply": "2020-08-28T14:25:35.679Z"
        },
        "inputHidden": false,
        "outputHidden": false,
        "trusted": true
      },
      "outputs": [
        {
          "name": "stdout",
          "output_type": "stream",
          "text": "1 document(s) selected (charge= 2.27 RUs)\n\n[\n    {\n        \"a1\": [],\n        \"a2\": [\n            1,\n            2,\n            3\n        ],\n        \"a3\": [\n            \"str\",\n            2,\n            3\n        ],\n        \"a4\": [\n            [\n                \"5\",\n                \"6\",\n                \"7\"\n            ],\n            [\n                \"8\"\n            ],\n            [\n                \"9\"\n            ]\n        ],\n        \"a5\": [\n            1,\n            2,\n            3,\n            [\n                4,\n                5,\n                6\n            ],\n            [\n                7,\n                8\n            ]\n        ]\n    }\n]\n"
        }
      ],
      "source": "# StringToArray\nquery(families, \"\"\"\n\nSELECT\n    StringToArray('[]') AS a1, \n    StringToArray(\"[1,2,3]\") AS a2,\n    StringToArray('[\"str\",2,3]') AS a3,\n    StringToArray('[[\"5\",\"6\",\"7\"],[\"8\"],[\"9\"]]') AS a4,\n    StringToArray('[1,2,3,[4,5,6],[7,8]]') AS a5\n\n\"\"\")"
    },
    {
      "cell_type": "code",
      "execution_count": 18,
      "metadata": {
        "collapsed": false,
        "execution": {
          "iopub.execute_input": "2020-08-28T14:25:35.690Z",
          "iopub.status.busy": "2020-08-28T14:25:35.686Z",
          "iopub.status.idle": "2020-08-28T14:25:35.700Z",
          "shell.execute_reply": "2020-08-28T14:25:35.704Z"
        },
        "inputHidden": false,
        "outputHidden": false,
        "trusted": true
      },
      "outputs": [
        {
          "name": "stdout",
          "output_type": "stream",
          "text": "1 document(s) selected (charge= 2.25 RUs)\n\n[\n    {\n        \"b1\": true,\n        \"b2\": false,\n        \"b3\": false\n    }\n]\n"
        }
      ],
      "source": "# StringToBoolean\nquery(families, \"\"\"\n\nSELECT \n    StringToBoolean(\"true\") AS b1, \n    StringToBoolean(\"    false\") AS b2,\n    StringToBoolean(\"false    \") AS b3\n\n\"\"\")"
    },
    {
      "cell_type": "code",
      "execution_count": 19,
      "metadata": {
        "collapsed": false,
        "execution": {
          "iopub.execute_input": "2020-08-28T14:25:35.713Z",
          "iopub.status.busy": "2020-08-28T14:25:35.711Z",
          "iopub.status.idle": "2020-08-28T14:25:35.726Z",
          "shell.execute_reply": "2020-08-28T14:25:35.730Z"
        },
        "inputHidden": false,
        "outputHidden": false,
        "trusted": true
      },
      "outputs": [
        {
          "name": "stdout",
          "output_type": "stream",
          "text": "1 document(s) selected (charge= 2.25 RUs)\n\n[\n    {\n        \"n1\": null,\n        \"n2\": null,\n        \"n3\": true\n    }\n]\n"
        }
      ],
      "source": "# StringToNull\nquery(families, \"\"\"\n\nSELECT \n    StringToNull(\"null\") AS n1, \n    StringToNull(\"  null \") AS n2,\n    IS_NULL(StringToNull(\"null   \")) AS n3\n\n\"\"\")"
    },
    {
      "cell_type": "code",
      "execution_count": 20,
      "metadata": {
        "collapsed": false,
        "execution": {
          "iopub.execute_input": "2020-08-28T14:25:35.845Z",
          "iopub.status.busy": "2020-08-28T14:25:35.737Z",
          "iopub.status.idle": "2020-08-28T14:25:35.859Z",
          "shell.execute_reply": "2020-08-28T14:25:35.864Z"
        },
        "inputHidden": false,
        "outputHidden": false,
        "trusted": true
      },
      "outputs": [
        {
          "name": "stdout",
          "output_type": "stream",
          "text": "1 document(s) selected (charge= 2.25 RUs)\n\n[\n    {\n        \"num1\": 1,\n        \"num2\": 3.14,\n        \"num3\": 60,\n        \"num4\": -1.79769e+308\n    }\n]\n"
        }
      ],
      "source": "# StringToNumber\nquery(families, \"\"\"\n\nSELECT \n    StringToNumber(\"1.000000\") AS num1, \n    StringToNumber(\"3.14\") AS num2,\n    StringToNumber(\"   60   \") AS num3, \n    StringToNumber(\"-1.79769e+308\") AS num4\n\n\"\"\")"
    },
    {
      "cell_type": "code",
      "execution_count": 21,
      "metadata": {
        "collapsed": false,
        "execution": {
          "iopub.execute_input": "2020-08-28T14:25:35.875Z",
          "iopub.status.busy": "2020-08-28T14:25:35.872Z",
          "iopub.status.idle": "2020-08-28T14:25:35.889Z",
          "shell.execute_reply": "2020-08-28T14:25:35.894Z"
        },
        "inputHidden": false,
        "outputHidden": false,
        "trusted": true
      },
      "outputs": [
        {
          "name": "stdout",
          "output_type": "stream",
          "text": "1 document(s) selected (charge= 2.26 RUs)\n\n[\n    {\n        \"obj1\": {},\n        \"obj2\": {\n            \"A\": \"String\"\n        },\n        \"obj3\": {\n            \"B\": [\n                1,\n                2,\n                3\n            ]\n        },\n        \"obj4\": {\n            \"C\": [\n                {\n                    \"b1\": [\n                        5,\n                        6,\n                        7\n                    ]\n                },\n                {\n                    \"b2\": 8\n                },\n                {\n                    \"b3\": 9\n                }\n            ]\n        }\n    }\n]\n"
        }
      ],
      "source": "# StringToObject\nquery(families, \"\"\"\n\nSELECT \n    StringToObject(\"{}\") AS obj1, \n    StringToObject('{\"A\":\"String\"}') AS obj2,\n    StringToObject('{\"B\":[1,2,3]}') AS obj3,\n    StringToObject('{\"C\":[{\"b1\":[5,6,7]},{\"b2\":8},{\"b3\":9}]}') AS obj4\n\n\"\"\")"
    },
    {
      "cell_type": "code",
      "execution_count": 22,
      "metadata": {
        "collapsed": false,
        "execution": {
          "iopub.execute_input": "2020-08-28T14:25:35.904Z",
          "iopub.status.busy": "2020-08-28T14:25:35.901Z",
          "iopub.status.idle": "2020-08-28T14:25:35.916Z",
          "shell.execute_reply": "2020-08-28T14:25:35.921Z"
        },
        "inputHidden": false,
        "outputHidden": false,
        "trusted": true
      },
      "outputs": [
        {
          "name": "stdout",
          "output_type": "stream",
          "text": "1 document(s) selected (charge= 2.26 RUs)\n\n[\n    {\n        \"str1\": \"1\",\n        \"str2\": \"Hello World\",\n        \"str3\": \"NaN\",\n        \"str4\": \"Infinity\",\n        \"str5\": \"false\",\n        \"str6\": \"0.1234\",\n        \"str7\": \"false\"\n    }\n]\n"
        }
      ],
      "source": "# ToString\nquery(families, \"\"\"\n\nSELECT \n    ToString(1.0000) AS str1, \n    ToString(\"Hello World\") AS str2, \n    ToString(NaN) AS str3, \n    ToString(Infinity) AS str4,\n    ToString(IS_STRING(ToString(undefined))) AS str5, \n    ToString(0.1234) AS str6, \n    ToString(false) AS str7, \n    ToString(undefined) AS str8\n\n\"\"\")"
    },
    {
      "cell_type": "markdown",
      "metadata": {},
      "source": "## Date/Time Functions"
    },
    {
      "cell_type": "code",
      "execution_count": 23,
      "metadata": {
        "collapsed": false,
        "execution": {
          "iopub.execute_input": "2020-08-28T14:25:35.931Z",
          "iopub.status.busy": "2020-08-28T14:25:35.927Z",
          "iopub.status.idle": "2020-08-28T14:25:35.944Z",
          "shell.execute_reply": "2020-08-28T14:25:36.059Z"
        },
        "inputHidden": false,
        "outputHidden": false,
        "trusted": true
      },
      "outputs": [
        {
          "name": "stdout",
          "output_type": "stream",
          "text": "1 document(s) selected (charge= 2.25 RUs)\n\n[\n    {\n        \"currentUtcDateTime\": \"2020-08-28T14:25:34.6743811Z\",\n        \"currentUtcTimestamp\": 1598624734674\n    }\n]\n"
        }
      ],
      "source": "# Date/Time\nquery(families, \"\"\"\n\nSELECT\n    GETCURRENTDATETIME() AS currentUtcDateTime,\n    GETCURRENTTIMESTAMP () AS currentUtcTimestamp\n\n\"\"\")"
    },
    {
      "cell_type": "markdown",
      "metadata": {},
      "source": "## Array Functions"
    },
    {
      "cell_type": "code",
      "execution_count": 24,
      "metadata": {
        "collapsed": false,
        "execution": {
          "iopub.execute_input": "2020-08-28T14:25:36.071Z",
          "iopub.status.busy": "2020-08-28T14:25:36.068Z",
          "iopub.status.idle": "2020-08-28T14:25:36.084Z",
          "shell.execute_reply": "2020-08-28T14:25:36.090Z"
        },
        "inputHidden": false,
        "outputHidden": false,
        "trusted": true
      },
      "outputs": [
        {
          "name": "stdout",
          "output_type": "stream",
          "text": "1 document(s) selected (charge= 2.25 RUs)\n\n[\n    {\n        \"arrConcat\": [\n            \"A\",\n            \"B\",\n            \"1\",\n            \"2\",\n            \"#\"\n        ],\n        \"arrContains\": true,\n        \"arrLength\": 3,\n        \"arrSlice\": [\n            \"1B\",\n            \"1C\"\n        ]\n    }\n]\n"
        }
      ],
      "source": "# Array\nquery(families, \"\"\"\n\nSELECT\n ARRAY_CONCAT([\"A\", \"B\"], [\"1\", \"2\"], [\"#\"])\tAS arrConcat,\n ARRAY_CONTAINS([\"1A\", \"1B\", \"1C\"], \"1B\")\t\tAS arrContains,\n ARRAY_LENGTH([\"1A\", \"1B\", \"1C\"])\t\t\t\tAS arrLength,\n ARRAY_SLICE([\"1A\", \"1B\", \"1C\", \"1D\"], 1, 2)\tAS arrSlice\n\n\"\"\")"
    }
  ],
  "metadata": {
    "kernelspec": {
      "displayName": "Python 3",
      "language": "python",
      "name": "python3"
    },
    "language_info": {
      "file_extension": "ipynb",
      "mimetype": "application/json",
      "name": "python",
      "version": "3.7"
    },
    "nteract": {
      "version": "dataExplorer 1.0"
    }
  },
  "nbformat": 4,
  "nbformat_minor": 2
}