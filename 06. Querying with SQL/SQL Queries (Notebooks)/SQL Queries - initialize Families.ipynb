{
  "cells": [
    {
      "cell_type": "markdown",
      "metadata": {
        "nteract": {
          "transient": {
            "deleting": false
          }
        }
      },
      "source": "## Create **Families** database\n\nCreate the **Families** database with a **Families** container and three documents"
    },
    {
      "cell_type": "code",
      "execution_count": 3,
      "metadata": {
        "collapsed": false,
        "execution": {
          "iopub.execute_input": "2023-02-23T17:50:36.042Z",
          "iopub.status.busy": "2023-02-23T17:50:36.033Z",
          "iopub.status.idle": "2023-02-23T17:50:37.251Z",
          "shell.execute_reply": "2023-02-23T17:50:37.218Z"
        },
        "inputHidden": false,
        "outputHidden": false,
        "trusted": true
      },
      "outputs": [
        {
          "name": "stdout",
          "output_type": "stream",
          "text": "Deleted existing Families database\nCreated Families database\nCreated Families container\nCreated Andersen document\nCreated Smith document\nCreated Wakefield document\n"
        }
      ],
      "source": "import azure.cosmos\nfrom azure.cosmos import PartitionKey, exceptions\n\n# Delete the Families database if it already exists\ntry:\n    cosmos_client.delete_database('Families')\n    print('Deleted existing Families database')\nexcept exceptions.CosmosResourceNotFoundError:\n    pass\n\n# Create the Families database\nfamiliesDb = cosmos_client.create_database('Families')\nprint('Created Families database')\n\n# Create the Families container\nfamilies = familiesDb.create_container(id='Families', partition_key=PartitionKey(path='/location/state'))\nprint('Created Families container')\n\n# Create three family documents\nandersen = {\n    \"id\": \"AndersenFamily\",\n    \"lastName\": \"Andersen\",\n    \"parents\": [\n        { \"firstName\": \"Thomas\", \"relationship\": \"father\" },\n        { \"firstName\": \"Mary Kay\", \"relationship\": \"mother\" }\n    ],\n    \"children\": [\n        { \"firstName\": \"Henriette Thaulow\", \"gender\": \"female\", \"grade\": 5, \"pets\": [\n            { \"givenName\": \"Fluffy\", \"type\": \"Rabbit\" } ]\n        }\n    ],\n    \"location\": { \"state\": \"WA\", \"county\": \"King\", \"city\": \"Seattle\" },\n    \"geo\": { \"type\": \"Point\", \"coordinates\": [ -122.3295, 47.60357 ] },\n    \"isRegistered\": True\n}\n\nsmith = {\n    \"id\": \"SmithFamily\",\n    \"parents\": [\n        { \"familyName\": \"Smith\", \"givenName\": \"James\" },\n        { \"familyName\": \"Curtis\", \"givenName\": \"Helen\" }\n    ],\n    \"children\": [\n        { \"givenName\": \"Michelle\", \"gender\": \"female\", \"grade\": 1 },\n        { \"givenName\": \"John\", \"gender\": \"male\", \"grade\": 7, \"pets\": [\n            { \"givenName\": \"Tweetie\", \"type\": \"Bird\" } ]\n        }\n    ],\n    \"location\": { \"state\": \"NY\", \"county\": \"Queens\", \"city\": \"Forest Hills\" },\n    \"geo\": { \"type\": \"Point\", \"coordinates\": [ -73.84791, 40.72266 ] },\n    \"isRegistered\": True\n}\n\nwakefield = {\n    \"id\": \"WakefieldFamily\",\n    \"parents\": [\n        { \"familyName\": \"Wakefield\", \"givenName\": \"Robin\" },\n        { \"familyName\": \"Miller\", \"givenName\": \"Ben\" }\n    ],\n    \"children\": [\n        { \"familyName\": \"Merriam\", \"givenName\": \"Jesse\", \"gender\": \"female\", \"grade\": 6, \"pets\": [\n            { \"givenName\": \"Charlie Brown\", \"type\": \"Dog\" },\n            { \"givenName\": \"Tiger\", \"type\": \"Cat\" },\n            { \"givenName\": \"Princess\", \"type\": \"Cat\" } ]\n        },\n        { \"familyName\": \"Miller\", \"givenName\": \"Lisa\", \"gender\": \"female\", \"grade\": 3, \"pets\": [\n            { \"givenName\": \"Jake\", \"type\": \"Snake\" } ]\n        }\n    ],\n    \"location\": { \"state\": \"NY\", \"county\": \"Manhattan\", \"city\": \"NY\" },\n    \"geo\": { \"type\": \"Point\", \"coordinates\": [ -73.992, 40.73100 ] },\n    \"isRegistered\": False\n}\n\nfamilies.create_item(body=andersen)\nprint('Created Andersen document')\n\nfamilies.create_item(body=smith)\nprint('Created Smith document')\n\nfamilies.create_item(body=wakefield)\nprint('Created Wakefield document')"
    }
  ],
  "metadata": {
    "kernelspec": {
      "displayName": "Python 3",
      "language": "python",
      "name": "python3"
    },
    "language_info": {
      "file_extension": "ipynb",
      "mimetype": "application/json",
      "name": "python",
      "version": "3.7"
    },
    "nteract": {
      "version": "dataExplorer 1.0"
    }
  },
  "nbformat": 4,
  "nbformat_minor": 2
}