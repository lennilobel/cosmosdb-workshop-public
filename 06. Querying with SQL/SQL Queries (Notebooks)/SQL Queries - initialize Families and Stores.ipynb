{
  "cells": [
    {
      "cell_type": "markdown",
      "metadata": {},
      "source": "# Initialize Cosmos DB Demos\n\nThis notebook prepares sample databases and containers for the Cosmos DB demos."
    },
    {
      "cell_type": "markdown",
      "metadata": {},
      "source": "## Create **Families** database\n\nCreate the **Families** database with a **Families** container and three documents"
    },
    {
      "cell_type": "code",
      "execution_count": 7,
      "metadata": {
        "collapsed": false,
        "execution": {
          "iopub.execute_input": "2023-02-23T17:56:12.983Z",
          "iopub.status.busy": "2023-02-23T17:56:12.947Z",
          "iopub.status.idle": "2023-02-23T17:56:15.713Z",
          "shell.execute_reply": "2023-02-23T17:56:15.687Z"
        },
        "inputHidden": false,
        "outputHidden": false,
        "trusted": true
      },
      "outputs": [
        {
          "name": "stdout",
          "output_type": "stream",
          "text": "Deleted existing Families database\nCreated Families database\nCreated Families container\nCreated Andersen document\nCreated Smith document\nCreated Wakefield document\n"
        }
      ],
      "source": "import azure.cosmos\nfrom azure.cosmos import PartitionKey, exceptions\n\n# Delete the Families database if it already exists\ntry:\n    cosmos_client.delete_database('Families')\n    print('Deleted existing Families database')\nexcept exceptions.CosmosResourceNotFoundError:\n    pass\n\n# Create the Families database\nfamiliesDb = cosmos_client.create_database('Families')\nprint('Created Families database')\n\n# Create the Families container\nfamilies = familiesDb.create_container(id='Families', partition_key=PartitionKey(path='/location/state'))\nprint('Created Families container')\n\n# Create three family documents\nandersen = {\n    \"id\": \"AndersenFamily\",\n    \"lastName\": \"Andersen\",\n    \"parents\": [\n        { \"firstName\": \"Thomas\", \"relationship\": \"father\" },\n        { \"firstName\": \"Mary Kay\", \"relationship\": \"mother\" }\n    ],\n    \"children\": [\n        { \"firstName\": \"Henriette Thaulow\", \"gender\": \"female\", \"grade\": 5, \"pets\": [\n            { \"givenName\": \"Fluffy\", \"type\": \"Rabbit\" } ]\n        }\n    ],\n    \"location\": { \"state\": \"WA\", \"county\": \"King\", \"city\": \"Seattle\" },\n    \"geo\": { \"type\": \"Point\", \"coordinates\": [ -122.3295, 47.60357 ] },\n    \"isRegistered\": True\n}\n\nsmith = {\n    \"id\": \"SmithFamily\",\n    \"parents\": [\n        { \"familyName\": \"Smith\", \"givenName\": \"James\" },\n        { \"familyName\": \"Curtis\", \"givenName\": \"Helen\" }\n    ],\n    \"children\": [\n        { \"givenName\": \"Michelle\", \"gender\": \"female\", \"grade\": 1 },\n        { \"givenName\": \"John\", \"gender\": \"male\", \"grade\": 7, \"pets\": [\n            { \"givenName\": \"Tweetie\", \"type\": \"Bird\" } ]\n        }\n    ],\n    \"location\": { \"state\": \"NY\", \"county\": \"Queens\", \"city\": \"Forest Hills\" },\n    \"geo\": { \"type\": \"Point\", \"coordinates\": [ -73.84791, 40.72266 ] },\n    \"isRegistered\": True\n}\n\nwakefield = {\n    \"id\": \"WakefieldFamily\",\n    \"parents\": [\n        { \"familyName\": \"Wakefield\", \"givenName\": \"Robin\" },\n        { \"familyName\": \"Miller\", \"givenName\": \"Ben\" }\n    ],\n    \"children\": [\n        { \"familyName\": \"Merriam\", \"givenName\": \"Jesse\", \"gender\": \"female\", \"grade\": 6, \"pets\": [\n            { \"givenName\": \"Charlie Brown\", \"type\": \"Dog\" },\n            { \"givenName\": \"Tiger\", \"type\": \"Cat\" },\n            { \"givenName\": \"Princess\", \"type\": \"Cat\" } ]\n        },\n        { \"familyName\": \"Miller\", \"givenName\": \"Lisa\", \"gender\": \"female\", \"grade\": 3, \"pets\": [\n            { \"givenName\": \"Jake\", \"type\": \"Snake\" } ]\n        }\n    ],\n    \"location\": { \"state\": \"NY\", \"county\": \"Manhattan\", \"city\": \"NY\" },\n    \"geo\": { \"type\": \"Point\", \"coordinates\": [ -73.992, 40.73100 ] },\n    \"isRegistered\": False\n}\n\nfamilies.create_item(body=andersen)\nprint('Created Andersen document')\n\nfamilies.create_item(body=smith)\nprint('Created Smith document')\n\nfamilies.create_item(body=wakefield)\nprint('Created Wakefield document')"
    },
    {
      "cell_type": "markdown",
      "metadata": {},
      "source": "## Create **adventure-works** database\n\nCreate the **adventure-works** database with an empty **stores** container"
    },
    {
      "cell_type": "code",
      "execution_count": 8,
      "metadata": {
        "collapsed": false,
        "execution": {
          "iopub.execute_input": "2023-02-23T17:56:20.573Z",
          "iopub.status.busy": "2023-02-23T17:56:20.551Z",
          "iopub.status.idle": "2023-02-23T17:56:21.324Z",
          "shell.execute_reply": "2023-02-23T17:56:21.305Z"
        },
        "inputHidden": false,
        "outputHidden": false,
        "trusted": true
      },
      "outputs": [
        {
          "name": "stdout",
          "output_type": "stream",
          "text": "Deleted existing adventure-works database\nCreated adventure-works database\nCreated stores container\n"
        }
      ],
      "source": "from azure.cosmos.partition_key import PartitionKey\n\n# Delete the adventure-works database if it already exists\ntry:\n    cosmos_client.delete_database('adventure-works')\n    print('Deleted existing adventure-works database')\nexcept exceptions.CosmosResourceNotFoundError:\n    pass\n\n# Create the adventure-works database\ndb = cosmos_client.create_database('adventure-works')\nprint('Created adventure-works database')\n\n# Create the stores container\ndb.create_container(id='stores', partition_key=PartitionKey(path='/address/postalCode'))\nprint('Created stores container')"
    },
    {
      "cell_type": "markdown",
      "metadata": {},
      "source": "## Upload **stores** container\nUse the **%%upload** magic to populate the **stores** container from the **ImportAdventureWorks.json** file hosted on blob storage.<br><br>\n*- OR -*<br><br>\nDon't run this code block, and import the **stores** container from the **AdventureWorks** database using Azure Data Factory (ADF)."
    },
    {
      "cell_type": "code",
      "execution_count": 12,
      "metadata": {
        "collapsed": false,
        "execution": {
          "iopub.status.busy": "2023-02-23T17:56:24.005Z",
          "iopub.status.idle": "2023-02-23T17:56:39.715Z",
          "shell.execute_reply": "2023-02-23T17:56:39.731Z"
        },
        "inputHidden": false,
        "outputHidden": false,
        "trusted": true
      },
      "outputs": [
        {
          "data": {
            "text/html": "\n<span style='color:#0078D4'>\nDocuments successfully uploaded to stores <br/>\nTotal number of documents imported:<br/>\n&nbsp;&nbsp;Success: <b>701</b> <br/>\n&nbsp;&nbsp;Failure: <b>0</b> <br/>\nTotal time taken : <b>00:00:15</b> hours <br/>\nTotal RUs consumed : <b>6273.949999999922</b> <br/>\n<br/>\n</span>\n"
          },
          "metadata": {},
          "output_type": "display_data"
        }
      ],
      "source": "%%upload --databaseName adventure-works --containerName stores --url https://cdbdemos.blob.core.windows.net/demos/ImportAdventureWorks.json"
    }
  ],
  "metadata": {
    "kernelspec": {
      "displayName": "Python 3",
      "language": "python",
      "name": "python3"
    },
    "language_info": {
      "file_extension": "ipynb",
      "mimetype": "application/json",
      "name": "python",
      "version": "3.7"
    },
    "nteract": {
      "version": "dataExplorer 1.0"
    }
  },
  "nbformat": 4,
  "nbformat_minor": 2
}