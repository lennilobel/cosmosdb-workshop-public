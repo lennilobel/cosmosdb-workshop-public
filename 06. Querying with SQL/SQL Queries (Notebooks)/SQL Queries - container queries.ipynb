{
  "cells": [
    {
      "cell_type": "markdown",
      "metadata": {},
      "source": "# Container Queries"
    },
    {
      "cell_type": "code",
      "execution_count": 1,
      "metadata": {
        "collapsed": false,
        "execution": {
          "iopub.execute_input": "2020-08-28T14:28:08.447Z",
          "iopub.status.busy": "2020-08-28T14:28:08.423Z",
          "iopub.status.idle": "2020-08-28T14:28:13.595Z",
          "shell.execute_reply": "2020-08-28T14:28:13.771Z"
        },
        "inputHidden": false,
        "outputHidden": false,
        "trusted": true
      },
      "outputs": [],
      "source": "# Setup\n%run \"notebooks/SQL Queries - setup.ipynb\""
    },
    {
      "cell_type": "markdown",
      "metadata": {},
      "source": "## FROM Clause"
    },
    {
      "cell_type": "markdown",
      "metadata": {
        "nteract": {
          "transient": {
            "deleting": false
          }
        }
      },
      "source": "Use **Families** container in **Families** database for SQL magic queries"
    },
    {
      "cell_type": "code",
      "execution_count": 2,
      "metadata": {
        "collapsed": true,
        "execution": {
          "iopub.status.busy": "2020-08-28T14:28:07.772Z",
          "iopub.status.idle": "2020-08-28T14:28:07.827Z",
          "shell.execute_reply": "2020-08-28T14:28:07.859Z"
        },
        "jupyter": {
          "outputs_hidden": false,
          "source_hidden": false
        },
        "nteract": {
          "transient": {
            "deleting": false
          }
        },
        "outputExpanded": false,
        "trusted": true
      },
      "outputs": [],
      "source": "%%database Families"
    },
    {
      "cell_type": "code",
      "execution_count": 3,
      "metadata": {
        "collapsed": true,
        "execution": {
          "iopub.status.busy": "2020-08-28T14:28:07.995Z",
          "iopub.status.idle": "2020-08-28T14:28:08.046Z",
          "shell.execute_reply": "2020-08-28T14:28:08.191Z"
        },
        "jupyter": {
          "outputs_hidden": false,
          "source_hidden": false
        },
        "nteract": {
          "transient": {
            "deleting": false
          }
        },
        "outputExpanded": false,
        "trusted": true
      },
      "outputs": [],
      "source": "%%container Families"
    },
    {
      "cell_type": "markdown",
      "metadata": {
        "nteract": {
          "transient": {
            "deleting": false
          }
        }
      },
      "source": "**Can just use 'c' for container**"
    },
    {
      "cell_type": "code",
      "execution_count": 2,
      "metadata": {
        "collapsed": true,
        "execution": {
          "iopub.execute_input": "2020-08-28T14:28:13.857Z",
          "iopub.status.busy": "2020-08-28T14:28:13.819Z",
          "iopub.status.idle": "2020-08-28T14:28:17.436Z",
          "shell.execute_reply": "2020-08-28T14:28:17.610Z"
        },
        "jupyter": {
          "outputs_hidden": false,
          "source_hidden": false
        },
        "nteract": {
          "transient": {
            "deleting": false
          }
        },
        "outputExpanded": false,
        "trusted": true
      },
      "outputs": [
        {
          "data": {
            "text/html": "\r\n<div>\r\n  <style type='text/css' scoped>\r\n.collapsible {\r\n  background-color: #fff;\r\n  color: #0078D4;\r\n  cursor: pointer;\r\n  padding: 10px;\r\n  border: none;\r\n  text-align: left;\r\n  outline: none;\r\n  font-size: 15px;\r\n  border-radius: 5px;\r\n  margin: 5px\r\n}\r\n\r\n.active, .collapsible:hover {\r\n  color: #4db2ff;\r\n}\r\n\r\n.content {\r\n  margin: 2px;\r\n  padding: 0 18px;\r\n  overflow: hidden;\r\n  background-color: #fff;\r\n  height: 0px;\r\n  -moz-transition: height .2s ease-out;\r\n  -ms-transition: height .2s ease-out;\r\n  -o-transition: height .2s ease-out;\r\n  -webkit-transition: height .2s ease-out;\r\n  transition: height .2s ease-out;\r\n}\r\n</style>\r\n\r\n<button type='button' class='collapsible'>▶ View Query Metrics</button>\r\n  \r\n<div class='content'>\r\n  <div class='measuringWrapper'>\r\n    <span style=\"color:#0078D4\"><b>totalExecutionTimeInMs    </b>:    0.25<br/><b>queryCompileTimeInMs    </b>:    0.04<br/><b>queryLogicalPlanBuildTimeInMs    </b>:    0.01<br/><b>queryPhysicalPlanBuildTimeInMs    </b>:    0.02<br/><b>queryOptimizationTimeInMs    </b>:    0<br/><b>VMExecutionTimeInMs    </b>:    0.04<br/><b>indexLookupTimeInMs    </b>:    0<br/><b>documentLoadTimeInMs    </b>:    0.03<br/><b>systemFunctionExecuteTimeInMs    </b>:    0<br/><b>userFunctionExecuteTimeInMs    </b>:    0<br/><b>retrievedDocumentCount    </b>:    3<br/><b>retrievedDocumentSize    </b>:    2058<br/><b>outputDocumentCount    </b>:    3<br/><b>outputDocumentSize    </b>:    2109<br/><b>writeOutputTimeInMs    </b>:    0<br/><b>averageIndexUtilizationRation    </b>:    1<br/></span>\r\n  </div>\r\n</div>\r\n\r\n<script>\r\nvar coll = document.getElementsByClassName('collapsible');\r\nvar i;\r\n\r\nfor (i = 0; i < coll.length; i++) {\r\n  \r\n  coll[i].addEventListener('click', function() {\r\n    this.classList.toggle('active');\r\n    var content = this.nextElementSibling;\r\n    \r\n    if (content.clientHeight != 0) {\r\n      this.textContent = '▶ View Query Metrics';\r\n      content.style.height = '0px';\r\n    }\r\n    else {\r\n      this.textContent = '▼ Hide Query Metrics';\r\n      content.style.height = content.children[0].clientHeight + 'px';\r\n    }\r\n  });\r\n}\r\n</script>\r\n</div>"
          },
          "metadata": {},
          "output_type": "display_data"
        },
        {
          "data": {
            "text/html": "<div>\n<style scoped>\n    .dataframe tbody tr th:only-of-type {\n        vertical-align: middle;\n    }\n\n    .dataframe tbody tr th {\n        vertical-align: top;\n    }\n\n    .dataframe thead th {\n        text-align: right;\n    }\n</style>\n<table border=\"1\" class=\"dataframe\">\n  <thead>\n    <tr style=\"text-align: right;\">\n      <th></th>\n      <th>id</th>\n      <th>lastName</th>\n      <th>parents</th>\n      <th>children</th>\n      <th>location</th>\n      <th>geo</th>\n      <th>isRegistered</th>\n      <th>_rid</th>\n      <th>_self</th>\n      <th>_etag</th>\n      <th>_attachments</th>\n      <th>_ts</th>\n    </tr>\n  </thead>\n  <tbody>\n    <tr>\n      <th>0</th>\n      <td>AndersenFamily</td>\n      <td>Andersen</td>\n      <td>[{'firstName': 'Thomas', 'relationship': 'fath...</td>\n      <td>[{'firstName': 'Henriette Thaulow', 'gender': ...</td>\n      <td>{'state': 'WA', 'county': 'King', 'city': 'Sea...</td>\n      <td>{'type': 'Point', 'coordinates': [-122.3295, 4...</td>\n      <td>True</td>\n      <td>QYYqAOyTBo4BAAAAAAAAAA==</td>\n      <td>dbs/QYYqAA==/colls/QYYqAOyTBo4=/docs/QYYqAOyTB...</td>\n      <td>\"00008bae-0000-0100-0000-5f4912ee0000\"</td>\n      <td>attachments/</td>\n      <td>1598624494</td>\n    </tr>\n    <tr>\n      <th>1</th>\n      <td>SmithFamily</td>\n      <td>NaN</td>\n      <td>[{'familyName': 'Smith', 'givenName': 'James'}...</td>\n      <td>[{'givenName': 'Michelle', 'gender': 'female',...</td>\n      <td>{'state': 'NY', 'county': 'Queens', 'city': 'F...</td>\n      <td>{'type': 'Point', 'coordinates': [-73.84791, 4...</td>\n      <td>True</td>\n      <td>QYYqAOyTBo4CAAAAAAAAAA==</td>\n      <td>dbs/QYYqAA==/colls/QYYqAOyTBo4=/docs/QYYqAOyTB...</td>\n      <td>\"00008cae-0000-0100-0000-5f4912ee0000\"</td>\n      <td>attachments/</td>\n      <td>1598624494</td>\n    </tr>\n    <tr>\n      <th>2</th>\n      <td>WakefieldFamily</td>\n      <td>NaN</td>\n      <td>[{'familyName': 'Wakefield', 'givenName': 'Rob...</td>\n      <td>[{'familyName': 'Merriam', 'givenName': 'Jesse...</td>\n      <td>{'state': 'NY', 'county': 'Manhattan', 'city':...</td>\n      <td>{'type': 'Point', 'coordinates': [-73.992, 40....</td>\n      <td>False</td>\n      <td>QYYqAOyTBo4DAAAAAAAAAA==</td>\n      <td>dbs/QYYqAA==/colls/QYYqAOyTBo4=/docs/QYYqAOyTB...</td>\n      <td>\"00008dae-0000-0100-0000-5f4912ee0000\"</td>\n      <td>attachments/</td>\n      <td>1598624494</td>\n    </tr>\n  </tbody>\n</table>\n</div>",
            "text/plain": "                id  lastName  \\\n0   AndersenFamily  Andersen   \n1      SmithFamily       NaN   \n2  WakefieldFamily       NaN   \n\n                                             parents  \\\n0  [{'firstName': 'Thomas', 'relationship': 'fath...   \n1  [{'familyName': 'Smith', 'givenName': 'James'}...   \n2  [{'familyName': 'Wakefield', 'givenName': 'Rob...   \n\n                                            children  \\\n0  [{'firstName': 'Henriette Thaulow', 'gender': ...   \n1  [{'givenName': 'Michelle', 'gender': 'female',...   \n2  [{'familyName': 'Merriam', 'givenName': 'Jesse...   \n\n                                            location  \\\n0  {'state': 'WA', 'county': 'King', 'city': 'Sea...   \n1  {'state': 'NY', 'county': 'Queens', 'city': 'F...   \n2  {'state': 'NY', 'county': 'Manhattan', 'city':...   \n\n                                                 geo  isRegistered  \\\n0  {'type': 'Point', 'coordinates': [-122.3295, 4...          True   \n1  {'type': 'Point', 'coordinates': [-73.84791, 4...          True   \n2  {'type': 'Point', 'coordinates': [-73.992, 40....         False   \n\n                       _rid  \\\n0  QYYqAOyTBo4BAAAAAAAAAA==   \n1  QYYqAOyTBo4CAAAAAAAAAA==   \n2  QYYqAOyTBo4DAAAAAAAAAA==   \n\n                                               _self  \\\n0  dbs/QYYqAA==/colls/QYYqAOyTBo4=/docs/QYYqAOyTB...   \n1  dbs/QYYqAA==/colls/QYYqAOyTBo4=/docs/QYYqAOyTB...   \n2  dbs/QYYqAA==/colls/QYYqAOyTBo4=/docs/QYYqAOyTB...   \n\n                                    _etag  _attachments         _ts  \n0  \"00008bae-0000-0100-0000-5f4912ee0000\"  attachments/  1598624494  \n1  \"00008cae-0000-0100-0000-5f4912ee0000\"  attachments/  1598624494  \n2  \"00008dae-0000-0100-0000-5f4912ee0000\"  attachments/  1598624494  "
          },
          "metadata": {},
          "output_type": "display_data"
        }
      ],
      "source": "%%sql\nSELECT * FROM c"
    },
    {
      "cell_type": "markdown",
      "metadata": {},
      "source": "**Get city and state**"
    },
    {
      "cell_type": "code",
      "execution_count": 3,
      "metadata": {
        "collapsed": false,
        "execution": {
          "iopub.execute_input": "2020-08-28T14:28:17.695Z",
          "iopub.status.busy": "2020-08-28T14:28:17.658Z",
          "iopub.status.idle": "2020-08-28T14:28:18.211Z",
          "shell.execute_reply": "2020-08-28T14:28:18.485Z"
        },
        "inputHidden": false,
        "outputHidden": false,
        "trusted": true
      },
      "outputs": [
        {
          "data": {
            "text/html": "\r\n<div>\r\n  <style type='text/css' scoped>\r\n.collapsible {\r\n  background-color: #fff;\r\n  color: #0078D4;\r\n  cursor: pointer;\r\n  padding: 10px;\r\n  border: none;\r\n  text-align: left;\r\n  outline: none;\r\n  font-size: 15px;\r\n  border-radius: 5px;\r\n  margin: 5px\r\n}\r\n\r\n.active, .collapsible:hover {\r\n  color: #4db2ff;\r\n}\r\n\r\n.content {\r\n  margin: 2px;\r\n  padding: 0 18px;\r\n  overflow: hidden;\r\n  background-color: #fff;\r\n  height: 0px;\r\n  -moz-transition: height .2s ease-out;\r\n  -ms-transition: height .2s ease-out;\r\n  -o-transition: height .2s ease-out;\r\n  -webkit-transition: height .2s ease-out;\r\n  transition: height .2s ease-out;\r\n}\r\n</style>\r\n\r\n<button type='button' class='collapsible'>▶ View Query Metrics</button>\r\n  \r\n<div class='content'>\r\n  <div class='measuringWrapper'>\r\n    <span style=\"color:#0078D4\"><b>totalExecutionTimeInMs    </b>:    0.39<br/><b>queryCompileTimeInMs    </b>:    0.1<br/><b>queryLogicalPlanBuildTimeInMs    </b>:    0.02<br/><b>queryPhysicalPlanBuildTimeInMs    </b>:    0.03<br/><b>queryOptimizationTimeInMs    </b>:    0<br/><b>VMExecutionTimeInMs    </b>:    0.06<br/><b>indexLookupTimeInMs    </b>:    0<br/><b>documentLoadTimeInMs    </b>:    0.04<br/><b>systemFunctionExecuteTimeInMs    </b>:    0<br/><b>userFunctionExecuteTimeInMs    </b>:    0<br/><b>retrievedDocumentCount    </b>:    3<br/><b>retrievedDocumentSize    </b>:    2058<br/><b>outputDocumentCount    </b>:    3<br/><b>outputDocumentSize    </b>:    144<br/><b>writeOutputTimeInMs    </b>:    0<br/><b>averageIndexUtilizationRation    </b>:    1<br/></span>\r\n  </div>\r\n</div>\r\n\r\n<script>\r\nvar coll = document.getElementsByClassName('collapsible');\r\nvar i;\r\n\r\nfor (i = 0; i < coll.length; i++) {\r\n  \r\n  coll[i].addEventListener('click', function() {\r\n    this.classList.toggle('active');\r\n    var content = this.nextElementSibling;\r\n    \r\n    if (content.clientHeight != 0) {\r\n      this.textContent = '▶ View Query Metrics';\r\n      content.style.height = '0px';\r\n    }\r\n    else {\r\n      this.textContent = '▼ Hide Query Metrics';\r\n      content.style.height = content.children[0].clientHeight + 'px';\r\n    }\r\n  });\r\n}\r\n</script>\r\n</div>"
          },
          "metadata": {},
          "output_type": "display_data"
        },
        {
          "data": {
            "text/html": "<div>\n<style scoped>\n    .dataframe tbody tr th:only-of-type {\n        vertical-align: middle;\n    }\n\n    .dataframe tbody tr th {\n        vertical-align: top;\n    }\n\n    .dataframe thead th {\n        text-align: right;\n    }\n</style>\n<table border=\"1\" class=\"dataframe\">\n  <thead>\n    <tr style=\"text-align: right;\">\n      <th></th>\n      <th>city</th>\n      <th>state</th>\n    </tr>\n  </thead>\n  <tbody>\n    <tr>\n      <th>0</th>\n      <td>Seattle</td>\n      <td>WA</td>\n    </tr>\n    <tr>\n      <th>1</th>\n      <td>Forest Hills</td>\n      <td>NY</td>\n    </tr>\n    <tr>\n      <th>2</th>\n      <td>NY</td>\n      <td>NY</td>\n    </tr>\n  </tbody>\n</table>\n</div>",
            "text/plain": "           city state\n0       Seattle    WA\n1  Forest Hills    NY\n2            NY    NY"
          },
          "metadata": {},
          "output_type": "display_data"
        }
      ],
      "source": "%%sql\nSELECT\n    c.location.city,\n    c.location.state\nFROM\n    c"
    },
    {
      "cell_type": "markdown",
      "metadata": {},
      "source": "**Can use container name**"
    },
    {
      "cell_type": "code",
      "execution_count": 4,
      "metadata": {
        "collapsed": false,
        "execution": {
          "iopub.execute_input": "2020-08-28T14:28:18.721Z",
          "iopub.status.busy": "2020-08-28T14:28:18.544Z",
          "iopub.status.idle": "2020-08-28T14:28:19.432Z",
          "shell.execute_reply": "2020-08-28T14:28:19.388Z"
        },
        "inputHidden": false,
        "outputHidden": false,
        "trusted": true
      },
      "outputs": [
        {
          "data": {
            "text/html": "\r\n<div>\r\n  <style type='text/css' scoped>\r\n.collapsible {\r\n  background-color: #fff;\r\n  color: #0078D4;\r\n  cursor: pointer;\r\n  padding: 10px;\r\n  border: none;\r\n  text-align: left;\r\n  outline: none;\r\n  font-size: 15px;\r\n  border-radius: 5px;\r\n  margin: 5px\r\n}\r\n\r\n.active, .collapsible:hover {\r\n  color: #4db2ff;\r\n}\r\n\r\n.content {\r\n  margin: 2px;\r\n  padding: 0 18px;\r\n  overflow: hidden;\r\n  background-color: #fff;\r\n  height: 0px;\r\n  -moz-transition: height .2s ease-out;\r\n  -ms-transition: height .2s ease-out;\r\n  -o-transition: height .2s ease-out;\r\n  -webkit-transition: height .2s ease-out;\r\n  transition: height .2s ease-out;\r\n}\r\n</style>\r\n\r\n<button type='button' class='collapsible'>▶ View Query Metrics</button>\r\n  \r\n<div class='content'>\r\n  <div class='measuringWrapper'>\r\n    <span style=\"color:#0078D4\"><b>totalExecutionTimeInMs    </b>:    0.36<br/><b>queryCompileTimeInMs    </b>:    0.09<br/><b>queryLogicalPlanBuildTimeInMs    </b>:    0.03<br/><b>queryPhysicalPlanBuildTimeInMs    </b>:    0.03<br/><b>queryOptimizationTimeInMs    </b>:    0<br/><b>VMExecutionTimeInMs    </b>:    0.06<br/><b>indexLookupTimeInMs    </b>:    0<br/><b>documentLoadTimeInMs    </b>:    0.04<br/><b>systemFunctionExecuteTimeInMs    </b>:    0<br/><b>userFunctionExecuteTimeInMs    </b>:    0<br/><b>retrievedDocumentCount    </b>:    3<br/><b>retrievedDocumentSize    </b>:    2058<br/><b>outputDocumentCount    </b>:    3<br/><b>outputDocumentSize    </b>:    144<br/><b>writeOutputTimeInMs    </b>:    0<br/><b>averageIndexUtilizationRation    </b>:    1<br/></span>\r\n  </div>\r\n</div>\r\n\r\n<script>\r\nvar coll = document.getElementsByClassName('collapsible');\r\nvar i;\r\n\r\nfor (i = 0; i < coll.length; i++) {\r\n  \r\n  coll[i].addEventListener('click', function() {\r\n    this.classList.toggle('active');\r\n    var content = this.nextElementSibling;\r\n    \r\n    if (content.clientHeight != 0) {\r\n      this.textContent = '▶ View Query Metrics';\r\n      content.style.height = '0px';\r\n    }\r\n    else {\r\n      this.textContent = '▼ Hide Query Metrics';\r\n      content.style.height = content.children[0].clientHeight + 'px';\r\n    }\r\n  });\r\n}\r\n</script>\r\n</div>"
          },
          "metadata": {},
          "output_type": "display_data"
        },
        {
          "data": {
            "text/html": "<div>\n<style scoped>\n    .dataframe tbody tr th:only-of-type {\n        vertical-align: middle;\n    }\n\n    .dataframe tbody tr th {\n        vertical-align: top;\n    }\n\n    .dataframe thead th {\n        text-align: right;\n    }\n</style>\n<table border=\"1\" class=\"dataframe\">\n  <thead>\n    <tr style=\"text-align: right;\">\n      <th></th>\n      <th>city</th>\n      <th>state</th>\n    </tr>\n  </thead>\n  <tbody>\n    <tr>\n      <th>0</th>\n      <td>Seattle</td>\n      <td>WA</td>\n    </tr>\n    <tr>\n      <th>1</th>\n      <td>Forest Hills</td>\n      <td>NY</td>\n    </tr>\n    <tr>\n      <th>2</th>\n      <td>NY</td>\n      <td>NY</td>\n    </tr>\n  </tbody>\n</table>\n</div>",
            "text/plain": "           city state\n0       Seattle    WA\n1  Forest Hills    NY\n2            NY    NY"
          },
          "metadata": {},
          "output_type": "display_data"
        }
      ],
      "source": "%%sql\nSELECT\n    Families.location.city,\n    Families.location.state\nFROM\n    Families"
    },
    {
      "cell_type": "markdown",
      "metadata": {},
      "source": "**Can \"double\"-alias**"
    },
    {
      "cell_type": "code",
      "execution_count": 5,
      "metadata": {
        "collapsed": false,
        "execution": {
          "iopub.execute_input": "2020-08-28T14:28:19.690Z",
          "iopub.status.busy": "2020-08-28T14:28:19.643Z",
          "iopub.status.idle": "2020-08-28T14:28:19.895Z",
          "shell.execute_reply": "2020-08-28T14:28:19.931Z"
        },
        "inputHidden": false,
        "outputHidden": false,
        "trusted": true
      },
      "outputs": [
        {
          "data": {
            "text/html": "\r\n<div>\r\n  <style type='text/css' scoped>\r\n.collapsible {\r\n  background-color: #fff;\r\n  color: #0078D4;\r\n  cursor: pointer;\r\n  padding: 10px;\r\n  border: none;\r\n  text-align: left;\r\n  outline: none;\r\n  font-size: 15px;\r\n  border-radius: 5px;\r\n  margin: 5px\r\n}\r\n\r\n.active, .collapsible:hover {\r\n  color: #4db2ff;\r\n}\r\n\r\n.content {\r\n  margin: 2px;\r\n  padding: 0 18px;\r\n  overflow: hidden;\r\n  background-color: #fff;\r\n  height: 0px;\r\n  -moz-transition: height .2s ease-out;\r\n  -ms-transition: height .2s ease-out;\r\n  -o-transition: height .2s ease-out;\r\n  -webkit-transition: height .2s ease-out;\r\n  transition: height .2s ease-out;\r\n}\r\n</style>\r\n\r\n<button type='button' class='collapsible'>▶ View Query Metrics</button>\r\n  \r\n<div class='content'>\r\n  <div class='measuringWrapper'>\r\n    <span style=\"color:#0078D4\"><b>totalExecutionTimeInMs    </b>:    0.4<br/><b>queryCompileTimeInMs    </b>:    0.09<br/><b>queryLogicalPlanBuildTimeInMs    </b>:    0.02<br/><b>queryPhysicalPlanBuildTimeInMs    </b>:    0.02<br/><b>queryOptimizationTimeInMs    </b>:    0<br/><b>VMExecutionTimeInMs    </b>:    0.07<br/><b>indexLookupTimeInMs    </b>:    0<br/><b>documentLoadTimeInMs    </b>:    0.04<br/><b>systemFunctionExecuteTimeInMs    </b>:    0<br/><b>userFunctionExecuteTimeInMs    </b>:    0<br/><b>retrievedDocumentCount    </b>:    3<br/><b>retrievedDocumentSize    </b>:    2058<br/><b>outputDocumentCount    </b>:    3<br/><b>outputDocumentSize    </b>:    144<br/><b>writeOutputTimeInMs    </b>:    0.01<br/><b>averageIndexUtilizationRation    </b>:    1<br/></span>\r\n  </div>\r\n</div>\r\n\r\n<script>\r\nvar coll = document.getElementsByClassName('collapsible');\r\nvar i;\r\n\r\nfor (i = 0; i < coll.length; i++) {\r\n  \r\n  coll[i].addEventListener('click', function() {\r\n    this.classList.toggle('active');\r\n    var content = this.nextElementSibling;\r\n    \r\n    if (content.clientHeight != 0) {\r\n      this.textContent = '▶ View Query Metrics';\r\n      content.style.height = '0px';\r\n    }\r\n    else {\r\n      this.textContent = '▼ Hide Query Metrics';\r\n      content.style.height = content.children[0].clientHeight + 'px';\r\n    }\r\n  });\r\n}\r\n</script>\r\n</div>"
          },
          "metadata": {},
          "output_type": "display_data"
        },
        {
          "data": {
            "text/html": "<div>\n<style scoped>\n    .dataframe tbody tr th:only-of-type {\n        vertical-align: middle;\n    }\n\n    .dataframe tbody tr th {\n        vertical-align: top;\n    }\n\n    .dataframe thead th {\n        text-align: right;\n    }\n</style>\n<table border=\"1\" class=\"dataframe\">\n  <thead>\n    <tr style=\"text-align: right;\">\n      <th></th>\n      <th>city</th>\n      <th>state</th>\n    </tr>\n  </thead>\n  <tbody>\n    <tr>\n      <th>0</th>\n      <td>Seattle</td>\n      <td>WA</td>\n    </tr>\n    <tr>\n      <th>1</th>\n      <td>Forest Hills</td>\n      <td>NY</td>\n    </tr>\n    <tr>\n      <th>2</th>\n      <td>NY</td>\n      <td>NY</td>\n    </tr>\n  </tbody>\n</table>\n</div>",
            "text/plain": "           city state\n0       Seattle    WA\n1  Forest Hills    NY\n2            NY    NY"
          },
          "metadata": {},
          "output_type": "display_data"
        }
      ],
      "source": "%%sql\nSELECT\n    f.location.city,\n    f.location.state\nFROM\n    Families AS f"
    },
    {
      "cell_type": "markdown",
      "metadata": {},
      "source": "**Reduce source to subset of children (per family)**"
    },
    {
      "cell_type": "code",
      "execution_count": 6,
      "metadata": {
        "collapsed": false,
        "execution": {
          "iopub.execute_input": "2020-08-28T14:28:20.255Z",
          "iopub.status.busy": "2020-08-28T14:28:19.997Z",
          "iopub.status.idle": "2020-08-28T14:28:21.107Z",
          "shell.execute_reply": "2020-08-28T14:28:21.144Z"
        },
        "inputHidden": false,
        "outputHidden": false,
        "trusted": true
      },
      "outputs": [
        {
          "name": "stdout",
          "output_type": "stream",
          "text": "3 document(s) selected (charge= 2.98 RUs)\n\n[\n    [\n        {\n            \"firstName\": \"Henriette Thaulow\",\n            \"gender\": \"female\",\n            \"grade\": 5,\n            \"pets\": [\n                {\n                    \"givenName\": \"Fluffy\",\n                    \"type\": \"Rabbit\"\n                }\n            ]\n        }\n    ],\n    [\n        {\n            \"givenName\": \"Michelle\",\n            \"gender\": \"female\",\n            \"grade\": 1\n        },\n        {\n            \"givenName\": \"John\",\n            \"gender\": \"male\",\n            \"grade\": 7,\n            \"pets\": [\n                {\n                    \"givenName\": \"Tweetie\",\n                    \"type\": \"Bird\"\n                }\n            ]\n        }\n    ],\n    [\n        {\n            \"familyName\": \"Merriam\",\n            \"givenName\": \"Jesse\",\n            \"gender\": \"female\",\n            \"grade\": 6,\n            \"pets\": [\n                {\n                    \"givenName\": \"Charlie Brown\",\n                    \"type\": \"Dog\"\n                },\n                {\n                    \"givenName\": \"Tiger\",\n                    \"type\": \"Cat\"\n                },\n                {\n                    \"givenName\": \"Princess\",\n                    \"type\": \"Cat\"\n                }\n            ]\n        },\n        {\n            \"familyName\": \"Miller\",\n            \"givenName\": \"Lisa\",\n            \"gender\": \"female\",\n            \"grade\": 3,\n            \"pets\": [\n                {\n                    \"givenName\": \"Jake\",\n                    \"type\": \"Snake\"\n                }\n            ]\n        }\n    ]\n]\n"
        }
      ],
      "source": "query(families, \"\"\"\nSELECT *\nFROM c.children\n\"\"\")"
    },
    {
      "cell_type": "markdown",
      "metadata": {},
      "source": "**With reduced source, can't query outside the subset**"
    },
    {
      "cell_type": "code",
      "execution_count": 7,
      "metadata": {
        "collapsed": false,
        "execution": {
          "iopub.execute_input": "2020-08-28T14:28:21.449Z",
          "iopub.status.busy": "2020-08-28T14:28:21.426Z",
          "iopub.status.idle": "2020-08-28T14:28:21.655Z",
          "shell.execute_reply": "2020-08-28T14:28:21.691Z"
        },
        "inputHidden": false,
        "outputHidden": false,
        "trusted": true
      },
      "outputs": [
        {
          "name": "stdout",
          "output_type": "stream",
          "text": "(BadRequest) Message: {\"errors\":[{\"severity\":\"Error\",\"location\":{\"start\":32,\"end\":33},\"code\":\"SC2001\",\"message\":\"Identifier 'c' could not be resolved.\"}]}\r\nActivityId: 2b4dac9e-c19c-4eba-8438-d2beaff84de5, Microsoft.Azure.Documents.Common/2.11.0\n"
        }
      ],
      "source": "query(families, \"\"\"\nSELECT *\nFROM c.children\nWHERE c.location.state = 'NY'\n\"\"\")"
    },
    {
      "cell_type": "markdown",
      "metadata": {},
      "source": "**All queryable properties need to be in scope**"
    },
    {
      "cell_type": "code",
      "execution_count": 8,
      "metadata": {
        "collapsed": false,
        "execution": {
          "iopub.execute_input": "2020-08-28T14:28:21.912Z",
          "iopub.status.busy": "2020-08-28T14:28:21.736Z",
          "iopub.status.idle": "2020-08-28T14:28:22.037Z",
          "shell.execute_reply": "2020-08-28T14:28:21.998Z"
        },
        "inputHidden": false,
        "outputHidden": false,
        "trusted": true
      },
      "outputs": [
        {
          "name": "stdout",
          "output_type": "stream",
          "text": "2 document(s) selected (charge= 2.86 RUs)\n\n[\n    {\n        \"children\": [\n            {\n                \"givenName\": \"Michelle\",\n                \"gender\": \"female\",\n                \"grade\": 1\n            },\n            {\n                \"givenName\": \"John\",\n                \"gender\": \"male\",\n                \"grade\": 7,\n                \"pets\": [\n                    {\n                        \"givenName\": \"Tweetie\",\n                        \"type\": \"Bird\"\n                    }\n                ]\n            }\n        ]\n    },\n    {\n        \"children\": [\n            {\n                \"familyName\": \"Merriam\",\n                \"givenName\": \"Jesse\",\n                \"gender\": \"female\",\n                \"grade\": 6,\n                \"pets\": [\n                    {\n                        \"givenName\": \"Charlie Brown\",\n                        \"type\": \"Dog\"\n                    },\n                    {\n                        \"givenName\": \"Tiger\",\n                        \"type\": \"Cat\"\n                    },\n                    {\n                        \"givenName\": \"Princess\",\n                        \"type\": \"Cat\"\n                    }\n                ]\n            },\n            {\n                \"familyName\": \"Miller\",\n                \"givenName\": \"Lisa\",\n                \"gender\": \"female\",\n                \"grade\": 3,\n                \"pets\": [\n                    {\n                        \"givenName\": \"Jake\",\n                        \"type\": \"Snake\"\n                    }\n                ]\n            }\n        ]\n    }\n]\n"
        }
      ],
      "source": "query(families, \"\"\"\nSELECT c.children\nFROM c\nWHERE c.location.state = 'NY'\n\"\"\")"
    },
    {
      "cell_type": "markdown",
      "metadata": {},
      "source": "## FROM with IN\n\nUse IN to break each item into multiple documents on a child array."
    },
    {
      "cell_type": "markdown",
      "metadata": {},
      "source": "**Break each family into multiple documents on children array element**"
    },
    {
      "cell_type": "code",
      "execution_count": 9,
      "metadata": {
        "collapsed": false,
        "execution": {
          "iopub.execute_input": "2020-08-28T14:28:22.266Z",
          "iopub.status.busy": "2020-08-28T14:28:22.095Z",
          "iopub.status.idle": "2020-08-28T14:28:22.344Z",
          "shell.execute_reply": "2020-08-28T14:28:22.530Z"
        },
        "inputHidden": false,
        "outputHidden": false,
        "trusted": true
      },
      "outputs": [
        {
          "data": {
            "text/html": "\r\n<div>\r\n  <style type='text/css' scoped>\r\n.collapsible {\r\n  background-color: #fff;\r\n  color: #0078D4;\r\n  cursor: pointer;\r\n  padding: 10px;\r\n  border: none;\r\n  text-align: left;\r\n  outline: none;\r\n  font-size: 15px;\r\n  border-radius: 5px;\r\n  margin: 5px\r\n}\r\n\r\n.active, .collapsible:hover {\r\n  color: #4db2ff;\r\n}\r\n\r\n.content {\r\n  margin: 2px;\r\n  padding: 0 18px;\r\n  overflow: hidden;\r\n  background-color: #fff;\r\n  height: 0px;\r\n  -moz-transition: height .2s ease-out;\r\n  -ms-transition: height .2s ease-out;\r\n  -o-transition: height .2s ease-out;\r\n  -webkit-transition: height .2s ease-out;\r\n  transition: height .2s ease-out;\r\n}\r\n</style>\r\n\r\n<button type='button' class='collapsible'>▶ View Query Metrics</button>\r\n  \r\n<div class='content'>\r\n  <div class='measuringWrapper'>\r\n    <span style=\"color:#0078D4\"><b>totalExecutionTimeInMs    </b>:    0.49<br/><b>queryCompileTimeInMs    </b>:    0.08<br/><b>queryLogicalPlanBuildTimeInMs    </b>:    0.02<br/><b>queryPhysicalPlanBuildTimeInMs    </b>:    0.07<br/><b>queryOptimizationTimeInMs    </b>:    0<br/><b>VMExecutionTimeInMs    </b>:    0.18<br/><b>indexLookupTimeInMs    </b>:    0.11<br/><b>documentLoadTimeInMs    </b>:    0.04<br/><b>systemFunctionExecuteTimeInMs    </b>:    0<br/><b>userFunctionExecuteTimeInMs    </b>:    0<br/><b>retrievedDocumentCount    </b>:    3<br/><b>retrievedDocumentSize    </b>:    2058<br/><b>outputDocumentCount    </b>:    5<br/><b>outputDocumentSize    </b>:    619<br/><b>writeOutputTimeInMs    </b>:    0<br/><b>averageIndexUtilizationRation    </b>:    1<br/></span>\r\n  </div>\r\n</div>\r\n\r\n<script>\r\nvar coll = document.getElementsByClassName('collapsible');\r\nvar i;\r\n\r\nfor (i = 0; i < coll.length; i++) {\r\n  \r\n  coll[i].addEventListener('click', function() {\r\n    this.classList.toggle('active');\r\n    var content = this.nextElementSibling;\r\n    \r\n    if (content.clientHeight != 0) {\r\n      this.textContent = '▶ View Query Metrics';\r\n      content.style.height = '0px';\r\n    }\r\n    else {\r\n      this.textContent = '▼ Hide Query Metrics';\r\n      content.style.height = content.children[0].clientHeight + 'px';\r\n    }\r\n  });\r\n}\r\n</script>\r\n</div>"
          },
          "metadata": {},
          "output_type": "display_data"
        },
        {
          "data": {
            "text/html": "<div>\n<style scoped>\n    .dataframe tbody tr th:only-of-type {\n        vertical-align: middle;\n    }\n\n    .dataframe tbody tr th {\n        vertical-align: top;\n    }\n\n    .dataframe thead th {\n        text-align: right;\n    }\n</style>\n<table border=\"1\" class=\"dataframe\">\n  <thead>\n    <tr style=\"text-align: right;\">\n      <th></th>\n      <th>firstName</th>\n      <th>gender</th>\n      <th>grade</th>\n      <th>pets</th>\n      <th>givenName</th>\n      <th>familyName</th>\n    </tr>\n  </thead>\n  <tbody>\n    <tr>\n      <th>0</th>\n      <td>Henriette Thaulow</td>\n      <td>female</td>\n      <td>5</td>\n      <td>[{'givenName': 'Fluffy', 'type': 'Rabbit'}]</td>\n      <td>NaN</td>\n      <td>NaN</td>\n    </tr>\n    <tr>\n      <th>1</th>\n      <td>NaN</td>\n      <td>female</td>\n      <td>1</td>\n      <td>NaN</td>\n      <td>Michelle</td>\n      <td>NaN</td>\n    </tr>\n    <tr>\n      <th>2</th>\n      <td>NaN</td>\n      <td>male</td>\n      <td>7</td>\n      <td>[{'givenName': 'Tweetie', 'type': 'Bird'}]</td>\n      <td>John</td>\n      <td>NaN</td>\n    </tr>\n    <tr>\n      <th>3</th>\n      <td>NaN</td>\n      <td>female</td>\n      <td>6</td>\n      <td>[{'givenName': 'Charlie Brown', 'type': 'Dog'}...</td>\n      <td>Jesse</td>\n      <td>Merriam</td>\n    </tr>\n    <tr>\n      <th>4</th>\n      <td>NaN</td>\n      <td>female</td>\n      <td>3</td>\n      <td>[{'givenName': 'Jake', 'type': 'Snake'}]</td>\n      <td>Lisa</td>\n      <td>Miller</td>\n    </tr>\n  </tbody>\n</table>\n</div>",
            "text/plain": "           firstName  gender  grade  \\\n0  Henriette Thaulow  female      5   \n1                NaN  female      1   \n2                NaN    male      7   \n3                NaN  female      6   \n4                NaN  female      3   \n\n                                                pets givenName familyName  \n0        [{'givenName': 'Fluffy', 'type': 'Rabbit'}]       NaN        NaN  \n1                                                NaN  Michelle        NaN  \n2         [{'givenName': 'Tweetie', 'type': 'Bird'}]      John        NaN  \n3  [{'givenName': 'Charlie Brown', 'type': 'Dog'}...     Jesse    Merriam  \n4           [{'givenName': 'Jake', 'type': 'Snake'}]      Lisa     Miller  "
          },
          "metadata": {},
          "output_type": "display_data"
        }
      ],
      "source": "%%sql\nSELECT *\nFROM ch IN c.children"
    },
    {
      "cell_type": "markdown",
      "metadata": {},
      "source": "**Produce a consistent shape**"
    },
    {
      "cell_type": "code",
      "execution_count": 10,
      "metadata": {
        "collapsed": false,
        "execution": {
          "iopub.execute_input": "2020-08-28T14:28:22.601Z",
          "iopub.status.busy": "2020-08-28T14:28:22.569Z",
          "iopub.status.idle": "2020-08-28T14:28:22.759Z",
          "shell.execute_reply": "2020-08-28T14:28:22.791Z"
        },
        "inputHidden": false,
        "outputHidden": false,
        "trusted": true
      },
      "outputs": [
        {
          "data": {
            "text/html": "\r\n<div>\r\n  <style type='text/css' scoped>\r\n.collapsible {\r\n  background-color: #fff;\r\n  color: #0078D4;\r\n  cursor: pointer;\r\n  padding: 10px;\r\n  border: none;\r\n  text-align: left;\r\n  outline: none;\r\n  font-size: 15px;\r\n  border-radius: 5px;\r\n  margin: 5px\r\n}\r\n\r\n.active, .collapsible:hover {\r\n  color: #4db2ff;\r\n}\r\n\r\n.content {\r\n  margin: 2px;\r\n  padding: 0 18px;\r\n  overflow: hidden;\r\n  background-color: #fff;\r\n  height: 0px;\r\n  -moz-transition: height .2s ease-out;\r\n  -ms-transition: height .2s ease-out;\r\n  -o-transition: height .2s ease-out;\r\n  -webkit-transition: height .2s ease-out;\r\n  transition: height .2s ease-out;\r\n}\r\n</style>\r\n\r\n<button type='button' class='collapsible'>▶ View Query Metrics</button>\r\n  \r\n<div class='content'>\r\n  <div class='measuringWrapper'>\r\n    <span style=\"color:#0078D4\"><b>totalExecutionTimeInMs    </b>:    0.55<br/><b>queryCompileTimeInMs    </b>:    0.11<br/><b>queryLogicalPlanBuildTimeInMs    </b>:    0.03<br/><b>queryPhysicalPlanBuildTimeInMs    </b>:    0.06<br/><b>queryOptimizationTimeInMs    </b>:    0<br/><b>VMExecutionTimeInMs    </b>:    0.17<br/><b>indexLookupTimeInMs    </b>:    0.09<br/><b>documentLoadTimeInMs    </b>:    0.03<br/><b>systemFunctionExecuteTimeInMs    </b>:    0<br/><b>userFunctionExecuteTimeInMs    </b>:    0<br/><b>retrievedDocumentCount    </b>:    3<br/><b>retrievedDocumentSize    </b>:    2058<br/><b>outputDocumentCount    </b>:    5<br/><b>outputDocumentSize    </b>:    554<br/><b>writeOutputTimeInMs    </b>:    0.01<br/><b>averageIndexUtilizationRation    </b>:    1<br/></span>\r\n  </div>\r\n</div>\r\n\r\n<script>\r\nvar coll = document.getElementsByClassName('collapsible');\r\nvar i;\r\n\r\nfor (i = 0; i < coll.length; i++) {\r\n  \r\n  coll[i].addEventListener('click', function() {\r\n    this.classList.toggle('active');\r\n    var content = this.nextElementSibling;\r\n    \r\n    if (content.clientHeight != 0) {\r\n      this.textContent = '▶ View Query Metrics';\r\n      content.style.height = '0px';\r\n    }\r\n    else {\r\n      this.textContent = '▼ Hide Query Metrics';\r\n      content.style.height = content.children[0].clientHeight + 'px';\r\n    }\r\n  });\r\n}\r\n</script>\r\n</div>"
          },
          "metadata": {},
          "output_type": "display_data"
        },
        {
          "data": {
            "text/html": "<div>\n<style scoped>\n    .dataframe tbody tr th:only-of-type {\n        vertical-align: middle;\n    }\n\n    .dataframe tbody tr th {\n        vertical-align: top;\n    }\n\n    .dataframe thead th {\n        text-align: right;\n    }\n</style>\n<table border=\"1\" class=\"dataframe\">\n  <thead>\n    <tr style=\"text-align: right;\">\n      <th></th>\n      <th>firstName</th>\n      <th>grade</th>\n      <th>numberOfPets</th>\n      <th>pets</th>\n      <th>givenName</th>\n    </tr>\n  </thead>\n  <tbody>\n    <tr>\n      <th>0</th>\n      <td>Henriette Thaulow</td>\n      <td>5</td>\n      <td>1.0</td>\n      <td>[{'givenName': 'Fluffy', 'type': 'Rabbit'}]</td>\n      <td>NaN</td>\n    </tr>\n    <tr>\n      <th>1</th>\n      <td>NaN</td>\n      <td>1</td>\n      <td>NaN</td>\n      <td>NaN</td>\n      <td>Michelle</td>\n    </tr>\n    <tr>\n      <th>2</th>\n      <td>NaN</td>\n      <td>7</td>\n      <td>1.0</td>\n      <td>[{'givenName': 'Tweetie', 'type': 'Bird'}]</td>\n      <td>John</td>\n    </tr>\n    <tr>\n      <th>3</th>\n      <td>NaN</td>\n      <td>6</td>\n      <td>3.0</td>\n      <td>[{'givenName': 'Charlie Brown', 'type': 'Dog'}...</td>\n      <td>Jesse</td>\n    </tr>\n    <tr>\n      <th>4</th>\n      <td>NaN</td>\n      <td>3</td>\n      <td>1.0</td>\n      <td>[{'givenName': 'Jake', 'type': 'Snake'}]</td>\n      <td>Lisa</td>\n    </tr>\n  </tbody>\n</table>\n</div>",
            "text/plain": "           firstName  grade  numberOfPets  \\\n0  Henriette Thaulow      5           1.0   \n1                NaN      1           NaN   \n2                NaN      7           1.0   \n3                NaN      6           3.0   \n4                NaN      3           1.0   \n\n                                                pets givenName  \n0        [{'givenName': 'Fluffy', 'type': 'Rabbit'}]       NaN  \n1                                                NaN  Michelle  \n2         [{'givenName': 'Tweetie', 'type': 'Bird'}]      John  \n3  [{'givenName': 'Charlie Brown', 'type': 'Dog'}...     Jesse  \n4           [{'givenName': 'Jake', 'type': 'Snake'}]      Lisa  "
          },
          "metadata": {},
          "output_type": "display_data"
        }
      ],
      "source": "%%sql\nSELECT\n    ch.firstName,\n    ch.givenName,\n    ch.grade,\n    ARRAY_LENGTH(ch.pets) AS numberOfPets,\n    ch.pets\nFROM\n    ch IN c.children"
    },
    {
      "cell_type": "markdown",
      "metadata": {},
      "source": "**Resolve schema differences**"
    },
    {
      "cell_type": "code",
      "execution_count": 11,
      "metadata": {
        "collapsed": false,
        "execution": {
          "iopub.execute_input": "2020-08-28T14:28:22.994Z",
          "iopub.status.busy": "2020-08-28T14:28:22.830Z",
          "iopub.status.idle": "2020-08-28T14:28:24.227Z",
          "shell.execute_reply": "2020-08-28T14:28:23.747Z"
        },
        "inputHidden": false,
        "outputHidden": false,
        "trusted": true
      },
      "outputs": [
        {
          "data": {
            "text/html": "\r\n<div>\r\n  <style type='text/css' scoped>\r\n.collapsible {\r\n  background-color: #fff;\r\n  color: #0078D4;\r\n  cursor: pointer;\r\n  padding: 10px;\r\n  border: none;\r\n  text-align: left;\r\n  outline: none;\r\n  font-size: 15px;\r\n  border-radius: 5px;\r\n  margin: 5px\r\n}\r\n\r\n.active, .collapsible:hover {\r\n  color: #4db2ff;\r\n}\r\n\r\n.content {\r\n  margin: 2px;\r\n  padding: 0 18px;\r\n  overflow: hidden;\r\n  background-color: #fff;\r\n  height: 0px;\r\n  -moz-transition: height .2s ease-out;\r\n  -ms-transition: height .2s ease-out;\r\n  -o-transition: height .2s ease-out;\r\n  -webkit-transition: height .2s ease-out;\r\n  transition: height .2s ease-out;\r\n}\r\n</style>\r\n\r\n<button type='button' class='collapsible'>▶ View Query Metrics</button>\r\n  \r\n<div class='content'>\r\n  <div class='measuringWrapper'>\r\n    <span style=\"color:#0078D4\"><b>totalExecutionTimeInMs    </b>:    0.62<br/><b>queryCompileTimeInMs    </b>:    0.12<br/><b>queryLogicalPlanBuildTimeInMs    </b>:    0.04<br/><b>queryPhysicalPlanBuildTimeInMs    </b>:    0.07<br/><b>queryOptimizationTimeInMs    </b>:    0<br/><b>VMExecutionTimeInMs    </b>:    0.19<br/><b>indexLookupTimeInMs    </b>:    0.1<br/><b>documentLoadTimeInMs    </b>:    0.04<br/><b>systemFunctionExecuteTimeInMs    </b>:    0<br/><b>userFunctionExecuteTimeInMs    </b>:    0<br/><b>retrievedDocumentCount    </b>:    3<br/><b>retrievedDocumentSize    </b>:    2058<br/><b>outputDocumentCount    </b>:    5<br/><b>outputDocumentSize    </b>:    581<br/><b>writeOutputTimeInMs    </b>:    0.01<br/><b>averageIndexUtilizationRation    </b>:    1<br/></span>\r\n  </div>\r\n</div>\r\n\r\n<script>\r\nvar coll = document.getElementsByClassName('collapsible');\r\nvar i;\r\n\r\nfor (i = 0; i < coll.length; i++) {\r\n  \r\n  coll[i].addEventListener('click', function() {\r\n    this.classList.toggle('active');\r\n    var content = this.nextElementSibling;\r\n    \r\n    if (content.clientHeight != 0) {\r\n      this.textContent = '▶ View Query Metrics';\r\n      content.style.height = '0px';\r\n    }\r\n    else {\r\n      this.textContent = '▼ Hide Query Metrics';\r\n      content.style.height = content.children[0].clientHeight + 'px';\r\n    }\r\n  });\r\n}\r\n</script>\r\n</div>"
          },
          "metadata": {},
          "output_type": "display_data"
        },
        {
          "data": {
            "text/html": "<div>\n<style scoped>\n    .dataframe tbody tr th:only-of-type {\n        vertical-align: middle;\n    }\n\n    .dataframe tbody tr th {\n        vertical-align: top;\n    }\n\n    .dataframe thead th {\n        text-align: right;\n    }\n</style>\n<table border=\"1\" class=\"dataframe\">\n  <thead>\n    <tr style=\"text-align: right;\">\n      <th></th>\n      <th>childName</th>\n      <th>grade</th>\n      <th>numberOfPets</th>\n      <th>pets</th>\n    </tr>\n  </thead>\n  <tbody>\n    <tr>\n      <th>0</th>\n      <td>Henriette Thaulow</td>\n      <td>5</td>\n      <td>1</td>\n      <td>[{'givenName': 'Fluffy', 'type': 'Rabbit'}]</td>\n    </tr>\n    <tr>\n      <th>1</th>\n      <td>Michelle</td>\n      <td>1</td>\n      <td>0</td>\n      <td>[]</td>\n    </tr>\n    <tr>\n      <th>2</th>\n      <td>John</td>\n      <td>7</td>\n      <td>1</td>\n      <td>[{'givenName': 'Tweetie', 'type': 'Bird'}]</td>\n    </tr>\n    <tr>\n      <th>3</th>\n      <td>Jesse</td>\n      <td>6</td>\n      <td>3</td>\n      <td>[{'givenName': 'Charlie Brown', 'type': 'Dog'}...</td>\n    </tr>\n    <tr>\n      <th>4</th>\n      <td>Lisa</td>\n      <td>3</td>\n      <td>1</td>\n      <td>[{'givenName': 'Jake', 'type': 'Snake'}]</td>\n    </tr>\n  </tbody>\n</table>\n</div>",
            "text/plain": "           childName  grade  numberOfPets  \\\n0  Henriette Thaulow      5             1   \n1           Michelle      1             0   \n2               John      7             1   \n3              Jesse      6             3   \n4               Lisa      3             1   \n\n                                                pets  \n0        [{'givenName': 'Fluffy', 'type': 'Rabbit'}]  \n1                                                 []  \n2         [{'givenName': 'Tweetie', 'type': 'Bird'}]  \n3  [{'givenName': 'Charlie Brown', 'type': 'Dog'}...  \n4           [{'givenName': 'Jake', 'type': 'Snake'}]  "
          },
          "metadata": {},
          "output_type": "display_data"
        }
      ],
      "source": "%%sql\nSELECT\n    ch.givenName ?? ch.firstName AS childName,\n    ch.grade,\n    ARRAY_LENGTH(ch.pets) ?? 0 AS numberOfPets,\n    ch.pets ?? [] AS pets\nFROM\n    ch IN c.children"
    },
    {
      "cell_type": "markdown",
      "metadata": {},
      "source": "## FROM with JOIN\n\nUse JOIN to perform an \"intra-document\" join between a parent object and child array.\n\nThis works similar to IN, but also keeps parent properties in scope similar to an INNER JOIN in regular SQL."
    },
    {
      "cell_type": "markdown",
      "metadata": {},
      "source": "**JOIN duplicates parent-level properties for each child**"
    },
    {
      "cell_type": "code",
      "execution_count": 12,
      "metadata": {
        "collapsed": false,
        "execution": {
          "iopub.execute_input": "2020-08-28T14:28:24.469Z",
          "iopub.status.busy": "2020-08-28T14:28:24.277Z",
          "iopub.status.idle": "2020-08-28T14:28:24.858Z",
          "shell.execute_reply": "2020-08-28T14:28:24.802Z"
        },
        "inputHidden": false,
        "outputHidden": false,
        "trusted": true
      },
      "outputs": [
        {
          "data": {
            "text/html": "\r\n<div>\r\n  <style type='text/css' scoped>\r\n.collapsible {\r\n  background-color: #fff;\r\n  color: #0078D4;\r\n  cursor: pointer;\r\n  padding: 10px;\r\n  border: none;\r\n  text-align: left;\r\n  outline: none;\r\n  font-size: 15px;\r\n  border-radius: 5px;\r\n  margin: 5px\r\n}\r\n\r\n.active, .collapsible:hover {\r\n  color: #4db2ff;\r\n}\r\n\r\n.content {\r\n  margin: 2px;\r\n  padding: 0 18px;\r\n  overflow: hidden;\r\n  background-color: #fff;\r\n  height: 0px;\r\n  -moz-transition: height .2s ease-out;\r\n  -ms-transition: height .2s ease-out;\r\n  -o-transition: height .2s ease-out;\r\n  -webkit-transition: height .2s ease-out;\r\n  transition: height .2s ease-out;\r\n}\r\n</style>\r\n\r\n<button type='button' class='collapsible'>▶ View Query Metrics</button>\r\n  \r\n<div class='content'>\r\n  <div class='measuringWrapper'>\r\n    <span style=\"color:#0078D4\"><b>totalExecutionTimeInMs    </b>:    0.73<br/><b>queryCompileTimeInMs    </b>:    0.15<br/><b>queryLogicalPlanBuildTimeInMs    </b>:    0.06<br/><b>queryPhysicalPlanBuildTimeInMs    </b>:    0.07<br/><b>queryOptimizationTimeInMs    </b>:    0<br/><b>VMExecutionTimeInMs    </b>:    0.22<br/><b>indexLookupTimeInMs    </b>:    0.12<br/><b>documentLoadTimeInMs    </b>:    0.04<br/><b>systemFunctionExecuteTimeInMs    </b>:    0<br/><b>userFunctionExecuteTimeInMs    </b>:    0<br/><b>retrievedDocumentCount    </b>:    3<br/><b>retrievedDocumentSize    </b>:    2058<br/><b>outputDocumentCount    </b>:    5<br/><b>outputDocumentSize    </b>:    787<br/><b>writeOutputTimeInMs    </b>:    0.01<br/><b>averageIndexUtilizationRation    </b>:    1<br/></span>\r\n  </div>\r\n</div>\r\n\r\n<script>\r\nvar coll = document.getElementsByClassName('collapsible');\r\nvar i;\r\n\r\nfor (i = 0; i < coll.length; i++) {\r\n  \r\n  coll[i].addEventListener('click', function() {\r\n    this.classList.toggle('active');\r\n    var content = this.nextElementSibling;\r\n    \r\n    if (content.clientHeight != 0) {\r\n      this.textContent = '▶ View Query Metrics';\r\n      content.style.height = '0px';\r\n    }\r\n    else {\r\n      this.textContent = '▼ Hide Query Metrics';\r\n      content.style.height = content.children[0].clientHeight + 'px';\r\n    }\r\n  });\r\n}\r\n</script>\r\n</div>"
          },
          "metadata": {},
          "output_type": "display_data"
        },
        {
          "data": {
            "text/html": "<div>\n<style scoped>\n    .dataframe tbody tr th:only-of-type {\n        vertical-align: middle;\n    }\n\n    .dataframe tbody tr th {\n        vertical-align: top;\n    }\n\n    .dataframe thead th {\n        text-align: right;\n    }\n</style>\n<table border=\"1\" class=\"dataframe\">\n  <thead>\n    <tr style=\"text-align: right;\">\n      <th></th>\n      <th>id</th>\n      <th>city</th>\n      <th>state</th>\n      <th>childName</th>\n      <th>numberOfPets</th>\n      <th>pets</th>\n    </tr>\n  </thead>\n  <tbody>\n    <tr>\n      <th>0</th>\n      <td>AndersenFamily</td>\n      <td>Seattle</td>\n      <td>WA</td>\n      <td>Henriette Thaulow</td>\n      <td>1</td>\n      <td>[{'givenName': 'Fluffy', 'type': 'Rabbit'}]</td>\n    </tr>\n    <tr>\n      <th>1</th>\n      <td>SmithFamily</td>\n      <td>Forest Hills</td>\n      <td>NY</td>\n      <td>Michelle</td>\n      <td>0</td>\n      <td>[]</td>\n    </tr>\n    <tr>\n      <th>2</th>\n      <td>SmithFamily</td>\n      <td>Forest Hills</td>\n      <td>NY</td>\n      <td>John</td>\n      <td>1</td>\n      <td>[{'givenName': 'Tweetie', 'type': 'Bird'}]</td>\n    </tr>\n    <tr>\n      <th>3</th>\n      <td>WakefieldFamily</td>\n      <td>NY</td>\n      <td>NY</td>\n      <td>Jesse</td>\n      <td>3</td>\n      <td>[{'givenName': 'Charlie Brown', 'type': 'Dog'}...</td>\n    </tr>\n    <tr>\n      <th>4</th>\n      <td>WakefieldFamily</td>\n      <td>NY</td>\n      <td>NY</td>\n      <td>Lisa</td>\n      <td>1</td>\n      <td>[{'givenName': 'Jake', 'type': 'Snake'}]</td>\n    </tr>\n  </tbody>\n</table>\n</div>",
            "text/plain": "                id          city state          childName  numberOfPets  \\\n0   AndersenFamily       Seattle    WA  Henriette Thaulow             1   \n1      SmithFamily  Forest Hills    NY           Michelle             0   \n2      SmithFamily  Forest Hills    NY               John             1   \n3  WakefieldFamily            NY    NY              Jesse             3   \n4  WakefieldFamily            NY    NY               Lisa             1   \n\n                                                pets  \n0        [{'givenName': 'Fluffy', 'type': 'Rabbit'}]  \n1                                                 []  \n2         [{'givenName': 'Tweetie', 'type': 'Bird'}]  \n3  [{'givenName': 'Charlie Brown', 'type': 'Dog'}...  \n4           [{'givenName': 'Jake', 'type': 'Snake'}]  "
          },
          "metadata": {},
          "output_type": "display_data"
        }
      ],
      "source": "%%sql\nSELECT\n    f.id,\n    f.location.city,\n    f.location.state,\n    ch.givenName ?? ch.firstName AS childName,\n    ARRAY_LENGTH(ch.pets) ?? 0 AS numberOfPets,\n    ch.pets ?? [] AS pets\nFROM\n    c AS f\n    JOIN ch IN f.children"
    },
    {
      "cell_type": "markdown",
      "metadata": {},
      "source": "**Double JOIN to break on children and pets**"
    },
    {
      "cell_type": "code",
      "execution_count": 13,
      "metadata": {
        "collapsed": false,
        "execution": {
          "iopub.execute_input": "2020-08-28T14:28:25.064Z",
          "iopub.status.busy": "2020-08-28T14:28:25.034Z",
          "iopub.status.idle": "2020-08-28T14:28:26.675Z",
          "shell.execute_reply": "2020-08-28T14:28:25.968Z"
        },
        "inputHidden": false,
        "outputHidden": false,
        "trusted": true
      },
      "outputs": [
        {
          "data": {
            "text/html": "\r\n<div>\r\n  <style type='text/css' scoped>\r\n.collapsible {\r\n  background-color: #fff;\r\n  color: #0078D4;\r\n  cursor: pointer;\r\n  padding: 10px;\r\n  border: none;\r\n  text-align: left;\r\n  outline: none;\r\n  font-size: 15px;\r\n  border-radius: 5px;\r\n  margin: 5px\r\n}\r\n\r\n.active, .collapsible:hover {\r\n  color: #4db2ff;\r\n}\r\n\r\n.content {\r\n  margin: 2px;\r\n  padding: 0 18px;\r\n  overflow: hidden;\r\n  background-color: #fff;\r\n  height: 0px;\r\n  -moz-transition: height .2s ease-out;\r\n  -ms-transition: height .2s ease-out;\r\n  -o-transition: height .2s ease-out;\r\n  -webkit-transition: height .2s ease-out;\r\n  transition: height .2s ease-out;\r\n}\r\n</style>\r\n\r\n<button type='button' class='collapsible'>▶ View Query Metrics</button>\r\n  \r\n<div class='content'>\r\n  <div class='measuringWrapper'>\r\n    <span style=\"color:#0078D4\"><b>totalExecutionTimeInMs    </b>:    0.8<br/><b>queryCompileTimeInMs    </b>:    0.14<br/><b>queryLogicalPlanBuildTimeInMs    </b>:    0.05<br/><b>queryPhysicalPlanBuildTimeInMs    </b>:    0.16<br/><b>queryOptimizationTimeInMs    </b>:    0.01<br/><b>VMExecutionTimeInMs    </b>:    0.2<br/><b>indexLookupTimeInMs    </b>:    0.11<br/><b>documentLoadTimeInMs    </b>:    0.04<br/><b>systemFunctionExecuteTimeInMs    </b>:    0<br/><b>userFunctionExecuteTimeInMs    </b>:    0<br/><b>retrievedDocumentCount    </b>:    3<br/><b>retrievedDocumentSize    </b>:    2058<br/><b>outputDocumentCount    </b>:    6<br/><b>outputDocumentSize    </b>:    528<br/><b>writeOutputTimeInMs    </b>:    0.01<br/><b>averageIndexUtilizationRation    </b>:    1<br/></span>\r\n  </div>\r\n</div>\r\n\r\n<script>\r\nvar coll = document.getElementsByClassName('collapsible');\r\nvar i;\r\n\r\nfor (i = 0; i < coll.length; i++) {\r\n  \r\n  coll[i].addEventListener('click', function() {\r\n    this.classList.toggle('active');\r\n    var content = this.nextElementSibling;\r\n    \r\n    if (content.clientHeight != 0) {\r\n      this.textContent = '▶ View Query Metrics';\r\n      content.style.height = '0px';\r\n    }\r\n    else {\r\n      this.textContent = '▼ Hide Query Metrics';\r\n      content.style.height = content.children[0].clientHeight + 'px';\r\n    }\r\n  });\r\n}\r\n</script>\r\n</div>"
          },
          "metadata": {},
          "output_type": "display_data"
        },
        {
          "data": {
            "text/html": "<div>\n<style scoped>\n    .dataframe tbody tr th:only-of-type {\n        vertical-align: middle;\n    }\n\n    .dataframe tbody tr th {\n        vertical-align: top;\n    }\n\n    .dataframe thead th {\n        text-align: right;\n    }\n</style>\n<table border=\"1\" class=\"dataframe\">\n  <thead>\n    <tr style=\"text-align: right;\">\n      <th></th>\n      <th>id</th>\n      <th>childName</th>\n      <th>petName</th>\n      <th>type</th>\n    </tr>\n  </thead>\n  <tbody>\n    <tr>\n      <th>0</th>\n      <td>AndersenFamily</td>\n      <td>Henriette Thaulow</td>\n      <td>Fluffy</td>\n      <td>Rabbit</td>\n    </tr>\n    <tr>\n      <th>1</th>\n      <td>SmithFamily</td>\n      <td>John</td>\n      <td>Tweetie</td>\n      <td>Bird</td>\n    </tr>\n    <tr>\n      <th>2</th>\n      <td>WakefieldFamily</td>\n      <td>Jesse</td>\n      <td>Charlie Brown</td>\n      <td>Dog</td>\n    </tr>\n    <tr>\n      <th>3</th>\n      <td>WakefieldFamily</td>\n      <td>Jesse</td>\n      <td>Tiger</td>\n      <td>Cat</td>\n    </tr>\n    <tr>\n      <th>4</th>\n      <td>WakefieldFamily</td>\n      <td>Jesse</td>\n      <td>Princess</td>\n      <td>Cat</td>\n    </tr>\n    <tr>\n      <th>5</th>\n      <td>WakefieldFamily</td>\n      <td>Lisa</td>\n      <td>Jake</td>\n      <td>Snake</td>\n    </tr>\n  </tbody>\n</table>\n</div>",
            "text/plain": "                id          childName        petName    type\n0   AndersenFamily  Henriette Thaulow         Fluffy  Rabbit\n1      SmithFamily               John        Tweetie    Bird\n2  WakefieldFamily              Jesse  Charlie Brown     Dog\n3  WakefieldFamily              Jesse          Tiger     Cat\n4  WakefieldFamily              Jesse       Princess     Cat\n5  WakefieldFamily               Lisa           Jake   Snake"
          },
          "metadata": {},
          "output_type": "display_data"
        }
      ],
      "source": "%%sql\nSELECT\n    f.id,\n    ch.givenName ?? ch.firstName AS childName,\n    p.givenName AS petName,\n    p.type\nFROM\n    c AS f\n    JOIN ch IN f.children\n    JOIN p IN ch.pets\n"
    },
    {
      "cell_type": "markdown",
      "metadata": {},
      "source": "**Just need a list of pet names**"
    },
    {
      "cell_type": "code",
      "execution_count": 14,
      "metadata": {
        "collapsed": false,
        "execution": {
          "iopub.execute_input": "2020-08-28T14:28:26.907Z",
          "iopub.status.busy": "2020-08-28T14:28:26.877Z",
          "iopub.status.idle": "2020-08-28T14:28:26.971Z",
          "shell.execute_reply": "2020-08-28T14:28:27.192Z"
        },
        "inputHidden": false,
        "outputHidden": false,
        "trusted": true
      },
      "outputs": [
        {
          "data": {
            "text/html": "\r\n<div>\r\n  <style type='text/css' scoped>\r\n.collapsible {\r\n  background-color: #fff;\r\n  color: #0078D4;\r\n  cursor: pointer;\r\n  padding: 10px;\r\n  border: none;\r\n  text-align: left;\r\n  outline: none;\r\n  font-size: 15px;\r\n  border-radius: 5px;\r\n  margin: 5px\r\n}\r\n\r\n.active, .collapsible:hover {\r\n  color: #4db2ff;\r\n}\r\n\r\n.content {\r\n  margin: 2px;\r\n  padding: 0 18px;\r\n  overflow: hidden;\r\n  background-color: #fff;\r\n  height: 0px;\r\n  -moz-transition: height .2s ease-out;\r\n  -ms-transition: height .2s ease-out;\r\n  -o-transition: height .2s ease-out;\r\n  -webkit-transition: height .2s ease-out;\r\n  transition: height .2s ease-out;\r\n}\r\n</style>\r\n\r\n<button type='button' class='collapsible'>▶ View Query Metrics</button>\r\n  \r\n<div class='content'>\r\n  <div class='measuringWrapper'>\r\n    <span style=\"color:#0078D4\"><b>totalExecutionTimeInMs    </b>:    0.59<br/><b>queryCompileTimeInMs    </b>:    0.1<br/><b>queryLogicalPlanBuildTimeInMs    </b>:    0.04<br/><b>queryPhysicalPlanBuildTimeInMs    </b>:    0.06<br/><b>queryOptimizationTimeInMs    </b>:    0.01<br/><b>VMExecutionTimeInMs    </b>:    0.19<br/><b>indexLookupTimeInMs    </b>:    0.09<br/><b>documentLoadTimeInMs    </b>:    0.05<br/><b>systemFunctionExecuteTimeInMs    </b>:    0<br/><b>userFunctionExecuteTimeInMs    </b>:    0<br/><b>retrievedDocumentCount    </b>:    3<br/><b>retrievedDocumentSize    </b>:    2058<br/><b>outputDocumentCount    </b>:    6<br/><b>outputDocumentSize    </b>:    193<br/><b>writeOutputTimeInMs    </b>:    0<br/><b>averageIndexUtilizationRation    </b>:    1<br/></span>\r\n  </div>\r\n</div>\r\n\r\n<script>\r\nvar coll = document.getElementsByClassName('collapsible');\r\nvar i;\r\n\r\nfor (i = 0; i < coll.length; i++) {\r\n  \r\n  coll[i].addEventListener('click', function() {\r\n    this.classList.toggle('active');\r\n    var content = this.nextElementSibling;\r\n    \r\n    if (content.clientHeight != 0) {\r\n      this.textContent = '▶ View Query Metrics';\r\n      content.style.height = '0px';\r\n    }\r\n    else {\r\n      this.textContent = '▼ Hide Query Metrics';\r\n      content.style.height = content.children[0].clientHeight + 'px';\r\n    }\r\n  });\r\n}\r\n</script>\r\n</div>"
          },
          "metadata": {},
          "output_type": "display_data"
        },
        {
          "data": {
            "text/html": "<div>\n<style scoped>\n    .dataframe tbody tr th:only-of-type {\n        vertical-align: middle;\n    }\n\n    .dataframe tbody tr th {\n        vertical-align: top;\n    }\n\n    .dataframe thead th {\n        text-align: right;\n    }\n</style>\n<table border=\"1\" class=\"dataframe\">\n  <thead>\n    <tr style=\"text-align: right;\">\n      <th></th>\n      <th>givenName</th>\n    </tr>\n  </thead>\n  <tbody>\n    <tr>\n      <th>0</th>\n      <td>Fluffy</td>\n    </tr>\n    <tr>\n      <th>1</th>\n      <td>Tweetie</td>\n    </tr>\n    <tr>\n      <th>2</th>\n      <td>Charlie Brown</td>\n    </tr>\n    <tr>\n      <th>3</th>\n      <td>Tiger</td>\n    </tr>\n    <tr>\n      <th>4</th>\n      <td>Princess</td>\n    </tr>\n    <tr>\n      <th>5</th>\n      <td>Jake</td>\n    </tr>\n  </tbody>\n</table>\n</div>",
            "text/plain": "       givenName\n0         Fluffy\n1        Tweetie\n2  Charlie Brown\n3          Tiger\n4       Princess\n5           Jake"
          },
          "metadata": {},
          "output_type": "display_data"
        }
      ],
      "source": "%%sql\nSELECT p.givenName \nFROM c AS f\nJOIN ch IN f.children \nJOIN p IN ch.pets"
    },
    {
      "cell_type": "markdown",
      "metadata": {},
      "source": "**Get the list of pet names as JSON**"
    },
    {
      "cell_type": "code",
      "execution_count": 15,
      "metadata": {
        "collapsed": false,
        "execution": {
          "iopub.execute_input": "2020-08-28T14:28:27.761Z",
          "iopub.status.busy": "2020-08-28T14:28:27.279Z",
          "iopub.status.idle": "2020-08-28T14:28:28.456Z",
          "shell.execute_reply": "2020-08-28T14:28:28.417Z"
        },
        "inputHidden": false,
        "outputHidden": false,
        "trusted": true
      },
      "outputs": [
        {
          "name": "stdout",
          "output_type": "stream",
          "text": "6 document(s) selected (charge= 3 RUs)\n\n[\n    {\n        \"givenName\": \"Fluffy\"\n    },\n    {\n        \"givenName\": \"Tweetie\"\n    },\n    {\n        \"givenName\": \"Charlie Brown\"\n    },\n    {\n        \"givenName\": \"Tiger\"\n    },\n    {\n        \"givenName\": \"Princess\"\n    },\n    {\n        \"givenName\": \"Jake\"\n    }\n]\n"
        }
      ],
      "source": "query(families, \"\"\"\nSELECT p.givenName \nFROM c AS f\nJOIN ch IN f.children \nJOIN p IN ch.pets\n\"\"\")"
    },
    {
      "cell_type": "markdown",
      "metadata": {},
      "source": "**Use VALUE to get a string array and not an object array**"
    },
    {
      "cell_type": "code",
      "execution_count": 16,
      "metadata": {
        "collapsed": false,
        "execution": {
          "iopub.execute_input": "2020-08-28T14:28:28.665Z",
          "iopub.status.busy": "2020-08-28T14:28:28.507Z",
          "iopub.status.idle": "2020-08-28T14:28:29.352Z",
          "shell.execute_reply": "2020-08-28T14:28:29.384Z"
        },
        "inputHidden": false,
        "outputHidden": false,
        "trusted": true
      },
      "outputs": [
        {
          "name": "stdout",
          "output_type": "stream",
          "text": "6 document(s) selected (charge= 3 RUs)\n\n[\n    \"Fluffy\",\n    \"Tweetie\",\n    \"Charlie Brown\",\n    \"Tiger\",\n    \"Princess\",\n    \"Jake\"\n]\n"
        }
      ],
      "source": "query(families, \"\"\"\nSELECT VALUE p.givenName \nFROM c AS f\nJOIN ch IN f.children \nJOIN p IN ch.pets\n\"\"\")"
    },
    {
      "cell_type": "markdown",
      "metadata": {},
      "source": "## Projections"
    },
    {
      "cell_type": "markdown",
      "metadata": {},
      "source": "**Project all properties from all stores**"
    },
    {
      "cell_type": "code",
      "execution_count": 17,
      "metadata": {
        "collapsed": false,
        "execution": {
          "iopub.execute_input": "2020-08-28T14:28:29.550Z",
          "iopub.status.busy": "2020-08-28T14:28:29.420Z",
          "iopub.status.idle": "2020-08-28T14:28:34.666Z",
          "shell.execute_reply": "2020-08-28T14:28:34.706Z"
        },
        "inputHidden": false,
        "outputHidden": false,
        "trusted": true
      },
      "outputs": [
        {
          "name": "stdout",
          "output_type": "stream",
          "text": "701 document(s) selected (charge= 2.27 RUs)\n\n[\n    {\n        \"name\": \"Kickstand Sellers\",\n        \"address\": {\n            \"addressType\": \"Main Office\",\n            \"addressLine1\": \"6789 Warren Road\",\n            \"location\": {\n                \"city\": \"Westland\",\n                \"stateProvinceName\": \"Michigan\"\n            },\n            \"postalCode\": \"48185\",\n            \"countryRegionName\": \"United States\"\n        },\n        \"id\": \"1d149658-8af9-4d7a-bb50-41c5dc2475fa\",\n        \"_rid\": \"wKcMAO2XYhQBAAAAAAAAAA==\",\n        \"_self\": \"dbs/wKcMAA==/colls/wKcMAO2XYhQ=/docs/wKcMAO2XYhQBAAAAAAAAAA==/\",\n        \"_etag\": \"\\\"06007a3a-0000-0100-0000-5f49144c0000\\\"\",\n        \"_attachments\": \"attachments/\",\n        \"_ts\": 1598624845\n    },\n    {\n        \"name\": \"Online Bike Sellers\",\n        \"address\": {\n            \"addressType\": \"Main Office\",\n            \"addressLine1\": \"678 Eastman Ave.\",\n            \"location\": {\n                \"city\": \"Midland\",\n                \"stateProvinceName\": \"Michigan\"\n            },\n            \"postalCode\": \"48640\",\n            \"countryRegionName\": \"United States\"\n        },\n        \"id\": \"ee34d92e-a67c-4a78-8e46-f937c0b40c5c\",\n        \"_rid\": \"wKcMAO2XYhQCAAAAAAAAAA==\",\n        \"_self\": \"dbs/wKcMAA==/colls/wKcMAO2XYhQ=/docs/wKcMAO2XYhQCAAAAAAAAAA==/\",\n        \"_etag\": \"\\\"06007b3a-0000-0100-0000-5f49144c0000\\\"\",\n        \"_attachments\": \"attachments/\",\n        \"_ts\": 1598624845\n    },\n    {\n        \"name\": \"Neighborhood Store\",\n        \"address\": {\n            \"addressType\": \"Main Office\",\n            \"addressLine1\": \"6777 Kingsway\",\n            \"location\": {\n                \"city\": \"Burnaby\",\n                \"stateProvinceName\": \"British Columbia\"\n            },\n            \"postalCode\": \"V5H 3Z7\",\n            \"countryRegionName\": \"Canada\"\n        },\n        \"id\": \"9fe7ea6d-67b3-4fe0-81c1-4737e67bcb40\",\n        \"_rid\": \"wKcMAO2XYhQDAAAAAAAAAA==\",\n        \"_self\": \"dbs/wKcMAA==/colls/wKcMAO2XYhQ=/docs/wKcMAO2XYhQDAAAAAAAAAA==/\",\n        \"_etag\": \"\\\"06007c3a-0000-0100-0000-5f49144c0000\\\"\",\n        \"_attachments\": \"attachments/\",\n        \"_ts\": 1598624845\n    },\n    {\n        \"name\": \"Mountain Bike Center\",\n        \"address\": {\n            \"addressType\": \"Main Office\",\n            \"addressLine1\": \"6756 Mowry\",\n            \"location\": {\n                \"city\": \"Newark\",\n                \"stateProvinceName\": \"California\"\n            },\n            \"postalCode\": \"94560\",\n            \"countryRegionName\": \"United States\"\n        },\n        \"id\": \"94fa707e-15e1-46f9-8f6b-ebf0c4ca8f79\",\n        \"_rid\": \"wKcMAO2XYhQEAAAAAAAAAA==\",\n        \"_self\": \"dbs/wKcMAA==/colls/wKcMAO2XYhQ=/docs/wKcMAO2XYhQEAAAAAAAAAA==/\",\n        \"_etag\": \"\\\"06007d3a-0000-0100-0000-5f49144c0000\\\"\",\n        \"_attachments\": \"attachments/\",\n        \"_ts\": 1598624845\n    },\n    {\n        \"name\": \"Retail Sporting Goods\",\n        \"address\": {\n            \"addressType\": \"Main Office\",\n            \"addressLine1\": \"6753 Howard Hughes Parkway\",\n            \"location\": {\n                \"city\": \"Las Vegas\",\n                \"stateProvinceName\": \"Nevada\"\n            },\n            \"postalCode\": \"89106\",\n            \"countryRegionName\": \"United States\"\n        },\n        \"id\": \"9dc9c48c-669d-4130-8355-2ae88a5fe932\",\n        \"_rid\": \"wKcMAO2XYhQFAAAAAAAAAA==\",\n        \"_self\": \"dbs/wKcMAA==/colls/wKcMAO2XYhQ=/docs/wKcMAO2XYhQFAAAAAAAAAA==/\",\n        \"_etag\": \"\\\"06007e3a-0000-0100-0000-5f49144c0000\\\"\",\n        \"_attachments\": \"attachments/\",\n        \"_ts\": 1598624845\n    },\n    {\n        \"name\": \"Tire Company\",\n        \"address\": {\n            \"addressType\": \"Main Office\",\n            \"addressLine1\": \"675 East Ave.\",\n            \"location\": {\n                \"city\": \"Warwick\",\n                \"stateProvinceName\": \"Rhode Island\"\n            },\n            \"postalCode\": \"02889\",\n            \"countryRegionName\": \"United States\"\n        },\n        \"id\": \"bfb0db40-32df-4a57-ab32-eb977ae7ae60\",\n        \"_rid\": \"wKcMAO2XYhQGAAAAAAAAAA==\",\n        \"_self\": \"dbs/wKcMAA==/colls/wKcMAO2XYhQ=/docs/wKcMAO2XYhQGAAAAAAAAAA==/\",\n        \"_etag\": \"\\\"06007f3a-0000-0100-0000-5f49144c0000\\\"\",\n        \"_attachments\": \"attachments/\",\n        \"_ts\": 1598624845\n    },\n    {\n        \"name\": \"Future Bikes\",\n        \"address\": {\n            \"addressType\": \"Main Office\",\n            \"addressLine1\": \"67255 - 8th Street N.E., Suite 350\",\n            \"location\": {\n                \"city\": \"Calgary\",\n                \"stateProvinceName\": \"Alberta\"\n            },\n            \"postalCode\": \"T2P 2G8\",\n            \"countryRegionName\": \"Canada\"\n        },\n        \"id\": \"fd6fa8dc-daec-4531-847a-793259d37cd1\",\n        \"_rid\": \"wKcMAO2XYhQHAAAAAAAAAA==\",\n        \"_self\": \"dbs/wKcMAA==/colls/wKcMAO2XYhQ=/docs/wKcMAO2XYhQHAAAAAAAAAA==/\",\n        \"_etag\": \"\\\"0600803a-0000-0100-0000-5f49144c0000\\\"\",\n        \"_attachments\": \"attachments/\",\n        \"_ts\": 1598624845\n    },\n    {\n        \"name\": \"Price-Cutter Discount Bikes\",\n        \"address\": {\n            \"addressType\": \"Main Office\",\n            \"addressLine1\": \"6700 Boul Taschereau\",\n            \"location\": {\n                \"city\": \"Brossard\",\n                \"stateProvinceName\": \"Quebec\"\n            },\n            \"postalCode\": \"J4Z 1C5\",\n            \"countryRegionName\": \"Canada\"\n        },\n        \"id\": \"b458ef5e-ca22-440b-b5c8-1074cfc01bf8\",\n        \"_rid\": \"wKcMAO2XYhQIAAAAAAAAAA==\",\n        \"_self\": \"dbs/wKcMAA==/colls/wKcMAO2XYhQ=/docs/wKcMAO2XYhQIAAAAAAAAAA==/\",\n        \"_etag\": \"\\\"0600813a-0000-0100-0000-5f49144c0000\\\"\",\n        \"_attachments\": \"attachments/\",\n        \"_ts\": 1598624845\n    },\n    {\n        \"name\": \"Consumer Equipment\",\n        \"address\": {\n            \"addressType\": \"Main Office\",\n            \"addressLine1\": \"67 Vincent Square, Victoria\",\n            \"location\": {\n                \"city\": \"London\",\n                \"stateProvinceName\": \"England\"\n            },\n            \"postalCode\": \"SW1P 2NU\",\n            \"countryRegionName\": \"United Kingdom\"\n        },\n        \"id\": \"79edaa2c-9bc5-4532-8ef8-4c6c7dc99ef6\",\n        \"_rid\": \"wKcMAO2XYhQJAAAAAAAAAA==\",\n        \"_self\": \"dbs/wKcMAA==/colls/wKcMAO2XYhQ=/docs/wKcMAO2XYhQJAAAAAAAAAA==/\",\n        \"_etag\": \"\\\"0600823a-0000-0100-0000-5f49144c0000\\\"\",\n        \"_attachments\": \"attachments/\",\n        \"_ts\": 1598624845\n    },\n    {\n        \"name\": \"Moderately-Priced Bikes Store\",\n        \"address\": {\n            \"addressType\": \"Main Office\",\n            \"addressLine1\": \"67 Rainer Ave S\",\n            \"location\": {\n                \"city\": \"Renton\",\n                \"stateProvinceName\": \"Washington\"\n            },\n            \"postalCode\": \"98055\",\n            \"countryRegionName\": \"United States\"\n        },\n        \"id\": \"c05cfbf9-c7d9-4600-8484-260bb9b22647\",\n        \"_rid\": \"wKcMAO2XYhQKAAAAAAAAAA==\",\n        \"_self\": \"dbs/wKcMAA==/colls/wKcMAO2XYhQ=/docs/wKcMAO2XYhQKAAAAAAAAAA==/\",\n        \"_etag\": \"\\\"0600833a-0000-0100-0000-5f49144c0000\\\"\",\n        \"_attachments\": \"attachments/\",\n        \"_ts\": 1598624845\n    }\n]\n"
        }
      ],
      "source": "query(stores, \"\"\"\nSELECT * FROM c\n\"\"\")"
    },
    {
      "cell_type": "markdown",
      "metadata": {},
      "source": "**Project just the ID and store name properties**"
    },
    {
      "cell_type": "code",
      "execution_count": 18,
      "metadata": {
        "collapsed": false,
        "execution": {
          "iopub.execute_input": "2020-08-28T14:28:34.874Z",
          "iopub.status.busy": "2020-08-28T14:28:34.749Z",
          "iopub.status.idle": "2020-08-28T14:28:34.953Z",
          "shell.execute_reply": "2020-08-28T14:28:35.105Z"
        },
        "inputHidden": false,
        "outputHidden": false,
        "trusted": true
      },
      "outputs": [
        {
          "name": "stdout",
          "output_type": "stream",
          "text": "701 document(s) selected (charge= 2.27 RUs)\n\n[\n    {\n        \"id\": \"1d149658-8af9-4d7a-bb50-41c5dc2475fa\",\n        \"name\": \"Kickstand Sellers\"\n    },\n    {\n        \"id\": \"ee34d92e-a67c-4a78-8e46-f937c0b40c5c\",\n        \"name\": \"Online Bike Sellers\"\n    },\n    {\n        \"id\": \"9fe7ea6d-67b3-4fe0-81c1-4737e67bcb40\",\n        \"name\": \"Neighborhood Store\"\n    },\n    {\n        \"id\": \"94fa707e-15e1-46f9-8f6b-ebf0c4ca8f79\",\n        \"name\": \"Mountain Bike Center\"\n    },\n    {\n        \"id\": \"9dc9c48c-669d-4130-8355-2ae88a5fe932\",\n        \"name\": \"Retail Sporting Goods\"\n    },\n    {\n        \"id\": \"bfb0db40-32df-4a57-ab32-eb977ae7ae60\",\n        \"name\": \"Tire Company\"\n    },\n    {\n        \"id\": \"fd6fa8dc-daec-4531-847a-793259d37cd1\",\n        \"name\": \"Future Bikes\"\n    },\n    {\n        \"id\": \"b458ef5e-ca22-440b-b5c8-1074cfc01bf8\",\n        \"name\": \"Price-Cutter Discount Bikes\"\n    },\n    {\n        \"id\": \"79edaa2c-9bc5-4532-8ef8-4c6c7dc99ef6\",\n        \"name\": \"Consumer Equipment\"\n    },\n    {\n        \"id\": \"c05cfbf9-c7d9-4600-8484-260bb9b22647\",\n        \"name\": \"Moderately-Priced Bikes Store\"\n    }\n]\n"
        }
      ],
      "source": "query(stores, \"\"\"\nSELECT c.id, c.name\nFROM c\n\"\"\")"
    },
    {
      "cell_type": "markdown",
      "metadata": {},
      "source": "**Project just the store name property**"
    },
    {
      "cell_type": "code",
      "execution_count": 19,
      "metadata": {
        "collapsed": false,
        "execution": {
          "iopub.execute_input": "2020-08-28T14:28:35.168Z",
          "iopub.status.busy": "2020-08-28T14:28:35.148Z",
          "iopub.status.idle": "2020-08-28T14:28:35.349Z",
          "shell.execute_reply": "2020-08-28T14:28:35.382Z"
        },
        "inputHidden": false,
        "outputHidden": false,
        "trusted": true
      },
      "outputs": [
        {
          "name": "stdout",
          "output_type": "stream",
          "text": "701 document(s) selected (charge= 2.27 RUs)\n\n[\n    {\n        \"name\": \"Kickstand Sellers\"\n    },\n    {\n        \"name\": \"Online Bike Sellers\"\n    },\n    {\n        \"name\": \"Neighborhood Store\"\n    },\n    {\n        \"name\": \"Mountain Bike Center\"\n    },\n    {\n        \"name\": \"Retail Sporting Goods\"\n    },\n    {\n        \"name\": \"Tire Company\"\n    },\n    {\n        \"name\": \"Future Bikes\"\n    },\n    {\n        \"name\": \"Price-Cutter Discount Bikes\"\n    },\n    {\n        \"name\": \"Consumer Equipment\"\n    },\n    {\n        \"name\": \"Moderately-Priced Bikes Store\"\n    }\n]\n"
        }
      ],
      "source": "query(stores, \"\"\"\nSELECT c.name\nFROM c\n\"\"\")"
    },
    {
      "cell_type": "markdown",
      "metadata": {},
      "source": "**Project just the store name property as a string array using VALUE**"
    },
    {
      "cell_type": "code",
      "execution_count": 20,
      "metadata": {
        "collapsed": false,
        "execution": {
          "iopub.execute_input": "2020-08-28T14:28:35.548Z",
          "iopub.status.busy": "2020-08-28T14:28:35.419Z",
          "iopub.status.idle": "2020-08-28T14:28:35.624Z",
          "shell.execute_reply": "2020-08-28T14:28:35.757Z"
        },
        "inputHidden": false,
        "outputHidden": false,
        "trusted": true
      },
      "outputs": [
        {
          "name": "stdout",
          "output_type": "stream",
          "text": "701 document(s) selected (charge= 2.72 RUs)\n\n[\n    \"Kickstand Sellers\",\n    \"Online Bike Sellers\",\n    \"Neighborhood Store\",\n    \"Mountain Bike Center\",\n    \"Retail Sporting Goods\",\n    \"Tire Company\",\n    \"Future Bikes\",\n    \"Price-Cutter Discount Bikes\",\n    \"Consumer Equipment\",\n    \"Moderately-Priced Bikes Store\"\n]\n"
        }
      ],
      "source": "# Get all names as a string array using VALUE\nquery(stores, \"\"\"\nSELECT VALUE c.name\nFROM c\n\"\"\")"
    },
    {
      "cell_type": "markdown",
      "metadata": {},
      "source": "**Use string concatenation for single value**"
    },
    {
      "cell_type": "code",
      "execution_count": 21,
      "metadata": {
        "collapsed": false,
        "execution": {
          "iopub.execute_input": "2020-08-28T14:28:35.818Z",
          "iopub.status.busy": "2020-08-28T14:28:35.800Z",
          "iopub.status.idle": "2020-08-28T14:28:36.012Z",
          "shell.execute_reply": "2020-08-28T14:28:36.045Z"
        },
        "inputHidden": false,
        "outputHidden": false,
        "trusted": true
      },
      "outputs": [
        {
          "name": "stdout",
          "output_type": "stream",
          "text": "701 document(s) selected (charge= 2.73 RUs)\n\n[\n    \"Kickstand Sellers, United States\",\n    \"Online Bike Sellers, United States\",\n    \"Neighborhood Store, Canada\",\n    \"Mountain Bike Center, United States\",\n    \"Retail Sporting Goods, United States\",\n    \"Tire Company, United States\",\n    \"Future Bikes, Canada\",\n    \"Price-Cutter Discount Bikes, Canada\",\n    \"Consumer Equipment, United Kingdom\",\n    \"Moderately-Priced Bikes Store, United States\"\n]\n"
        }
      ],
      "source": "query(stores, \"\"\"\nSELECT VALUE c.name || ', ' || c.address.countryRegionName\nFROM c\n\"\"\")"
    },
    {
      "cell_type": "markdown",
      "metadata": {},
      "source": "**Project entirely different shape using inline JSON**"
    },
    {
      "cell_type": "code",
      "execution_count": 22,
      "metadata": {
        "collapsed": false,
        "execution": {
          "iopub.execute_input": "2020-08-28T14:28:36.208Z",
          "iopub.status.busy": "2020-08-28T14:28:36.082Z",
          "iopub.status.idle": "2020-08-28T14:28:36.282Z",
          "shell.execute_reply": "2020-08-28T14:28:36.414Z"
        },
        "inputHidden": false,
        "outputHidden": false,
        "trusted": true
      },
      "outputs": [
        {
          "name": "stdout",
          "output_type": "stream",
          "text": "701 document(s) selected (charge= 2.28 RUs)\n\n[\n    {\n        \"country\": \"United States\",\n        \"storeInfo\": {\n            \"storeName\": \"Kickstand Sellers\",\n            \"cityStateZip\": [\n                \"Westland\",\n                \"Michigan\"\n            ],\n            \"metadata\": {\n                \"internalId\": \"1d149658-8af9-4d7a-bb50-41c5dc2475fa\",\n                \"timestamp\": 1598624845\n            }\n        }\n    },\n    {\n        \"country\": \"United States\",\n        \"storeInfo\": {\n            \"storeName\": \"Online Bike Sellers\",\n            \"cityStateZip\": [\n                \"Midland\",\n                \"Michigan\"\n            ],\n            \"metadata\": {\n                \"internalId\": \"ee34d92e-a67c-4a78-8e46-f937c0b40c5c\",\n                \"timestamp\": 1598624845\n            }\n        }\n    },\n    {\n        \"country\": \"Canada\",\n        \"storeInfo\": {\n            \"storeName\": \"Neighborhood Store\",\n            \"cityStateZip\": [\n                \"Burnaby\",\n                \"British Columbia\"\n            ],\n            \"metadata\": {\n                \"internalId\": \"9fe7ea6d-67b3-4fe0-81c1-4737e67bcb40\",\n                \"timestamp\": 1598624845\n            }\n        }\n    },\n    {\n        \"country\": \"United States\",\n        \"storeInfo\": {\n            \"storeName\": \"Mountain Bike Center\",\n            \"cityStateZip\": [\n                \"Newark\",\n                \"California\"\n            ],\n            \"metadata\": {\n                \"internalId\": \"94fa707e-15e1-46f9-8f6b-ebf0c4ca8f79\",\n                \"timestamp\": 1598624845\n            }\n        }\n    },\n    {\n        \"country\": \"United States\",\n        \"storeInfo\": {\n            \"storeName\": \"Retail Sporting Goods\",\n            \"cityStateZip\": [\n                \"Las Vegas\",\n                \"Nevada\"\n            ],\n            \"metadata\": {\n                \"internalId\": \"9dc9c48c-669d-4130-8355-2ae88a5fe932\",\n                \"timestamp\": 1598624845\n            }\n        }\n    },\n    {\n        \"country\": \"United States\",\n        \"storeInfo\": {\n            \"storeName\": \"Tire Company\",\n            \"cityStateZip\": [\n                \"Warwick\",\n                \"Rhode Island\"\n            ],\n            \"metadata\": {\n                \"internalId\": \"bfb0db40-32df-4a57-ab32-eb977ae7ae60\",\n                \"timestamp\": 1598624845\n            }\n        }\n    },\n    {\n        \"country\": \"Canada\",\n        \"storeInfo\": {\n            \"storeName\": \"Future Bikes\",\n            \"cityStateZip\": [\n                \"Calgary\",\n                \"Alberta\"\n            ],\n            \"metadata\": {\n                \"internalId\": \"fd6fa8dc-daec-4531-847a-793259d37cd1\",\n                \"timestamp\": 1598624845\n            }\n        }\n    },\n    {\n        \"country\": \"Canada\",\n        \"storeInfo\": {\n            \"storeName\": \"Price-Cutter Discount Bikes\",\n            \"cityStateZip\": [\n                \"Brossard\",\n                \"Quebec\"\n            ],\n            \"metadata\": {\n                \"internalId\": \"b458ef5e-ca22-440b-b5c8-1074cfc01bf8\",\n                \"timestamp\": 1598624845\n            }\n        }\n    },\n    {\n        \"country\": \"United Kingdom\",\n        \"storeInfo\": {\n            \"storeName\": \"Consumer Equipment\",\n            \"cityStateZip\": [\n                \"London\",\n                \"England\"\n            ],\n            \"metadata\": {\n                \"internalId\": \"79edaa2c-9bc5-4532-8ef8-4c6c7dc99ef6\",\n                \"timestamp\": 1598624845\n            }\n        }\n    },\n    {\n        \"country\": \"United States\",\n        \"storeInfo\": {\n            \"storeName\": \"Moderately-Priced Bikes Store\",\n            \"cityStateZip\": [\n                \"Renton\",\n                \"Washington\"\n            ],\n            \"metadata\": {\n                \"internalId\": \"c05cfbf9-c7d9-4600-8484-260bb9b22647\",\n                \"timestamp\": 1598624845\n            }\n        }\n    }\n]\n"
        }
      ],
      "source": "query(stores, \"\"\"\nSELECT\n  c.address.countryRegionName AS country,\n  {\n    \"storeName\": c.name,\n    \"cityStateZip\": [\n        c.address.location.city,\n        c.address.location.stateProvinceName\n    ],\n    \"metadata\": {\n        \"internalId\": c.id,\n        \"timestamp\": c._ts\n    }\n  } AS storeInfo\nFROM c\n\"\"\")"
    },
    {
      "cell_type": "markdown",
      "metadata": {},
      "source": "## Range Queries"
    },
    {
      "cell_type": "markdown",
      "metadata": {
        "nteract": {
          "transient": {
            "deleting": false
          }
        }
      },
      "source": "Use **stores** container in **adventure-works** database for SQL magic queries"
    },
    {
      "cell_type": "code",
      "execution_count": 25,
      "metadata": {
        "collapsed": false,
        "execution": {
          "iopub.status.busy": "2020-08-28T14:28:15.311Z",
          "iopub.status.idle": "2020-08-28T14:28:15.365Z",
          "shell.execute_reply": "2020-08-28T14:28:15.500Z"
        },
        "jupyter": {
          "outputs_hidden": false,
          "source_hidden": false
        },
        "nteract": {
          "transient": {
            "deleting": false
          }
        },
        "trusted": true
      },
      "outputs": [],
      "source": "%database adventure-works"
    },
    {
      "cell_type": "code",
      "execution_count": 26,
      "metadata": {
        "collapsed": false,
        "execution": {
          "iopub.status.busy": "2020-08-28T14:28:15.555Z",
          "iopub.status.idle": "2020-08-28T14:28:15.609Z",
          "shell.execute_reply": "2020-08-28T14:28:15.788Z"
        },
        "jupyter": {
          "outputs_hidden": false,
          "source_hidden": false
        },
        "nteract": {
          "transient": {
            "deleting": false
          }
        },
        "trusted": true
      },
      "outputs": [],
      "source": "%container stores"
    },
    {
      "cell_type": "markdown",
      "metadata": {},
      "source": "**Get A-K**"
    },
    {
      "cell_type": "code",
      "execution_count": 23,
      "metadata": {
        "collapsed": false,
        "execution": {
          "iopub.execute_input": "2020-08-28T14:28:36.487Z",
          "iopub.status.busy": "2020-08-28T14:28:36.452Z",
          "iopub.status.idle": "2020-08-28T14:28:36.638Z",
          "shell.execute_reply": "2020-08-28T14:28:36.673Z"
        },
        "inputHidden": false,
        "outputHidden": false,
        "trusted": true
      },
      "outputs": [
        {
          "data": {
            "text/html": "\r\n<div>\r\n  <style type='text/css' scoped>\r\n.collapsible {\r\n  background-color: #fff;\r\n  color: #0078D4;\r\n  cursor: pointer;\r\n  padding: 10px;\r\n  border: none;\r\n  text-align: left;\r\n  outline: none;\r\n  font-size: 15px;\r\n  border-radius: 5px;\r\n  margin: 5px\r\n}\r\n\r\n.active, .collapsible:hover {\r\n  color: #4db2ff;\r\n}\r\n\r\n.content {\r\n  margin: 2px;\r\n  padding: 0 18px;\r\n  overflow: hidden;\r\n  background-color: #fff;\r\n  height: 0px;\r\n  -moz-transition: height .2s ease-out;\r\n  -ms-transition: height .2s ease-out;\r\n  -o-transition: height .2s ease-out;\r\n  -webkit-transition: height .2s ease-out;\r\n  transition: height .2s ease-out;\r\n}\r\n</style>\r\n\r\n<button type='button' class='collapsible'>▶ View Query Metrics</button>\r\n  \r\n<div class='content'>\r\n  <div class='measuringWrapper'>\r\n    <span style=\"color:#0078D4\"><b>totalExecutionTimeInMs    </b>:    3.52<br/><b>queryCompileTimeInMs    </b>:    0.11<br/><b>queryLogicalPlanBuildTimeInMs    </b>:    0.06<br/><b>queryPhysicalPlanBuildTimeInMs    </b>:    0.08<br/><b>queryOptimizationTimeInMs    </b>:    0.01<br/><b>VMExecutionTimeInMs    </b>:    3.08<br/><b>indexLookupTimeInMs    </b>:    0.39<br/><b>documentLoadTimeInMs    </b>:    1.61<br/><b>systemFunctionExecuteTimeInMs    </b>:    0<br/><b>userFunctionExecuteTimeInMs    </b>:    0<br/><b>retrievedDocumentCount    </b>:    303<br/><b>retrievedDocumentSize    </b>:    146416<br/><b>outputDocumentCount    </b>:    303<br/><b>outputDocumentSize    </b>:    20052<br/><b>writeOutputTimeInMs    </b>:    0.14<br/><b>averageIndexUtilizationRation    </b>:    1<br/></span>\r\n  </div>\r\n</div>\r\n\r\n<script>\r\nvar coll = document.getElementsByClassName('collapsible');\r\nvar i;\r\n\r\nfor (i = 0; i < coll.length; i++) {\r\n  \r\n  coll[i].addEventListener('click', function() {\r\n    this.classList.toggle('active');\r\n    var content = this.nextElementSibling;\r\n    \r\n    if (content.clientHeight != 0) {\r\n      this.textContent = '▶ View Query Metrics';\r\n      content.style.height = '0px';\r\n    }\r\n    else {\r\n      this.textContent = '▼ Hide Query Metrics';\r\n      content.style.height = content.children[0].clientHeight + 'px';\r\n    }\r\n  });\r\n}\r\n</script>\r\n</div>"
          },
          "metadata": {},
          "output_type": "display_data"
        },
        {
          "data": {
            "text/html": "<div>\n<style scoped>\n    .dataframe tbody tr th:only-of-type {\n        vertical-align: middle;\n    }\n\n    .dataframe tbody tr th {\n        vertical-align: top;\n    }\n\n    .dataframe thead th {\n        text-align: right;\n    }\n</style>\n<table border=\"1\" class=\"dataframe\">\n  <thead>\n    <tr style=\"text-align: right;\">\n      <th></th>\n      <th>name</th>\n      <th>countryRegionName</th>\n    </tr>\n  </thead>\n  <tbody>\n    <tr>\n      <th>0</th>\n      <td>Future Bikes</td>\n      <td>Canada</td>\n    </tr>\n    <tr>\n      <th>1</th>\n      <td>Consumer Equipment</td>\n      <td>United Kingdom</td>\n    </tr>\n    <tr>\n      <th>2</th>\n      <td>Family Cycle Store</td>\n      <td>Canada</td>\n    </tr>\n    <tr>\n      <th>3</th>\n      <td>Excellent Riding Supplies</td>\n      <td>United States</td>\n    </tr>\n    <tr>\n      <th>4</th>\n      <td>Fun Toys and Bikes</td>\n      <td>United States</td>\n    </tr>\n    <tr>\n      <th>...</th>\n      <td>...</td>\n      <td>...</td>\n    </tr>\n    <tr>\n      <th>298</th>\n      <td>Helmets and Cycles</td>\n      <td>Australia</td>\n    </tr>\n    <tr>\n      <th>299</th>\n      <td>Bold Bike Accessories</td>\n      <td>United States</td>\n    </tr>\n    <tr>\n      <th>300</th>\n      <td>Fourth Bike Store</td>\n      <td>United States</td>\n    </tr>\n    <tr>\n      <th>301</th>\n      <td>Finer Riding Supplies</td>\n      <td>Canada</td>\n    </tr>\n    <tr>\n      <th>302</th>\n      <td>Finer Sales and Service</td>\n      <td>Canada</td>\n    </tr>\n  </tbody>\n</table>\n<p>303 rows × 2 columns</p>\n</div>",
            "text/plain": "                          name countryRegionName\n0                 Future Bikes            Canada\n1           Consumer Equipment    United Kingdom\n2           Family Cycle Store            Canada\n3    Excellent Riding Supplies     United States\n4           Fun Toys and Bikes     United States\n..                         ...               ...\n298         Helmets and Cycles         Australia\n299      Bold Bike Accessories     United States\n300          Fourth Bike Store     United States\n301      Finer Riding Supplies            Canada\n302    Finer Sales and Service            Canada\n\n[303 rows x 2 columns]"
          },
          "metadata": {},
          "output_type": "display_data"
        }
      ],
      "source": "%%sql\nSELECT c.name, c.address.countryRegionName\nFROM c\nWHERE c.name >= 'A' AND c.name <= 'K'"
    },
    {
      "cell_type": "markdown",
      "metadata": {},
      "source": "**Same thing using BETWEEN**"
    },
    {
      "cell_type": "code",
      "execution_count": 24,
      "metadata": {
        "collapsed": false,
        "execution": {
          "iopub.execute_input": "2020-08-28T14:28:36.903Z",
          "iopub.status.busy": "2020-08-28T14:28:36.710Z",
          "iopub.status.idle": "2020-08-28T14:28:37.000Z",
          "shell.execute_reply": "2020-08-28T14:28:37.031Z"
        },
        "inputHidden": false,
        "outputHidden": false,
        "trusted": true
      },
      "outputs": [
        {
          "data": {
            "text/html": "\r\n<div>\r\n  <style type='text/css' scoped>\r\n.collapsible {\r\n  background-color: #fff;\r\n  color: #0078D4;\r\n  cursor: pointer;\r\n  padding: 10px;\r\n  border: none;\r\n  text-align: left;\r\n  outline: none;\r\n  font-size: 15px;\r\n  border-radius: 5px;\r\n  margin: 5px\r\n}\r\n\r\n.active, .collapsible:hover {\r\n  color: #4db2ff;\r\n}\r\n\r\n.content {\r\n  margin: 2px;\r\n  padding: 0 18px;\r\n  overflow: hidden;\r\n  background-color: #fff;\r\n  height: 0px;\r\n  -moz-transition: height .2s ease-out;\r\n  -ms-transition: height .2s ease-out;\r\n  -o-transition: height .2s ease-out;\r\n  -webkit-transition: height .2s ease-out;\r\n  transition: height .2s ease-out;\r\n}\r\n</style>\r\n\r\n<button type='button' class='collapsible'>▶ View Query Metrics</button>\r\n  \r\n<div class='content'>\r\n  <div class='measuringWrapper'>\r\n    <span style=\"color:#0078D4\"><b>totalExecutionTimeInMs    </b>:    2.8<br/><b>queryCompileTimeInMs    </b>:    0.12<br/><b>queryLogicalPlanBuildTimeInMs    </b>:    0.04<br/><b>queryPhysicalPlanBuildTimeInMs    </b>:    0.06<br/><b>queryOptimizationTimeInMs    </b>:    0.01<br/><b>VMExecutionTimeInMs    </b>:    2.39<br/><b>indexLookupTimeInMs    </b>:    0.09<br/><b>documentLoadTimeInMs    </b>:    1.33<br/><b>systemFunctionExecuteTimeInMs    </b>:    0<br/><b>userFunctionExecuteTimeInMs    </b>:    0<br/><b>retrievedDocumentCount    </b>:    303<br/><b>retrievedDocumentSize    </b>:    146416<br/><b>outputDocumentCount    </b>:    303<br/><b>outputDocumentSize    </b>:    20052<br/><b>writeOutputTimeInMs    </b>:    0.12<br/><b>averageIndexUtilizationRation    </b>:    1<br/></span>\r\n  </div>\r\n</div>\r\n\r\n<script>\r\nvar coll = document.getElementsByClassName('collapsible');\r\nvar i;\r\n\r\nfor (i = 0; i < coll.length; i++) {\r\n  \r\n  coll[i].addEventListener('click', function() {\r\n    this.classList.toggle('active');\r\n    var content = this.nextElementSibling;\r\n    \r\n    if (content.clientHeight != 0) {\r\n      this.textContent = '▶ View Query Metrics';\r\n      content.style.height = '0px';\r\n    }\r\n    else {\r\n      this.textContent = '▼ Hide Query Metrics';\r\n      content.style.height = content.children[0].clientHeight + 'px';\r\n    }\r\n  });\r\n}\r\n</script>\r\n</div>"
          },
          "metadata": {},
          "output_type": "display_data"
        },
        {
          "data": {
            "text/html": "<div>\n<style scoped>\n    .dataframe tbody tr th:only-of-type {\n        vertical-align: middle;\n    }\n\n    .dataframe tbody tr th {\n        vertical-align: top;\n    }\n\n    .dataframe thead th {\n        text-align: right;\n    }\n</style>\n<table border=\"1\" class=\"dataframe\">\n  <thead>\n    <tr style=\"text-align: right;\">\n      <th></th>\n      <th>name</th>\n      <th>countryRegionName</th>\n    </tr>\n  </thead>\n  <tbody>\n    <tr>\n      <th>0</th>\n      <td>Future Bikes</td>\n      <td>Canada</td>\n    </tr>\n    <tr>\n      <th>1</th>\n      <td>Consumer Equipment</td>\n      <td>United Kingdom</td>\n    </tr>\n    <tr>\n      <th>2</th>\n      <td>Family Cycle Store</td>\n      <td>Canada</td>\n    </tr>\n    <tr>\n      <th>3</th>\n      <td>Excellent Riding Supplies</td>\n      <td>United States</td>\n    </tr>\n    <tr>\n      <th>4</th>\n      <td>Fun Toys and Bikes</td>\n      <td>United States</td>\n    </tr>\n    <tr>\n      <th>...</th>\n      <td>...</td>\n      <td>...</td>\n    </tr>\n    <tr>\n      <th>298</th>\n      <td>Helmets and Cycles</td>\n      <td>Australia</td>\n    </tr>\n    <tr>\n      <th>299</th>\n      <td>Bold Bike Accessories</td>\n      <td>United States</td>\n    </tr>\n    <tr>\n      <th>300</th>\n      <td>Fourth Bike Store</td>\n      <td>United States</td>\n    </tr>\n    <tr>\n      <th>301</th>\n      <td>Finer Riding Supplies</td>\n      <td>Canada</td>\n    </tr>\n    <tr>\n      <th>302</th>\n      <td>Finer Sales and Service</td>\n      <td>Canada</td>\n    </tr>\n  </tbody>\n</table>\n<p>303 rows × 2 columns</p>\n</div>",
            "text/plain": "                          name countryRegionName\n0                 Future Bikes            Canada\n1           Consumer Equipment    United Kingdom\n2           Family Cycle Store            Canada\n3    Excellent Riding Supplies     United States\n4           Fun Toys and Bikes     United States\n..                         ...               ...\n298         Helmets and Cycles         Australia\n299      Bold Bike Accessories     United States\n300          Fourth Bike Store     United States\n301      Finer Riding Supplies            Canada\n302    Finer Sales and Service            Canada\n\n[303 rows x 2 columns]"
          },
          "metadata": {},
          "output_type": "display_data"
        }
      ],
      "source": "%%sql\nSELECT c.name, c.address.countryRegionName\nFROM c\nWHERE c.name BETWEEN 'A' AND 'K'"
    },
    {
      "cell_type": "markdown",
      "metadata": {},
      "source": "**Get L-Z**"
    },
    {
      "cell_type": "code",
      "execution_count": 25,
      "metadata": {
        "collapsed": false,
        "execution": {
          "iopub.execute_input": "2020-08-28T14:28:37.276Z",
          "iopub.status.busy": "2020-08-28T14:28:37.065Z",
          "iopub.status.idle": "2020-08-28T14:28:37.341Z",
          "shell.execute_reply": "2020-08-28T14:28:37.573Z"
        },
        "inputHidden": false,
        "outputHidden": false,
        "trusted": true
      },
      "outputs": [
        {
          "data": {
            "text/html": "\r\n<div>\r\n  <style type='text/css' scoped>\r\n.collapsible {\r\n  background-color: #fff;\r\n  color: #0078D4;\r\n  cursor: pointer;\r\n  padding: 10px;\r\n  border: none;\r\n  text-align: left;\r\n  outline: none;\r\n  font-size: 15px;\r\n  border-radius: 5px;\r\n  margin: 5px\r\n}\r\n\r\n.active, .collapsible:hover {\r\n  color: #4db2ff;\r\n}\r\n\r\n.content {\r\n  margin: 2px;\r\n  padding: 0 18px;\r\n  overflow: hidden;\r\n  background-color: #fff;\r\n  height: 0px;\r\n  -moz-transition: height .2s ease-out;\r\n  -ms-transition: height .2s ease-out;\r\n  -o-transition: height .2s ease-out;\r\n  -webkit-transition: height .2s ease-out;\r\n  transition: height .2s ease-out;\r\n}\r\n</style>\r\n\r\n<button type='button' class='collapsible'>▶ View Query Metrics</button>\r\n  \r\n<div class='content'>\r\n  <div class='measuringWrapper'>\r\n    <span style=\"color:#0078D4\"><b>totalExecutionTimeInMs    </b>:    11.41<br/><b>queryCompileTimeInMs    </b>:    7.02<br/><b>queryLogicalPlanBuildTimeInMs    </b>:    0.05<br/><b>queryPhysicalPlanBuildTimeInMs    </b>:    0.06<br/><b>queryOptimizationTimeInMs    </b>:    0.01<br/><b>VMExecutionTimeInMs    </b>:    4.07<br/><b>indexLookupTimeInMs    </b>:    0.57<br/><b>documentLoadTimeInMs    </b>:    2.12<br/><b>systemFunctionExecuteTimeInMs    </b>:    0<br/><b>userFunctionExecuteTimeInMs    </b>:    0<br/><b>retrievedDocumentCount    </b>:    394<br/><b>retrievedDocumentSize    </b>:    190029<br/><b>outputDocumentCount    </b>:    394<br/><b>outputDocumentSize    </b>:    26085<br/><b>writeOutputTimeInMs    </b>:    0.21<br/><b>averageIndexUtilizationRation    </b>:    1<br/></span>\r\n  </div>\r\n</div>\r\n\r\n<script>\r\nvar coll = document.getElementsByClassName('collapsible');\r\nvar i;\r\n\r\nfor (i = 0; i < coll.length; i++) {\r\n  \r\n  coll[i].addEventListener('click', function() {\r\n    this.classList.toggle('active');\r\n    var content = this.nextElementSibling;\r\n    \r\n    if (content.clientHeight != 0) {\r\n      this.textContent = '▶ View Query Metrics';\r\n      content.style.height = '0px';\r\n    }\r\n    else {\r\n      this.textContent = '▼ Hide Query Metrics';\r\n      content.style.height = content.children[0].clientHeight + 'px';\r\n    }\r\n  });\r\n}\r\n</script>\r\n</div>"
          },
          "metadata": {},
          "output_type": "display_data"
        },
        {
          "data": {
            "text/html": "<div>\n<style scoped>\n    .dataframe tbody tr th:only-of-type {\n        vertical-align: middle;\n    }\n\n    .dataframe tbody tr th {\n        vertical-align: top;\n    }\n\n    .dataframe thead th {\n        text-align: right;\n    }\n</style>\n<table border=\"1\" class=\"dataframe\">\n  <thead>\n    <tr style=\"text-align: right;\">\n      <th></th>\n      <th>name</th>\n      <th>countryRegionName</th>\n    </tr>\n  </thead>\n  <tbody>\n    <tr>\n      <th>0</th>\n      <td>Online Bike Sellers</td>\n      <td>United States</td>\n    </tr>\n    <tr>\n      <th>1</th>\n      <td>Neighborhood Store</td>\n      <td>Canada</td>\n    </tr>\n    <tr>\n      <th>2</th>\n      <td>Mountain Bike Center</td>\n      <td>United States</td>\n    </tr>\n    <tr>\n      <th>3</th>\n      <td>Retail Sporting Goods</td>\n      <td>United States</td>\n    </tr>\n    <tr>\n      <th>4</th>\n      <td>Tire Company</td>\n      <td>United States</td>\n    </tr>\n    <tr>\n      <th>...</th>\n      <td>...</td>\n      <td>...</td>\n    </tr>\n    <tr>\n      <th>389</th>\n      <td>Sparkling Paint and Finishes</td>\n      <td>United States</td>\n    </tr>\n    <tr>\n      <th>390</th>\n      <td>Modern Bike Store</td>\n      <td>United States</td>\n    </tr>\n    <tr>\n      <th>391</th>\n      <td>Thorough Parts and Repair Services</td>\n      <td>United States</td>\n    </tr>\n    <tr>\n      <th>392</th>\n      <td>Rambling Tours</td>\n      <td>Germany</td>\n    </tr>\n    <tr>\n      <th>393</th>\n      <td>Precision Gears Inc.</td>\n      <td>Germany</td>\n    </tr>\n  </tbody>\n</table>\n<p>394 rows × 2 columns</p>\n</div>",
            "text/plain": "                                   name countryRegionName\n0                   Online Bike Sellers     United States\n1                    Neighborhood Store            Canada\n2                  Mountain Bike Center     United States\n3                 Retail Sporting Goods     United States\n4                          Tire Company     United States\n..                                  ...               ...\n389        Sparkling Paint and Finishes     United States\n390                   Modern Bike Store     United States\n391  Thorough Parts and Repair Services     United States\n392                      Rambling Tours           Germany\n393                Precision Gears Inc.           Germany\n\n[394 rows x 2 columns]"
          },
          "metadata": {},
          "output_type": "display_data"
        }
      ],
      "source": "%%sql\nSELECT c.name, c.address.countryRegionName\nFROM c\nWHERE c.name BETWEEN 'L' AND 'Z'"
    },
    {
      "cell_type": "markdown",
      "metadata": {},
      "source": "## ORDER BY\n\nSort ascending and descending on any property.\n\nNote that sorting on multiple properties is supported, but requires that you first create a custom composite index against the desired properties."
    },
    {
      "cell_type": "markdown",
      "metadata": {},
      "source": "**Sort ascending**"
    },
    {
      "cell_type": "code",
      "execution_count": 26,
      "metadata": {
        "collapsed": false,
        "execution": {
          "iopub.execute_input": "2020-08-28T14:28:37.670Z",
          "iopub.status.busy": "2020-08-28T14:28:37.638Z",
          "iopub.status.idle": "2020-08-28T14:28:37.940Z",
          "shell.execute_reply": "2020-08-28T14:28:37.971Z"
        },
        "inputHidden": false,
        "outputHidden": false,
        "trusted": true
      },
      "outputs": [
        {
          "data": {
            "text/html": "\r\n<div>\r\n  <style type='text/css' scoped>\r\n.collapsible {\r\n  background-color: #fff;\r\n  color: #0078D4;\r\n  cursor: pointer;\r\n  padding: 10px;\r\n  border: none;\r\n  text-align: left;\r\n  outline: none;\r\n  font-size: 15px;\r\n  border-radius: 5px;\r\n  margin: 5px\r\n}\r\n\r\n.active, .collapsible:hover {\r\n  color: #4db2ff;\r\n}\r\n\r\n.content {\r\n  margin: 2px;\r\n  padding: 0 18px;\r\n  overflow: hidden;\r\n  background-color: #fff;\r\n  height: 0px;\r\n  -moz-transition: height .2s ease-out;\r\n  -ms-transition: height .2s ease-out;\r\n  -o-transition: height .2s ease-out;\r\n  -webkit-transition: height .2s ease-out;\r\n  transition: height .2s ease-out;\r\n}\r\n</style>\r\n\r\n<button type='button' class='collapsible'>▶ View Query Metrics</button>\r\n  \r\n<div class='content'>\r\n  <div class='measuringWrapper'>\r\n    <span style=\"color:#0078D4\"><b>totalExecutionTimeInMs    </b>:    8.82<br/><b>queryCompileTimeInMs    </b>:    0.18<br/><b>queryLogicalPlanBuildTimeInMs    </b>:    0.04<br/><b>queryPhysicalPlanBuildTimeInMs    </b>:    0.07<br/><b>queryOptimizationTimeInMs    </b>:    0<br/><b>VMExecutionTimeInMs    </b>:    8.19<br/><b>indexLookupTimeInMs    </b>:    0.46<br/><b>documentLoadTimeInMs    </b>:    3.46<br/><b>systemFunctionExecuteTimeInMs    </b>:    0<br/><b>userFunctionExecuteTimeInMs    </b>:    0<br/><b>retrievedDocumentCount    </b>:    701<br/><b>retrievedDocumentSize    </b>:    338390<br/><b>outputDocumentCount    </b>:    701<br/><b>outputDocumentSize    </b>:    124356<br/><b>writeOutputTimeInMs    </b>:    0.82<br/><b>averageIndexUtilizationRation    </b>:    1<br/></span>\r\n  </div>\r\n</div>\r\n\r\n<script>\r\nvar coll = document.getElementsByClassName('collapsible');\r\nvar i;\r\n\r\nfor (i = 0; i < coll.length; i++) {\r\n  \r\n  coll[i].addEventListener('click', function() {\r\n    this.classList.toggle('active');\r\n    var content = this.nextElementSibling;\r\n    \r\n    if (content.clientHeight != 0) {\r\n      this.textContent = '▶ View Query Metrics';\r\n      content.style.height = '0px';\r\n    }\r\n    else {\r\n      this.textContent = '▼ Hide Query Metrics';\r\n      content.style.height = content.children[0].clientHeight + 'px';\r\n    }\r\n  });\r\n}\r\n</script>\r\n</div>"
          },
          "metadata": {},
          "output_type": "display_data"
        },
        {
          "data": {
            "text/html": "<div>\n<style scoped>\n    .dataframe tbody tr th:only-of-type {\n        vertical-align: middle;\n    }\n\n    .dataframe tbody tr th {\n        vertical-align: top;\n    }\n\n    .dataframe thead th {\n        text-align: right;\n    }\n</style>\n<table border=\"1\" class=\"dataframe\">\n  <thead>\n    <tr style=\"text-align: right;\">\n      <th></th>\n      <th>name</th>\n      <th>stateProvinceName</th>\n      <th>city</th>\n    </tr>\n  </thead>\n  <tbody>\n    <tr>\n      <th>0</th>\n      <td>A Bicycle Association</td>\n      <td>New York</td>\n      <td>De Witt</td>\n    </tr>\n    <tr>\n      <th>1</th>\n      <td>A Bike Store</td>\n      <td>Washington</td>\n      <td>Seattle</td>\n    </tr>\n    <tr>\n      <th>2</th>\n      <td>A Cycle Shop</td>\n      <td>Oregon</td>\n      <td>Albany</td>\n    </tr>\n    <tr>\n      <th>3</th>\n      <td>A Great Bicycle Company</td>\n      <td>Missouri</td>\n      <td>Jefferson City</td>\n    </tr>\n    <tr>\n      <th>4</th>\n      <td>A Typical Bike Shop</td>\n      <td>Texas</td>\n      <td>Round Rock</td>\n    </tr>\n    <tr>\n      <th>...</th>\n      <td>...</td>\n      <td>...</td>\n      <td>...</td>\n    </tr>\n    <tr>\n      <th>696</th>\n      <td>World of Bikes</td>\n      <td>Missouri</td>\n      <td>Saint Louis</td>\n    </tr>\n    <tr>\n      <th>697</th>\n      <td>Worthwhile Activity Store</td>\n      <td>Florida</td>\n      <td>Miami</td>\n    </tr>\n    <tr>\n      <th>698</th>\n      <td>Year-Round Sports</td>\n      <td>Washington</td>\n      <td>Kent</td>\n    </tr>\n    <tr>\n      <th>699</th>\n      <td>Yellow Bicycle Company</td>\n      <td>Missouri</td>\n      <td>Saint Louis</td>\n    </tr>\n    <tr>\n      <th>700</th>\n      <td>eCommerce Bikes</td>\n      <td>Mississippi</td>\n      <td>Gulfport</td>\n    </tr>\n  </tbody>\n</table>\n<p>701 rows × 3 columns</p>\n</div>",
            "text/plain": "                          name stateProvinceName            city\n0        A Bicycle Association          New York         De Witt\n1                 A Bike Store        Washington         Seattle\n2                 A Cycle Shop            Oregon          Albany\n3      A Great Bicycle Company          Missouri  Jefferson City\n4          A Typical Bike Shop             Texas      Round Rock\n..                         ...               ...             ...\n696             World of Bikes          Missouri     Saint Louis\n697  Worthwhile Activity Store           Florida           Miami\n698          Year-Round Sports        Washington            Kent\n699     Yellow Bicycle Company          Missouri     Saint Louis\n700            eCommerce Bikes       Mississippi        Gulfport\n\n[701 rows x 3 columns]"
          },
          "metadata": {},
          "output_type": "display_data"
        }
      ],
      "source": "%%sql\nSELECT\n    c.name,\n    c.address.location.stateProvinceName,\n    c.address.location.city\nFROM c\nORDER BY c.name"
    },
    {
      "cell_type": "markdown",
      "metadata": {},
      "source": "**Sort descending**"
    },
    {
      "cell_type": "code",
      "execution_count": 27,
      "metadata": {
        "collapsed": false,
        "execution": {
          "iopub.execute_input": "2020-08-28T14:28:38.292Z",
          "iopub.status.busy": "2020-08-28T14:28:38.008Z",
          "iopub.status.idle": "2020-08-28T14:28:38.443Z",
          "shell.execute_reply": "2020-08-28T14:28:38.557Z"
        },
        "inputHidden": false,
        "outputHidden": false,
        "trusted": true
      },
      "outputs": [
        {
          "data": {
            "text/html": "\r\n<div>\r\n  <style type='text/css' scoped>\r\n.collapsible {\r\n  background-color: #fff;\r\n  color: #0078D4;\r\n  cursor: pointer;\r\n  padding: 10px;\r\n  border: none;\r\n  text-align: left;\r\n  outline: none;\r\n  font-size: 15px;\r\n  border-radius: 5px;\r\n  margin: 5px\r\n}\r\n\r\n.active, .collapsible:hover {\r\n  color: #4db2ff;\r\n}\r\n\r\n.content {\r\n  margin: 2px;\r\n  padding: 0 18px;\r\n  overflow: hidden;\r\n  background-color: #fff;\r\n  height: 0px;\r\n  -moz-transition: height .2s ease-out;\r\n  -ms-transition: height .2s ease-out;\r\n  -o-transition: height .2s ease-out;\r\n  -webkit-transition: height .2s ease-out;\r\n  transition: height .2s ease-out;\r\n}\r\n</style>\r\n\r\n<button type='button' class='collapsible'>▶ View Query Metrics</button>\r\n  \r\n<div class='content'>\r\n  <div class='measuringWrapper'>\r\n    <span style=\"color:#0078D4\"><b>totalExecutionTimeInMs    </b>:    8.33<br/><b>queryCompileTimeInMs    </b>:    0.14<br/><b>queryLogicalPlanBuildTimeInMs    </b>:    0.03<br/><b>queryPhysicalPlanBuildTimeInMs    </b>:    0.04<br/><b>queryOptimizationTimeInMs    </b>:    0<br/><b>VMExecutionTimeInMs    </b>:    7.89<br/><b>indexLookupTimeInMs    </b>:    0.21<br/><b>documentLoadTimeInMs    </b>:    3.52<br/><b>systemFunctionExecuteTimeInMs    </b>:    0<br/><b>userFunctionExecuteTimeInMs    </b>:    0<br/><b>retrievedDocumentCount    </b>:    701<br/><b>retrievedDocumentSize    </b>:    338390<br/><b>outputDocumentCount    </b>:    701<br/><b>outputDocumentSize    </b>:    124356<br/><b>writeOutputTimeInMs    </b>:    0.7<br/><b>averageIndexUtilizationRation    </b>:    1<br/></span>\r\n  </div>\r\n</div>\r\n\r\n<script>\r\nvar coll = document.getElementsByClassName('collapsible');\r\nvar i;\r\n\r\nfor (i = 0; i < coll.length; i++) {\r\n  \r\n  coll[i].addEventListener('click', function() {\r\n    this.classList.toggle('active');\r\n    var content = this.nextElementSibling;\r\n    \r\n    if (content.clientHeight != 0) {\r\n      this.textContent = '▶ View Query Metrics';\r\n      content.style.height = '0px';\r\n    }\r\n    else {\r\n      this.textContent = '▼ Hide Query Metrics';\r\n      content.style.height = content.children[0].clientHeight + 'px';\r\n    }\r\n  });\r\n}\r\n</script>\r\n</div>"
          },
          "metadata": {},
          "output_type": "display_data"
        },
        {
          "data": {
            "text/html": "<div>\n<style scoped>\n    .dataframe tbody tr th:only-of-type {\n        vertical-align: middle;\n    }\n\n    .dataframe tbody tr th {\n        vertical-align: top;\n    }\n\n    .dataframe thead th {\n        text-align: right;\n    }\n</style>\n<table border=\"1\" class=\"dataframe\">\n  <thead>\n    <tr style=\"text-align: right;\">\n      <th></th>\n      <th>name</th>\n      <th>stateProvinceName</th>\n      <th>city</th>\n    </tr>\n  </thead>\n  <tbody>\n    <tr>\n      <th>0</th>\n      <td>eCommerce Bikes</td>\n      <td>Mississippi</td>\n      <td>Gulfport</td>\n    </tr>\n    <tr>\n      <th>1</th>\n      <td>Yellow Bicycle Company</td>\n      <td>Missouri</td>\n      <td>Saint Louis</td>\n    </tr>\n    <tr>\n      <th>2</th>\n      <td>Year-Round Sports</td>\n      <td>Washington</td>\n      <td>Kent</td>\n    </tr>\n    <tr>\n      <th>3</th>\n      <td>Worthwhile Activity Store</td>\n      <td>Florida</td>\n      <td>Miami</td>\n    </tr>\n    <tr>\n      <th>4</th>\n      <td>World of Bikes</td>\n      <td>Missouri</td>\n      <td>Saint Louis</td>\n    </tr>\n    <tr>\n      <th>...</th>\n      <td>...</td>\n      <td>...</td>\n      <td>...</td>\n    </tr>\n    <tr>\n      <th>696</th>\n      <td>A Typical Bike Shop</td>\n      <td>Texas</td>\n      <td>Round Rock</td>\n    </tr>\n    <tr>\n      <th>697</th>\n      <td>A Great Bicycle Company</td>\n      <td>Missouri</td>\n      <td>Jefferson City</td>\n    </tr>\n    <tr>\n      <th>698</th>\n      <td>A Cycle Shop</td>\n      <td>Oregon</td>\n      <td>Albany</td>\n    </tr>\n    <tr>\n      <th>699</th>\n      <td>A Bike Store</td>\n      <td>Washington</td>\n      <td>Seattle</td>\n    </tr>\n    <tr>\n      <th>700</th>\n      <td>A Bicycle Association</td>\n      <td>New York</td>\n      <td>De Witt</td>\n    </tr>\n  </tbody>\n</table>\n<p>701 rows × 3 columns</p>\n</div>",
            "text/plain": "                          name stateProvinceName            city\n0              eCommerce Bikes       Mississippi        Gulfport\n1       Yellow Bicycle Company          Missouri     Saint Louis\n2            Year-Round Sports        Washington            Kent\n3    Worthwhile Activity Store           Florida           Miami\n4               World of Bikes          Missouri     Saint Louis\n..                         ...               ...             ...\n696        A Typical Bike Shop             Texas      Round Rock\n697    A Great Bicycle Company          Missouri  Jefferson City\n698               A Cycle Shop            Oregon          Albany\n699               A Bike Store        Washington         Seattle\n700      A Bicycle Association          New York         De Witt\n\n[701 rows x 3 columns]"
          },
          "metadata": {},
          "output_type": "display_data"
        }
      ],
      "source": "%%sql\nSELECT\n    c.name,\n    c.address.location.stateProvinceName,\n    c.address.location.city\nFROM c\nORDER BY c.name DESC"
    },
    {
      "cell_type": "markdown",
      "metadata": {},
      "source": "## TOP and OFFSET...LIMIT\n\nGet the first page (TOP) or any page (OFFSET...LIMIT) of a sorted resultset."
    },
    {
      "cell_type": "markdown",
      "metadata": {},
      "source": "**Limit results with TOP**"
    },
    {
      "cell_type": "code",
      "execution_count": 28,
      "metadata": {
        "collapsed": false,
        "execution": {
          "iopub.execute_input": "2020-08-28T14:28:38.768Z",
          "iopub.status.busy": "2020-08-28T14:28:38.598Z",
          "iopub.status.idle": "2020-08-28T14:28:38.868Z",
          "shell.execute_reply": "2020-08-28T14:28:39.059Z"
        },
        "inputHidden": false,
        "outputHidden": false,
        "trusted": true
      },
      "outputs": [
        {
          "data": {
            "text/html": "\r\n<div>\r\n  <style type='text/css' scoped>\r\n.collapsible {\r\n  background-color: #fff;\r\n  color: #0078D4;\r\n  cursor: pointer;\r\n  padding: 10px;\r\n  border: none;\r\n  text-align: left;\r\n  outline: none;\r\n  font-size: 15px;\r\n  border-radius: 5px;\r\n  margin: 5px\r\n}\r\n\r\n.active, .collapsible:hover {\r\n  color: #4db2ff;\r\n}\r\n\r\n.content {\r\n  margin: 2px;\r\n  padding: 0 18px;\r\n  overflow: hidden;\r\n  background-color: #fff;\r\n  height: 0px;\r\n  -moz-transition: height .2s ease-out;\r\n  -ms-transition: height .2s ease-out;\r\n  -o-transition: height .2s ease-out;\r\n  -webkit-transition: height .2s ease-out;\r\n  transition: height .2s ease-out;\r\n}\r\n</style>\r\n\r\n<button type='button' class='collapsible'>▶ View Query Metrics</button>\r\n  \r\n<div class='content'>\r\n  <div class='measuringWrapper'>\r\n    <span style=\"color:#0078D4\"><b>totalExecutionTimeInMs    </b>:    3.91<br/><b>queryCompileTimeInMs    </b>:    0.16<br/><b>queryLogicalPlanBuildTimeInMs    </b>:    0.05<br/><b>queryPhysicalPlanBuildTimeInMs    </b>:    0.09<br/><b>queryOptimizationTimeInMs    </b>:    0.01<br/><b>VMExecutionTimeInMs    </b>:    3.38<br/><b>indexLookupTimeInMs    </b>:    0.25<br/><b>documentLoadTimeInMs    </b>:    2.58<br/><b>systemFunctionExecuteTimeInMs    </b>:    0<br/><b>userFunctionExecuteTimeInMs    </b>:    0<br/><b>retrievedDocumentCount    </b>:    427<br/><b>retrievedDocumentSize    </b>:    206567<br/><b>outputDocumentCount    </b>:    10<br/><b>outputDocumentSize    </b>:    1458<br/><b>writeOutputTimeInMs    </b>:    0.01<br/><b>averageIndexUtilizationRation    </b>:    1<br/></span>\r\n  </div>\r\n</div>\r\n\r\n<script>\r\nvar coll = document.getElementsByClassName('collapsible');\r\nvar i;\r\n\r\nfor (i = 0; i < coll.length; i++) {\r\n  \r\n  coll[i].addEventListener('click', function() {\r\n    this.classList.toggle('active');\r\n    var content = this.nextElementSibling;\r\n    \r\n    if (content.clientHeight != 0) {\r\n      this.textContent = '▶ View Query Metrics';\r\n      content.style.height = '0px';\r\n    }\r\n    else {\r\n      this.textContent = '▼ Hide Query Metrics';\r\n      content.style.height = content.children[0].clientHeight + 'px';\r\n    }\r\n  });\r\n}\r\n</script>\r\n</div>"
          },
          "metadata": {},
          "output_type": "display_data"
        },
        {
          "data": {
            "text/html": "<div>\n<style scoped>\n    .dataframe tbody tr th:only-of-type {\n        vertical-align: middle;\n    }\n\n    .dataframe tbody tr th {\n        vertical-align: top;\n    }\n\n    .dataframe thead th {\n        text-align: right;\n    }\n</style>\n<table border=\"1\" class=\"dataframe\">\n  <thead>\n    <tr style=\"text-align: right;\">\n      <th></th>\n      <th>name</th>\n      <th>city</th>\n    </tr>\n  </thead>\n  <tbody>\n    <tr>\n      <th>0</th>\n      <td>A Bicycle Association</td>\n      <td>De Witt</td>\n    </tr>\n    <tr>\n      <th>1</th>\n      <td>A Bike Store</td>\n      <td>Seattle</td>\n    </tr>\n    <tr>\n      <th>2</th>\n      <td>A Cycle Shop</td>\n      <td>Albany</td>\n    </tr>\n    <tr>\n      <th>3</th>\n      <td>A Great Bicycle Company</td>\n      <td>Jefferson City</td>\n    </tr>\n    <tr>\n      <th>4</th>\n      <td>A Typical Bike Shop</td>\n      <td>Round Rock</td>\n    </tr>\n    <tr>\n      <th>5</th>\n      <td>Acclaimed Bicycle Company</td>\n      <td>Mcdonough</td>\n    </tr>\n    <tr>\n      <th>6</th>\n      <td>Active Cycling</td>\n      <td>Heath</td>\n    </tr>\n    <tr>\n      <th>7</th>\n      <td>Active Systems</td>\n      <td>Duluth</td>\n    </tr>\n    <tr>\n      <th>8</th>\n      <td>Active Transport Inc.</td>\n      <td>North Randall</td>\n    </tr>\n    <tr>\n      <th>9</th>\n      <td>Activity Center</td>\n      <td>Crossville</td>\n    </tr>\n  </tbody>\n</table>\n</div>",
            "text/plain": "                        name            city\n0      A Bicycle Association         De Witt\n1               A Bike Store         Seattle\n2               A Cycle Shop          Albany\n3    A Great Bicycle Company  Jefferson City\n4        A Typical Bike Shop      Round Rock\n5  Acclaimed Bicycle Company       Mcdonough\n6             Active Cycling           Heath\n7             Active Systems          Duluth\n8      Active Transport Inc.   North Randall\n9            Activity Center      Crossville"
          },
          "metadata": {},
          "output_type": "display_data"
        }
      ],
      "source": "%%sql\nSELECT TOP 10 c.name, c.address.location.city\nFROM c\nWHERE c.address.countryRegionName = 'United States'\nORDER BY c.name"
    },
    {
      "cell_type": "markdown",
      "metadata": {},
      "source": "**Paged results with OFFSET...LIMIT**"
    },
    {
      "cell_type": "code",
      "execution_count": 29,
      "metadata": {
        "collapsed": false,
        "execution": {
          "iopub.execute_input": "2020-08-28T14:28:39.287Z",
          "iopub.status.busy": "2020-08-28T14:28:39.125Z",
          "iopub.status.idle": "2020-08-28T14:28:39.385Z",
          "shell.execute_reply": "2020-08-28T14:28:39.572Z"
        },
        "inputHidden": false,
        "outputHidden": false,
        "trusted": true
      },
      "outputs": [
        {
          "data": {
            "text/html": "\r\n<div>\r\n  <style type='text/css' scoped>\r\n.collapsible {\r\n  background-color: #fff;\r\n  color: #0078D4;\r\n  cursor: pointer;\r\n  padding: 10px;\r\n  border: none;\r\n  text-align: left;\r\n  outline: none;\r\n  font-size: 15px;\r\n  border-radius: 5px;\r\n  margin: 5px\r\n}\r\n\r\n.active, .collapsible:hover {\r\n  color: #4db2ff;\r\n}\r\n\r\n.content {\r\n  margin: 2px;\r\n  padding: 0 18px;\r\n  overflow: hidden;\r\n  background-color: #fff;\r\n  height: 0px;\r\n  -moz-transition: height .2s ease-out;\r\n  -ms-transition: height .2s ease-out;\r\n  -o-transition: height .2s ease-out;\r\n  -webkit-transition: height .2s ease-out;\r\n  transition: height .2s ease-out;\r\n}\r\n</style>\r\n\r\n<button type='button' class='collapsible'>▶ View Query Metrics</button>\r\n  \r\n<div class='content'>\r\n  <div class='measuringWrapper'>\r\n    <span style=\"color:#0078D4\"><b>totalExecutionTimeInMs    </b>:    4.18<br/><b>queryCompileTimeInMs    </b>:    0.17<br/><b>queryLogicalPlanBuildTimeInMs    </b>:    0.05<br/><b>queryPhysicalPlanBuildTimeInMs    </b>:    0.09<br/><b>queryOptimizationTimeInMs    </b>:    0.01<br/><b>VMExecutionTimeInMs    </b>:    3.62<br/><b>indexLookupTimeInMs    </b>:    0.23<br/><b>documentLoadTimeInMs    </b>:    2.72<br/><b>systemFunctionExecuteTimeInMs    </b>:    0<br/><b>userFunctionExecuteTimeInMs    </b>:    0<br/><b>retrievedDocumentCount    </b>:    427<br/><b>retrievedDocumentSize    </b>:    206567<br/><b>outputDocumentCount    </b>:    20<br/><b>outputDocumentSize    </b>:    2963<br/><b>writeOutputTimeInMs    </b>:    0.03<br/><b>averageIndexUtilizationRation    </b>:    1<br/></span>\r\n  </div>\r\n</div>\r\n\r\n<script>\r\nvar coll = document.getElementsByClassName('collapsible');\r\nvar i;\r\n\r\nfor (i = 0; i < coll.length; i++) {\r\n  \r\n  coll[i].addEventListener('click', function() {\r\n    this.classList.toggle('active');\r\n    var content = this.nextElementSibling;\r\n    \r\n    if (content.clientHeight != 0) {\r\n      this.textContent = '▶ View Query Metrics';\r\n      content.style.height = '0px';\r\n    }\r\n    else {\r\n      this.textContent = '▼ Hide Query Metrics';\r\n      content.style.height = content.children[0].clientHeight + 'px';\r\n    }\r\n  });\r\n}\r\n</script>\r\n</div>"
          },
          "metadata": {},
          "output_type": "display_data"
        },
        {
          "data": {
            "text/html": "<div>\n<style scoped>\n    .dataframe tbody tr th:only-of-type {\n        vertical-align: middle;\n    }\n\n    .dataframe tbody tr th {\n        vertical-align: top;\n    }\n\n    .dataframe thead th {\n        text-align: right;\n    }\n</style>\n<table border=\"1\" class=\"dataframe\">\n  <thead>\n    <tr style=\"text-align: right;\">\n      <th></th>\n      <th>name</th>\n      <th>city</th>\n    </tr>\n  </thead>\n  <tbody>\n    <tr>\n      <th>0</th>\n      <td>Advanced Bike Components</td>\n      <td>Irving</td>\n    </tr>\n    <tr>\n      <th>1</th>\n      <td>Aerobic Exercise Company</td>\n      <td>Camarillo</td>\n    </tr>\n    <tr>\n      <th>2</th>\n      <td>Affordable Sports Equipment</td>\n      <td>Lake Elsinore</td>\n    </tr>\n    <tr>\n      <th>3</th>\n      <td>All Cycle Shop</td>\n      <td>Bothell</td>\n    </tr>\n    <tr>\n      <th>4</th>\n      <td>All Seasons Sports Supply</td>\n      <td>Houston</td>\n    </tr>\n    <tr>\n      <th>5</th>\n      <td>Alpine Ski House</td>\n      <td>Elk Grove</td>\n    </tr>\n    <tr>\n      <th>6</th>\n      <td>Alternative Vehicles</td>\n      <td>Washougal</td>\n    </tr>\n    <tr>\n      <th>7</th>\n      <td>Another Bicycle Company</td>\n      <td>Milwaukie</td>\n    </tr>\n    <tr>\n      <th>8</th>\n      <td>Another Sporting Goods Company</td>\n      <td>Westminster</td>\n    </tr>\n    <tr>\n      <th>9</th>\n      <td>Area Bike Accessories</td>\n      <td>Modesto</td>\n    </tr>\n  </tbody>\n</table>\n</div>",
            "text/plain": "                             name           city\n0        Advanced Bike Components         Irving\n1        Aerobic Exercise Company      Camarillo\n2     Affordable Sports Equipment  Lake Elsinore\n3                  All Cycle Shop        Bothell\n4       All Seasons Sports Supply        Houston\n5                Alpine Ski House      Elk Grove\n6            Alternative Vehicles      Washougal\n7         Another Bicycle Company      Milwaukie\n8  Another Sporting Goods Company    Westminster\n9           Area Bike Accessories        Modesto"
          },
          "metadata": {},
          "output_type": "display_data"
        }
      ],
      "source": "%%sql\nSELECT c.name, c.address.location.city\nFROM c\nWHERE c.address.countryRegionName = 'United States'\nORDER BY c.name\nOFFSET 10 LIMIT 10"
    },
    {
      "cell_type": "markdown",
      "metadata": {},
      "source": "## Subset filtering"
    },
    {
      "cell_type": "markdown",
      "metadata": {},
      "source": "**Get all city and state names**"
    },
    {
      "cell_type": "code",
      "execution_count": 30,
      "metadata": {
        "collapsed": false,
        "execution": {
          "iopub.execute_input": "2020-08-28T14:28:39.721Z",
          "iopub.status.busy": "2020-08-28T14:28:39.686Z",
          "iopub.status.idle": "2020-08-28T14:28:39.996Z",
          "shell.execute_reply": "2020-08-28T14:28:40.130Z"
        },
        "inputHidden": false,
        "outputHidden": false,
        "trusted": true
      },
      "outputs": [
        {
          "data": {
            "text/html": "\r\n<div>\r\n  <style type='text/css' scoped>\r\n.collapsible {\r\n  background-color: #fff;\r\n  color: #0078D4;\r\n  cursor: pointer;\r\n  padding: 10px;\r\n  border: none;\r\n  text-align: left;\r\n  outline: none;\r\n  font-size: 15px;\r\n  border-radius: 5px;\r\n  margin: 5px\r\n}\r\n\r\n.active, .collapsible:hover {\r\n  color: #4db2ff;\r\n}\r\n\r\n.content {\r\n  margin: 2px;\r\n  padding: 0 18px;\r\n  overflow: hidden;\r\n  background-color: #fff;\r\n  height: 0px;\r\n  -moz-transition: height .2s ease-out;\r\n  -ms-transition: height .2s ease-out;\r\n  -o-transition: height .2s ease-out;\r\n  -webkit-transition: height .2s ease-out;\r\n  transition: height .2s ease-out;\r\n}\r\n</style>\r\n\r\n<button type='button' class='collapsible'>▶ View Query Metrics</button>\r\n  \r\n<div class='content'>\r\n  <div class='measuringWrapper'>\r\n    <span style=\"color:#0078D4\"><b>totalExecutionTimeInMs    </b>:    6.83<br/><b>queryCompileTimeInMs    </b>:    0.13<br/><b>queryLogicalPlanBuildTimeInMs    </b>:    0.03<br/><b>queryPhysicalPlanBuildTimeInMs    </b>:    0.03<br/><b>queryOptimizationTimeInMs    </b>:    0<br/><b>VMExecutionTimeInMs    </b>:    6.38<br/><b>indexLookupTimeInMs    </b>:    0<br/><b>documentLoadTimeInMs    </b>:    3.76<br/><b>systemFunctionExecuteTimeInMs    </b>:    0<br/><b>userFunctionExecuteTimeInMs    </b>:    0<br/><b>retrievedDocumentCount    </b>:    701<br/><b>retrievedDocumentSize    </b>:    338390<br/><b>outputDocumentCount    </b>:    701<br/><b>outputDocumentSize    </b>:    36557<br/><b>writeOutputTimeInMs    </b>:    0.47<br/><b>averageIndexUtilizationRation    </b>:    1<br/></span>\r\n  </div>\r\n</div>\r\n\r\n<script>\r\nvar coll = document.getElementsByClassName('collapsible');\r\nvar i;\r\n\r\nfor (i = 0; i < coll.length; i++) {\r\n  \r\n  coll[i].addEventListener('click', function() {\r\n    this.classList.toggle('active');\r\n    var content = this.nextElementSibling;\r\n    \r\n    if (content.clientHeight != 0) {\r\n      this.textContent = '▶ View Query Metrics';\r\n      content.style.height = '0px';\r\n    }\r\n    else {\r\n      this.textContent = '▼ Hide Query Metrics';\r\n      content.style.height = content.children[0].clientHeight + 'px';\r\n    }\r\n  });\r\n}\r\n</script>\r\n</div>"
          },
          "metadata": {},
          "output_type": "display_data"
        },
        {
          "data": {
            "text/html": "<div>\n<style scoped>\n    .dataframe tbody tr th:only-of-type {\n        vertical-align: middle;\n    }\n\n    .dataframe tbody tr th {\n        vertical-align: top;\n    }\n\n    .dataframe thead th {\n        text-align: right;\n    }\n</style>\n<table border=\"1\" class=\"dataframe\">\n  <thead>\n    <tr style=\"text-align: right;\">\n      <th></th>\n      <th>city</th>\n      <th>stateProvinceName</th>\n    </tr>\n  </thead>\n  <tbody>\n    <tr>\n      <th>0</th>\n      <td>Westland</td>\n      <td>Michigan</td>\n    </tr>\n    <tr>\n      <th>1</th>\n      <td>Midland</td>\n      <td>Michigan</td>\n    </tr>\n    <tr>\n      <th>2</th>\n      <td>Burnaby</td>\n      <td>British Columbia</td>\n    </tr>\n    <tr>\n      <th>3</th>\n      <td>Newark</td>\n      <td>California</td>\n    </tr>\n    <tr>\n      <th>4</th>\n      <td>Las Vegas</td>\n      <td>Nevada</td>\n    </tr>\n    <tr>\n      <th>...</th>\n      <td>...</td>\n      <td>...</td>\n    </tr>\n    <tr>\n      <th>696</th>\n      <td>Lavender Bay</td>\n      <td>New South Wales</td>\n    </tr>\n    <tr>\n      <th>697</th>\n      <td>Loveland</td>\n      <td>Colorado</td>\n    </tr>\n    <tr>\n      <th>698</th>\n      <td>Mentor</td>\n      <td>Ohio</td>\n    </tr>\n    <tr>\n      <th>699</th>\n      <td>Burnaby</td>\n      <td>British Columbia</td>\n    </tr>\n    <tr>\n      <th>700</th>\n      <td>Ottawa</td>\n      <td>Ontario</td>\n    </tr>\n  </tbody>\n</table>\n<p>701 rows × 2 columns</p>\n</div>",
            "text/plain": "             city stateProvinceName\n0        Westland          Michigan\n1         Midland          Michigan\n2         Burnaby  British Columbia\n3          Newark        California\n4       Las Vegas            Nevada\n..            ...               ...\n696  Lavender Bay   New South Wales\n697      Loveland          Colorado\n698        Mentor              Ohio\n699       Burnaby  British Columbia\n700        Ottawa           Ontario\n\n[701 rows x 2 columns]"
          },
          "metadata": {},
          "output_type": "display_data"
        }
      ],
      "source": "%%sql\nSELECT\n c.address.location.city,\n c.address.location.stateProvinceName\nFROM c"
    },
    {
      "cell_type": "markdown",
      "metadata": {},
      "source": "**Simpler by reducing subset**"
    },
    {
      "cell_type": "code",
      "execution_count": 31,
      "metadata": {
        "collapsed": false,
        "execution": {
          "iopub.execute_input": "2020-08-28T14:28:40.446Z",
          "iopub.status.busy": "2020-08-28T14:28:40.167Z",
          "iopub.status.idle": "2020-08-28T14:28:40.519Z",
          "shell.execute_reply": "2020-08-28T14:28:40.729Z"
        },
        "inputHidden": false,
        "outputHidden": false,
        "trusted": true
      },
      "outputs": [
        {
          "data": {
            "text/html": "\r\n<div>\r\n  <style type='text/css' scoped>\r\n.collapsible {\r\n  background-color: #fff;\r\n  color: #0078D4;\r\n  cursor: pointer;\r\n  padding: 10px;\r\n  border: none;\r\n  text-align: left;\r\n  outline: none;\r\n  font-size: 15px;\r\n  border-radius: 5px;\r\n  margin: 5px\r\n}\r\n\r\n.active, .collapsible:hover {\r\n  color: #4db2ff;\r\n}\r\n\r\n.content {\r\n  margin: 2px;\r\n  padding: 0 18px;\r\n  overflow: hidden;\r\n  background-color: #fff;\r\n  height: 0px;\r\n  -moz-transition: height .2s ease-out;\r\n  -ms-transition: height .2s ease-out;\r\n  -o-transition: height .2s ease-out;\r\n  -webkit-transition: height .2s ease-out;\r\n  transition: height .2s ease-out;\r\n}\r\n</style>\r\n\r\n<button type='button' class='collapsible'>▶ View Query Metrics</button>\r\n  \r\n<div class='content'>\r\n  <div class='measuringWrapper'>\r\n    <span style=\"color:#0078D4\"><b>totalExecutionTimeInMs    </b>:    5.4<br/><b>queryCompileTimeInMs    </b>:    0.12<br/><b>queryLogicalPlanBuildTimeInMs    </b>:    0.02<br/><b>queryPhysicalPlanBuildTimeInMs    </b>:    0.06<br/><b>queryOptimizationTimeInMs    </b>:    0<br/><b>VMExecutionTimeInMs    </b>:    5.02<br/><b>indexLookupTimeInMs    </b>:    0.41<br/><b>documentLoadTimeInMs    </b>:    3.42<br/><b>systemFunctionExecuteTimeInMs    </b>:    0<br/><b>userFunctionExecuteTimeInMs    </b>:    0<br/><b>retrievedDocumentCount    </b>:    701<br/><b>retrievedDocumentSize    </b>:    338390<br/><b>outputDocumentCount    </b>:    701<br/><b>outputDocumentSize    </b>:    36557<br/><b>writeOutputTimeInMs    </b>:    0.17<br/><b>averageIndexUtilizationRation    </b>:    1<br/></span>\r\n  </div>\r\n</div>\r\n\r\n<script>\r\nvar coll = document.getElementsByClassName('collapsible');\r\nvar i;\r\n\r\nfor (i = 0; i < coll.length; i++) {\r\n  \r\n  coll[i].addEventListener('click', function() {\r\n    this.classList.toggle('active');\r\n    var content = this.nextElementSibling;\r\n    \r\n    if (content.clientHeight != 0) {\r\n      this.textContent = '▶ View Query Metrics';\r\n      content.style.height = '0px';\r\n    }\r\n    else {\r\n      this.textContent = '▼ Hide Query Metrics';\r\n      content.style.height = content.children[0].clientHeight + 'px';\r\n    }\r\n  });\r\n}\r\n</script>\r\n</div>"
          },
          "metadata": {},
          "output_type": "display_data"
        },
        {
          "data": {
            "text/html": "<div>\n<style scoped>\n    .dataframe tbody tr th:only-of-type {\n        vertical-align: middle;\n    }\n\n    .dataframe tbody tr th {\n        vertical-align: top;\n    }\n\n    .dataframe thead th {\n        text-align: right;\n    }\n</style>\n<table border=\"1\" class=\"dataframe\">\n  <thead>\n    <tr style=\"text-align: right;\">\n      <th></th>\n      <th>city</th>\n      <th>stateProvinceName</th>\n    </tr>\n  </thead>\n  <tbody>\n    <tr>\n      <th>0</th>\n      <td>Westland</td>\n      <td>Michigan</td>\n    </tr>\n    <tr>\n      <th>1</th>\n      <td>Midland</td>\n      <td>Michigan</td>\n    </tr>\n    <tr>\n      <th>2</th>\n      <td>Burnaby</td>\n      <td>British Columbia</td>\n    </tr>\n    <tr>\n      <th>3</th>\n      <td>Newark</td>\n      <td>California</td>\n    </tr>\n    <tr>\n      <th>4</th>\n      <td>Las Vegas</td>\n      <td>Nevada</td>\n    </tr>\n    <tr>\n      <th>...</th>\n      <td>...</td>\n      <td>...</td>\n    </tr>\n    <tr>\n      <th>696</th>\n      <td>Lavender Bay</td>\n      <td>New South Wales</td>\n    </tr>\n    <tr>\n      <th>697</th>\n      <td>Loveland</td>\n      <td>Colorado</td>\n    </tr>\n    <tr>\n      <th>698</th>\n      <td>Mentor</td>\n      <td>Ohio</td>\n    </tr>\n    <tr>\n      <th>699</th>\n      <td>Burnaby</td>\n      <td>British Columbia</td>\n    </tr>\n    <tr>\n      <th>700</th>\n      <td>Ottawa</td>\n      <td>Ontario</td>\n    </tr>\n  </tbody>\n</table>\n<p>701 rows × 2 columns</p>\n</div>",
            "text/plain": "             city stateProvinceName\n0        Westland          Michigan\n1         Midland          Michigan\n2         Burnaby  British Columbia\n3          Newark        California\n4       Las Vegas            Nevada\n..            ...               ...\n696  Lavender Bay   New South Wales\n697      Loveland          Colorado\n698        Mentor              Ohio\n699       Burnaby  British Columbia\n700        Ottawa           Ontario\n\n[701 rows x 2 columns]"
          },
          "metadata": {},
          "output_type": "display_data"
        }
      ],
      "source": "%%sql\nSELECT *\nFROM c.address.location"
    },
    {
      "cell_type": "markdown",
      "metadata": {},
      "source": "**Can't filter on subset without an alias**"
    },
    {
      "cell_type": "code",
      "execution_count": 36,
      "metadata": {
        "collapsed": false,
        "execution": {
          "iopub.status.busy": "2020-08-28T14:28:25.821Z",
          "iopub.status.idle": "2020-08-28T14:28:26.042Z",
          "shell.execute_reply": "2020-08-28T14:28:26.256Z"
        },
        "inputHidden": false,
        "outputHidden": false,
        "trusted": true
      },
      "outputs": [
        {
          "data": {
            "text/plain": "%%sql failed! Microsoft.Azure.Cosmos.CosmosException : Response status code does not indicate success: 400 Substatus: 0 Reason: (Microsoft.Azure.Cosmos.CosmosException : Response status code does not indicate success: 400 Substatus: 0 Reason: (Microsoft.Azure.Documents.DocumentClientException: Gateway Failed to Retrieve Query Plan: Message: {\"errors\":[{\"severity\":\"Error\",\"location\":{\"start\":39,\"end\":40},\"code\":\"SC2001\",\"message\":\"Identifier 'c' could not be resolved.\"}]}ActivityId: 634eba33-4e7a-475f-a4c9-597adcc2ad67, Microsoft.Azure.Documents.Common/2.11.0, Microsoft.Azure.Documents.Common/2.11.0, Linux/18.04 cosmos-netstandard-sdk/3.4.2   at Microsoft.Azure.Cosmos.GatewayStoreClient.ParseResponseAsync(HttpResponseMessage responseMessage, JsonSerializerSettings serializerSettings, DocumentServiceRequest request)   at Microsoft.Azure.Cosmos.GatewayStoreClient.InvokeAsync(DocumentServiceRequest request, ResourceType resourceType, Uri physicalAddress, CancellationToken cancellationToken)   at Microsoft.Azure.Cosmos.GatewayStoreModel.ProcessMessageAsync(DocumentServiceRequest request, CancellationToken cancellationToken)   at Microsoft.Azure.Cosmos.Handlers.TransportHandler.SendAsync(RequestMessage request, CancellationToken cancellationToken)).\nStatusCode = BadRequest;\nSubStatusCode = 0;\nActivityId = 634eba33-4e7a-475f-a4c9-597adcc2ad67;\nRequestCharge = 0;\n{\"ActivityId\":\"634eba33-4e7a-475f-a4c9-597adcc2ad67\",\"StatusCode\":\"400\",\"SubStatusCode\":\"Unknown\",\"RequestCharge\":\"0\",\"ErrorMessage\":\"Microsoft.Azure.Documents.DocumentClientException: Gateway Failed to Retrieve Query Plan: Message: {\\\"errors\\\":[{\\\"severity\\\":\\\"Error\\\",\\\"location\\\":{\\\"start\\\":39,\\\"end\\\":40},\\\"code\\\":\\\"SC2001\\\",\\\"message\\\":\\\"Identifier \\u0027c\\u0027 could not be resolved.\\\"}]}ActivityId: 634eba33-4e7a-475f-a4c9-597adcc2ad67, Microsoft.Azure.Documents.Common/2.11.0, Microsoft.Azure.Documents.Common/2.11.0, Linux/18.04 cosmos-netstandard-sdk/3.4.2   at Microsoft.Azure.Cosmos.GatewayStoreClient.ParseResponseAsync(HttpResponseMessage responseMessage, JsonSerializerSettings serializerSettings, DocumentServiceRequest request)   at Microsoft.Azure.Cosmos.GatewayStoreClient.InvokeAsync(DocumentServiceRequest request, ResourceType resourceType, Uri physicalAddress, CancellationToken cancellationToken)   at Microsoft.Azure.Cosmos.GatewayStoreModel.ProcessMessageAsync(DocumentServiceRequest request, CancellationToken cancellationToken)   at Microsoft.Azure.Cosmos.Handlers.TransportHandler.SendAsync(RequestMessage request, CancellationToken cancellationToken)\",\"Method\":\"POST\",\"RequestUri\":\"dbs/adventure-works/colls/stores\",\"RequestSessionToken\":\"0:-1#3\",\"ResponseSessionToken\":\"\"}\n   at Microsoft.Azure.Cosmos.ResponseMessage.EnsureSuccessStatusCode()\n   at Microsoft.Azure.Cosmos.CosmosQueryClientCore.ExecuteQueryPlanRequestAsync(Uri resourceUri, ResourceType resourceType, OperationType operationType, SqlQuerySpec sqlQuerySpec, String supportedQueryFeatures, CancellationToken cancellationToken)\n   at Microsoft.Azure.Cosmos.Query.Core.ExecutionContext.CosmosQueryExecutionContextFactory.TryCreateCoreContextAsync(CosmosQueryContext cosmosQueryContext, InputParameters inputParameters, CancellationToken cancellationToken)\n   at Microsoft.Azure.Cosmos.Query.Core.AsyncLazy`1.GetValueAsync(CancellationToken cancellationToken)\n   at Microsoft.Azure.Cosmos.Query.Core.ExecutionContext.LazyCosmosQueryExecutionContext.ExecuteNextAsync(CancellationToken cancellationToken)\n   at Microsoft.Azure.Cosmos.Query.Core.ExecutionContext.CosmosQueryExecutionContextWithNameCacheStaleRetry.ExecuteNextAsync(CancellationToken cancellationToken)\n   at Microsoft.Azure.Cosmos.Query.Core.ExecutionContext.CatchAllCosmosQueryExecutionContext.ExecuteNextAsync(CancellationToken cancellationToken)).\nStatusCode = BadRequest;\nSubStatusCode = 0;\nActivityId = 634eba33-4e7a-475f-a4c9-597adcc2ad67;\nRequestCharge = 0;\n[]\n   at Microsoft.Azure.Cosmos.ResponseMessage.EnsureSuccessStatusCode()\n   at Microsoft.Azure.Cosmos.CosmosResponseFactory.CreateQueryFeedResponseHelper[T](ResponseMessage cosmosResponseMessage, Boolean usePropertySerializer)\n   at Microsoft.Azure.Cosmos.CosmosResponseFactory.CreateQueryFeedResponse[T](ResponseMessage cosmosResponseMessage)\n   at Microsoft.Azure.Cosmos.FeedIteratorCore`1.ReadNextAsync(CancellationToken cancellationToken)\n   at Microsoft.Azure.Cosmos.Notebooks.Service.CustomMagics.SqlMagic.ExecuteSqlCommandInternalAsync(KernelConnection connection, ParseResult parseResult, String code, ExecuteRequestMessage executeRequestMessage)\n   at Microsoft.Azure.Cosmos.Notebooks.Service.CustomMagics.SqlMagic.ExecuteSqlCommandAsync(String code, KernelConnection connection, ExecuteRequestMessage executeRequestMessage)"
          },
          "metadata": {},
          "output_type": "display_data"
        }
      ],
      "source": "%%sql\nSELECT *\nFROM c.address.location\nWHERE c.address.location.stateProvinceName = 'Florida'"
    },
    {
      "cell_type": "markdown",
      "metadata": {},
      "source": "**Alias the subset to filter within the subset**"
    },
    {
      "cell_type": "code",
      "execution_count": 32,
      "metadata": {
        "collapsed": false,
        "execution": {
          "iopub.execute_input": "2020-08-28T14:28:40.829Z",
          "iopub.status.busy": "2020-08-28T14:28:40.796Z",
          "iopub.status.idle": "2020-08-28T14:28:41.185Z",
          "shell.execute_reply": "2020-08-28T14:28:41.296Z"
        },
        "inputHidden": false,
        "outputHidden": false,
        "trusted": true
      },
      "outputs": [
        {
          "data": {
            "text/html": "\r\n<div>\r\n  <style type='text/css' scoped>\r\n.collapsible {\r\n  background-color: #fff;\r\n  color: #0078D4;\r\n  cursor: pointer;\r\n  padding: 10px;\r\n  border: none;\r\n  text-align: left;\r\n  outline: none;\r\n  font-size: 15px;\r\n  border-radius: 5px;\r\n  margin: 5px\r\n}\r\n\r\n.active, .collapsible:hover {\r\n  color: #4db2ff;\r\n}\r\n\r\n.content {\r\n  margin: 2px;\r\n  padding: 0 18px;\r\n  overflow: hidden;\r\n  background-color: #fff;\r\n  height: 0px;\r\n  -moz-transition: height .2s ease-out;\r\n  -ms-transition: height .2s ease-out;\r\n  -o-transition: height .2s ease-out;\r\n  -webkit-transition: height .2s ease-out;\r\n  transition: height .2s ease-out;\r\n}\r\n</style>\r\n\r\n<button type='button' class='collapsible'>▶ View Query Metrics</button>\r\n  \r\n<div class='content'>\r\n  <div class='measuringWrapper'>\r\n    <span style=\"color:#0078D4\"><b>totalExecutionTimeInMs    </b>:    1.15<br/><b>queryCompileTimeInMs    </b>:    0.11<br/><b>queryLogicalPlanBuildTimeInMs    </b>:    0.04<br/><b>queryPhysicalPlanBuildTimeInMs    </b>:    0.07<br/><b>queryOptimizationTimeInMs    </b>:    0.01<br/><b>VMExecutionTimeInMs    </b>:    0.73<br/><b>indexLookupTimeInMs    </b>:    0.3<br/><b>documentLoadTimeInMs    </b>:    0.29<br/><b>systemFunctionExecuteTimeInMs    </b>:    0.01<br/><b>userFunctionExecuteTimeInMs    </b>:    0<br/><b>retrievedDocumentCount    </b>:    42<br/><b>retrievedDocumentSize    </b>:    20274<br/><b>outputDocumentCount    </b>:    42<br/><b>outputDocumentSize    </b>:    2151<br/><b>writeOutputTimeInMs    </b>:    0.01<br/><b>averageIndexUtilizationRation    </b>:    1<br/></span>\r\n  </div>\r\n</div>\r\n\r\n<script>\r\nvar coll = document.getElementsByClassName('collapsible');\r\nvar i;\r\n\r\nfor (i = 0; i < coll.length; i++) {\r\n  \r\n  coll[i].addEventListener('click', function() {\r\n    this.classList.toggle('active');\r\n    var content = this.nextElementSibling;\r\n    \r\n    if (content.clientHeight != 0) {\r\n      this.textContent = '▶ View Query Metrics';\r\n      content.style.height = '0px';\r\n    }\r\n    else {\r\n      this.textContent = '▼ Hide Query Metrics';\r\n      content.style.height = content.children[0].clientHeight + 'px';\r\n    }\r\n  });\r\n}\r\n</script>\r\n</div>"
          },
          "metadata": {},
          "output_type": "display_data"
        },
        {
          "data": {
            "text/html": "<div>\n<style scoped>\n    .dataframe tbody tr th:only-of-type {\n        vertical-align: middle;\n    }\n\n    .dataframe tbody tr th {\n        vertical-align: top;\n    }\n\n    .dataframe thead th {\n        text-align: right;\n    }\n</style>\n<table border=\"1\" class=\"dataframe\">\n  <thead>\n    <tr style=\"text-align: right;\">\n      <th></th>\n      <th>city</th>\n      <th>stateProvinceName</th>\n    </tr>\n  </thead>\n  <tbody>\n    <tr>\n      <th>0</th>\n      <td>Chicago</td>\n      <td>Illinois</td>\n    </tr>\n    <tr>\n      <th>1</th>\n      <td>Chicago</td>\n      <td>Illinois</td>\n    </tr>\n    <tr>\n      <th>2</th>\n      <td>Moline</td>\n      <td>Illinois</td>\n    </tr>\n    <tr>\n      <th>3</th>\n      <td>Carol Stream</td>\n      <td>Illinois</td>\n    </tr>\n    <tr>\n      <th>4</th>\n      <td>Chicago</td>\n      <td>Illinois</td>\n    </tr>\n    <tr>\n      <th>5</th>\n      <td>Elgin</td>\n      <td>Illinois</td>\n    </tr>\n    <tr>\n      <th>6</th>\n      <td>Miami</td>\n      <td>Florida</td>\n    </tr>\n    <tr>\n      <th>7</th>\n      <td>Wood Dale</td>\n      <td>Illinois</td>\n    </tr>\n    <tr>\n      <th>8</th>\n      <td>Wood Dale</td>\n      <td>Illinois</td>\n    </tr>\n    <tr>\n      <th>9</th>\n      <td>West Chicago</td>\n      <td>Illinois</td>\n    </tr>\n    <tr>\n      <th>10</th>\n      <td>Chicago</td>\n      <td>Illinois</td>\n    </tr>\n    <tr>\n      <th>11</th>\n      <td>Peoria</td>\n      <td>Illinois</td>\n    </tr>\n    <tr>\n      <th>12</th>\n      <td>Hollywood</td>\n      <td>Florida</td>\n    </tr>\n    <tr>\n      <th>13</th>\n      <td>Orlando</td>\n      <td>Florida</td>\n    </tr>\n    <tr>\n      <th>14</th>\n      <td>Miami</td>\n      <td>Florida</td>\n    </tr>\n    <tr>\n      <th>15</th>\n      <td>North Miami Beach</td>\n      <td>Florida</td>\n    </tr>\n    <tr>\n      <th>16</th>\n      <td>Clearwater</td>\n      <td>Florida</td>\n    </tr>\n    <tr>\n      <th>17</th>\n      <td>Miami</td>\n      <td>Florida</td>\n    </tr>\n    <tr>\n      <th>18</th>\n      <td>Joliet</td>\n      <td>Illinois</td>\n    </tr>\n    <tr>\n      <th>19</th>\n      <td>Miami</td>\n      <td>Florida</td>\n    </tr>\n    <tr>\n      <th>20</th>\n      <td>Orlando</td>\n      <td>Florida</td>\n    </tr>\n    <tr>\n      <th>21</th>\n      <td>Clearwater</td>\n      <td>Florida</td>\n    </tr>\n    <tr>\n      <th>22</th>\n      <td>Sarasota</td>\n      <td>Florida</td>\n    </tr>\n    <tr>\n      <th>23</th>\n      <td>Kendall</td>\n      <td>Florida</td>\n    </tr>\n    <tr>\n      <th>24</th>\n      <td>Miami</td>\n      <td>Florida</td>\n    </tr>\n    <tr>\n      <th>25</th>\n      <td>Miami</td>\n      <td>Florida</td>\n    </tr>\n    <tr>\n      <th>26</th>\n      <td>Miami</td>\n      <td>Florida</td>\n    </tr>\n    <tr>\n      <th>27</th>\n      <td>Miami</td>\n      <td>Florida</td>\n    </tr>\n    <tr>\n      <th>28</th>\n      <td>Merritt Island</td>\n      <td>Florida</td>\n    </tr>\n    <tr>\n      <th>29</th>\n      <td>Altamonte Springs</td>\n      <td>Florida</td>\n    </tr>\n    <tr>\n      <th>30</th>\n      <td>Norridge</td>\n      <td>Illinois</td>\n    </tr>\n    <tr>\n      <th>31</th>\n      <td>Sunrise</td>\n      <td>Florida</td>\n    </tr>\n    <tr>\n      <th>32</th>\n      <td>Chicago</td>\n      <td>Illinois</td>\n    </tr>\n    <tr>\n      <th>33</th>\n      <td>Lakeland</td>\n      <td>Florida</td>\n    </tr>\n    <tr>\n      <th>34</th>\n      <td>Vero Beach</td>\n      <td>Florida</td>\n    </tr>\n    <tr>\n      <th>35</th>\n      <td>Orlando</td>\n      <td>Florida</td>\n    </tr>\n    <tr>\n      <th>36</th>\n      <td>Miami</td>\n      <td>Florida</td>\n    </tr>\n    <tr>\n      <th>37</th>\n      <td>Bradenton</td>\n      <td>Florida</td>\n    </tr>\n    <tr>\n      <th>38</th>\n      <td>Miami</td>\n      <td>Florida</td>\n    </tr>\n    <tr>\n      <th>39</th>\n      <td>Tampa</td>\n      <td>Florida</td>\n    </tr>\n    <tr>\n      <th>40</th>\n      <td>Tuscola</td>\n      <td>Illinois</td>\n    </tr>\n    <tr>\n      <th>41</th>\n      <td>Destin</td>\n      <td>Florida</td>\n    </tr>\n  </tbody>\n</table>\n</div>",
            "text/plain": "                 city stateProvinceName\n0             Chicago          Illinois\n1             Chicago          Illinois\n2              Moline          Illinois\n3        Carol Stream          Illinois\n4             Chicago          Illinois\n5               Elgin          Illinois\n6               Miami           Florida\n7           Wood Dale          Illinois\n8           Wood Dale          Illinois\n9        West Chicago          Illinois\n10            Chicago          Illinois\n11             Peoria          Illinois\n12          Hollywood           Florida\n13            Orlando           Florida\n14              Miami           Florida\n15  North Miami Beach           Florida\n16         Clearwater           Florida\n17              Miami           Florida\n18             Joliet          Illinois\n19              Miami           Florida\n20            Orlando           Florida\n21         Clearwater           Florida\n22           Sarasota           Florida\n23            Kendall           Florida\n24              Miami           Florida\n25              Miami           Florida\n26              Miami           Florida\n27              Miami           Florida\n28     Merritt Island           Florida\n29  Altamonte Springs           Florida\n30           Norridge          Illinois\n31            Sunrise           Florida\n32            Chicago          Illinois\n33           Lakeland           Florida\n34         Vero Beach           Florida\n35            Orlando           Florida\n36              Miami           Florida\n37          Bradenton           Florida\n38              Miami           Florida\n39              Tampa           Florida\n40            Tuscola          Illinois\n41             Destin           Florida"
          },
          "metadata": {},
          "output_type": "display_data"
        }
      ],
      "source": "%%sql\nSELECT *\nFROM c.address.location AS l\nWHERE l.stateProvinceName IN ('Florida', 'Illinois')"
    },
    {
      "cell_type": "markdown",
      "metadata": {},
      "source": "## Calculated properties"
    },
    {
      "cell_type": "markdown",
      "metadata": {},
      "source": "**Boolean expression property (on = comparison)**"
    },
    {
      "cell_type": "code",
      "execution_count": 33,
      "metadata": {
        "collapsed": false,
        "execution": {
          "iopub.execute_input": "2020-08-28T14:28:41.603Z",
          "iopub.status.busy": "2020-08-28T14:28:41.483Z",
          "iopub.status.idle": "2020-08-28T14:28:41.794Z",
          "shell.execute_reply": "2020-08-28T14:28:42.050Z"
        },
        "inputHidden": false,
        "outputHidden": false,
        "trusted": true
      },
      "outputs": [
        {
          "data": {
            "text/html": "\r\n<div>\r\n  <style type='text/css' scoped>\r\n.collapsible {\r\n  background-color: #fff;\r\n  color: #0078D4;\r\n  cursor: pointer;\r\n  padding: 10px;\r\n  border: none;\r\n  text-align: left;\r\n  outline: none;\r\n  font-size: 15px;\r\n  border-radius: 5px;\r\n  margin: 5px\r\n}\r\n\r\n.active, .collapsible:hover {\r\n  color: #4db2ff;\r\n}\r\n\r\n.content {\r\n  margin: 2px;\r\n  padding: 0 18px;\r\n  overflow: hidden;\r\n  background-color: #fff;\r\n  height: 0px;\r\n  -moz-transition: height .2s ease-out;\r\n  -ms-transition: height .2s ease-out;\r\n  -o-transition: height .2s ease-out;\r\n  -webkit-transition: height .2s ease-out;\r\n  transition: height .2s ease-out;\r\n}\r\n</style>\r\n\r\n<button type='button' class='collapsible'>▶ View Query Metrics</button>\r\n  \r\n<div class='content'>\r\n  <div class='measuringWrapper'>\r\n    <span style=\"color:#0078D4\"><b>totalExecutionTimeInMs    </b>:    0.85<br/><b>queryCompileTimeInMs    </b>:    0.18<br/><b>queryLogicalPlanBuildTimeInMs    </b>:    0.11<br/><b>queryPhysicalPlanBuildTimeInMs    </b>:    0.08<br/><b>queryOptimizationTimeInMs    </b>:    0.01<br/><b>VMExecutionTimeInMs    </b>:    0.23<br/><b>indexLookupTimeInMs    </b>:    0.1<br/><b>documentLoadTimeInMs    </b>:    0.04<br/><b>systemFunctionExecuteTimeInMs    </b>:    0<br/><b>userFunctionExecuteTimeInMs    </b>:    0<br/><b>retrievedDocumentCount    </b>:    4<br/><b>retrievedDocumentSize    </b>:    1943<br/><b>outputDocumentCount    </b>:    4<br/><b>outputDocumentSize    </b>:    817<br/><b>writeOutputTimeInMs    </b>:    0.01<br/><b>averageIndexUtilizationRation    </b>:    1<br/></span>\r\n  </div>\r\n</div>\r\n\r\n<script>\r\nvar coll = document.getElementsByClassName('collapsible');\r\nvar i;\r\n\r\nfor (i = 0; i < coll.length; i++) {\r\n  \r\n  coll[i].addEventListener('click', function() {\r\n    this.classList.toggle('active');\r\n    var content = this.nextElementSibling;\r\n    \r\n    if (content.clientHeight != 0) {\r\n      this.textContent = '▶ View Query Metrics';\r\n      content.style.height = '0px';\r\n    }\r\n    else {\r\n      this.textContent = '▼ Hide Query Metrics';\r\n      content.style.height = content.children[0].clientHeight + 'px';\r\n    }\r\n  });\r\n}\r\n</script>\r\n</div>"
          },
          "metadata": {},
          "output_type": "display_data"
        },
        {
          "data": {
            "text/html": "<div>\n<style scoped>\n    .dataframe tbody tr th:only-of-type {\n        vertical-align: middle;\n    }\n\n    .dataframe tbody tr th {\n        vertical-align: top;\n    }\n\n    .dataframe thead th {\n        text-align: right;\n    }\n</style>\n<table border=\"1\" class=\"dataframe\">\n  <thead>\n    <tr style=\"text-align: right;\">\n      <th></th>\n      <th>name</th>\n      <th>city</th>\n      <th>stateProvinceName</th>\n      <th>isSameCityState</th>\n    </tr>\n  </thead>\n  <tbody>\n    <tr>\n      <th>0</th>\n      <td>Online Bike Sellers</td>\n      <td>Midland</td>\n      <td>Michigan</td>\n      <td>False</td>\n    </tr>\n    <tr>\n      <th>1</th>\n      <td>Online Bike Catalog</td>\n      <td>Lavender Bay</td>\n      <td>New South Wales</td>\n      <td>False</td>\n    </tr>\n    <tr>\n      <th>2</th>\n      <td>Only Bikes and Accessories</td>\n      <td>New York</td>\n      <td>New York</td>\n      <td>True</td>\n    </tr>\n    <tr>\n      <th>3</th>\n      <td>Online Bike Warehouse</td>\n      <td>Aurora</td>\n      <td>Ontario</td>\n      <td>False</td>\n    </tr>\n  </tbody>\n</table>\n</div>",
            "text/plain": "                         name          city stateProvinceName  isSameCityState\n0         Online Bike Sellers       Midland          Michigan            False\n1         Online Bike Catalog  Lavender Bay   New South Wales            False\n2  Only Bikes and Accessories      New York          New York             True\n3       Online Bike Warehouse        Aurora           Ontario            False"
          },
          "metadata": {},
          "output_type": "display_data"
        }
      ],
      "source": "%%sql\nSELECT\n c.name,\n c.address.location.city,\n c.address.location.stateProvinceName,\n c.address.location.city = c.address.location.stateProvinceName AS isSameCityState\nFROM c\nWHERE STARTSWITH(c.name, 'Onl') = true\nORDER BY c.address.location.stateProvinceName"
    },
    {
      "cell_type": "markdown",
      "metadata": {},
      "source": "**Ternary (?) operator**"
    },
    {
      "cell_type": "code",
      "execution_count": 34,
      "metadata": {
        "collapsed": false,
        "execution": {
          "iopub.execute_input": "2020-08-28T14:28:42.158Z",
          "iopub.status.busy": "2020-08-28T14:28:42.122Z",
          "iopub.status.idle": "2020-08-28T14:28:42.523Z",
          "shell.execute_reply": "2020-08-28T14:28:42.686Z"
        },
        "inputHidden": false,
        "outputHidden": false,
        "trusted": true
      },
      "outputs": [
        {
          "data": {
            "text/html": "\r\n<div>\r\n  <style type='text/css' scoped>\r\n.collapsible {\r\n  background-color: #fff;\r\n  color: #0078D4;\r\n  cursor: pointer;\r\n  padding: 10px;\r\n  border: none;\r\n  text-align: left;\r\n  outline: none;\r\n  font-size: 15px;\r\n  border-radius: 5px;\r\n  margin: 5px\r\n}\r\n\r\n.active, .collapsible:hover {\r\n  color: #4db2ff;\r\n}\r\n\r\n.content {\r\n  margin: 2px;\r\n  padding: 0 18px;\r\n  overflow: hidden;\r\n  background-color: #fff;\r\n  height: 0px;\r\n  -moz-transition: height .2s ease-out;\r\n  -ms-transition: height .2s ease-out;\r\n  -o-transition: height .2s ease-out;\r\n  -webkit-transition: height .2s ease-out;\r\n  transition: height .2s ease-out;\r\n}\r\n</style>\r\n\r\n<button type='button' class='collapsible'>▶ View Query Metrics</button>\r\n  \r\n<div class='content'>\r\n  <div class='measuringWrapper'>\r\n    <span style=\"color:#0078D4\"><b>totalExecutionTimeInMs    </b>:    5.58<br/><b>queryCompileTimeInMs    </b>:    0.13<br/><b>queryLogicalPlanBuildTimeInMs    </b>:    0.05<br/><b>queryPhysicalPlanBuildTimeInMs    </b>:    0.07<br/><b>queryOptimizationTimeInMs    </b>:    0.01<br/><b>VMExecutionTimeInMs    </b>:    5.06<br/><b>indexLookupTimeInMs    </b>:    0.12<br/><b>documentLoadTimeInMs    </b>:    2.77<br/><b>systemFunctionExecuteTimeInMs    </b>:    0.12<br/><b>userFunctionExecuteTimeInMs    </b>:    0<br/><b>retrievedDocumentCount    </b>:    541<br/><b>retrievedDocumentSize    </b>:    261354<br/><b>outputDocumentCount    </b>:    541<br/><b>outputDocumentSize    </b>:    39387<br/><b>writeOutputTimeInMs    </b>:    0.3<br/><b>averageIndexUtilizationRation    </b>:    1<br/></span>\r\n  </div>\r\n</div>\r\n\r\n<script>\r\nvar coll = document.getElementsByClassName('collapsible');\r\nvar i;\r\n\r\nfor (i = 0; i < coll.length; i++) {\r\n  \r\n  coll[i].addEventListener('click', function() {\r\n    this.classList.toggle('active');\r\n    var content = this.nextElementSibling;\r\n    \r\n    if (content.clientHeight != 0) {\r\n      this.textContent = '▶ View Query Metrics';\r\n      content.style.height = '0px';\r\n    }\r\n    else {\r\n      this.textContent = '▼ Hide Query Metrics';\r\n      content.style.height = content.children[0].clientHeight + 'px';\r\n    }\r\n  });\r\n}\r\n</script>\r\n</div>"
          },
          "metadata": {},
          "output_type": "display_data"
        },
        {
          "data": {
            "text/html": "<div>\n<style scoped>\n    .dataframe tbody tr th:only-of-type {\n        vertical-align: middle;\n    }\n\n    .dataframe tbody tr th {\n        vertical-align: top;\n    }\n\n    .dataframe thead th {\n        text-align: right;\n    }\n</style>\n<table border=\"1\" class=\"dataframe\">\n  <thead>\n    <tr style=\"text-align: right;\">\n      <th></th>\n      <th>name</th>\n      <th>region</th>\n      <th>currency</th>\n    </tr>\n  </thead>\n  <tbody>\n    <tr>\n      <th>0</th>\n      <td>Kickstand Sellers</td>\n      <td>United States</td>\n      <td>USD</td>\n    </tr>\n    <tr>\n      <th>1</th>\n      <td>Online Bike Sellers</td>\n      <td>United States</td>\n      <td>USD</td>\n    </tr>\n    <tr>\n      <th>2</th>\n      <td>Neighborhood Store</td>\n      <td>Canada</td>\n      <td>CAD</td>\n    </tr>\n    <tr>\n      <th>3</th>\n      <td>Mountain Bike Center</td>\n      <td>United States</td>\n      <td>USD</td>\n    </tr>\n    <tr>\n      <th>4</th>\n      <td>Retail Sporting Goods</td>\n      <td>United States</td>\n      <td>USD</td>\n    </tr>\n    <tr>\n      <th>...</th>\n      <td>...</td>\n      <td>...</td>\n      <td>...</td>\n    </tr>\n    <tr>\n      <th>536</th>\n      <td>Thorough Parts and Repair Services</td>\n      <td>United States</td>\n      <td>USD</td>\n    </tr>\n    <tr>\n      <th>537</th>\n      <td>Bold Bike Accessories</td>\n      <td>United States</td>\n      <td>USD</td>\n    </tr>\n    <tr>\n      <th>538</th>\n      <td>Fourth Bike Store</td>\n      <td>United States</td>\n      <td>USD</td>\n    </tr>\n    <tr>\n      <th>539</th>\n      <td>Finer Riding Supplies</td>\n      <td>Canada</td>\n      <td>CAD</td>\n    </tr>\n    <tr>\n      <th>540</th>\n      <td>Finer Sales and Service</td>\n      <td>Canada</td>\n      <td>CAD</td>\n    </tr>\n  </tbody>\n</table>\n<p>541 rows × 3 columns</p>\n</div>",
            "text/plain": "                                   name         region currency\n0                     Kickstand Sellers  United States      USD\n1                   Online Bike Sellers  United States      USD\n2                    Neighborhood Store         Canada      CAD\n3                  Mountain Bike Center  United States      USD\n4                 Retail Sporting Goods  United States      USD\n..                                  ...            ...      ...\n536  Thorough Parts and Repair Services  United States      USD\n537               Bold Bike Accessories  United States      USD\n538                   Fourth Bike Store  United States      USD\n539               Finer Riding Supplies         Canada      CAD\n540             Finer Sales and Service         Canada      CAD\n\n[541 rows x 3 columns]"
          },
          "metadata": {},
          "output_type": "display_data"
        }
      ],
      "source": "%%sql\nSELECT\n c.name,\n c.address.countryRegionName AS region,\n (c.address.countryRegionName = 'United States' ? 'USD' : 'CAD' ) AS currency\nFROM c\nWHERE c.address.countryRegionName IN ('United States', 'Canada')"
    },
    {
      "cell_type": "markdown",
      "metadata": {},
      "source": "**Nested ternary (?) operator**"
    },
    {
      "cell_type": "code",
      "execution_count": 35,
      "metadata": {
        "collapsed": false,
        "execution": {
          "iopub.execute_input": "2020-08-28T14:28:42.987Z",
          "iopub.status.busy": "2020-08-28T14:28:42.758Z",
          "iopub.status.idle": "2020-08-28T14:28:43.282Z",
          "shell.execute_reply": "2020-08-28T14:28:43.444Z"
        },
        "inputHidden": false,
        "outputHidden": false,
        "trusted": true
      },
      "outputs": [
        {
          "data": {
            "text/html": "\r\n<div>\r\n  <style type='text/css' scoped>\r\n.collapsible {\r\n  background-color: #fff;\r\n  color: #0078D4;\r\n  cursor: pointer;\r\n  padding: 10px;\r\n  border: none;\r\n  text-align: left;\r\n  outline: none;\r\n  font-size: 15px;\r\n  border-radius: 5px;\r\n  margin: 5px\r\n}\r\n\r\n.active, .collapsible:hover {\r\n  color: #4db2ff;\r\n}\r\n\r\n.content {\r\n  margin: 2px;\r\n  padding: 0 18px;\r\n  overflow: hidden;\r\n  background-color: #fff;\r\n  height: 0px;\r\n  -moz-transition: height .2s ease-out;\r\n  -ms-transition: height .2s ease-out;\r\n  -o-transition: height .2s ease-out;\r\n  -webkit-transition: height .2s ease-out;\r\n  transition: height .2s ease-out;\r\n}\r\n</style>\r\n\r\n<button type='button' class='collapsible'>▶ View Query Metrics</button>\r\n  \r\n<div class='content'>\r\n  <div class='measuringWrapper'>\r\n    <span style=\"color:#0078D4\"><b>totalExecutionTimeInMs    </b>:    6<br/><b>queryCompileTimeInMs    </b>:    0.14<br/><b>queryLogicalPlanBuildTimeInMs    </b>:    0.05<br/><b>queryPhysicalPlanBuildTimeInMs    </b>:    0.08<br/><b>queryOptimizationTimeInMs    </b>:    0.01<br/><b>VMExecutionTimeInMs    </b>:    5.45<br/><b>indexLookupTimeInMs    </b>:    0.19<br/><b>documentLoadTimeInMs    </b>:    2.93<br/><b>systemFunctionExecuteTimeInMs    </b>:    0.12<br/><b>userFunctionExecuteTimeInMs    </b>:    0<br/><b>retrievedDocumentCount    </b>:    581<br/><b>retrievedDocumentSize    </b>:    280637<br/><b>outputDocumentCount    </b>:    581<br/><b>outputDocumentSize    </b>:    42051<br/><b>writeOutputTimeInMs    </b>:    0.33<br/><b>averageIndexUtilizationRation    </b>:    1<br/></span>\r\n  </div>\r\n</div>\r\n\r\n<script>\r\nvar coll = document.getElementsByClassName('collapsible');\r\nvar i;\r\n\r\nfor (i = 0; i < coll.length; i++) {\r\n  \r\n  coll[i].addEventListener('click', function() {\r\n    this.classList.toggle('active');\r\n    var content = this.nextElementSibling;\r\n    \r\n    if (content.clientHeight != 0) {\r\n      this.textContent = '▶ View Query Metrics';\r\n      content.style.height = '0px';\r\n    }\r\n    else {\r\n      this.textContent = '▼ Hide Query Metrics';\r\n      content.style.height = content.children[0].clientHeight + 'px';\r\n    }\r\n  });\r\n}\r\n</script>\r\n</div>"
          },
          "metadata": {},
          "output_type": "display_data"
        },
        {
          "data": {
            "text/html": "<div>\n<style scoped>\n    .dataframe tbody tr th:only-of-type {\n        vertical-align: middle;\n    }\n\n    .dataframe tbody tr th {\n        vertical-align: top;\n    }\n\n    .dataframe thead th {\n        text-align: right;\n    }\n</style>\n<table border=\"1\" class=\"dataframe\">\n  <thead>\n    <tr style=\"text-align: right;\">\n      <th></th>\n      <th>name</th>\n      <th>region</th>\n      <th>currency</th>\n    </tr>\n  </thead>\n  <tbody>\n    <tr>\n      <th>0</th>\n      <td>Kickstand Sellers</td>\n      <td>United States</td>\n      <td>USD</td>\n    </tr>\n    <tr>\n      <th>1</th>\n      <td>Online Bike Sellers</td>\n      <td>United States</td>\n      <td>USD</td>\n    </tr>\n    <tr>\n      <th>2</th>\n      <td>Neighborhood Store</td>\n      <td>Canada</td>\n      <td>CAD</td>\n    </tr>\n    <tr>\n      <th>3</th>\n      <td>Mountain Bike Center</td>\n      <td>United States</td>\n      <td>USD</td>\n    </tr>\n    <tr>\n      <th>4</th>\n      <td>Retail Sporting Goods</td>\n      <td>United States</td>\n      <td>USD</td>\n    </tr>\n    <tr>\n      <th>...</th>\n      <td>...</td>\n      <td>...</td>\n      <td>...</td>\n    </tr>\n    <tr>\n      <th>576</th>\n      <td>Thorough Parts and Repair Services</td>\n      <td>United States</td>\n      <td>USD</td>\n    </tr>\n    <tr>\n      <th>577</th>\n      <td>Bold Bike Accessories</td>\n      <td>United States</td>\n      <td>USD</td>\n    </tr>\n    <tr>\n      <th>578</th>\n      <td>Fourth Bike Store</td>\n      <td>United States</td>\n      <td>USD</td>\n    </tr>\n    <tr>\n      <th>579</th>\n      <td>Finer Riding Supplies</td>\n      <td>Canada</td>\n      <td>CAD</td>\n    </tr>\n    <tr>\n      <th>580</th>\n      <td>Finer Sales and Service</td>\n      <td>Canada</td>\n      <td>CAD</td>\n    </tr>\n  </tbody>\n</table>\n<p>581 rows × 3 columns</p>\n</div>",
            "text/plain": "                                   name         region currency\n0                     Kickstand Sellers  United States      USD\n1                   Online Bike Sellers  United States      USD\n2                    Neighborhood Store         Canada      CAD\n3                  Mountain Bike Center  United States      USD\n4                 Retail Sporting Goods  United States      USD\n..                                  ...            ...      ...\n576  Thorough Parts and Repair Services  United States      USD\n577               Bold Bike Accessories  United States      USD\n578                   Fourth Bike Store  United States      USD\n579               Finer Riding Supplies         Canada      CAD\n580             Finer Sales and Service         Canada      CAD\n\n[581 rows x 3 columns]"
          },
          "metadata": {},
          "output_type": "display_data"
        }
      ],
      "source": "%%sql\nSELECT\n c.name,\n c.address.countryRegionName AS region,\n (c.address.countryRegionName = 'United States' ? 'USD' :\n  (c.address.countryRegionName = 'Canada' ? 'CAD' :\n   'EUR')) AS currency\nFROM c\nWHERE c.address.countryRegionName IN ('United States', 'Canada', 'France')"
    },
    {
      "cell_type": "markdown",
      "metadata": {},
      "source": "## Aggregation queries"
    },
    {
      "cell_type": "markdown",
      "metadata": {},
      "source": "**Count for zip code**"
    },
    {
      "cell_type": "code",
      "execution_count": 36,
      "metadata": {
        "collapsed": false,
        "execution": {
          "iopub.execute_input": "2020-08-28T14:28:43.578Z",
          "iopub.status.busy": "2020-08-28T14:28:43.559Z",
          "iopub.status.idle": "2020-08-28T14:28:43.812Z",
          "shell.execute_reply": "2020-08-28T14:28:44.034Z"
        },
        "inputHidden": false,
        "outputHidden": false,
        "trusted": true
      },
      "outputs": [
        {
          "name": "stdout",
          "output_type": "stream",
          "text": "1 document(s) selected (charge= 2.99 RUs)\n\n[\n    {\n        \"Zip14111Count\": 3\n    }\n]\n"
        }
      ],
      "source": "query(stores, \"\"\"\nSELECT COUNT(c) AS Zip14111Count\nFROM c\nWHERE\n c.address.postalCode = '14111'\n\"\"\", partitionKey = '14111')"
    },
    {
      "cell_type": "markdown",
      "metadata": {},
      "source": "**Can't count across partitions without VALUE**"
    },
    {
      "cell_type": "code",
      "execution_count": 37,
      "metadata": {
        "collapsed": false,
        "execution": {
          "iopub.execute_input": "2020-08-28T14:28:44.149Z",
          "iopub.status.busy": "2020-08-28T14:28:44.100Z",
          "iopub.status.idle": "2020-08-28T14:28:44.578Z",
          "shell.execute_reply": "2020-08-28T14:28:44.622Z"
        },
        "inputHidden": false,
        "outputHidden": false,
        "trusted": true
      },
      "outputs": [
        {
          "name": "stdout",
          "output_type": "stream",
          "text": "(BadRequest) Message: {\"Errors\":[\"Cross partition query only supports 'VALUE <AggreateFunc>' for aggregates.\"]}\r\nActivityId: fb043ac2-ce65-4402-9444-9e8d4f6638f0, Microsoft.Azure.Documents.Common/2.11.0\n"
        }
      ],
      "source": "query(stores, \"\"\"\nSELECT COUNT(c) AS USCount\nFROM c\nWHERE\n c.address.countryRegionName = 'United States' \n\"\"\")"
    },
    {
      "cell_type": "markdown",
      "metadata": {},
      "source": "**Use VALUE for cross partition aggregates**"
    },
    {
      "cell_type": "code",
      "execution_count": 38,
      "metadata": {
        "collapsed": false,
        "execution": {
          "iopub.execute_input": "2020-08-28T14:28:44.939Z",
          "iopub.status.busy": "2020-08-28T14:28:44.669Z",
          "iopub.status.idle": "2020-08-28T14:28:45.111Z",
          "shell.execute_reply": "2020-08-28T14:28:45.146Z"
        },
        "inputHidden": false,
        "outputHidden": false,
        "trusted": true
      },
      "outputs": [
        {
          "name": "stdout",
          "output_type": "stream",
          "text": "1 document(s) selected (charge= 2.99 RUs)\n\n[\n    427\n]\n"
        }
      ],
      "source": "query(stores, \"\"\"\nSELECT VALUE COUNT(c)\nFROM c\nWHERE\n c.address.countryRegionName = 'United States' \n\"\"\")"
    },
    {
      "cell_type": "markdown",
      "metadata": {},
      "source": "**Aggregates for NY children**"
    },
    {
      "cell_type": "code",
      "execution_count": 39,
      "metadata": {
        "collapsed": false,
        "execution": {
          "iopub.execute_input": "2020-08-28T14:28:45.429Z",
          "iopub.status.busy": "2020-08-28T14:28:45.185Z",
          "iopub.status.idle": "2020-08-28T14:28:45.505Z",
          "shell.execute_reply": "2020-08-28T14:28:45.758Z"
        },
        "inputHidden": false,
        "outputHidden": false,
        "trusted": true
      },
      "outputs": [
        {
          "name": "stdout",
          "output_type": "stream",
          "text": "1 document(s) selected (charge= 3.11 RUs)\n\n[\n    {\n        \"NyKidsCount\": 4,\n        \"NyMinGrade\": 1,\n        \"NyMaxGrade\": 7,\n        \"NyAvgGrade\": 4.25,\n        \"NyPetsCount\": 5\n    }\n]\n"
        }
      ],
      "source": "query(families, \"\"\"\nSELECT\n COUNT(ch) AS NyKidsCount,\n MIN(ch.grade) AS NyMinGrade,\n MAX(ch.grade) AS NyMaxGrade,\n AVG(ch.grade) AS NyAvgGrade,\n SUM(ARRAY_LENGTH(ch.pets)) AS NyPetsCount\nFROM c JOIN ch IN c.children\nWHERE c.location.state = 'NY'\n\"\"\", partitionKey = \"NY\")"
    },
    {
      "cell_type": "markdown",
      "metadata": {},
      "source": "**All U.S. stores**"
    },
    {
      "cell_type": "code",
      "execution_count": 40,
      "metadata": {
        "collapsed": false,
        "execution": {
          "iopub.execute_input": "2020-08-28T14:28:46.069Z",
          "iopub.status.busy": "2020-08-28T14:28:45.885Z",
          "iopub.status.idle": "2020-08-28T14:28:46.149Z",
          "shell.execute_reply": "2020-08-28T14:28:46.405Z"
        },
        "inputHidden": false,
        "outputHidden": false,
        "trusted": true
      },
      "outputs": [
        {
          "data": {
            "text/html": "\r\n<div>\r\n  <style type='text/css' scoped>\r\n.collapsible {\r\n  background-color: #fff;\r\n  color: #0078D4;\r\n  cursor: pointer;\r\n  padding: 10px;\r\n  border: none;\r\n  text-align: left;\r\n  outline: none;\r\n  font-size: 15px;\r\n  border-radius: 5px;\r\n  margin: 5px\r\n}\r\n\r\n.active, .collapsible:hover {\r\n  color: #4db2ff;\r\n}\r\n\r\n.content {\r\n  margin: 2px;\r\n  padding: 0 18px;\r\n  overflow: hidden;\r\n  background-color: #fff;\r\n  height: 0px;\r\n  -moz-transition: height .2s ease-out;\r\n  -ms-transition: height .2s ease-out;\r\n  -o-transition: height .2s ease-out;\r\n  -webkit-transition: height .2s ease-out;\r\n  transition: height .2s ease-out;\r\n}\r\n</style>\r\n\r\n<button type='button' class='collapsible'>▶ View Query Metrics</button>\r\n  \r\n<div class='content'>\r\n  <div class='measuringWrapper'>\r\n    <span style=\"color:#0078D4\"><b>totalExecutionTimeInMs    </b>:    6.14<br/><b>queryCompileTimeInMs    </b>:    0.14<br/><b>queryLogicalPlanBuildTimeInMs    </b>:    0.05<br/><b>queryPhysicalPlanBuildTimeInMs    </b>:    0.08<br/><b>queryOptimizationTimeInMs    </b>:    0.01<br/><b>VMExecutionTimeInMs    </b>:    5.67<br/><b>indexLookupTimeInMs    </b>:    0.07<br/><b>documentLoadTimeInMs    </b>:    2.36<br/><b>systemFunctionExecuteTimeInMs    </b>:    0<br/><b>userFunctionExecuteTimeInMs    </b>:    0<br/><b>retrievedDocumentCount    </b>:    427<br/><b>retrievedDocumentSize    </b>:    206567<br/><b>outputDocumentCount    </b>:    427<br/><b>outputDocumentSize    </b>:    67752<br/><b>writeOutputTimeInMs    </b>:    0.45<br/><b>averageIndexUtilizationRation    </b>:    1<br/></span>\r\n  </div>\r\n</div>\r\n\r\n<script>\r\nvar coll = document.getElementsByClassName('collapsible');\r\nvar i;\r\n\r\nfor (i = 0; i < coll.length; i++) {\r\n  \r\n  coll[i].addEventListener('click', function() {\r\n    this.classList.toggle('active');\r\n    var content = this.nextElementSibling;\r\n    \r\n    if (content.clientHeight != 0) {\r\n      this.textContent = '▶ View Query Metrics';\r\n      content.style.height = '0px';\r\n    }\r\n    else {\r\n      this.textContent = '▼ Hide Query Metrics';\r\n      content.style.height = content.children[0].clientHeight + 'px';\r\n    }\r\n  });\r\n}\r\n</script>\r\n</div>"
          },
          "metadata": {},
          "output_type": "display_data"
        },
        {
          "data": {
            "text/html": "<div>\n<style scoped>\n    .dataframe tbody tr th:only-of-type {\n        vertical-align: middle;\n    }\n\n    .dataframe tbody tr th {\n        vertical-align: top;\n    }\n\n    .dataframe thead th {\n        text-align: right;\n    }\n</style>\n<table border=\"1\" class=\"dataframe\">\n  <thead>\n    <tr style=\"text-align: right;\">\n      <th></th>\n      <th>name</th>\n      <th>stateProvinceName</th>\n    </tr>\n  </thead>\n  <tbody>\n    <tr>\n      <th>0</th>\n      <td>A Bicycle Association</td>\n      <td>New York</td>\n    </tr>\n    <tr>\n      <th>1</th>\n      <td>A Bike Store</td>\n      <td>Washington</td>\n    </tr>\n    <tr>\n      <th>2</th>\n      <td>A Cycle Shop</td>\n      <td>Oregon</td>\n    </tr>\n    <tr>\n      <th>3</th>\n      <td>A Great Bicycle Company</td>\n      <td>Missouri</td>\n    </tr>\n    <tr>\n      <th>4</th>\n      <td>A Typical Bike Shop</td>\n      <td>Texas</td>\n    </tr>\n    <tr>\n      <th>...</th>\n      <td>...</td>\n      <td>...</td>\n    </tr>\n    <tr>\n      <th>422</th>\n      <td>World of Bikes</td>\n      <td>Missouri</td>\n    </tr>\n    <tr>\n      <th>423</th>\n      <td>Worthwhile Activity Store</td>\n      <td>Florida</td>\n    </tr>\n    <tr>\n      <th>424</th>\n      <td>Year-Round Sports</td>\n      <td>Washington</td>\n    </tr>\n    <tr>\n      <th>425</th>\n      <td>Yellow Bicycle Company</td>\n      <td>Missouri</td>\n    </tr>\n    <tr>\n      <th>426</th>\n      <td>eCommerce Bikes</td>\n      <td>Mississippi</td>\n    </tr>\n  </tbody>\n</table>\n<p>427 rows × 2 columns</p>\n</div>",
            "text/plain": "                          name stateProvinceName\n0        A Bicycle Association          New York\n1                 A Bike Store        Washington\n2                 A Cycle Shop            Oregon\n3      A Great Bicycle Company          Missouri\n4          A Typical Bike Shop             Texas\n..                         ...               ...\n422             World of Bikes          Missouri\n423  Worthwhile Activity Store           Florida\n424          Year-Round Sports        Washington\n425     Yellow Bicycle Company          Missouri\n426            eCommerce Bikes       Mississippi\n\n[427 rows x 2 columns]"
          },
          "metadata": {},
          "output_type": "display_data"
        }
      ],
      "source": "%%sql\nSELECT\n    c.name,\n    c.address.location.stateProvinceName\nFROM c\nWHERE c.address.countryRegionName = 'United States'\nORDER BY c.name"
    },
    {
      "cell_type": "markdown",
      "metadata": {},
      "source": "**GROUP BY**\n\n*This functionality does not work with cross-partition queries in Jupyter Notebooks. Run it in Data Explorer instead, or use SDK3.*"
    },
    {
      "cell_type": "code",
      "execution_count": 41,
      "metadata": {
        "collapsed": false,
        "execution": {
          "iopub.execute_input": "2020-08-28T14:28:46.527Z",
          "iopub.status.busy": "2020-08-28T14:28:46.508Z",
          "iopub.status.idle": "2020-08-28T14:28:46.793Z",
          "shell.execute_reply": "2020-08-28T14:28:47.041Z"
        },
        "inputHidden": false,
        "outputHidden": false,
        "trusted": true
      },
      "outputs": [
        {
          "name": "stdout",
          "output_type": "stream",
          "text": "(BadRequest) Message: {\"Errors\":[\"Cross partition query only supports 'VALUE <AggreateFunc>' for aggregates.\"]}\r\nActivityId: 651347e0-e278-415f-af04-f586a85aed4e, Microsoft.Azure.Documents.Common/2.11.0\n"
        }
      ],
      "source": "query(stores, \"\"\"\nSELECT\n    COUNT(c) AS StoreCount,\n    c.address.location.stateProvinceName\nFROM c\nWHERE c.address.countryRegionName = 'United States'\nGROUP BY c.address.location.stateProvinceName\n\"\"\")"
    },
    {
      "cell_type": "markdown",
      "metadata": {},
      "source": "**Capture all U.S. stores into a Pandas dataframe**"
    },
    {
      "cell_type": "code",
      "execution_count": 42,
      "metadata": {
        "collapsed": false,
        "execution": {
          "iopub.execute_input": "2020-08-28T14:28:47.116Z",
          "iopub.status.busy": "2020-08-28T14:28:47.083Z",
          "iopub.status.idle": "2020-08-28T14:28:47.367Z",
          "shell.execute_reply": "2020-08-28T14:28:47.400Z"
        },
        "inputHidden": false,
        "outputHidden": false,
        "trusted": true
      },
      "outputs": [
        {
          "data": {
            "text/html": "\r\n<div>\r\n  <style type='text/css' scoped>\r\n.collapsible {\r\n  background-color: #fff;\r\n  color: #0078D4;\r\n  cursor: pointer;\r\n  padding: 10px;\r\n  border: none;\r\n  text-align: left;\r\n  outline: none;\r\n  font-size: 15px;\r\n  border-radius: 5px;\r\n  margin: 5px\r\n}\r\n\r\n.active, .collapsible:hover {\r\n  color: #4db2ff;\r\n}\r\n\r\n.content {\r\n  margin: 2px;\r\n  padding: 0 18px;\r\n  overflow: hidden;\r\n  background-color: #fff;\r\n  height: 0px;\r\n  -moz-transition: height .2s ease-out;\r\n  -ms-transition: height .2s ease-out;\r\n  -o-transition: height .2s ease-out;\r\n  -webkit-transition: height .2s ease-out;\r\n  transition: height .2s ease-out;\r\n}\r\n</style>\r\n\r\n<button type='button' class='collapsible'>▶ View Query Metrics</button>\r\n  \r\n<div class='content'>\r\n  <div class='measuringWrapper'>\r\n    <span style=\"color:#0078D4\"><b>totalExecutionTimeInMs    </b>:    6.95<br/><b>queryCompileTimeInMs    </b>:    0.2<br/><b>queryLogicalPlanBuildTimeInMs    </b>:    0.07<br/><b>queryPhysicalPlanBuildTimeInMs    </b>:    0.1<br/><b>queryOptimizationTimeInMs    </b>:    0.01<br/><b>VMExecutionTimeInMs    </b>:    6.33<br/><b>indexLookupTimeInMs    </b>:    0.27<br/><b>documentLoadTimeInMs    </b>:    2.72<br/><b>systemFunctionExecuteTimeInMs    </b>:    0<br/><b>userFunctionExecuteTimeInMs    </b>:    0<br/><b>retrievedDocumentCount    </b>:    427<br/><b>retrievedDocumentSize    </b>:    206567<br/><b>outputDocumentCount    </b>:    427<br/><b>outputDocumentSize    </b>:    67752<br/><b>writeOutputTimeInMs    </b>:    0.49<br/><b>averageIndexUtilizationRation    </b>:    1<br/></span>\r\n  </div>\r\n</div>\r\n\r\n<script>\r\nvar coll = document.getElementsByClassName('collapsible');\r\nvar i;\r\n\r\nfor (i = 0; i < coll.length; i++) {\r\n  \r\n  coll[i].addEventListener('click', function() {\r\n    this.classList.toggle('active');\r\n    var content = this.nextElementSibling;\r\n    \r\n    if (content.clientHeight != 0) {\r\n      this.textContent = '▶ View Query Metrics';\r\n      content.style.height = '0px';\r\n    }\r\n    else {\r\n      this.textContent = '▼ Hide Query Metrics';\r\n      content.style.height = content.children[0].clientHeight + 'px';\r\n    }\r\n  });\r\n}\r\n</script>\r\n</div>"
          },
          "metadata": {},
          "output_type": "display_data"
        }
      ],
      "source": "%%sql --output df_usStores\nSELECT\n    c.name,\n    c.address.location.stateProvinceName\nFROM c\nWHERE c.address.countryRegionName = 'United States'\nORDER BY c.name"
    },
    {
      "cell_type": "code",
      "execution_count": 43,
      "metadata": {
        "collapsed": false,
        "execution": {
          "iopub.execute_input": "2020-08-28T14:28:47.659Z",
          "iopub.status.busy": "2020-08-28T14:28:47.437Z",
          "iopub.status.idle": "2020-08-28T14:28:47.931Z",
          "shell.execute_reply": "2020-08-28T14:28:47.964Z"
        },
        "inputHidden": false,
        "outputHidden": false,
        "trusted": true
      },
      "outputs": [
        {
          "data": {
            "text/html": "<div>\n<style scoped>\n    .dataframe tbody tr th:only-of-type {\n        vertical-align: middle;\n    }\n\n    .dataframe tbody tr th {\n        vertical-align: top;\n    }\n\n    .dataframe thead th {\n        text-align: right;\n    }\n</style>\n<table border=\"1\" class=\"dataframe\">\n  <thead>\n    <tr style=\"text-align: right;\">\n      <th></th>\n      <th>name</th>\n      <th>stateProvinceName</th>\n    </tr>\n  </thead>\n  <tbody>\n    <tr>\n      <th>0</th>\n      <td>A Bicycle Association</td>\n      <td>New York</td>\n    </tr>\n    <tr>\n      <th>1</th>\n      <td>A Bike Store</td>\n      <td>Washington</td>\n    </tr>\n    <tr>\n      <th>2</th>\n      <td>A Cycle Shop</td>\n      <td>Oregon</td>\n    </tr>\n    <tr>\n      <th>3</th>\n      <td>A Great Bicycle Company</td>\n      <td>Missouri</td>\n    </tr>\n    <tr>\n      <th>4</th>\n      <td>A Typical Bike Shop</td>\n      <td>Texas</td>\n    </tr>\n    <tr>\n      <th>...</th>\n      <td>...</td>\n      <td>...</td>\n    </tr>\n    <tr>\n      <th>422</th>\n      <td>World of Bikes</td>\n      <td>Missouri</td>\n    </tr>\n    <tr>\n      <th>423</th>\n      <td>Worthwhile Activity Store</td>\n      <td>Florida</td>\n    </tr>\n    <tr>\n      <th>424</th>\n      <td>Year-Round Sports</td>\n      <td>Washington</td>\n    </tr>\n    <tr>\n      <th>425</th>\n      <td>Yellow Bicycle Company</td>\n      <td>Missouri</td>\n    </tr>\n    <tr>\n      <th>426</th>\n      <td>eCommerce Bikes</td>\n      <td>Mississippi</td>\n    </tr>\n  </tbody>\n</table>\n<p>427 rows × 2 columns</p>\n</div>",
            "text/plain": "                          name stateProvinceName\n0        A Bicycle Association          New York\n1                 A Bike Store        Washington\n2                 A Cycle Shop            Oregon\n3      A Great Bicycle Company          Missouri\n4          A Typical Bike Shop             Texas\n..                         ...               ...\n422             World of Bikes          Missouri\n423  Worthwhile Activity Store           Florida\n424          Year-Round Sports        Washington\n425     Yellow Bicycle Company          Missouri\n426            eCommerce Bikes       Mississippi\n\n[427 rows x 2 columns]"
          },
          "metadata": {},
          "output_type": "display_data"
        }
      ],
      "source": "display(df_usStores)"
    },
    {
      "cell_type": "markdown",
      "metadata": {},
      "source": "**Use .groupby on Pandas dataframe to get counts by state**"
    },
    {
      "cell_type": "code",
      "execution_count": 44,
      "metadata": {
        "collapsed": false,
        "execution": {
          "iopub.execute_input": "2020-08-28T14:28:48.247Z",
          "iopub.status.busy": "2020-08-28T14:28:48.027Z",
          "iopub.status.idle": "2020-08-28T14:28:48.353Z",
          "shell.execute_reply": "2020-08-28T14:28:48.388Z"
        },
        "inputHidden": false,
        "outputHidden": false,
        "trusted": true
      },
      "outputs": [
        {
          "data": {
            "text/html": "<div>\n<style scoped>\n    .dataframe tbody tr th:only-of-type {\n        vertical-align: middle;\n    }\n\n    .dataframe tbody tr th {\n        vertical-align: top;\n    }\n\n    .dataframe thead th {\n        text-align: right;\n    }\n</style>\n<table border=\"1\" class=\"dataframe\">\n  <thead>\n    <tr style=\"text-align: right;\">\n      <th></th>\n      <th>stateProvinceName</th>\n      <th>name</th>\n    </tr>\n  </thead>\n  <tbody>\n    <tr>\n      <th>0</th>\n      <td>Alabama</td>\n      <td>6</td>\n    </tr>\n    <tr>\n      <th>1</th>\n      <td>Arizona</td>\n      <td>12</td>\n    </tr>\n    <tr>\n      <th>2</th>\n      <td>California</td>\n      <td>78</td>\n    </tr>\n    <tr>\n      <th>3</th>\n      <td>Colorado</td>\n      <td>9</td>\n    </tr>\n    <tr>\n      <th>4</th>\n      <td>Connecticut</td>\n      <td>9</td>\n    </tr>\n    <tr>\n      <th>5</th>\n      <td>Florida</td>\n      <td>27</td>\n    </tr>\n    <tr>\n      <th>6</th>\n      <td>Georgia</td>\n      <td>13</td>\n    </tr>\n    <tr>\n      <th>7</th>\n      <td>Idaho</td>\n      <td>3</td>\n    </tr>\n    <tr>\n      <th>8</th>\n      <td>Illinois</td>\n      <td>15</td>\n    </tr>\n    <tr>\n      <th>9</th>\n      <td>Indiana</td>\n      <td>9</td>\n    </tr>\n    <tr>\n      <th>10</th>\n      <td>Kentucky</td>\n      <td>5</td>\n    </tr>\n    <tr>\n      <th>11</th>\n      <td>Maine</td>\n      <td>2</td>\n    </tr>\n    <tr>\n      <th>12</th>\n      <td>Massachusetts</td>\n      <td>5</td>\n    </tr>\n    <tr>\n      <th>13</th>\n      <td>Michigan</td>\n      <td>16</td>\n    </tr>\n    <tr>\n      <th>14</th>\n      <td>Minnesota</td>\n      <td>6</td>\n    </tr>\n    <tr>\n      <th>15</th>\n      <td>Mississippi</td>\n      <td>3</td>\n    </tr>\n    <tr>\n      <th>16</th>\n      <td>Missouri</td>\n      <td>11</td>\n    </tr>\n    <tr>\n      <th>17</th>\n      <td>Montana</td>\n      <td>3</td>\n    </tr>\n    <tr>\n      <th>18</th>\n      <td>Nevada</td>\n      <td>7</td>\n    </tr>\n    <tr>\n      <th>19</th>\n      <td>New Hampshire</td>\n      <td>5</td>\n    </tr>\n    <tr>\n      <th>20</th>\n      <td>New Mexico</td>\n      <td>3</td>\n    </tr>\n    <tr>\n      <th>21</th>\n      <td>New York</td>\n      <td>11</td>\n    </tr>\n    <tr>\n      <th>22</th>\n      <td>North Carolina</td>\n      <td>7</td>\n    </tr>\n    <tr>\n      <th>23</th>\n      <td>Ohio</td>\n      <td>12</td>\n    </tr>\n    <tr>\n      <th>24</th>\n      <td>Oregon</td>\n      <td>18</td>\n    </tr>\n    <tr>\n      <th>25</th>\n      <td>Rhode Island</td>\n      <td>3</td>\n    </tr>\n    <tr>\n      <th>26</th>\n      <td>South Carolina</td>\n      <td>3</td>\n    </tr>\n    <tr>\n      <th>27</th>\n      <td>South Dakota</td>\n      <td>2</td>\n    </tr>\n    <tr>\n      <th>28</th>\n      <td>Tennessee</td>\n      <td>16</td>\n    </tr>\n    <tr>\n      <th>29</th>\n      <td>Texas</td>\n      <td>38</td>\n    </tr>\n    <tr>\n      <th>30</th>\n      <td>Utah</td>\n      <td>9</td>\n    </tr>\n    <tr>\n      <th>31</th>\n      <td>Virginia</td>\n      <td>5</td>\n    </tr>\n    <tr>\n      <th>32</th>\n      <td>Washington</td>\n      <td>47</td>\n    </tr>\n    <tr>\n      <th>33</th>\n      <td>Wisconsin</td>\n      <td>4</td>\n    </tr>\n    <tr>\n      <th>34</th>\n      <td>Wyoming</td>\n      <td>5</td>\n    </tr>\n  </tbody>\n</table>\n</div>",
            "text/plain": "   stateProvinceName  name\n0            Alabama     6\n1            Arizona    12\n2         California    78\n3           Colorado     9\n4        Connecticut     9\n5            Florida    27\n6            Georgia    13\n7              Idaho     3\n8           Illinois    15\n9            Indiana     9\n10          Kentucky     5\n11             Maine     2\n12     Massachusetts     5\n13          Michigan    16\n14         Minnesota     6\n15       Mississippi     3\n16          Missouri    11\n17           Montana     3\n18            Nevada     7\n19     New Hampshire     5\n20        New Mexico     3\n21          New York    11\n22    North Carolina     7\n23              Ohio    12\n24            Oregon    18\n25      Rhode Island     3\n26    South Carolina     3\n27      South Dakota     2\n28         Tennessee    16\n29             Texas    38\n30              Utah     9\n31          Virginia     5\n32        Washington    47\n33         Wisconsin     4\n34           Wyoming     5"
          },
          "metadata": {},
          "output_type": "display_data"
        }
      ],
      "source": "df_byState = df_usStores.groupby(\"stateProvinceName\").count().reset_index()\ndisplay(df_byState)"
    },
    {
      "cell_type": "markdown",
      "metadata": {},
      "source": "**Enable paging, filtering, sorting, and charting**"
    },
    {
      "cell_type": "code",
      "execution_count": 45,
      "metadata": {
        "collapsed": false,
        "execution": {
          "iopub.execute_input": "2020-08-28T14:28:48.593Z",
          "iopub.status.busy": "2020-08-28T14:28:48.426Z",
          "iopub.status.idle": "2020-08-28T14:28:48.820Z",
          "shell.execute_reply": "2020-08-28T14:28:48.851Z"
        },
        "inputHidden": false,
        "outputHidden": false,
        "trusted": true
      },
      "outputs": [
        {
          "data": {
            "application/vnd.dataresource+json": {
              "data": [
                {
                  "index": 0,
                  "name": 6,
                  "stateProvinceName": "Alabama"
                },
                {
                  "index": 1,
                  "name": 12,
                  "stateProvinceName": "Arizona"
                },
                {
                  "index": 2,
                  "name": 78,
                  "stateProvinceName": "California"
                },
                {
                  "index": 3,
                  "name": 9,
                  "stateProvinceName": "Colorado"
                },
                {
                  "index": 4,
                  "name": 9,
                  "stateProvinceName": "Connecticut"
                },
                {
                  "index": 5,
                  "name": 27,
                  "stateProvinceName": "Florida"
                },
                {
                  "index": 6,
                  "name": 13,
                  "stateProvinceName": "Georgia"
                },
                {
                  "index": 7,
                  "name": 3,
                  "stateProvinceName": "Idaho"
                },
                {
                  "index": 8,
                  "name": 15,
                  "stateProvinceName": "Illinois"
                },
                {
                  "index": 9,
                  "name": 9,
                  "stateProvinceName": "Indiana"
                },
                {
                  "index": 10,
                  "name": 5,
                  "stateProvinceName": "Kentucky"
                },
                {
                  "index": 11,
                  "name": 2,
                  "stateProvinceName": "Maine"
                },
                {
                  "index": 12,
                  "name": 5,
                  "stateProvinceName": "Massachusetts"
                },
                {
                  "index": 13,
                  "name": 16,
                  "stateProvinceName": "Michigan"
                },
                {
                  "index": 14,
                  "name": 6,
                  "stateProvinceName": "Minnesota"
                },
                {
                  "index": 15,
                  "name": 3,
                  "stateProvinceName": "Mississippi"
                },
                {
                  "index": 16,
                  "name": 11,
                  "stateProvinceName": "Missouri"
                },
                {
                  "index": 17,
                  "name": 3,
                  "stateProvinceName": "Montana"
                },
                {
                  "index": 18,
                  "name": 7,
                  "stateProvinceName": "Nevada"
                },
                {
                  "index": 19,
                  "name": 5,
                  "stateProvinceName": "New Hampshire"
                },
                {
                  "index": 20,
                  "name": 3,
                  "stateProvinceName": "New Mexico"
                },
                {
                  "index": 21,
                  "name": 11,
                  "stateProvinceName": "New York"
                },
                {
                  "index": 22,
                  "name": 7,
                  "stateProvinceName": "North Carolina"
                },
                {
                  "index": 23,
                  "name": 12,
                  "stateProvinceName": "Ohio"
                },
                {
                  "index": 24,
                  "name": 18,
                  "stateProvinceName": "Oregon"
                },
                {
                  "index": 25,
                  "name": 3,
                  "stateProvinceName": "Rhode Island"
                },
                {
                  "index": 26,
                  "name": 3,
                  "stateProvinceName": "South Carolina"
                },
                {
                  "index": 27,
                  "name": 2,
                  "stateProvinceName": "South Dakota"
                },
                {
                  "index": 28,
                  "name": 16,
                  "stateProvinceName": "Tennessee"
                },
                {
                  "index": 29,
                  "name": 38,
                  "stateProvinceName": "Texas"
                },
                {
                  "index": 30,
                  "name": 9,
                  "stateProvinceName": "Utah"
                },
                {
                  "index": 31,
                  "name": 5,
                  "stateProvinceName": "Virginia"
                },
                {
                  "index": 32,
                  "name": 47,
                  "stateProvinceName": "Washington"
                },
                {
                  "index": 33,
                  "name": 4,
                  "stateProvinceName": "Wisconsin"
                },
                {
                  "index": 34,
                  "name": 5,
                  "stateProvinceName": "Wyoming"
                }
              ],
              "schema": {
                "fields": [
                  {
                    "name": "index",
                    "type": "integer"
                  },
                  {
                    "name": "stateProvinceName",
                    "type": "string"
                  },
                  {
                    "name": "name",
                    "type": "integer"
                  }
                ],
                "pandas_version": "0.20.0",
                "primaryKey": [
                  "index"
                ]
              }
            },
            "text/html": "<div>\n<style scoped>\n    .dataframe tbody tr th:only-of-type {\n        vertical-align: middle;\n    }\n\n    .dataframe tbody tr th {\n        vertical-align: top;\n    }\n\n    .dataframe thead th {\n        text-align: right;\n    }\n</style>\n<table border=\"1\" class=\"dataframe\">\n  <thead>\n    <tr style=\"text-align: right;\">\n      <th></th>\n      <th>stateProvinceName</th>\n      <th>name</th>\n    </tr>\n  </thead>\n  <tbody>\n    <tr>\n      <th>0</th>\n      <td>Alabama</td>\n      <td>6</td>\n    </tr>\n    <tr>\n      <th>1</th>\n      <td>Arizona</td>\n      <td>12</td>\n    </tr>\n    <tr>\n      <th>2</th>\n      <td>California</td>\n      <td>78</td>\n    </tr>\n    <tr>\n      <th>3</th>\n      <td>Colorado</td>\n      <td>9</td>\n    </tr>\n    <tr>\n      <th>4</th>\n      <td>Connecticut</td>\n      <td>9</td>\n    </tr>\n    <tr>\n      <th>5</th>\n      <td>Florida</td>\n      <td>27</td>\n    </tr>\n    <tr>\n      <th>6</th>\n      <td>Georgia</td>\n      <td>13</td>\n    </tr>\n    <tr>\n      <th>7</th>\n      <td>Idaho</td>\n      <td>3</td>\n    </tr>\n    <tr>\n      <th>8</th>\n      <td>Illinois</td>\n      <td>15</td>\n    </tr>\n    <tr>\n      <th>9</th>\n      <td>Indiana</td>\n      <td>9</td>\n    </tr>\n    <tr>\n      <th>10</th>\n      <td>Kentucky</td>\n      <td>5</td>\n    </tr>\n    <tr>\n      <th>11</th>\n      <td>Maine</td>\n      <td>2</td>\n    </tr>\n    <tr>\n      <th>12</th>\n      <td>Massachusetts</td>\n      <td>5</td>\n    </tr>\n    <tr>\n      <th>13</th>\n      <td>Michigan</td>\n      <td>16</td>\n    </tr>\n    <tr>\n      <th>14</th>\n      <td>Minnesota</td>\n      <td>6</td>\n    </tr>\n    <tr>\n      <th>15</th>\n      <td>Mississippi</td>\n      <td>3</td>\n    </tr>\n    <tr>\n      <th>16</th>\n      <td>Missouri</td>\n      <td>11</td>\n    </tr>\n    <tr>\n      <th>17</th>\n      <td>Montana</td>\n      <td>3</td>\n    </tr>\n    <tr>\n      <th>18</th>\n      <td>Nevada</td>\n      <td>7</td>\n    </tr>\n    <tr>\n      <th>19</th>\n      <td>New Hampshire</td>\n      <td>5</td>\n    </tr>\n    <tr>\n      <th>20</th>\n      <td>New Mexico</td>\n      <td>3</td>\n    </tr>\n    <tr>\n      <th>21</th>\n      <td>New York</td>\n      <td>11</td>\n    </tr>\n    <tr>\n      <th>22</th>\n      <td>North Carolina</td>\n      <td>7</td>\n    </tr>\n    <tr>\n      <th>23</th>\n      <td>Ohio</td>\n      <td>12</td>\n    </tr>\n    <tr>\n      <th>24</th>\n      <td>Oregon</td>\n      <td>18</td>\n    </tr>\n    <tr>\n      <th>25</th>\n      <td>Rhode Island</td>\n      <td>3</td>\n    </tr>\n    <tr>\n      <th>26</th>\n      <td>South Carolina</td>\n      <td>3</td>\n    </tr>\n    <tr>\n      <th>27</th>\n      <td>South Dakota</td>\n      <td>2</td>\n    </tr>\n    <tr>\n      <th>28</th>\n      <td>Tennessee</td>\n      <td>16</td>\n    </tr>\n    <tr>\n      <th>29</th>\n      <td>Texas</td>\n      <td>38</td>\n    </tr>\n    <tr>\n      <th>30</th>\n      <td>Utah</td>\n      <td>9</td>\n    </tr>\n    <tr>\n      <th>31</th>\n      <td>Virginia</td>\n      <td>5</td>\n    </tr>\n    <tr>\n      <th>32</th>\n      <td>Washington</td>\n      <td>47</td>\n    </tr>\n    <tr>\n      <th>33</th>\n      <td>Wisconsin</td>\n      <td>4</td>\n    </tr>\n    <tr>\n      <th>34</th>\n      <td>Wyoming</td>\n      <td>5</td>\n    </tr>\n  </tbody>\n</table>\n</div>",
            "text/plain": "   stateProvinceName  name\n0            Alabama     6\n1            Arizona    12\n2         California    78\n3           Colorado     9\n4        Connecticut     9\n5            Florida    27\n6            Georgia    13\n7              Idaho     3\n8           Illinois    15\n9            Indiana     9\n10          Kentucky     5\n11             Maine     2\n12     Massachusetts     5\n13          Michigan    16\n14         Minnesota     6\n15       Mississippi     3\n16          Missouri    11\n17           Montana     3\n18            Nevada     7\n19     New Hampshire     5\n20        New Mexico     3\n21          New York    11\n22    North Carolina     7\n23              Ohio    12\n24            Oregon    18\n25      Rhode Island     3\n26    South Carolina     3\n27      South Dakota     2\n28         Tennessee    16\n29             Texas    38\n30              Utah     9\n31          Virginia     5\n32        Washington    47\n33         Wisconsin     4\n34           Wyoming     5"
          },
          "metadata": {
            "application/vnd.dataresource+json": {
              "dx": {
                "areaType": "hexbin",
                "barGrouping": "Clustered",
                "chart": {
                  "dim1": "stateProvinceName",
                  "dim2": "none",
                  "dim3": "none",
                  "metric1": "name",
                  "metric2": "none",
                  "metric3": "none",
                  "metric4": "none",
                  "networkLabel": "none",
                  "timeseriesSort": "array-order"
                },
                "colors": [
                  "#DA752E",
                  "#E5C209",
                  "#1441A0",
                  "#B86117",
                  "#4D430C",
                  "#1DB390",
                  "#B3331D",
                  "#088EB2",
                  "#417505",
                  "#E479A8",
                  "#F9F39E",
                  "#5782DC",
                  "#EBA97B",
                  "#A2AB60",
                  "#B291CF",
                  "#8DD2C2",
                  "#E6A19F",
                  "#3DC7E0",
                  "#98CE5B"
                ],
                "hierarchyType": "dendrogram",
                "lineType": "line",
                "marginalGraphics": "none",
                "networkType": "force",
                "pieceType": "bar",
                "selectedDimensions": [
                  "stateProvinceName"
                ],
                "selectedMetrics": [],
                "summaryType": "violin",
                "trendLine": "none",
                "view": "grid"
              }
            }
          },
          "output_type": "display_data"
        }
      ],
      "source": "pd.options.display.html.table_schema = True\ndisplay(df_byState)\npd.options.display.html.table_schema = False"
    },
    {
      "cell_type": "markdown",
      "metadata": {},
      "source": "**Cross-partition aggregates require VALUE**"
    },
    {
      "cell_type": "code",
      "execution_count": 46,
      "metadata": {
        "collapsed": false,
        "execution": {
          "iopub.execute_input": "2020-08-28T14:28:49.004Z",
          "iopub.status.busy": "2020-08-28T14:28:48.891Z",
          "iopub.status.idle": "2020-08-28T14:28:49.120Z",
          "shell.execute_reply": "2020-08-28T14:28:49.245Z"
        },
        "inputHidden": false,
        "outputHidden": false,
        "trusted": true
      },
      "outputs": [
        {
          "name": "stdout",
          "output_type": "stream",
          "text": "Total families\n[\n    3\n]\nLowest grade\n[\n    1\n]\nHighest grade\n[\n    7\n]\nAverage grade\n[\n    4.4\n]\nFewest children\n[\n    1\n]\nMost children\n[\n    2\n]\nTotal children\n[\n    5\n]\nTotal pets\n[\n    6\n]\n"
        }
      ],
      "source": "query(families, showStats = False, desc = \"Total families\", sql =\n      \"SELECT VALUE COUNT(c) FROM c\")\n\nquery(families, showStats = False, desc = \"Lowest grade\", sql =\n      \"SELECT VALUE MIN(ch.grade) FROM ch IN c.children\")\n\nquery(families, showStats = False, desc = \"Highest grade\", sql =\n      \"SELECT VALUE MAX(ch.grade) FROM ch IN c.children\")\n\nquery(families, showStats = False, desc = \"Average grade\", sql =\n      \"SELECT VALUE AVG(ch.grade) FROM ch IN c.children\")\n\nquery(families, showStats = False, desc = \"Fewest children\", sql =\n      \"SELECT VALUE MIN(ARRAY_LENGTH(c.children)) FROM c\")\n\nquery(families, showStats = False, desc = \"Most children\", sql =\n      \"SELECT VALUE MAX(ARRAY_LENGTH(c.children)) FROM c\")\n\nquery(families, showStats = False, desc = \"Total children\", sql =\n      \"SELECT VALUE SUM(ARRAY_LENGTH(c.children)) FROM c\")\n\nquery(families, showStats = False, desc = \"Total pets\", sql =\n      \"SELECT VALUE SUM(ARRAY_LENGTH(ch.pets)) FROM ch IN c.children\")\n"
    },
    {
      "cell_type": "markdown",
      "metadata": {},
      "source": "## Spatial Queries"
    },
    {
      "cell_type": "markdown",
      "metadata": {},
      "source": "**Each family document has GeoJSON coordinates in the geo property**"
    },
    {
      "cell_type": "code",
      "execution_count": 47,
      "metadata": {
        "collapsed": false,
        "execution": {
          "iopub.execute_input": "2020-08-28T14:28:49.300Z",
          "iopub.status.busy": "2020-08-28T14:28:49.283Z",
          "iopub.status.idle": "2020-08-28T14:28:49.482Z",
          "shell.execute_reply": "2020-08-28T14:28:49.861Z"
        },
        "inputHidden": false,
        "outputHidden": false,
        "trusted": true
      },
      "outputs": [
        {
          "name": "stdout",
          "output_type": "stream",
          "text": "3 document(s) selected (charge= 2.35 RUs)\n\n[\n    {\n        \"name\": \"AndersenFamily, Seattle (King), WA\",\n        \"geo\": {\n            \"type\": \"Point\",\n            \"coordinates\": [\n                -122.3295,\n                47.60357\n            ]\n        }\n    },\n    {\n        \"name\": \"SmithFamily, Forest Hills (Queens), NY\",\n        \"geo\": {\n            \"type\": \"Point\",\n            \"coordinates\": [\n                -73.84791,\n                40.72266\n            ]\n        }\n    },\n    {\n        \"name\": \"WakefieldFamily, NY (Manhattan), NY\",\n        \"geo\": {\n            \"type\": \"Point\",\n            \"coordinates\": [\n                -73.992,\n                40.731\n            ]\n        }\n    }\n]\n"
        }
      ],
      "source": "query(families, \"\"\"\nSELECT\n c.id || ', ' || c.location.city || ' (' || c.location.county || '), ' || c.location.state AS name,\n c.geo\nFROM c\n\n\"\"\")"
    },
    {
      "cell_type": "markdown",
      "metadata": {},
      "source": "**Show each family's distance (in meters) from NYC**"
    },
    {
      "cell_type": "code",
      "execution_count": 53,
      "metadata": {
        "collapsed": true,
        "execution": {
          "iopub.status.busy": "2020-08-28T14:28:31.668Z",
          "iopub.status.idle": "2020-08-28T14:28:31.735Z",
          "shell.execute_reply": "2020-08-28T14:28:31.851Z"
        },
        "jupyter": {
          "outputs_hidden": false,
          "source_hidden": false
        },
        "nteract": {
          "transient": {
            "deleting": false
          }
        },
        "outputExpanded": false,
        "trusted": true
      },
      "outputs": [],
      "source": "%%database Families"
    },
    {
      "cell_type": "code",
      "execution_count": 54,
      "metadata": {
        "collapsed": true,
        "execution": {
          "iopub.status.busy": "2020-08-28T14:28:31.908Z",
          "iopub.status.idle": "2020-08-28T14:28:31.968Z",
          "shell.execute_reply": "2020-08-28T14:28:32.116Z"
        },
        "jupyter": {
          "outputs_hidden": false,
          "source_hidden": false
        },
        "nteract": {
          "transient": {
            "deleting": false
          }
        },
        "outputExpanded": false,
        "trusted": true
      },
      "outputs": [],
      "source": "%%container Families"
    },
    {
      "cell_type": "code",
      "execution_count": 48,
      "metadata": {
        "collapsed": false,
        "execution": {
          "iopub.execute_input": "2020-08-28T14:28:50.174Z",
          "iopub.status.busy": "2020-08-28T14:28:49.949Z",
          "iopub.status.idle": "2020-08-28T14:28:50.253Z",
          "shell.execute_reply": "2020-08-28T14:28:50.503Z"
        },
        "inputHidden": false,
        "outputHidden": false,
        "trusted": true
      },
      "outputs": [
        {
          "data": {
            "text/html": "\r\n<div>\r\n  <style type='text/css' scoped>\r\n.collapsible {\r\n  background-color: #fff;\r\n  color: #0078D4;\r\n  cursor: pointer;\r\n  padding: 10px;\r\n  border: none;\r\n  text-align: left;\r\n  outline: none;\r\n  font-size: 15px;\r\n  border-radius: 5px;\r\n  margin: 5px\r\n}\r\n\r\n.active, .collapsible:hover {\r\n  color: #4db2ff;\r\n}\r\n\r\n.content {\r\n  margin: 2px;\r\n  padding: 0 18px;\r\n  overflow: hidden;\r\n  background-color: #fff;\r\n  height: 0px;\r\n  -moz-transition: height .2s ease-out;\r\n  -ms-transition: height .2s ease-out;\r\n  -o-transition: height .2s ease-out;\r\n  -webkit-transition: height .2s ease-out;\r\n  transition: height .2s ease-out;\r\n}\r\n</style>\r\n\r\n<button type='button' class='collapsible'>▶ View Query Metrics</button>\r\n  \r\n<div class='content'>\r\n  <div class='measuringWrapper'>\r\n    <span style=\"color:#0078D4\"><b>totalExecutionTimeInMs    </b>:    0.9<br/><b>queryCompileTimeInMs    </b>:    0.17<br/><b>queryLogicalPlanBuildTimeInMs    </b>:    0.07<br/><b>queryPhysicalPlanBuildTimeInMs    </b>:    0.03<br/><b>queryOptimizationTimeInMs    </b>:    0<br/><b>VMExecutionTimeInMs    </b>:    0.36<br/><b>indexLookupTimeInMs    </b>:    0<br/><b>documentLoadTimeInMs    </b>:    0.06<br/><b>systemFunctionExecuteTimeInMs    </b>:    0.22<br/><b>userFunctionExecuteTimeInMs    </b>:    0<br/><b>retrievedDocumentCount    </b>:    3<br/><b>retrievedDocumentSize    </b>:    2058<br/><b>outputDocumentCount    </b>:    3<br/><b>outputDocumentSize    </b>:    302<br/><b>writeOutputTimeInMs    </b>:    0.02<br/><b>averageIndexUtilizationRation    </b>:    1<br/></span>\r\n  </div>\r\n</div>\r\n\r\n<script>\r\nvar coll = document.getElementsByClassName('collapsible');\r\nvar i;\r\n\r\nfor (i = 0; i < coll.length; i++) {\r\n  \r\n  coll[i].addEventListener('click', function() {\r\n    this.classList.toggle('active');\r\n    var content = this.nextElementSibling;\r\n    \r\n    if (content.clientHeight != 0) {\r\n      this.textContent = '▶ View Query Metrics';\r\n      content.style.height = '0px';\r\n    }\r\n    else {\r\n      this.textContent = '▼ Hide Query Metrics';\r\n      content.style.height = content.children[0].clientHeight + 'px';\r\n    }\r\n  });\r\n}\r\n</script>\r\n</div>"
          },
          "metadata": {},
          "output_type": "display_data"
        },
        {
          "data": {
            "text/html": "<div>\n<style scoped>\n    .dataframe tbody tr th:only-of-type {\n        vertical-align: middle;\n    }\n\n    .dataframe tbody tr th {\n        vertical-align: top;\n    }\n\n    .dataframe thead th {\n        text-align: right;\n    }\n</style>\n<table border=\"1\" class=\"dataframe\">\n  <thead>\n    <tr style=\"text-align: right;\">\n      <th></th>\n      <th>family</th>\n      <th>metersFromNyc</th>\n    </tr>\n  </thead>\n  <tbody>\n    <tr>\n      <th>0</th>\n      <td>AndersenFamily, Seattle (King), WA</td>\n      <td>3.875551e+06</td>\n    </tr>\n    <tr>\n      <th>1</th>\n      <td>SmithFamily, Forest Hills (Queens), NY</td>\n      <td>1.220847e+04</td>\n    </tr>\n    <tr>\n      <th>2</th>\n      <td>WakefieldFamily, NY (Manhattan), NY</td>\n      <td>4.441948e+00</td>\n    </tr>\n  </tbody>\n</table>\n</div>",
            "text/plain": "                                   family  metersFromNyc\n0      AndersenFamily, Seattle (King), WA   3.875551e+06\n1  SmithFamily, Forest Hills (Queens), NY   1.220847e+04\n2     WakefieldFamily, NY (Manhattan), NY   4.441948e+00"
          },
          "metadata": {},
          "output_type": "display_data"
        }
      ],
      "source": "%%sql\nSELECT\n c.id || ', ' || c.location.city || ' (' || c.location.county || '), ' || c.location.state AS family,\n ST_DISTANCE(c.geo, \n  {\n   'type': 'Point',\n   'coordinates': [-73.992, 40.73104]\n  }\n ) AS metersFromNyc\nFROM c"
    },
    {
      "cell_type": "markdown",
      "metadata": {},
      "source": "**Show each family's distance (in kilometers) from NYC**"
    },
    {
      "cell_type": "code",
      "execution_count": 49,
      "metadata": {
        "collapsed": false,
        "execution": {
          "iopub.execute_input": "2020-08-28T14:28:50.605Z",
          "iopub.status.busy": "2020-08-28T14:28:50.567Z",
          "iopub.status.idle": "2020-08-28T14:28:50.825Z",
          "shell.execute_reply": "2020-08-28T14:28:50.968Z"
        },
        "inputHidden": false,
        "outputHidden": false,
        "trusted": true
      },
      "outputs": [
        {
          "data": {
            "text/html": "\r\n<div>\r\n  <style type='text/css' scoped>\r\n.collapsible {\r\n  background-color: #fff;\r\n  color: #0078D4;\r\n  cursor: pointer;\r\n  padding: 10px;\r\n  border: none;\r\n  text-align: left;\r\n  outline: none;\r\n  font-size: 15px;\r\n  border-radius: 5px;\r\n  margin: 5px\r\n}\r\n\r\n.active, .collapsible:hover {\r\n  color: #4db2ff;\r\n}\r\n\r\n.content {\r\n  margin: 2px;\r\n  padding: 0 18px;\r\n  overflow: hidden;\r\n  background-color: #fff;\r\n  height: 0px;\r\n  -moz-transition: height .2s ease-out;\r\n  -ms-transition: height .2s ease-out;\r\n  -o-transition: height .2s ease-out;\r\n  -webkit-transition: height .2s ease-out;\r\n  transition: height .2s ease-out;\r\n}\r\n</style>\r\n\r\n<button type='button' class='collapsible'>▶ View Query Metrics</button>\r\n  \r\n<div class='content'>\r\n  <div class='measuringWrapper'>\r\n    <span style=\"color:#0078D4\"><b>totalExecutionTimeInMs    </b>:    0.71<br/><b>queryCompileTimeInMs    </b>:    0.17<br/><b>queryLogicalPlanBuildTimeInMs    </b>:    0.05<br/><b>queryPhysicalPlanBuildTimeInMs    </b>:    0.03<br/><b>queryOptimizationTimeInMs    </b>:    0<br/><b>VMExecutionTimeInMs    </b>:    0.19<br/><b>indexLookupTimeInMs    </b>:    0<br/><b>documentLoadTimeInMs    </b>:    0.04<br/><b>systemFunctionExecuteTimeInMs    </b>:    0.07<br/><b>userFunctionExecuteTimeInMs    </b>:    0<br/><b>retrievedDocumentCount    </b>:    3<br/><b>retrievedDocumentSize    </b>:    2058<br/><b>outputDocumentCount    </b>:    3<br/><b>outputDocumentSize    </b>:    292<br/><b>writeOutputTimeInMs    </b>:    0.02<br/><b>averageIndexUtilizationRation    </b>:    1<br/></span>\r\n  </div>\r\n</div>\r\n\r\n<script>\r\nvar coll = document.getElementsByClassName('collapsible');\r\nvar i;\r\n\r\nfor (i = 0; i < coll.length; i++) {\r\n  \r\n  coll[i].addEventListener('click', function() {\r\n    this.classList.toggle('active');\r\n    var content = this.nextElementSibling;\r\n    \r\n    if (content.clientHeight != 0) {\r\n      this.textContent = '▶ View Query Metrics';\r\n      content.style.height = '0px';\r\n    }\r\n    else {\r\n      this.textContent = '▼ Hide Query Metrics';\r\n      content.style.height = content.children[0].clientHeight + 'px';\r\n    }\r\n  });\r\n}\r\n</script>\r\n</div>"
          },
          "metadata": {},
          "output_type": "display_data"
        },
        {
          "data": {
            "text/html": "<div>\n<style scoped>\n    .dataframe tbody tr th:only-of-type {\n        vertical-align: middle;\n    }\n\n    .dataframe tbody tr th {\n        vertical-align: top;\n    }\n\n    .dataframe thead th {\n        text-align: right;\n    }\n</style>\n<table border=\"1\" class=\"dataframe\">\n  <thead>\n    <tr style=\"text-align: right;\">\n      <th></th>\n      <th>family</th>\n      <th>kmFromNyc</th>\n    </tr>\n  </thead>\n  <tbody>\n    <tr>\n      <th>0</th>\n      <td>AndersenFamily, Seattle (King), WA</td>\n      <td>3875.551243</td>\n    </tr>\n    <tr>\n      <th>1</th>\n      <td>SmithFamily, Forest Hills (Queens), NY</td>\n      <td>12.208466</td>\n    </tr>\n    <tr>\n      <th>2</th>\n      <td>WakefieldFamily, NY (Manhattan), NY</td>\n      <td>0.004442</td>\n    </tr>\n  </tbody>\n</table>\n</div>",
            "text/plain": "                                   family    kmFromNyc\n0      AndersenFamily, Seattle (King), WA  3875.551243\n1  SmithFamily, Forest Hills (Queens), NY    12.208466\n2     WakefieldFamily, NY (Manhattan), NY     0.004442"
          },
          "metadata": {},
          "output_type": "display_data"
        }
      ],
      "source": "%%sql\nSELECT\n c.id || ', ' || c.location.city || ' (' || c.location.county || '), ' || c.location.state AS family,\n ST_DISTANCE(c.geo,\n  {\n   'type': 'Point',\n   'coordinates': [-73.992, 40.73104]\n  }\n ) / 1000 AS kmFromNyc\nFROM c"
    },
    {
      "cell_type": "markdown",
      "metadata": {},
      "source": "**Show each family's distance (in miles) from NYC**"
    },
    {
      "cell_type": "code",
      "execution_count": 50,
      "metadata": {
        "collapsed": false,
        "execution": {
          "iopub.execute_input": "2020-08-28T14:28:51.046Z",
          "iopub.status.busy": "2020-08-28T14:28:51.012Z",
          "iopub.status.idle": "2020-08-28T14:28:51.219Z",
          "shell.execute_reply": "2020-08-28T14:28:51.251Z"
        },
        "inputHidden": false,
        "outputHidden": false,
        "trusted": true
      },
      "outputs": [
        {
          "data": {
            "text/html": "\r\n<div>\r\n  <style type='text/css' scoped>\r\n.collapsible {\r\n  background-color: #fff;\r\n  color: #0078D4;\r\n  cursor: pointer;\r\n  padding: 10px;\r\n  border: none;\r\n  text-align: left;\r\n  outline: none;\r\n  font-size: 15px;\r\n  border-radius: 5px;\r\n  margin: 5px\r\n}\r\n\r\n.active, .collapsible:hover {\r\n  color: #4db2ff;\r\n}\r\n\r\n.content {\r\n  margin: 2px;\r\n  padding: 0 18px;\r\n  overflow: hidden;\r\n  background-color: #fff;\r\n  height: 0px;\r\n  -moz-transition: height .2s ease-out;\r\n  -ms-transition: height .2s ease-out;\r\n  -o-transition: height .2s ease-out;\r\n  -webkit-transition: height .2s ease-out;\r\n  transition: height .2s ease-out;\r\n}\r\n</style>\r\n\r\n<button type='button' class='collapsible'>▶ View Query Metrics</button>\r\n  \r\n<div class='content'>\r\n  <div class='measuringWrapper'>\r\n    <span style=\"color:#0078D4\"><b>totalExecutionTimeInMs    </b>:    0.74<br/><b>queryCompileTimeInMs    </b>:    0.18<br/><b>queryLogicalPlanBuildTimeInMs    </b>:    0.06<br/><b>queryPhysicalPlanBuildTimeInMs    </b>:    0.03<br/><b>queryOptimizationTimeInMs    </b>:    0<br/><b>VMExecutionTimeInMs    </b>:    0.19<br/><b>indexLookupTimeInMs    </b>:    0<br/><b>documentLoadTimeInMs    </b>:    0.04<br/><b>systemFunctionExecuteTimeInMs    </b>:    0.08<br/><b>userFunctionExecuteTimeInMs    </b>:    0<br/><b>retrievedDocumentCount    </b>:    3<br/><b>retrievedDocumentSize    </b>:    2058<br/><b>outputDocumentCount    </b>:    3<br/><b>outputDocumentSize    </b>:    302<br/><b>writeOutputTimeInMs    </b>:    0.02<br/><b>averageIndexUtilizationRation    </b>:    1<br/></span>\r\n  </div>\r\n</div>\r\n\r\n<script>\r\nvar coll = document.getElementsByClassName('collapsible');\r\nvar i;\r\n\r\nfor (i = 0; i < coll.length; i++) {\r\n  \r\n  coll[i].addEventListener('click', function() {\r\n    this.classList.toggle('active');\r\n    var content = this.nextElementSibling;\r\n    \r\n    if (content.clientHeight != 0) {\r\n      this.textContent = '▶ View Query Metrics';\r\n      content.style.height = '0px';\r\n    }\r\n    else {\r\n      this.textContent = '▼ Hide Query Metrics';\r\n      content.style.height = content.children[0].clientHeight + 'px';\r\n    }\r\n  });\r\n}\r\n</script>\r\n</div>"
          },
          "metadata": {},
          "output_type": "display_data"
        },
        {
          "data": {
            "text/html": "<div>\n<style scoped>\n    .dataframe tbody tr th:only-of-type {\n        vertical-align: middle;\n    }\n\n    .dataframe tbody tr th {\n        vertical-align: top;\n    }\n\n    .dataframe thead th {\n        text-align: right;\n    }\n</style>\n<table border=\"1\" class=\"dataframe\">\n  <thead>\n    <tr style=\"text-align: right;\">\n      <th></th>\n      <th>family</th>\n      <th>milesFromNyc</th>\n    </tr>\n  </thead>\n  <tbody>\n    <tr>\n      <th>0</th>\n      <td>AndersenFamily, Seattle (King), WA</td>\n      <td>2408.155888</td>\n    </tr>\n    <tr>\n      <th>1</th>\n      <td>SmithFamily, Forest Hills (Queens), NY</td>\n      <td>7.585989</td>\n    </tr>\n    <tr>\n      <th>2</th>\n      <td>WakefieldFamily, NY (Manhattan), NY</td>\n      <td>0.002760</td>\n    </tr>\n  </tbody>\n</table>\n</div>",
            "text/plain": "                                   family  milesFromNyc\n0      AndersenFamily, Seattle (King), WA   2408.155888\n1  SmithFamily, Forest Hills (Queens), NY      7.585989\n2     WakefieldFamily, NY (Manhattan), NY      0.002760"
          },
          "metadata": {},
          "output_type": "display_data"
        }
      ],
      "source": "%%sql\nSELECT\n c.id || ', ' || c.location.city || ' (' || c.location.county || '), ' || c.location.state AS family,\n ST_DISTANCE(c.geo,\n  {\n   'type': 'Point',\n   'coordinates': [-73.992, 40.73104]\n  }\n ) / 1000 * .62137119\n AS milesFromNyc\nFROM c"
    },
    {
      "cell_type": "markdown",
      "metadata": {},
      "source": "**Get families within 8 miles of NYC**"
    },
    {
      "cell_type": "code",
      "execution_count": 51,
      "metadata": {
        "collapsed": false,
        "execution": {
          "iopub.execute_input": "2020-08-28T14:28:51.472Z",
          "iopub.status.busy": "2020-08-28T14:28:51.291Z",
          "iopub.status.idle": "2020-08-28T14:28:51.541Z",
          "shell.execute_reply": "2020-08-28T14:28:51.571Z"
        },
        "inputHidden": false,
        "outputHidden": false,
        "trusted": true
      },
      "outputs": [
        {
          "data": {
            "text/html": "\r\n<div>\r\n  <style type='text/css' scoped>\r\n.collapsible {\r\n  background-color: #fff;\r\n  color: #0078D4;\r\n  cursor: pointer;\r\n  padding: 10px;\r\n  border: none;\r\n  text-align: left;\r\n  outline: none;\r\n  font-size: 15px;\r\n  border-radius: 5px;\r\n  margin: 5px\r\n}\r\n\r\n.active, .collapsible:hover {\r\n  color: #4db2ff;\r\n}\r\n\r\n.content {\r\n  margin: 2px;\r\n  padding: 0 18px;\r\n  overflow: hidden;\r\n  background-color: #fff;\r\n  height: 0px;\r\n  -moz-transition: height .2s ease-out;\r\n  -ms-transition: height .2s ease-out;\r\n  -o-transition: height .2s ease-out;\r\n  -webkit-transition: height .2s ease-out;\r\n  transition: height .2s ease-out;\r\n}\r\n</style>\r\n\r\n<button type='button' class='collapsible'>▶ View Query Metrics</button>\r\n  \r\n<div class='content'>\r\n  <div class='measuringWrapper'>\r\n    <span style=\"color:#0078D4\"><b>totalExecutionTimeInMs    </b>:    2.2<br/><b>queryCompileTimeInMs    </b>:    0.17<br/><b>queryLogicalPlanBuildTimeInMs    </b>:    0.97<br/><b>queryPhysicalPlanBuildTimeInMs    </b>:    0.06<br/><b>queryOptimizationTimeInMs    </b>:    0<br/><b>VMExecutionTimeInMs    </b>:    0.16<br/><b>indexLookupTimeInMs    </b>:    0<br/><b>documentLoadTimeInMs    </b>:    0.05<br/><b>systemFunctionExecuteTimeInMs    </b>:    0.07<br/><b>userFunctionExecuteTimeInMs    </b>:    0<br/><b>retrievedDocumentCount    </b>:    3<br/><b>retrievedDocumentSize    </b>:    2058<br/><b>outputDocumentCount    </b>:    2<br/><b>outputDocumentSize    </b>:    149<br/><b>writeOutputTimeInMs    </b>:    0<br/><b>averageIndexUtilizationRation    </b>:    0.67<br/></span>\r\n  </div>\r\n</div>\r\n\r\n<script>\r\nvar coll = document.getElementsByClassName('collapsible');\r\nvar i;\r\n\r\nfor (i = 0; i < coll.length; i++) {\r\n  \r\n  coll[i].addEventListener('click', function() {\r\n    this.classList.toggle('active');\r\n    var content = this.nextElementSibling;\r\n    \r\n    if (content.clientHeight != 0) {\r\n      this.textContent = '▶ View Query Metrics';\r\n      content.style.height = '0px';\r\n    }\r\n    else {\r\n      this.textContent = '▼ Hide Query Metrics';\r\n      content.style.height = content.children[0].clientHeight + 'px';\r\n    }\r\n  });\r\n}\r\n</script>\r\n</div>"
          },
          "metadata": {},
          "output_type": "display_data"
        },
        {
          "data": {
            "text/html": "<div>\n<style scoped>\n    .dataframe tbody tr th:only-of-type {\n        vertical-align: middle;\n    }\n\n    .dataframe tbody tr th {\n        vertical-align: top;\n    }\n\n    .dataframe thead th {\n        text-align: right;\n    }\n</style>\n<table border=\"1\" class=\"dataframe\">\n  <thead>\n    <tr style=\"text-align: right;\">\n      <th></th>\n      <th>family</th>\n    </tr>\n  </thead>\n  <tbody>\n    <tr>\n      <th>0</th>\n      <td>SmithFamily, Forest Hills (Queens), NY</td>\n    </tr>\n    <tr>\n      <th>1</th>\n      <td>WakefieldFamily, NY (Manhattan), NY</td>\n    </tr>\n  </tbody>\n</table>\n</div>",
            "text/plain": "                                   family\n0  SmithFamily, Forest Hills (Queens), NY\n1     WakefieldFamily, NY (Manhattan), NY"
          },
          "metadata": {},
          "output_type": "display_data"
        }
      ],
      "source": "%%sql\nSELECT\n c.id || ', ' || c.location.city || ' (' || c.location.county || '), ' || c.location.state AS family\nFROM c\nWHERE\n ST_DISTANCE(c.geo,\n  {\n   'type': 'Point',\n   'coordinates':\n     [-73.992, 40.73104]\n  }\n ) / 1000 * .62137119 <= 8"
    },
    {
      "cell_type": "markdown",
      "metadata": {},
      "source": "**Get families within NYC**"
    },
    {
      "cell_type": "code",
      "execution_count": 52,
      "metadata": {
        "collapsed": false,
        "execution": {
          "iopub.execute_input": "2020-08-28T14:28:51.834Z",
          "iopub.status.busy": "2020-08-28T14:28:51.801Z",
          "iopub.status.idle": "2020-08-28T14:28:52.007Z",
          "shell.execute_reply": "2020-08-28T14:28:52.038Z"
        },
        "inputHidden": false,
        "outputHidden": false,
        "trusted": true
      },
      "outputs": [
        {
          "data": {
            "text/html": "\r\n<div>\r\n  <style type='text/css' scoped>\r\n.collapsible {\r\n  background-color: #fff;\r\n  color: #0078D4;\r\n  cursor: pointer;\r\n  padding: 10px;\r\n  border: none;\r\n  text-align: left;\r\n  outline: none;\r\n  font-size: 15px;\r\n  border-radius: 5px;\r\n  margin: 5px\r\n}\r\n\r\n.active, .collapsible:hover {\r\n  color: #4db2ff;\r\n}\r\n\r\n.content {\r\n  margin: 2px;\r\n  padding: 0 18px;\r\n  overflow: hidden;\r\n  background-color: #fff;\r\n  height: 0px;\r\n  -moz-transition: height .2s ease-out;\r\n  -ms-transition: height .2s ease-out;\r\n  -o-transition: height .2s ease-out;\r\n  -webkit-transition: height .2s ease-out;\r\n  transition: height .2s ease-out;\r\n}\r\n</style>\r\n\r\n<button type='button' class='collapsible'>▶ View Query Metrics</button>\r\n  \r\n<div class='content'>\r\n  <div class='measuringWrapper'>\r\n    <span style=\"color:#0078D4\"><b>totalExecutionTimeInMs    </b>:    2.11<br/><b>queryCompileTimeInMs    </b>:    0.34<br/><b>queryLogicalPlanBuildTimeInMs    </b>:    0.35<br/><b>queryPhysicalPlanBuildTimeInMs    </b>:    0.05<br/><b>queryOptimizationTimeInMs    </b>:    0<br/><b>VMExecutionTimeInMs    </b>:    0.54<br/><b>indexLookupTimeInMs    </b>:    0<br/><b>documentLoadTimeInMs    </b>:    0.07<br/><b>systemFunctionExecuteTimeInMs    </b>:    0.37<br/><b>userFunctionExecuteTimeInMs    </b>:    0<br/><b>retrievedDocumentCount    </b>:    3<br/><b>retrievedDocumentSize    </b>:    2058<br/><b>outputDocumentCount    </b>:    1<br/><b>outputDocumentSize    </b>:    97<br/><b>writeOutputTimeInMs    </b>:    0<br/><b>averageIndexUtilizationRation    </b>:    0.33<br/></span>\r\n  </div>\r\n</div>\r\n\r\n<script>\r\nvar coll = document.getElementsByClassName('collapsible');\r\nvar i;\r\n\r\nfor (i = 0; i < coll.length; i++) {\r\n  \r\n  coll[i].addEventListener('click', function() {\r\n    this.classList.toggle('active');\r\n    var content = this.nextElementSibling;\r\n    \r\n    if (content.clientHeight != 0) {\r\n      this.textContent = '▶ View Query Metrics';\r\n      content.style.height = '0px';\r\n    }\r\n    else {\r\n      this.textContent = '▼ Hide Query Metrics';\r\n      content.style.height = content.children[0].clientHeight + 'px';\r\n    }\r\n  });\r\n}\r\n</script>\r\n</div>"
          },
          "metadata": {},
          "output_type": "display_data"
        },
        {
          "data": {
            "text/html": "<div>\n<style scoped>\n    .dataframe tbody tr th:only-of-type {\n        vertical-align: middle;\n    }\n\n    .dataframe tbody tr th {\n        vertical-align: top;\n    }\n\n    .dataframe thead th {\n        text-align: right;\n    }\n</style>\n<table border=\"1\" class=\"dataframe\">\n  <thead>\n    <tr style=\"text-align: right;\">\n      <th></th>\n      <th>Family</th>\n    </tr>\n  </thead>\n  <tbody>\n    <tr>\n      <th>0</th>\n      <td>WakefieldFamily, NY (Manhattan), NY</td>\n    </tr>\n  </tbody>\n</table>\n</div>",
            "text/plain": "                                Family\n0  WakefieldFamily, NY (Manhattan), NY"
          },
          "metadata": {},
          "output_type": "display_data"
        }
      ],
      "source": "%%sql\nSELECT\n c.id || ', ' || c.location.city || ' (' || c.location.county || '), ' || c.location.state AS Family\nFROM c\nWHERE\n ST_INTERSECTS(c.geo, {\n   'type': 'Polygon',\n   'coordinates': [ [\n     [ -74.01326, 40.7003  ], [ -73.99884, 40.70875 ], [ -73.97893, 40.71129 ], [ -73.97121, 40.72697 ],\n     [ -73.97387, 40.73477 ], [ -73.97142, 40.74401 ], [ -73.94205, 40.77606 ], [ -73.94414, 40.78217 ],\n     [ -73.9396 , 40.78535 ], [ -73.93622, 40.79111 ], [ -73.92938, 40.79567 ], [ -73.92905, 40.80088 ],\n     [ -73.93481, 40.80926 ], [ -73.934  , 40.81644 ], [ -73.93531, 40.83477 ], [ -73.92764, 40.84868 ],\n     [ -73.92286, 40.85595 ], [ -73.91137, 40.86855 ], [ -73.91035, 40.87121 ], [ -73.91198, 40.87332 ],\n     [ -73.91451, 40.87431 ], [ -73.92838, 40.86712 ], [ -73.9337 , 40.85868 ], [ -73.94451, 40.84999 ],\n     [ -73.94494, 40.84232 ], [ -74.00786, 40.75435 ], [ -74.01069, 40.72892 ], [ -74.0185 , 40.70381 ],\n     [ -74.01326, 40.7003  ]\n   ] ]\n  }) = true"
    },
    {
      "cell_type": "markdown",
      "metadata": {},
      "source": "<img src=\"https://cdbdemos.blob.core.windows.net/demos/cosmos-geo-nyc.png\" />"
    },
    {
      "cell_type": "markdown",
      "metadata": {},
      "source": "**Check for valid GeoJSON**"
    },
    {
      "cell_type": "code",
      "execution_count": 53,
      "metadata": {
        "collapsed": false,
        "execution": {
          "iopub.execute_input": "2020-08-28T14:28:52.326Z",
          "iopub.status.busy": "2020-08-28T14:28:52.234Z",
          "iopub.status.idle": "2020-08-28T14:28:52.397Z",
          "shell.execute_reply": "2020-08-28T14:28:52.571Z"
        },
        "inputHidden": false,
        "outputHidden": false,
        "trusted": true
      },
      "outputs": [
        {
          "name": "stdout",
          "output_type": "stream",
          "text": "1 document(s) selected (charge= 2.25 RUs)\n\n[\n    {\n        \"isValidSpatial\": true\n    }\n]\n"
        }
      ],
      "source": "query(families, \"\"\"\n\nSELECT\n ST_ISVALID(\n  {\n   'type': 'Point',\n   'coordinates': [-122.3295, 47.60357]\n  }\n ) AS isValidSpatial\n \n \"\"\")"
    },
    {
      "cell_type": "markdown",
      "metadata": {},
      "source": "**With latitude and longitude reversed, this GeoJSON is invalid**"
    },
    {
      "cell_type": "code",
      "execution_count": 54,
      "metadata": {
        "collapsed": false,
        "execution": {
          "iopub.execute_input": "2020-08-28T14:28:52.679Z",
          "iopub.status.busy": "2020-08-28T14:28:52.660Z",
          "iopub.status.idle": "2020-08-28T14:28:52.918Z",
          "shell.execute_reply": "2020-08-28T14:28:52.949Z"
        },
        "inputHidden": false,
        "outputHidden": false,
        "trusted": true
      },
      "outputs": [
        {
          "name": "stdout",
          "output_type": "stream",
          "text": "1 document(s) selected (charge= 2.25 RUs)\n\n[\n    {\n        \"isValidSpatial\": false\n    }\n]\n"
        }
      ],
      "source": "query(families, \"\"\"\n\nSELECT\n ST_ISVALID(\n  {\n   'type': 'Point',\n   'coordinates': [47.60357, -122.3295]\n  }\n ) AS isValidSpatial\n \n \"\"\")"
    },
    {
      "cell_type": "markdown",
      "metadata": {},
      "source": "**Find out why the GeoJSON is invalid**"
    },
    {
      "cell_type": "code",
      "execution_count": 55,
      "metadata": {
        "collapsed": false,
        "execution": {
          "iopub.execute_input": "2020-08-28T14:28:53.147Z",
          "iopub.status.busy": "2020-08-28T14:28:52.984Z",
          "iopub.status.idle": "2020-08-28T14:28:53.291Z",
          "shell.execute_reply": "2020-08-28T14:28:53.323Z"
        },
        "inputHidden": false,
        "outputHidden": false,
        "trusted": true
      },
      "outputs": [
        {
          "name": "stdout",
          "output_type": "stream",
          "text": "1 document(s) selected (charge= 2.25 RUs)\n\n[\n    {\n        \"isValidSpatial\": {\n            \"valid\": false,\n            \"reason\": \"Latitude values must be between -90 and 90 degrees.\"\n        }\n    }\n]\n"
        }
      ],
      "source": "query(families, \"\"\"\n\nSELECT\n ST_ISVALIDDETAILED(\n  {\n   'type': 'Point',\n   'coordinates': [47.60357, -122.3295]\n  }\n ) AS isValidSpatial\n \n\"\"\")"
    }
  ],
  "metadata": {
    "kernelspec": {
      "displayName": "Python 3",
      "language": "python",
      "name": "python3"
    },
    "language_info": {
      "file_extension": "ipynb",
      "mimetype": "application/json",
      "name": "python",
      "version": "3.7"
    },
    "nteract": {
      "version": "dataExplorer 1.0"
    }
  },
  "nbformat": 4,
  "nbformat_minor": 2
}