{
  "cells": [
    {
      "cell_type": "code",
      "execution_count": 6,
      "id": "737adfad-4f6d-4ee8-b7a2-f4c370025315",
      "metadata": {
        "collapsed": true,
        "execution": {
          "iopub.execute_input": "2023-02-25T13:14:37.118Z",
          "iopub.status.busy": "2023-02-25T13:14:37.087Z",
          "iopub.status.idle": "2023-02-25T13:14:37.182Z",
          "shell.execute_reply": "2023-02-25T13:14:37.154Z"
        },
        "jupyter": {
          "outputs_hidden": false,
          "source_hidden": false
        },
        "nteract": {
          "transient": {
            "deleting": false
          }
        },
        "trusted": false
      },
      "outputs": [
        {
          "data": {
            "text/markdown": "Deleted existing Families database",
            "text/plain": "<IPython.core.display.Markdown object>"
          },
          "metadata": {},
          "output_type": "display_data"
        },
        {
          "data": {
            "text/markdown": "Created Families database",
            "text/plain": "<IPython.core.display.Markdown object>"
          },
          "metadata": {},
          "output_type": "display_data"
        },
        {
          "data": {
            "text/markdown": "Created Families container",
            "text/plain": "<IPython.core.display.Markdown object>"
          },
          "metadata": {},
          "output_type": "display_data"
        },
        {
          "data": {
            "text/markdown": "Created Andersen document",
            "text/plain": "<IPython.core.display.Markdown object>"
          },
          "metadata": {},
          "output_type": "display_data"
        },
        {
          "data": {
            "text/markdown": "Created Smith document",
            "text/plain": "<IPython.core.display.Markdown object>"
          },
          "metadata": {},
          "output_type": "display_data"
        },
        {
          "data": {},
          "execution_count": 2,
          "metadata": {},
          "output_type": "execute_result"
        },
        {
          "data": {
            "text/markdown": "Created Wakefield document",
            "text/plain": "<IPython.core.display.Markdown object>"
          },
          "metadata": {},
          "output_type": "display_data"
        }
      ],
      "source": "#r \"System.Net.Primitives\"\n\nusing Microsoft.Azure.Cosmos;\nusing System.Net;\n\nvar client = new CosmosClient(Cosmos.Endpoint, Cosmos.Key);\n\n// Delete the Families database if it already exists\ntry\n{\n\tawait client.GetDatabase(\"Families\").DeleteAsync();\n\tDisplay.AsMarkdown(\"Deleted existing Families database\");\n}\ncatch (CosmosException ex) when (ex.StatusCode == HttpStatusCode.NotFound)\n{\n}\n\n// Create the Families database\nvar database = (await client.CreateDatabaseAsync(\"Families\")).Database;\nDisplay.AsMarkdown(\"Created Families database\");\n\n// Create the Families container\nvar container = (await database.CreateContainerAsync(\"Families\", \"/location/state\", 400)).Container;\nDisplay.AsMarkdown(\"Created Families container\");\n\n// Create three family documents\nvar andersen = new\n{\n\tid = \"AndersenFamily\",\n\tlastName = \"Andersen\",\n\tparents = new dynamic[] {\n        new { firstName = \"Thomas\", relationship = \"father\" },\n\t\tnew { firstName = \"Mary Kay\", relationship = \"mother\" }\n\t},\n\tchildren = new dynamic[] {\n\t\tnew { firstName = \"Henriette Thaulow\", gender = \"female\", grade = 5, pets = new dynamic [] {\n\t\t    new { givenName = \"Fluffy\", type = \"Rabbit\" } }\n\t\t}\n\t},\n\tlocation = new { state = \"WA\", county = \"King\", city = \"Seattle\" },\n\tgeo = new { type = \"Point\", coordinates = new[] { -122.3295, 47.60357 } },\n\tisRegistered = true\n};\n\nvar smith = new\n{\n\tid = \"SmithFamily\",\n\tparents = new dynamic[] {\n\t\tnew { familyName = \"Smith\", givenName = \"James\" },\n\t\tnew { familyName = \"Curtis\", givenName = \"Helen\"}\n\t},\n\tchildren = new dynamic[] {\n\t\tnew { givenName = \"Michelle\", gender = \"female\", grade = 1 },\n\t\tnew { givenName = \"John\", gender = \"male\", grade = 7, pets = new dynamic [] {\n\t\t    new { givenName = \"Tweetie\", type = \"Bird\" } }\n\t\t}\n\t},\n\tlocation = new { state = \"NY\", county = \"Queens\", city = \"Forest Hills\" },\n\tgeo = new { type = \"Point\", coordinates = new[] { -73.84791, 40.72266 } },\n\tisRegistered = true\n};\n\nvar wakefield = new\n{\n\tid = \"WakefieldFamily\",\n\tparents = new dynamic[] {\n\t\tnew { familyName = \"Wakefield\", givenName = \"Robin\" },\n\t\tnew { familyName = \"Miller\", givenName = \"Ben\" }\n\t},\n\tchildren = new dynamic[] {\n\t\tnew { familyName = \"Merriam\", givenName = \"Jesse\", gender = \"female\", grade = 6, pets = new dynamic [] {\n\t\t\tnew { givenName = \"Charlie Brown\", type = \"Dog\" },\n\t\t\tnew { givenName = \"Tiger\", type = \"Cat\" },\n\t\t\tnew { givenName = \"Princess\", type = \"Cat\" } }\n\t\t},\n\t\tnew { familyName = \"Miller\", givenName = \"Lisa\", gender = \"female\", grade = 3, pets = new dynamic [] {\n\t\t\tnew { givenName = \"Jake\", type = \"Snake\" } }\n\t\t}\n\t},\n\tlocation = new { state = \"NY\", county = \"Manhattan\", city = \"NY\" },\n\tgeo = new { type = \"Point\", coordinates = new[] { -73.992, 40.73103 } },\n\tisRegistered = false\n};\n\nawait container.CreateItemAsync(andersen, new PartitionKey(andersen.location.state));\nDisplay.AsMarkdown(\"Created Andersen document\");\n\nawait container.CreateItemAsync(smith, new PartitionKey(smith.location.state));\nDisplay.AsMarkdown(\"Created Smith document\");\n\nawait container.CreateItemAsync(wakefield, new PartitionKey(wakefield.location.state));\nDisplay.AsMarkdown(\"Created Wakefield document\");\n"
    }
  ],
  "metadata": {
    "kernelspec": {
      "displayName": "CSharp",
      "language": "csharp",
      "name": "csharp"
    },
    "language_info": {
      "codemirror_mode": "text/x-csharp",
      "file_extension": "ipynb",
      "mimetype": "application/json",
      "name": "csharp",
      "version": "7.3"
    },
    "nteract": {
      "version": "dataExplorer 1.0"
    }
  },
  "nbformat": 4,
  "nbformat_minor": 5
}